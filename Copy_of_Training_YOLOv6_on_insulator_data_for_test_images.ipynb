{
  "nbformat": 4,
  "nbformat_minor": 0,
  "metadata": {
    "colab": {
      "provenance": [],
      "authorship_tag": "ABX9TyOCjRzIa3shdlaoR6CAtEMs",
      "include_colab_link": true
    },
    "kernelspec": {
      "name": "python3",
      "display_name": "Python 3"
    },
    "language_info": {
      "name": "python"
    },
    "gpuClass": "standard",
    "accelerator": "GPU"
  },
  "cells": [
    {
      "cell_type": "markdown",
      "metadata": {
        "id": "view-in-github",
        "colab_type": "text"
      },
      "source": [
        "<a href=\"https://colab.research.google.com/github/samikshagadhave/YOLOv6_insulator_data-/blob/main/Copy_of_Training_YOLOv6_on_insulator_data_for_test_images.ipynb\" target=\"_parent\"><img src=\"https://colab.research.google.com/assets/colab-badge.svg\" alt=\"Open In Colab\"/></a>"
      ]
    },
    {
      "cell_type": "code",
      "execution_count": null,
      "metadata": {
        "colab": {
          "base_uri": "https://localhost:8080/"
        },
        "id": "4kgm9vlXM8QQ",
        "outputId": "2a5a6f29-0964-4426-986f-b4ad1c20d733"
      },
      "outputs": [
        {
          "output_type": "stream",
          "name": "stdout",
          "text": [
            "Cloning into 'YOLOv6'...\n",
            "remote: Enumerating objects: 2862, done.\u001b[K\n",
            "remote: Counting objects: 100% (107/107), done.\u001b[K\n",
            "remote: Compressing objects: 100% (68/68), done.\u001b[K\n",
            "remote: Total 2862 (delta 46), reused 86 (delta 39), pack-reused 2755\u001b[K\n",
            "Receiving objects: 100% (2862/2862), 37.44 MiB | 31.30 MiB/s, done.\n",
            "Resolving deltas: 100% (1606/1606), done.\n",
            "/content/YOLOv6\n",
            "Looking in indexes: https://pypi.org/simple, https://us-python.pkg.dev/colab-wheels/public/simple/\n",
            "Requirement already satisfied: torch>=1.8.0 in /usr/local/lib/python3.8/dist-packages (from -r requirements.txt (line 4)) (1.13.1+cu116)\n",
            "Requirement already satisfied: torchvision>=0.9.0 in /usr/local/lib/python3.8/dist-packages (from -r requirements.txt (line 5)) (0.14.1+cu116)\n",
            "Collecting numpy>=1.24.0\n",
            "  Downloading numpy-1.24.2-cp38-cp38-manylinux_2_17_x86_64.manylinux2014_x86_64.whl (17.3 MB)\n",
            "\u001b[2K     \u001b[90m━━━━━━━━━━━━━━━━━━━━━━━━━━━━━━━━━━━━━━━━\u001b[0m \u001b[32m17.3/17.3 MB\u001b[0m \u001b[31m51.0 MB/s\u001b[0m eta \u001b[36m0:00:00\u001b[0m\n",
            "\u001b[?25hRequirement already satisfied: opencv-python>=4.1.2 in /usr/local/lib/python3.8/dist-packages (from -r requirements.txt (line 7)) (4.6.0.66)\n",
            "Requirement already satisfied: PyYAML>=5.3.1 in /usr/local/lib/python3.8/dist-packages (from -r requirements.txt (line 8)) (6.0)\n",
            "Requirement already satisfied: scipy>=1.4.1 in /usr/local/lib/python3.8/dist-packages (from -r requirements.txt (line 9)) (1.7.3)\n",
            "Requirement already satisfied: tqdm>=4.41.0 in /usr/local/lib/python3.8/dist-packages (from -r requirements.txt (line 10)) (4.64.1)\n",
            "Collecting addict>=2.4.0\n",
            "  Downloading addict-2.4.0-py3-none-any.whl (3.8 kB)\n",
            "Requirement already satisfied: tensorboard>=2.7.0 in /usr/local/lib/python3.8/dist-packages (from -r requirements.txt (line 12)) (2.11.2)\n",
            "Requirement already satisfied: pycocotools>=2.0 in /usr/local/lib/python3.8/dist-packages (from -r requirements.txt (line 13)) (2.0.6)\n",
            "Collecting onnx>=1.10.0\n",
            "  Downloading onnx-1.13.0-cp38-cp38-manylinux_2_17_x86_64.manylinux2014_x86_64.whl (13.5 MB)\n",
            "\u001b[2K     \u001b[90m━━━━━━━━━━━━━━━━━━━━━━━━━━━━━━━━━━━━━━━━\u001b[0m \u001b[32m13.5/13.5 MB\u001b[0m \u001b[31m93.6 MB/s\u001b[0m eta \u001b[36m0:00:00\u001b[0m\n",
            "\u001b[?25hCollecting onnx-simplifier>=0.3.6\n",
            "  Downloading onnx_simplifier-0.4.17-cp38-cp38-manylinux_2_17_x86_64.manylinux2014_x86_64.whl (2.1 MB)\n",
            "\u001b[2K     \u001b[90m━━━━━━━━━━━━━━━━━━━━━━━━━━━━━━━━━━━━━━━━\u001b[0m \u001b[32m2.1/2.1 MB\u001b[0m \u001b[31m95.6 MB/s\u001b[0m eta \u001b[36m0:00:00\u001b[0m\n",
            "\u001b[?25hCollecting thop\n",
            "  Downloading thop-0.1.1.post2209072238-py3-none-any.whl (15 kB)\n",
            "Requirement already satisfied: typing-extensions in /usr/local/lib/python3.8/dist-packages (from torch>=1.8.0->-r requirements.txt (line 4)) (4.4.0)\n",
            "Requirement already satisfied: requests in /usr/local/lib/python3.8/dist-packages (from torchvision>=0.9.0->-r requirements.txt (line 5)) (2.25.1)\n",
            "Requirement already satisfied: pillow!=8.3.*,>=5.3.0 in /usr/local/lib/python3.8/dist-packages (from torchvision>=0.9.0->-r requirements.txt (line 5)) (7.1.2)\n",
            "Collecting scipy>=1.4.1\n",
            "  Downloading scipy-1.10.0-cp38-cp38-manylinux_2_17_x86_64.manylinux2014_x86_64.whl (34.5 MB)\n",
            "\u001b[2K     \u001b[90m━━━━━━━━━━━━━━━━━━━━━━━━━━━━━━━━━━━━━━━━\u001b[0m \u001b[32m34.5/34.5 MB\u001b[0m \u001b[31m17.0 MB/s\u001b[0m eta \u001b[36m0:00:00\u001b[0m\n",
            "\u001b[?25hRequirement already satisfied: werkzeug>=1.0.1 in /usr/local/lib/python3.8/dist-packages (from tensorboard>=2.7.0->-r requirements.txt (line 12)) (1.0.1)\n",
            "Requirement already satisfied: google-auth<3,>=1.6.3 in /usr/local/lib/python3.8/dist-packages (from tensorboard>=2.7.0->-r requirements.txt (line 12)) (2.16.0)\n",
            "Requirement already satisfied: tensorboard-plugin-wit>=1.6.0 in /usr/local/lib/python3.8/dist-packages (from tensorboard>=2.7.0->-r requirements.txt (line 12)) (1.8.1)\n",
            "Requirement already satisfied: wheel>=0.26 in /usr/local/lib/python3.8/dist-packages (from tensorboard>=2.7.0->-r requirements.txt (line 12)) (0.38.4)\n",
            "Requirement already satisfied: markdown>=2.6.8 in /usr/local/lib/python3.8/dist-packages (from tensorboard>=2.7.0->-r requirements.txt (line 12)) (3.4.1)\n",
            "Requirement already satisfied: protobuf<4,>=3.9.2 in /usr/local/lib/python3.8/dist-packages (from tensorboard>=2.7.0->-r requirements.txt (line 12)) (3.19.6)\n",
            "Requirement already satisfied: setuptools>=41.0.0 in /usr/local/lib/python3.8/dist-packages (from tensorboard>=2.7.0->-r requirements.txt (line 12)) (57.4.0)\n",
            "Requirement already satisfied: tensorboard-data-server<0.7.0,>=0.6.0 in /usr/local/lib/python3.8/dist-packages (from tensorboard>=2.7.0->-r requirements.txt (line 12)) (0.6.1)\n",
            "Requirement already satisfied: absl-py>=0.4 in /usr/local/lib/python3.8/dist-packages (from tensorboard>=2.7.0->-r requirements.txt (line 12)) (1.4.0)\n",
            "Requirement already satisfied: grpcio>=1.24.3 in /usr/local/lib/python3.8/dist-packages (from tensorboard>=2.7.0->-r requirements.txt (line 12)) (1.51.1)\n",
            "Requirement already satisfied: google-auth-oauthlib<0.5,>=0.4.1 in /usr/local/lib/python3.8/dist-packages (from tensorboard>=2.7.0->-r requirements.txt (line 12)) (0.4.6)\n",
            "Requirement already satisfied: matplotlib>=2.1.0 in /usr/local/lib/python3.8/dist-packages (from pycocotools>=2.0->-r requirements.txt (line 13)) (3.2.2)\n",
            "Collecting protobuf<4,>=3.9.2\n",
            "  Downloading protobuf-3.20.3-cp38-cp38-manylinux_2_5_x86_64.manylinux1_x86_64.whl (1.0 MB)\n",
            "\u001b[2K     \u001b[90m━━━━━━━━━━━━━━━━━━━━━━━━━━━━━━━━━━━━━━━━\u001b[0m \u001b[32m1.0/1.0 MB\u001b[0m \u001b[31m70.7 MB/s\u001b[0m eta \u001b[36m0:00:00\u001b[0m\n",
            "\u001b[?25hCollecting rich\n",
            "  Downloading rich-13.3.1-py3-none-any.whl (239 kB)\n",
            "\u001b[2K     \u001b[90m━━━━━━━━━━━━━━━━━━━━━━━━━━━━━━━━━━━━━━\u001b[0m \u001b[32m239.0/239.0 KB\u001b[0m \u001b[31m28.9 MB/s\u001b[0m eta \u001b[36m0:00:00\u001b[0m\n",
            "\u001b[?25hRequirement already satisfied: cachetools<6.0,>=2.0.0 in /usr/local/lib/python3.8/dist-packages (from google-auth<3,>=1.6.3->tensorboard>=2.7.0->-r requirements.txt (line 12)) (5.3.0)\n",
            "Requirement already satisfied: pyasn1-modules>=0.2.1 in /usr/local/lib/python3.8/dist-packages (from google-auth<3,>=1.6.3->tensorboard>=2.7.0->-r requirements.txt (line 12)) (0.2.8)\n",
            "Requirement already satisfied: six>=1.9.0 in /usr/local/lib/python3.8/dist-packages (from google-auth<3,>=1.6.3->tensorboard>=2.7.0->-r requirements.txt (line 12)) (1.15.0)\n",
            "Requirement already satisfied: rsa<5,>=3.1.4 in /usr/local/lib/python3.8/dist-packages (from google-auth<3,>=1.6.3->tensorboard>=2.7.0->-r requirements.txt (line 12)) (4.9)\n",
            "Requirement already satisfied: requests-oauthlib>=0.7.0 in /usr/local/lib/python3.8/dist-packages (from google-auth-oauthlib<0.5,>=0.4.1->tensorboard>=2.7.0->-r requirements.txt (line 12)) (1.3.1)\n",
            "Requirement already satisfied: importlib-metadata>=4.4 in /usr/local/lib/python3.8/dist-packages (from markdown>=2.6.8->tensorboard>=2.7.0->-r requirements.txt (line 12)) (6.0.0)\n",
            "Requirement already satisfied: pyparsing!=2.0.4,!=2.1.2,!=2.1.6,>=2.0.1 in /usr/local/lib/python3.8/dist-packages (from matplotlib>=2.1.0->pycocotools>=2.0->-r requirements.txt (line 13)) (3.0.9)\n",
            "Requirement already satisfied: kiwisolver>=1.0.1 in /usr/local/lib/python3.8/dist-packages (from matplotlib>=2.1.0->pycocotools>=2.0->-r requirements.txt (line 13)) (1.4.4)\n",
            "Requirement already satisfied: python-dateutil>=2.1 in /usr/local/lib/python3.8/dist-packages (from matplotlib>=2.1.0->pycocotools>=2.0->-r requirements.txt (line 13)) (2.8.2)\n",
            "Requirement already satisfied: cycler>=0.10 in /usr/local/lib/python3.8/dist-packages (from matplotlib>=2.1.0->pycocotools>=2.0->-r requirements.txt (line 13)) (0.11.0)\n",
            "Requirement already satisfied: urllib3<1.27,>=1.21.1 in /usr/local/lib/python3.8/dist-packages (from requests->torchvision>=0.9.0->-r requirements.txt (line 5)) (1.24.3)\n",
            "Requirement already satisfied: chardet<5,>=3.0.2 in /usr/local/lib/python3.8/dist-packages (from requests->torchvision>=0.9.0->-r requirements.txt (line 5)) (4.0.0)\n",
            "Requirement already satisfied: certifi>=2017.4.17 in /usr/local/lib/python3.8/dist-packages (from requests->torchvision>=0.9.0->-r requirements.txt (line 5)) (2022.12.7)\n",
            "Requirement already satisfied: idna<3,>=2.5 in /usr/local/lib/python3.8/dist-packages (from requests->torchvision>=0.9.0->-r requirements.txt (line 5)) (2.10)\n",
            "Collecting pygments<3.0.0,>=2.14.0\n",
            "  Downloading Pygments-2.14.0-py3-none-any.whl (1.1 MB)\n",
            "\u001b[2K     \u001b[90m━━━━━━━━━━━━━━━━━━━━━━━━━━━━━━━━━━━━━━━━\u001b[0m \u001b[32m1.1/1.1 MB\u001b[0m \u001b[31m47.0 MB/s\u001b[0m eta \u001b[36m0:00:00\u001b[0m\n",
            "\u001b[?25hCollecting markdown-it-py<3.0.0,>=2.1.0\n",
            "  Downloading markdown_it_py-2.1.0-py3-none-any.whl (84 kB)\n",
            "\u001b[2K     \u001b[90m━━━━━━━━━━━━━━━━━━━━━━━━━━━━━━━━━━━━━━━━\u001b[0m \u001b[32m84.5/84.5 KB\u001b[0m \u001b[31m11.5 MB/s\u001b[0m eta \u001b[36m0:00:00\u001b[0m\n",
            "\u001b[?25hRequirement already satisfied: zipp>=0.5 in /usr/local/lib/python3.8/dist-packages (from importlib-metadata>=4.4->markdown>=2.6.8->tensorboard>=2.7.0->-r requirements.txt (line 12)) (3.12.1)\n",
            "Collecting mdurl~=0.1\n",
            "  Downloading mdurl-0.1.2-py3-none-any.whl (10.0 kB)\n",
            "Requirement already satisfied: pyasn1<0.5.0,>=0.4.6 in /usr/local/lib/python3.8/dist-packages (from pyasn1-modules>=0.2.1->google-auth<3,>=1.6.3->tensorboard>=2.7.0->-r requirements.txt (line 12)) (0.4.8)\n",
            "Requirement already satisfied: oauthlib>=3.0.0 in /usr/local/lib/python3.8/dist-packages (from requests-oauthlib>=0.7.0->google-auth-oauthlib<0.5,>=0.4.1->tensorboard>=2.7.0->-r requirements.txt (line 12)) (3.2.2)\n",
            "Installing collected packages: addict, pygments, protobuf, numpy, mdurl, thop, scipy, onnx, markdown-it-py, rich, onnx-simplifier\n",
            "  Attempting uninstall: pygments\n",
            "    Found existing installation: Pygments 2.6.1\n",
            "    Uninstalling Pygments-2.6.1:\n",
            "      Successfully uninstalled Pygments-2.6.1\n",
            "  Attempting uninstall: protobuf\n",
            "    Found existing installation: protobuf 3.19.6\n",
            "    Uninstalling protobuf-3.19.6:\n",
            "      Successfully uninstalled protobuf-3.19.6\n",
            "  Attempting uninstall: numpy\n",
            "    Found existing installation: numpy 1.21.6\n",
            "    Uninstalling numpy-1.21.6:\n",
            "      Successfully uninstalled numpy-1.21.6\n",
            "  Attempting uninstall: scipy\n",
            "    Found existing installation: scipy 1.7.3\n",
            "    Uninstalling scipy-1.7.3:\n",
            "      Successfully uninstalled scipy-1.7.3\n",
            "\u001b[31mERROR: pip's dependency resolver does not currently take into account all the packages that are installed. This behaviour is the source of the following dependency conflicts.\n",
            "ipython 7.9.0 requires jedi>=0.10, which is not installed.\n",
            "tensorflow 2.11.0 requires protobuf<3.20,>=3.9.2, but you have protobuf 3.20.3 which is incompatible.\n",
            "numba 0.56.4 requires numpy<1.24,>=1.18, but you have numpy 1.24.2 which is incompatible.\u001b[0m\u001b[31m\n",
            "\u001b[0mSuccessfully installed addict-2.4.0 markdown-it-py-2.1.0 mdurl-0.1.2 numpy-1.24.2 onnx-1.13.0 onnx-simplifier-0.4.17 protobuf-3.20.3 pygments-2.14.0 rich-13.3.1 scipy-1.10.0 thop-0.1.1.post2209072238\n"
          ]
        }
      ],
      "source": [
        "!git clone https://github.com/meituan/YOLOv6\n",
        "\n",
        "%cd YOLOv6\n",
        "!pip install -r requirements.txt\n"
      ]
    },
    {
      "cell_type": "code",
      "source": [
        "!pip install roboflow\n",
        "\n",
        "from roboflow import Roboflow\n",
        "rf = Roboflow(api_key=\"mwbsdPvkmXbwf9oRwN1g\")\n",
        "project = rf.workspace(\"samiksha-gadhave-oyljr\").project(\"normal-insulator-defect-insulator-defects-1\")\n",
        "dataset = project.version(2).download(\"mt-yolov6\")"
      ],
      "metadata": {
        "colab": {
          "base_uri": "https://localhost:8080/",
          "height": 1000
        },
        "id": "zTSEqLXYNRce",
        "outputId": "e004ee31-a073-4b43-c314-55d52bbf34dc"
      },
      "execution_count": null,
      "outputs": [
        {
          "output_type": "stream",
          "name": "stdout",
          "text": [
            "Looking in indexes: https://pypi.org/simple, https://us-python.pkg.dev/colab-wheels/public/simple/\n",
            "Collecting roboflow\n",
            "  Downloading roboflow-0.2.29-py3-none-any.whl (49 kB)\n",
            "\u001b[2K     \u001b[90m━━━━━━━━━━━━━━━━━━━━━━━━━━━━━━━━━━━━━━━━\u001b[0m \u001b[32m49.0/49.0 KB\u001b[0m \u001b[31m6.1 MB/s\u001b[0m eta \u001b[36m0:00:00\u001b[0m\n",
            "\u001b[?25hRequirement already satisfied: requests in /usr/local/lib/python3.8/dist-packages (from roboflow) (2.25.1)\n",
            "Collecting wget\n",
            "  Downloading wget-3.2.zip (10 kB)\n",
            "  Preparing metadata (setup.py) ... \u001b[?25l\u001b[?25hdone\n",
            "Collecting requests-toolbelt\n",
            "  Downloading requests_toolbelt-0.10.1-py2.py3-none-any.whl (54 kB)\n",
            "\u001b[2K     \u001b[90m━━━━━━━━━━━━━━━━━━━━━━━━━━━━━━━━━━━━━━━━\u001b[0m \u001b[32m54.5/54.5 KB\u001b[0m \u001b[31m7.6 MB/s\u001b[0m eta \u001b[36m0:00:00\u001b[0m\n",
            "\u001b[?25hRequirement already satisfied: kiwisolver>=1.3.1 in /usr/local/lib/python3.8/dist-packages (from roboflow) (1.4.4)\n",
            "Requirement already satisfied: matplotlib in /usr/local/lib/python3.8/dist-packages (from roboflow) (3.2.2)\n",
            "Requirement already satisfied: tqdm>=4.41.0 in /usr/local/lib/python3.8/dist-packages (from roboflow) (4.64.1)\n",
            "Requirement already satisfied: certifi==2022.12.7 in /usr/local/lib/python3.8/dist-packages (from roboflow) (2022.12.7)\n",
            "Requirement already satisfied: idna==2.10 in /usr/local/lib/python3.8/dist-packages (from roboflow) (2.10)\n",
            "Requirement already satisfied: python-dateutil in /usr/local/lib/python3.8/dist-packages (from roboflow) (2.8.2)\n",
            "Requirement already satisfied: PyYAML>=5.3.1 in /usr/local/lib/python3.8/dist-packages (from roboflow) (6.0)\n",
            "Requirement already satisfied: numpy>=1.18.5 in /usr/local/lib/python3.8/dist-packages (from roboflow) (1.24.2)\n",
            "Requirement already satisfied: six in /usr/local/lib/python3.8/dist-packages (from roboflow) (1.15.0)\n",
            "Collecting cycler==0.10.0\n",
            "  Downloading cycler-0.10.0-py2.py3-none-any.whl (6.5 kB)\n",
            "Requirement already satisfied: chardet==4.0.0 in /usr/local/lib/python3.8/dist-packages (from roboflow) (4.0.0)\n",
            "Collecting pyparsing==2.4.7\n",
            "  Downloading pyparsing-2.4.7-py2.py3-none-any.whl (67 kB)\n",
            "\u001b[2K     \u001b[90m━━━━━━━━━━━━━━━━━━━━━━━━━━━━━━━━━━━━━━━━\u001b[0m \u001b[32m67.8/67.8 KB\u001b[0m \u001b[31m8.9 MB/s\u001b[0m eta \u001b[36m0:00:00\u001b[0m\n",
            "\u001b[?25hRequirement already satisfied: Pillow>=7.1.2 in /usr/local/lib/python3.8/dist-packages (from roboflow) (7.1.2)\n",
            "Collecting urllib3>=1.26.6\n",
            "  Downloading urllib3-1.26.14-py2.py3-none-any.whl (140 kB)\n",
            "\u001b[2K     \u001b[90m━━━━━━━━━━━━━━━━━━━━━━━━━━━━━━━━━━━━━━\u001b[0m \u001b[32m140.6/140.6 KB\u001b[0m \u001b[31m15.7 MB/s\u001b[0m eta \u001b[36m0:00:00\u001b[0m\n",
            "\u001b[?25hRequirement already satisfied: opencv-python>=4.1.2 in /usr/local/lib/python3.8/dist-packages (from roboflow) (4.6.0.66)\n",
            "Collecting python-dotenv\n",
            "  Downloading python_dotenv-0.21.1-py3-none-any.whl (19 kB)\n",
            "Building wheels for collected packages: wget\n",
            "  Building wheel for wget (setup.py) ... \u001b[?25l\u001b[?25hdone\n",
            "  Created wheel for wget: filename=wget-3.2-py3-none-any.whl size=9674 sha256=a275521451ea345f2447baff8bf65a615d5ad86542b459af7906a21a72f4e7db\n",
            "  Stored in directory: /root/.cache/pip/wheels/bd/a8/c3/3cf2c14a1837a4e04bd98631724e81f33f462d86a1d895fae0\n",
            "Successfully built wget\n",
            "Installing collected packages: wget, urllib3, python-dotenv, pyparsing, cycler, requests-toolbelt, roboflow\n",
            "  Attempting uninstall: urllib3\n",
            "    Found existing installation: urllib3 1.24.3\n",
            "    Uninstalling urllib3-1.24.3:\n",
            "      Successfully uninstalled urllib3-1.24.3\n",
            "  Attempting uninstall: pyparsing\n",
            "    Found existing installation: pyparsing 3.0.9\n",
            "    Uninstalling pyparsing-3.0.9:\n",
            "      Successfully uninstalled pyparsing-3.0.9\n",
            "  Attempting uninstall: cycler\n",
            "    Found existing installation: cycler 0.11.0\n",
            "    Uninstalling cycler-0.11.0:\n",
            "      Successfully uninstalled cycler-0.11.0\n",
            "Successfully installed cycler-0.10.0 pyparsing-2.4.7 python-dotenv-0.21.1 requests-toolbelt-0.10.1 roboflow-0.2.29 urllib3-1.26.14 wget-3.2\n"
          ]
        },
        {
          "output_type": "display_data",
          "data": {
            "application/vnd.colab-display-data+json": {
              "pip_warning": {
                "packages": [
                  "cycler",
                  "pyparsing"
                ]
              }
            }
          },
          "metadata": {}
        },
        {
          "output_type": "stream",
          "name": "stdout",
          "text": [
            "loading Roboflow workspace...\n",
            "loading Roboflow project...\n",
            "Downloading Dataset Version Zip in Normal-Insulator,-Defect-Insulator,-Defects--1-2 to mt-yolov6: 100% [73185666 / 73185666] bytes\n"
          ]
        },
        {
          "output_type": "stream",
          "name": "stderr",
          "text": [
            "Extracting Dataset Version Zip to Normal-Insulator,-Defect-Insulator,-Defects--1-2 in mt-yolov6:: 100%|██████████| 2197/2197 [00:01<00:00, 2051.93it/s]\n"
          ]
        }
      ]
    },
    {
      "cell_type": "code",
      "source": [
        "!python tools/train.py --batch 32 --conf configs/yolov6s.py --epochs 100 --img-size 416 --data {dataset.location}/data.yaml --device 0"
      ],
      "metadata": {
        "colab": {
          "base_uri": "https://localhost:8080/"
        },
        "id": "lL2sXXY-NVkw",
        "outputId": "ec20a8ac-4a5f-4fca-f68d-ce9ebbda8197"
      },
      "execution_count": null,
      "outputs": [
        {
          "output_type": "stream",
          "name": "stdout",
          "text": [
            "Using 1 GPU for training... \n",
            "training args are: Namespace(batch_size=32, bs_per_gpu=32, calib=False, check_images=False, check_labels=False, conf_file='configs/yolov6s.py', data_path='/content/YOLOv6/Normal-Insulator,-Defect-Insulator,-Defects--1-2/data.yaml', device='0', dist_url='env://', distill=False, distill_feat=False, epochs=100, eval_final_only=False, eval_interval=20, fuse_ab=False, gpu_count=0, heavy_eval_range=50, img_size=416, local_rank=-1, name='exp', output_dir='./runs/train', quant=False, rank=-1, resume=False, save_ckpt_on_last_n_epoch=-1, save_dir='runs/train/exp', stop_aug_last_n_epoch=15, teacher_model_path=None, temperature=20, workers=8, world_size=1, write_trainbatch_tb=False)\n",
            "\n",
            "Train: Checking formats of images with 2 process(es): \n",
            "0 image(s) corrupted: 100% 763/763 [00:00<00:00, 3674.12it/s]\n",
            "Train: Checking formats of labels with 2 process(es): \n",
            "763 label(s) found, 0 label(s) missing, 0 label(s) empty, 0 invalid label files: 100% 763/763 [00:00<00:00, 2235.75it/s]\n",
            "Train: Final numbers of valid images: 763/ labels: 763. \n",
            "0.6s for dataset initialization.\n",
            "Val: Checking formats of images with 2 process(es): \n",
            "0 image(s) corrupted: 100% 217/217 [00:00<00:00, 1752.80it/s]\n",
            "Val: Checking formats of labels with 2 process(es): \n",
            "217 label(s) found, 0 label(s) missing, 0 label(s) empty, 0 invalid label files: 100% 217/217 [00:00<00:00, 1686.23it/s]\n",
            "Convert to COCO format\n",
            "100% 217/217 [00:00<00:00, 63754.83it/s]\n",
            "Convert to COCO format finished. Resutls saved in Normal-Insulator,-Defect-Insulator,-Defects--1-2/annotations/instances_valid.json\n",
            "Val: Final numbers of valid images: 217/ labels: 217. \n",
            "0.4s for dataset initialization.\n",
            "Model: Model(\n",
            "  (backbone): EfficientRep(\n",
            "    (stem): RepVGGBlock(\n",
            "      (nonlinearity): ReLU(inplace=True)\n",
            "      (se): Identity()\n",
            "      (rbr_dense): Sequential(\n",
            "        (conv): Conv2d(3, 32, kernel_size=(3, 3), stride=(2, 2), padding=(1, 1), bias=False)\n",
            "        (bn): BatchNorm2d(32, eps=0.001, momentum=0.03, affine=True, track_running_stats=True)\n",
            "      )\n",
            "      (rbr_1x1): Sequential(\n",
            "        (conv): Conv2d(3, 32, kernel_size=(1, 1), stride=(2, 2), bias=False)\n",
            "        (bn): BatchNorm2d(32, eps=0.001, momentum=0.03, affine=True, track_running_stats=True)\n",
            "      )\n",
            "    )\n",
            "    (ERBlock_2): Sequential(\n",
            "      (0): RepVGGBlock(\n",
            "        (nonlinearity): ReLU(inplace=True)\n",
            "        (se): Identity()\n",
            "        (rbr_dense): Sequential(\n",
            "          (conv): Conv2d(32, 64, kernel_size=(3, 3), stride=(2, 2), padding=(1, 1), bias=False)\n",
            "          (bn): BatchNorm2d(64, eps=0.001, momentum=0.03, affine=True, track_running_stats=True)\n",
            "        )\n",
            "        (rbr_1x1): Sequential(\n",
            "          (conv): Conv2d(32, 64, kernel_size=(1, 1), stride=(2, 2), bias=False)\n",
            "          (bn): BatchNorm2d(64, eps=0.001, momentum=0.03, affine=True, track_running_stats=True)\n",
            "        )\n",
            "      )\n",
            "      (1): RepBlock(\n",
            "        (conv1): RepVGGBlock(\n",
            "          (nonlinearity): ReLU(inplace=True)\n",
            "          (se): Identity()\n",
            "          (rbr_identity): BatchNorm2d(64, eps=0.001, momentum=0.03, affine=True, track_running_stats=True)\n",
            "          (rbr_dense): Sequential(\n",
            "            (conv): Conv2d(64, 64, kernel_size=(3, 3), stride=(1, 1), padding=(1, 1), bias=False)\n",
            "            (bn): BatchNorm2d(64, eps=0.001, momentum=0.03, affine=True, track_running_stats=True)\n",
            "          )\n",
            "          (rbr_1x1): Sequential(\n",
            "            (conv): Conv2d(64, 64, kernel_size=(1, 1), stride=(1, 1), bias=False)\n",
            "            (bn): BatchNorm2d(64, eps=0.001, momentum=0.03, affine=True, track_running_stats=True)\n",
            "          )\n",
            "        )\n",
            "        (block): Sequential(\n",
            "          (0): RepVGGBlock(\n",
            "            (nonlinearity): ReLU(inplace=True)\n",
            "            (se): Identity()\n",
            "            (rbr_identity): BatchNorm2d(64, eps=0.001, momentum=0.03, affine=True, track_running_stats=True)\n",
            "            (rbr_dense): Sequential(\n",
            "              (conv): Conv2d(64, 64, kernel_size=(3, 3), stride=(1, 1), padding=(1, 1), bias=False)\n",
            "              (bn): BatchNorm2d(64, eps=0.001, momentum=0.03, affine=True, track_running_stats=True)\n",
            "            )\n",
            "            (rbr_1x1): Sequential(\n",
            "              (conv): Conv2d(64, 64, kernel_size=(1, 1), stride=(1, 1), bias=False)\n",
            "              (bn): BatchNorm2d(64, eps=0.001, momentum=0.03, affine=True, track_running_stats=True)\n",
            "            )\n",
            "          )\n",
            "        )\n",
            "      )\n",
            "    )\n",
            "    (ERBlock_3): Sequential(\n",
            "      (0): RepVGGBlock(\n",
            "        (nonlinearity): ReLU(inplace=True)\n",
            "        (se): Identity()\n",
            "        (rbr_dense): Sequential(\n",
            "          (conv): Conv2d(64, 128, kernel_size=(3, 3), stride=(2, 2), padding=(1, 1), bias=False)\n",
            "          (bn): BatchNorm2d(128, eps=0.001, momentum=0.03, affine=True, track_running_stats=True)\n",
            "        )\n",
            "        (rbr_1x1): Sequential(\n",
            "          (conv): Conv2d(64, 128, kernel_size=(1, 1), stride=(2, 2), bias=False)\n",
            "          (bn): BatchNorm2d(128, eps=0.001, momentum=0.03, affine=True, track_running_stats=True)\n",
            "        )\n",
            "      )\n",
            "      (1): RepBlock(\n",
            "        (conv1): RepVGGBlock(\n",
            "          (nonlinearity): ReLU(inplace=True)\n",
            "          (se): Identity()\n",
            "          (rbr_identity): BatchNorm2d(128, eps=0.001, momentum=0.03, affine=True, track_running_stats=True)\n",
            "          (rbr_dense): Sequential(\n",
            "            (conv): Conv2d(128, 128, kernel_size=(3, 3), stride=(1, 1), padding=(1, 1), bias=False)\n",
            "            (bn): BatchNorm2d(128, eps=0.001, momentum=0.03, affine=True, track_running_stats=True)\n",
            "          )\n",
            "          (rbr_1x1): Sequential(\n",
            "            (conv): Conv2d(128, 128, kernel_size=(1, 1), stride=(1, 1), bias=False)\n",
            "            (bn): BatchNorm2d(128, eps=0.001, momentum=0.03, affine=True, track_running_stats=True)\n",
            "          )\n",
            "        )\n",
            "        (block): Sequential(\n",
            "          (0): RepVGGBlock(\n",
            "            (nonlinearity): ReLU(inplace=True)\n",
            "            (se): Identity()\n",
            "            (rbr_identity): BatchNorm2d(128, eps=0.001, momentum=0.03, affine=True, track_running_stats=True)\n",
            "            (rbr_dense): Sequential(\n",
            "              (conv): Conv2d(128, 128, kernel_size=(3, 3), stride=(1, 1), padding=(1, 1), bias=False)\n",
            "              (bn): BatchNorm2d(128, eps=0.001, momentum=0.03, affine=True, track_running_stats=True)\n",
            "            )\n",
            "            (rbr_1x1): Sequential(\n",
            "              (conv): Conv2d(128, 128, kernel_size=(1, 1), stride=(1, 1), bias=False)\n",
            "              (bn): BatchNorm2d(128, eps=0.001, momentum=0.03, affine=True, track_running_stats=True)\n",
            "            )\n",
            "          )\n",
            "          (1): RepVGGBlock(\n",
            "            (nonlinearity): ReLU(inplace=True)\n",
            "            (se): Identity()\n",
            "            (rbr_identity): BatchNorm2d(128, eps=0.001, momentum=0.03, affine=True, track_running_stats=True)\n",
            "            (rbr_dense): Sequential(\n",
            "              (conv): Conv2d(128, 128, kernel_size=(3, 3), stride=(1, 1), padding=(1, 1), bias=False)\n",
            "              (bn): BatchNorm2d(128, eps=0.001, momentum=0.03, affine=True, track_running_stats=True)\n",
            "            )\n",
            "            (rbr_1x1): Sequential(\n",
            "              (conv): Conv2d(128, 128, kernel_size=(1, 1), stride=(1, 1), bias=False)\n",
            "              (bn): BatchNorm2d(128, eps=0.001, momentum=0.03, affine=True, track_running_stats=True)\n",
            "            )\n",
            "          )\n",
            "          (2): RepVGGBlock(\n",
            "            (nonlinearity): ReLU(inplace=True)\n",
            "            (se): Identity()\n",
            "            (rbr_identity): BatchNorm2d(128, eps=0.001, momentum=0.03, affine=True, track_running_stats=True)\n",
            "            (rbr_dense): Sequential(\n",
            "              (conv): Conv2d(128, 128, kernel_size=(3, 3), stride=(1, 1), padding=(1, 1), bias=False)\n",
            "              (bn): BatchNorm2d(128, eps=0.001, momentum=0.03, affine=True, track_running_stats=True)\n",
            "            )\n",
            "            (rbr_1x1): Sequential(\n",
            "              (conv): Conv2d(128, 128, kernel_size=(1, 1), stride=(1, 1), bias=False)\n",
            "              (bn): BatchNorm2d(128, eps=0.001, momentum=0.03, affine=True, track_running_stats=True)\n",
            "            )\n",
            "          )\n",
            "        )\n",
            "      )\n",
            "    )\n",
            "    (ERBlock_4): Sequential(\n",
            "      (0): RepVGGBlock(\n",
            "        (nonlinearity): ReLU(inplace=True)\n",
            "        (se): Identity()\n",
            "        (rbr_dense): Sequential(\n",
            "          (conv): Conv2d(128, 256, kernel_size=(3, 3), stride=(2, 2), padding=(1, 1), bias=False)\n",
            "          (bn): BatchNorm2d(256, eps=0.001, momentum=0.03, affine=True, track_running_stats=True)\n",
            "        )\n",
            "        (rbr_1x1): Sequential(\n",
            "          (conv): Conv2d(128, 256, kernel_size=(1, 1), stride=(2, 2), bias=False)\n",
            "          (bn): BatchNorm2d(256, eps=0.001, momentum=0.03, affine=True, track_running_stats=True)\n",
            "        )\n",
            "      )\n",
            "      (1): RepBlock(\n",
            "        (conv1): RepVGGBlock(\n",
            "          (nonlinearity): ReLU(inplace=True)\n",
            "          (se): Identity()\n",
            "          (rbr_identity): BatchNorm2d(256, eps=0.001, momentum=0.03, affine=True, track_running_stats=True)\n",
            "          (rbr_dense): Sequential(\n",
            "            (conv): Conv2d(256, 256, kernel_size=(3, 3), stride=(1, 1), padding=(1, 1), bias=False)\n",
            "            (bn): BatchNorm2d(256, eps=0.001, momentum=0.03, affine=True, track_running_stats=True)\n",
            "          )\n",
            "          (rbr_1x1): Sequential(\n",
            "            (conv): Conv2d(256, 256, kernel_size=(1, 1), stride=(1, 1), bias=False)\n",
            "            (bn): BatchNorm2d(256, eps=0.001, momentum=0.03, affine=True, track_running_stats=True)\n",
            "          )\n",
            "        )\n",
            "        (block): Sequential(\n",
            "          (0): RepVGGBlock(\n",
            "            (nonlinearity): ReLU(inplace=True)\n",
            "            (se): Identity()\n",
            "            (rbr_identity): BatchNorm2d(256, eps=0.001, momentum=0.03, affine=True, track_running_stats=True)\n",
            "            (rbr_dense): Sequential(\n",
            "              (conv): Conv2d(256, 256, kernel_size=(3, 3), stride=(1, 1), padding=(1, 1), bias=False)\n",
            "              (bn): BatchNorm2d(256, eps=0.001, momentum=0.03, affine=True, track_running_stats=True)\n",
            "            )\n",
            "            (rbr_1x1): Sequential(\n",
            "              (conv): Conv2d(256, 256, kernel_size=(1, 1), stride=(1, 1), bias=False)\n",
            "              (bn): BatchNorm2d(256, eps=0.001, momentum=0.03, affine=True, track_running_stats=True)\n",
            "            )\n",
            "          )\n",
            "          (1): RepVGGBlock(\n",
            "            (nonlinearity): ReLU(inplace=True)\n",
            "            (se): Identity()\n",
            "            (rbr_identity): BatchNorm2d(256, eps=0.001, momentum=0.03, affine=True, track_running_stats=True)\n",
            "            (rbr_dense): Sequential(\n",
            "              (conv): Conv2d(256, 256, kernel_size=(3, 3), stride=(1, 1), padding=(1, 1), bias=False)\n",
            "              (bn): BatchNorm2d(256, eps=0.001, momentum=0.03, affine=True, track_running_stats=True)\n",
            "            )\n",
            "            (rbr_1x1): Sequential(\n",
            "              (conv): Conv2d(256, 256, kernel_size=(1, 1), stride=(1, 1), bias=False)\n",
            "              (bn): BatchNorm2d(256, eps=0.001, momentum=0.03, affine=True, track_running_stats=True)\n",
            "            )\n",
            "          )\n",
            "          (2): RepVGGBlock(\n",
            "            (nonlinearity): ReLU(inplace=True)\n",
            "            (se): Identity()\n",
            "            (rbr_identity): BatchNorm2d(256, eps=0.001, momentum=0.03, affine=True, track_running_stats=True)\n",
            "            (rbr_dense): Sequential(\n",
            "              (conv): Conv2d(256, 256, kernel_size=(3, 3), stride=(1, 1), padding=(1, 1), bias=False)\n",
            "              (bn): BatchNorm2d(256, eps=0.001, momentum=0.03, affine=True, track_running_stats=True)\n",
            "            )\n",
            "            (rbr_1x1): Sequential(\n",
            "              (conv): Conv2d(256, 256, kernel_size=(1, 1), stride=(1, 1), bias=False)\n",
            "              (bn): BatchNorm2d(256, eps=0.001, momentum=0.03, affine=True, track_running_stats=True)\n",
            "            )\n",
            "          )\n",
            "          (3): RepVGGBlock(\n",
            "            (nonlinearity): ReLU(inplace=True)\n",
            "            (se): Identity()\n",
            "            (rbr_identity): BatchNorm2d(256, eps=0.001, momentum=0.03, affine=True, track_running_stats=True)\n",
            "            (rbr_dense): Sequential(\n",
            "              (conv): Conv2d(256, 256, kernel_size=(3, 3), stride=(1, 1), padding=(1, 1), bias=False)\n",
            "              (bn): BatchNorm2d(256, eps=0.001, momentum=0.03, affine=True, track_running_stats=True)\n",
            "            )\n",
            "            (rbr_1x1): Sequential(\n",
            "              (conv): Conv2d(256, 256, kernel_size=(1, 1), stride=(1, 1), bias=False)\n",
            "              (bn): BatchNorm2d(256, eps=0.001, momentum=0.03, affine=True, track_running_stats=True)\n",
            "            )\n",
            "          )\n",
            "          (4): RepVGGBlock(\n",
            "            (nonlinearity): ReLU(inplace=True)\n",
            "            (se): Identity()\n",
            "            (rbr_identity): BatchNorm2d(256, eps=0.001, momentum=0.03, affine=True, track_running_stats=True)\n",
            "            (rbr_dense): Sequential(\n",
            "              (conv): Conv2d(256, 256, kernel_size=(3, 3), stride=(1, 1), padding=(1, 1), bias=False)\n",
            "              (bn): BatchNorm2d(256, eps=0.001, momentum=0.03, affine=True, track_running_stats=True)\n",
            "            )\n",
            "            (rbr_1x1): Sequential(\n",
            "              (conv): Conv2d(256, 256, kernel_size=(1, 1), stride=(1, 1), bias=False)\n",
            "              (bn): BatchNorm2d(256, eps=0.001, momentum=0.03, affine=True, track_running_stats=True)\n",
            "            )\n",
            "          )\n",
            "        )\n",
            "      )\n",
            "    )\n",
            "    (ERBlock_5): Sequential(\n",
            "      (0): RepVGGBlock(\n",
            "        (nonlinearity): ReLU(inplace=True)\n",
            "        (se): Identity()\n",
            "        (rbr_dense): Sequential(\n",
            "          (conv): Conv2d(256, 512, kernel_size=(3, 3), stride=(2, 2), padding=(1, 1), bias=False)\n",
            "          (bn): BatchNorm2d(512, eps=0.001, momentum=0.03, affine=True, track_running_stats=True)\n",
            "        )\n",
            "        (rbr_1x1): Sequential(\n",
            "          (conv): Conv2d(256, 512, kernel_size=(1, 1), stride=(2, 2), bias=False)\n",
            "          (bn): BatchNorm2d(512, eps=0.001, momentum=0.03, affine=True, track_running_stats=True)\n",
            "        )\n",
            "      )\n",
            "      (1): RepBlock(\n",
            "        (conv1): RepVGGBlock(\n",
            "          (nonlinearity): ReLU(inplace=True)\n",
            "          (se): Identity()\n",
            "          (rbr_identity): BatchNorm2d(512, eps=0.001, momentum=0.03, affine=True, track_running_stats=True)\n",
            "          (rbr_dense): Sequential(\n",
            "            (conv): Conv2d(512, 512, kernel_size=(3, 3), stride=(1, 1), padding=(1, 1), bias=False)\n",
            "            (bn): BatchNorm2d(512, eps=0.001, momentum=0.03, affine=True, track_running_stats=True)\n",
            "          )\n",
            "          (rbr_1x1): Sequential(\n",
            "            (conv): Conv2d(512, 512, kernel_size=(1, 1), stride=(1, 1), bias=False)\n",
            "            (bn): BatchNorm2d(512, eps=0.001, momentum=0.03, affine=True, track_running_stats=True)\n",
            "          )\n",
            "        )\n",
            "        (block): Sequential(\n",
            "          (0): RepVGGBlock(\n",
            "            (nonlinearity): ReLU(inplace=True)\n",
            "            (se): Identity()\n",
            "            (rbr_identity): BatchNorm2d(512, eps=0.001, momentum=0.03, affine=True, track_running_stats=True)\n",
            "            (rbr_dense): Sequential(\n",
            "              (conv): Conv2d(512, 512, kernel_size=(3, 3), stride=(1, 1), padding=(1, 1), bias=False)\n",
            "              (bn): BatchNorm2d(512, eps=0.001, momentum=0.03, affine=True, track_running_stats=True)\n",
            "            )\n",
            "            (rbr_1x1): Sequential(\n",
            "              (conv): Conv2d(512, 512, kernel_size=(1, 1), stride=(1, 1), bias=False)\n",
            "              (bn): BatchNorm2d(512, eps=0.001, momentum=0.03, affine=True, track_running_stats=True)\n",
            "            )\n",
            "          )\n",
            "        )\n",
            "      )\n",
            "      (2): SimCSPSPPF(\n",
            "        (cv1): SimConv(\n",
            "          (conv): Conv2d(512, 256, kernel_size=(1, 1), stride=(1, 1), bias=False)\n",
            "          (bn): BatchNorm2d(256, eps=0.001, momentum=0.03, affine=True, track_running_stats=True)\n",
            "          (act): ReLU(inplace=True)\n",
            "        )\n",
            "        (cv2): SimConv(\n",
            "          (conv): Conv2d(512, 256, kernel_size=(1, 1), stride=(1, 1), bias=False)\n",
            "          (bn): BatchNorm2d(256, eps=0.001, momentum=0.03, affine=True, track_running_stats=True)\n",
            "          (act): ReLU(inplace=True)\n",
            "        )\n",
            "        (cv3): SimConv(\n",
            "          (conv): Conv2d(256, 256, kernel_size=(3, 3), stride=(1, 1), padding=(1, 1), bias=False)\n",
            "          (bn): BatchNorm2d(256, eps=0.001, momentum=0.03, affine=True, track_running_stats=True)\n",
            "          (act): ReLU(inplace=True)\n",
            "        )\n",
            "        (cv4): SimConv(\n",
            "          (conv): Conv2d(256, 256, kernel_size=(1, 1), stride=(1, 1), bias=False)\n",
            "          (bn): BatchNorm2d(256, eps=0.001, momentum=0.03, affine=True, track_running_stats=True)\n",
            "          (act): ReLU(inplace=True)\n",
            "        )\n",
            "        (m): MaxPool2d(kernel_size=5, stride=1, padding=2, dilation=1, ceil_mode=False)\n",
            "        (cv5): SimConv(\n",
            "          (conv): Conv2d(1024, 256, kernel_size=(1, 1), stride=(1, 1), bias=False)\n",
            "          (bn): BatchNorm2d(256, eps=0.001, momentum=0.03, affine=True, track_running_stats=True)\n",
            "          (act): ReLU(inplace=True)\n",
            "        )\n",
            "        (cv6): SimConv(\n",
            "          (conv): Conv2d(256, 256, kernel_size=(3, 3), stride=(1, 1), padding=(1, 1), bias=False)\n",
            "          (bn): BatchNorm2d(256, eps=0.001, momentum=0.03, affine=True, track_running_stats=True)\n",
            "          (act): ReLU(inplace=True)\n",
            "        )\n",
            "        (cv7): SimConv(\n",
            "          (conv): Conv2d(512, 512, kernel_size=(1, 1), stride=(1, 1), bias=False)\n",
            "          (bn): BatchNorm2d(512, eps=0.001, momentum=0.03, affine=True, track_running_stats=True)\n",
            "          (act): ReLU(inplace=True)\n",
            "        )\n",
            "      )\n",
            "    )\n",
            "  )\n",
            "  (neck): RepBiFPANNeck(\n",
            "    (reduce_layer0): SimConv(\n",
            "      (conv): Conv2d(512, 128, kernel_size=(1, 1), stride=(1, 1), bias=False)\n",
            "      (bn): BatchNorm2d(128, eps=0.001, momentum=0.03, affine=True, track_running_stats=True)\n",
            "      (act): ReLU(inplace=True)\n",
            "    )\n",
            "    (Bifusion0): BiFusion(\n",
            "      (cv1): SimConv(\n",
            "        (conv): Conv2d(256, 128, kernel_size=(1, 1), stride=(1, 1), bias=False)\n",
            "        (bn): BatchNorm2d(128, eps=0.001, momentum=0.03, affine=True, track_running_stats=True)\n",
            "        (act): ReLU(inplace=True)\n",
            "      )\n",
            "      (cv2): SimConv(\n",
            "        (conv): Conv2d(128, 128, kernel_size=(1, 1), stride=(1, 1), bias=False)\n",
            "        (bn): BatchNorm2d(128, eps=0.001, momentum=0.03, affine=True, track_running_stats=True)\n",
            "        (act): ReLU(inplace=True)\n",
            "      )\n",
            "      (cv3): SimConv(\n",
            "        (conv): Conv2d(384, 128, kernel_size=(1, 1), stride=(1, 1), bias=False)\n",
            "        (bn): BatchNorm2d(128, eps=0.001, momentum=0.03, affine=True, track_running_stats=True)\n",
            "        (act): ReLU(inplace=True)\n",
            "      )\n",
            "      (upsample): Transpose(\n",
            "        (upsample_transpose): ConvTranspose2d(128, 128, kernel_size=(2, 2), stride=(2, 2))\n",
            "      )\n",
            "      (downsample): SimConv(\n",
            "        (conv): Conv2d(128, 128, kernel_size=(3, 3), stride=(2, 2), padding=(1, 1), bias=False)\n",
            "        (bn): BatchNorm2d(128, eps=0.001, momentum=0.03, affine=True, track_running_stats=True)\n",
            "        (act): ReLU(inplace=True)\n",
            "      )\n",
            "    )\n",
            "    (Rep_p4): RepBlock(\n",
            "      (conv1): RepVGGBlock(\n",
            "        (nonlinearity): ReLU(inplace=True)\n",
            "        (se): Identity()\n",
            "        (rbr_identity): BatchNorm2d(128, eps=0.001, momentum=0.03, affine=True, track_running_stats=True)\n",
            "        (rbr_dense): Sequential(\n",
            "          (conv): Conv2d(128, 128, kernel_size=(3, 3), stride=(1, 1), padding=(1, 1), bias=False)\n",
            "          (bn): BatchNorm2d(128, eps=0.001, momentum=0.03, affine=True, track_running_stats=True)\n",
            "        )\n",
            "        (rbr_1x1): Sequential(\n",
            "          (conv): Conv2d(128, 128, kernel_size=(1, 1), stride=(1, 1), bias=False)\n",
            "          (bn): BatchNorm2d(128, eps=0.001, momentum=0.03, affine=True, track_running_stats=True)\n",
            "        )\n",
            "      )\n",
            "      (block): Sequential(\n",
            "        (0): RepVGGBlock(\n",
            "          (nonlinearity): ReLU(inplace=True)\n",
            "          (se): Identity()\n",
            "          (rbr_identity): BatchNorm2d(128, eps=0.001, momentum=0.03, affine=True, track_running_stats=True)\n",
            "          (rbr_dense): Sequential(\n",
            "            (conv): Conv2d(128, 128, kernel_size=(3, 3), stride=(1, 1), padding=(1, 1), bias=False)\n",
            "            (bn): BatchNorm2d(128, eps=0.001, momentum=0.03, affine=True, track_running_stats=True)\n",
            "          )\n",
            "          (rbr_1x1): Sequential(\n",
            "            (conv): Conv2d(128, 128, kernel_size=(1, 1), stride=(1, 1), bias=False)\n",
            "            (bn): BatchNorm2d(128, eps=0.001, momentum=0.03, affine=True, track_running_stats=True)\n",
            "          )\n",
            "        )\n",
            "        (1): RepVGGBlock(\n",
            "          (nonlinearity): ReLU(inplace=True)\n",
            "          (se): Identity()\n",
            "          (rbr_identity): BatchNorm2d(128, eps=0.001, momentum=0.03, affine=True, track_running_stats=True)\n",
            "          (rbr_dense): Sequential(\n",
            "            (conv): Conv2d(128, 128, kernel_size=(3, 3), stride=(1, 1), padding=(1, 1), bias=False)\n",
            "            (bn): BatchNorm2d(128, eps=0.001, momentum=0.03, affine=True, track_running_stats=True)\n",
            "          )\n",
            "          (rbr_1x1): Sequential(\n",
            "            (conv): Conv2d(128, 128, kernel_size=(1, 1), stride=(1, 1), bias=False)\n",
            "            (bn): BatchNorm2d(128, eps=0.001, momentum=0.03, affine=True, track_running_stats=True)\n",
            "          )\n",
            "        )\n",
            "        (2): RepVGGBlock(\n",
            "          (nonlinearity): ReLU(inplace=True)\n",
            "          (se): Identity()\n",
            "          (rbr_identity): BatchNorm2d(128, eps=0.001, momentum=0.03, affine=True, track_running_stats=True)\n",
            "          (rbr_dense): Sequential(\n",
            "            (conv): Conv2d(128, 128, kernel_size=(3, 3), stride=(1, 1), padding=(1, 1), bias=False)\n",
            "            (bn): BatchNorm2d(128, eps=0.001, momentum=0.03, affine=True, track_running_stats=True)\n",
            "          )\n",
            "          (rbr_1x1): Sequential(\n",
            "            (conv): Conv2d(128, 128, kernel_size=(1, 1), stride=(1, 1), bias=False)\n",
            "            (bn): BatchNorm2d(128, eps=0.001, momentum=0.03, affine=True, track_running_stats=True)\n",
            "          )\n",
            "        )\n",
            "      )\n",
            "    )\n",
            "    (reduce_layer1): SimConv(\n",
            "      (conv): Conv2d(128, 64, kernel_size=(1, 1), stride=(1, 1), bias=False)\n",
            "      (bn): BatchNorm2d(64, eps=0.001, momentum=0.03, affine=True, track_running_stats=True)\n",
            "      (act): ReLU(inplace=True)\n",
            "    )\n",
            "    (Bifusion1): BiFusion(\n",
            "      (cv1): SimConv(\n",
            "        (conv): Conv2d(128, 64, kernel_size=(1, 1), stride=(1, 1), bias=False)\n",
            "        (bn): BatchNorm2d(64, eps=0.001, momentum=0.03, affine=True, track_running_stats=True)\n",
            "        (act): ReLU(inplace=True)\n",
            "      )\n",
            "      (cv2): SimConv(\n",
            "        (conv): Conv2d(64, 64, kernel_size=(1, 1), stride=(1, 1), bias=False)\n",
            "        (bn): BatchNorm2d(64, eps=0.001, momentum=0.03, affine=True, track_running_stats=True)\n",
            "        (act): ReLU(inplace=True)\n",
            "      )\n",
            "      (cv3): SimConv(\n",
            "        (conv): Conv2d(192, 64, kernel_size=(1, 1), stride=(1, 1), bias=False)\n",
            "        (bn): BatchNorm2d(64, eps=0.001, momentum=0.03, affine=True, track_running_stats=True)\n",
            "        (act): ReLU(inplace=True)\n",
            "      )\n",
            "      (upsample): Transpose(\n",
            "        (upsample_transpose): ConvTranspose2d(64, 64, kernel_size=(2, 2), stride=(2, 2))\n",
            "      )\n",
            "      (downsample): SimConv(\n",
            "        (conv): Conv2d(64, 64, kernel_size=(3, 3), stride=(2, 2), padding=(1, 1), bias=False)\n",
            "        (bn): BatchNorm2d(64, eps=0.001, momentum=0.03, affine=True, track_running_stats=True)\n",
            "        (act): ReLU(inplace=True)\n",
            "      )\n",
            "    )\n",
            "    (Rep_p3): RepBlock(\n",
            "      (conv1): RepVGGBlock(\n",
            "        (nonlinearity): ReLU(inplace=True)\n",
            "        (se): Identity()\n",
            "        (rbr_identity): BatchNorm2d(64, eps=0.001, momentum=0.03, affine=True, track_running_stats=True)\n",
            "        (rbr_dense): Sequential(\n",
            "          (conv): Conv2d(64, 64, kernel_size=(3, 3), stride=(1, 1), padding=(1, 1), bias=False)\n",
            "          (bn): BatchNorm2d(64, eps=0.001, momentum=0.03, affine=True, track_running_stats=True)\n",
            "        )\n",
            "        (rbr_1x1): Sequential(\n",
            "          (conv): Conv2d(64, 64, kernel_size=(1, 1), stride=(1, 1), bias=False)\n",
            "          (bn): BatchNorm2d(64, eps=0.001, momentum=0.03, affine=True, track_running_stats=True)\n",
            "        )\n",
            "      )\n",
            "      (block): Sequential(\n",
            "        (0): RepVGGBlock(\n",
            "          (nonlinearity): ReLU(inplace=True)\n",
            "          (se): Identity()\n",
            "          (rbr_identity): BatchNorm2d(64, eps=0.001, momentum=0.03, affine=True, track_running_stats=True)\n",
            "          (rbr_dense): Sequential(\n",
            "            (conv): Conv2d(64, 64, kernel_size=(3, 3), stride=(1, 1), padding=(1, 1), bias=False)\n",
            "            (bn): BatchNorm2d(64, eps=0.001, momentum=0.03, affine=True, track_running_stats=True)\n",
            "          )\n",
            "          (rbr_1x1): Sequential(\n",
            "            (conv): Conv2d(64, 64, kernel_size=(1, 1), stride=(1, 1), bias=False)\n",
            "            (bn): BatchNorm2d(64, eps=0.001, momentum=0.03, affine=True, track_running_stats=True)\n",
            "          )\n",
            "        )\n",
            "        (1): RepVGGBlock(\n",
            "          (nonlinearity): ReLU(inplace=True)\n",
            "          (se): Identity()\n",
            "          (rbr_identity): BatchNorm2d(64, eps=0.001, momentum=0.03, affine=True, track_running_stats=True)\n",
            "          (rbr_dense): Sequential(\n",
            "            (conv): Conv2d(64, 64, kernel_size=(3, 3), stride=(1, 1), padding=(1, 1), bias=False)\n",
            "            (bn): BatchNorm2d(64, eps=0.001, momentum=0.03, affine=True, track_running_stats=True)\n",
            "          )\n",
            "          (rbr_1x1): Sequential(\n",
            "            (conv): Conv2d(64, 64, kernel_size=(1, 1), stride=(1, 1), bias=False)\n",
            "            (bn): BatchNorm2d(64, eps=0.001, momentum=0.03, affine=True, track_running_stats=True)\n",
            "          )\n",
            "        )\n",
            "        (2): RepVGGBlock(\n",
            "          (nonlinearity): ReLU(inplace=True)\n",
            "          (se): Identity()\n",
            "          (rbr_identity): BatchNorm2d(64, eps=0.001, momentum=0.03, affine=True, track_running_stats=True)\n",
            "          (rbr_dense): Sequential(\n",
            "            (conv): Conv2d(64, 64, kernel_size=(3, 3), stride=(1, 1), padding=(1, 1), bias=False)\n",
            "            (bn): BatchNorm2d(64, eps=0.001, momentum=0.03, affine=True, track_running_stats=True)\n",
            "          )\n",
            "          (rbr_1x1): Sequential(\n",
            "            (conv): Conv2d(64, 64, kernel_size=(1, 1), stride=(1, 1), bias=False)\n",
            "            (bn): BatchNorm2d(64, eps=0.001, momentum=0.03, affine=True, track_running_stats=True)\n",
            "          )\n",
            "        )\n",
            "      )\n",
            "    )\n",
            "    (downsample2): SimConv(\n",
            "      (conv): Conv2d(64, 64, kernel_size=(3, 3), stride=(2, 2), padding=(1, 1), bias=False)\n",
            "      (bn): BatchNorm2d(64, eps=0.001, momentum=0.03, affine=True, track_running_stats=True)\n",
            "      (act): ReLU(inplace=True)\n",
            "    )\n",
            "    (Rep_n3): RepBlock(\n",
            "      (conv1): RepVGGBlock(\n",
            "        (nonlinearity): ReLU(inplace=True)\n",
            "        (se): Identity()\n",
            "        (rbr_identity): BatchNorm2d(128, eps=0.001, momentum=0.03, affine=True, track_running_stats=True)\n",
            "        (rbr_dense): Sequential(\n",
            "          (conv): Conv2d(128, 128, kernel_size=(3, 3), stride=(1, 1), padding=(1, 1), bias=False)\n",
            "          (bn): BatchNorm2d(128, eps=0.001, momentum=0.03, affine=True, track_running_stats=True)\n",
            "        )\n",
            "        (rbr_1x1): Sequential(\n",
            "          (conv): Conv2d(128, 128, kernel_size=(1, 1), stride=(1, 1), bias=False)\n",
            "          (bn): BatchNorm2d(128, eps=0.001, momentum=0.03, affine=True, track_running_stats=True)\n",
            "        )\n",
            "      )\n",
            "      (block): Sequential(\n",
            "        (0): RepVGGBlock(\n",
            "          (nonlinearity): ReLU(inplace=True)\n",
            "          (se): Identity()\n",
            "          (rbr_identity): BatchNorm2d(128, eps=0.001, momentum=0.03, affine=True, track_running_stats=True)\n",
            "          (rbr_dense): Sequential(\n",
            "            (conv): Conv2d(128, 128, kernel_size=(3, 3), stride=(1, 1), padding=(1, 1), bias=False)\n",
            "            (bn): BatchNorm2d(128, eps=0.001, momentum=0.03, affine=True, track_running_stats=True)\n",
            "          )\n",
            "          (rbr_1x1): Sequential(\n",
            "            (conv): Conv2d(128, 128, kernel_size=(1, 1), stride=(1, 1), bias=False)\n",
            "            (bn): BatchNorm2d(128, eps=0.001, momentum=0.03, affine=True, track_running_stats=True)\n",
            "          )\n",
            "        )\n",
            "        (1): RepVGGBlock(\n",
            "          (nonlinearity): ReLU(inplace=True)\n",
            "          (se): Identity()\n",
            "          (rbr_identity): BatchNorm2d(128, eps=0.001, momentum=0.03, affine=True, track_running_stats=True)\n",
            "          (rbr_dense): Sequential(\n",
            "            (conv): Conv2d(128, 128, kernel_size=(3, 3), stride=(1, 1), padding=(1, 1), bias=False)\n",
            "            (bn): BatchNorm2d(128, eps=0.001, momentum=0.03, affine=True, track_running_stats=True)\n",
            "          )\n",
            "          (rbr_1x1): Sequential(\n",
            "            (conv): Conv2d(128, 128, kernel_size=(1, 1), stride=(1, 1), bias=False)\n",
            "            (bn): BatchNorm2d(128, eps=0.001, momentum=0.03, affine=True, track_running_stats=True)\n",
            "          )\n",
            "        )\n",
            "        (2): RepVGGBlock(\n",
            "          (nonlinearity): ReLU(inplace=True)\n",
            "          (se): Identity()\n",
            "          (rbr_identity): BatchNorm2d(128, eps=0.001, momentum=0.03, affine=True, track_running_stats=True)\n",
            "          (rbr_dense): Sequential(\n",
            "            (conv): Conv2d(128, 128, kernel_size=(3, 3), stride=(1, 1), padding=(1, 1), bias=False)\n",
            "            (bn): BatchNorm2d(128, eps=0.001, momentum=0.03, affine=True, track_running_stats=True)\n",
            "          )\n",
            "          (rbr_1x1): Sequential(\n",
            "            (conv): Conv2d(128, 128, kernel_size=(1, 1), stride=(1, 1), bias=False)\n",
            "            (bn): BatchNorm2d(128, eps=0.001, momentum=0.03, affine=True, track_running_stats=True)\n",
            "          )\n",
            "        )\n",
            "      )\n",
            "    )\n",
            "    (downsample1): SimConv(\n",
            "      (conv): Conv2d(128, 128, kernel_size=(3, 3), stride=(2, 2), padding=(1, 1), bias=False)\n",
            "      (bn): BatchNorm2d(128, eps=0.001, momentum=0.03, affine=True, track_running_stats=True)\n",
            "      (act): ReLU(inplace=True)\n",
            "    )\n",
            "    (Rep_n4): RepBlock(\n",
            "      (conv1): RepVGGBlock(\n",
            "        (nonlinearity): ReLU(inplace=True)\n",
            "        (se): Identity()\n",
            "        (rbr_identity): BatchNorm2d(256, eps=0.001, momentum=0.03, affine=True, track_running_stats=True)\n",
            "        (rbr_dense): Sequential(\n",
            "          (conv): Conv2d(256, 256, kernel_size=(3, 3), stride=(1, 1), padding=(1, 1), bias=False)\n",
            "          (bn): BatchNorm2d(256, eps=0.001, momentum=0.03, affine=True, track_running_stats=True)\n",
            "        )\n",
            "        (rbr_1x1): Sequential(\n",
            "          (conv): Conv2d(256, 256, kernel_size=(1, 1), stride=(1, 1), bias=False)\n",
            "          (bn): BatchNorm2d(256, eps=0.001, momentum=0.03, affine=True, track_running_stats=True)\n",
            "        )\n",
            "      )\n",
            "      (block): Sequential(\n",
            "        (0): RepVGGBlock(\n",
            "          (nonlinearity): ReLU(inplace=True)\n",
            "          (se): Identity()\n",
            "          (rbr_identity): BatchNorm2d(256, eps=0.001, momentum=0.03, affine=True, track_running_stats=True)\n",
            "          (rbr_dense): Sequential(\n",
            "            (conv): Conv2d(256, 256, kernel_size=(3, 3), stride=(1, 1), padding=(1, 1), bias=False)\n",
            "            (bn): BatchNorm2d(256, eps=0.001, momentum=0.03, affine=True, track_running_stats=True)\n",
            "          )\n",
            "          (rbr_1x1): Sequential(\n",
            "            (conv): Conv2d(256, 256, kernel_size=(1, 1), stride=(1, 1), bias=False)\n",
            "            (bn): BatchNorm2d(256, eps=0.001, momentum=0.03, affine=True, track_running_stats=True)\n",
            "          )\n",
            "        )\n",
            "        (1): RepVGGBlock(\n",
            "          (nonlinearity): ReLU(inplace=True)\n",
            "          (se): Identity()\n",
            "          (rbr_identity): BatchNorm2d(256, eps=0.001, momentum=0.03, affine=True, track_running_stats=True)\n",
            "          (rbr_dense): Sequential(\n",
            "            (conv): Conv2d(256, 256, kernel_size=(3, 3), stride=(1, 1), padding=(1, 1), bias=False)\n",
            "            (bn): BatchNorm2d(256, eps=0.001, momentum=0.03, affine=True, track_running_stats=True)\n",
            "          )\n",
            "          (rbr_1x1): Sequential(\n",
            "            (conv): Conv2d(256, 256, kernel_size=(1, 1), stride=(1, 1), bias=False)\n",
            "            (bn): BatchNorm2d(256, eps=0.001, momentum=0.03, affine=True, track_running_stats=True)\n",
            "          )\n",
            "        )\n",
            "        (2): RepVGGBlock(\n",
            "          (nonlinearity): ReLU(inplace=True)\n",
            "          (se): Identity()\n",
            "          (rbr_identity): BatchNorm2d(256, eps=0.001, momentum=0.03, affine=True, track_running_stats=True)\n",
            "          (rbr_dense): Sequential(\n",
            "            (conv): Conv2d(256, 256, kernel_size=(3, 3), stride=(1, 1), padding=(1, 1), bias=False)\n",
            "            (bn): BatchNorm2d(256, eps=0.001, momentum=0.03, affine=True, track_running_stats=True)\n",
            "          )\n",
            "          (rbr_1x1): Sequential(\n",
            "            (conv): Conv2d(256, 256, kernel_size=(1, 1), stride=(1, 1), bias=False)\n",
            "            (bn): BatchNorm2d(256, eps=0.001, momentum=0.03, affine=True, track_running_stats=True)\n",
            "          )\n",
            "        )\n",
            "      )\n",
            "    )\n",
            "  )\n",
            "  (detect): Detect(\n",
            "    (proj_conv): Conv2d(17, 1, kernel_size=(1, 1), stride=(1, 1), bias=False)\n",
            "    (stems): ModuleList(\n",
            "      (0): Conv(\n",
            "        (conv): Conv2d(64, 64, kernel_size=(1, 1), stride=(1, 1), bias=False)\n",
            "        (bn): BatchNorm2d(64, eps=0.001, momentum=0.03, affine=True, track_running_stats=True)\n",
            "        (act): SiLU(inplace=True)\n",
            "      )\n",
            "      (1): Conv(\n",
            "        (conv): Conv2d(128, 128, kernel_size=(1, 1), stride=(1, 1), bias=False)\n",
            "        (bn): BatchNorm2d(128, eps=0.001, momentum=0.03, affine=True, track_running_stats=True)\n",
            "        (act): SiLU(inplace=True)\n",
            "      )\n",
            "      (2): Conv(\n",
            "        (conv): Conv2d(256, 256, kernel_size=(1, 1), stride=(1, 1), bias=False)\n",
            "        (bn): BatchNorm2d(256, eps=0.001, momentum=0.03, affine=True, track_running_stats=True)\n",
            "        (act): SiLU(inplace=True)\n",
            "      )\n",
            "    )\n",
            "    (cls_convs): ModuleList(\n",
            "      (0): Conv(\n",
            "        (conv): Conv2d(64, 64, kernel_size=(3, 3), stride=(1, 1), padding=(1, 1), bias=False)\n",
            "        (bn): BatchNorm2d(64, eps=0.001, momentum=0.03, affine=True, track_running_stats=True)\n",
            "        (act): SiLU(inplace=True)\n",
            "      )\n",
            "      (1): Conv(\n",
            "        (conv): Conv2d(128, 128, kernel_size=(3, 3), stride=(1, 1), padding=(1, 1), bias=False)\n",
            "        (bn): BatchNorm2d(128, eps=0.001, momentum=0.03, affine=True, track_running_stats=True)\n",
            "        (act): SiLU(inplace=True)\n",
            "      )\n",
            "      (2): Conv(\n",
            "        (conv): Conv2d(256, 256, kernel_size=(3, 3), stride=(1, 1), padding=(1, 1), bias=False)\n",
            "        (bn): BatchNorm2d(256, eps=0.001, momentum=0.03, affine=True, track_running_stats=True)\n",
            "        (act): SiLU(inplace=True)\n",
            "      )\n",
            "    )\n",
            "    (reg_convs): ModuleList(\n",
            "      (0): Conv(\n",
            "        (conv): Conv2d(64, 64, kernel_size=(3, 3), stride=(1, 1), padding=(1, 1), bias=False)\n",
            "        (bn): BatchNorm2d(64, eps=0.001, momentum=0.03, affine=True, track_running_stats=True)\n",
            "        (act): SiLU(inplace=True)\n",
            "      )\n",
            "      (1): Conv(\n",
            "        (conv): Conv2d(128, 128, kernel_size=(3, 3), stride=(1, 1), padding=(1, 1), bias=False)\n",
            "        (bn): BatchNorm2d(128, eps=0.001, momentum=0.03, affine=True, track_running_stats=True)\n",
            "        (act): SiLU(inplace=True)\n",
            "      )\n",
            "      (2): Conv(\n",
            "        (conv): Conv2d(256, 256, kernel_size=(3, 3), stride=(1, 1), padding=(1, 1), bias=False)\n",
            "        (bn): BatchNorm2d(256, eps=0.001, momentum=0.03, affine=True, track_running_stats=True)\n",
            "        (act): SiLU(inplace=True)\n",
            "      )\n",
            "    )\n",
            "    (cls_preds): ModuleList(\n",
            "      (0): Conv2d(64, 3, kernel_size=(1, 1), stride=(1, 1))\n",
            "      (1): Conv2d(128, 3, kernel_size=(1, 1), stride=(1, 1))\n",
            "      (2): Conv2d(256, 3, kernel_size=(1, 1), stride=(1, 1))\n",
            "    )\n",
            "    (reg_preds): ModuleList(\n",
            "      (0): Conv2d(64, 4, kernel_size=(1, 1), stride=(1, 1))\n",
            "      (1): Conv2d(128, 4, kernel_size=(1, 1), stride=(1, 1))\n",
            "      (2): Conv2d(256, 4, kernel_size=(1, 1), stride=(1, 1))\n",
            "    )\n",
            "  )\n",
            ")\n",
            "2023-02-14 10:38:19.667393: I tensorflow/core/platform/cpu_feature_guard.cc:193] This TensorFlow binary is optimized with oneAPI Deep Neural Network Library (oneDNN) to use the following CPU instructions in performance-critical operations:  AVX2 FMA\n",
            "To enable them in other operations, rebuild TensorFlow with the appropriate compiler flags.\n",
            "2023-02-14 10:38:22.407024: W tensorflow/compiler/xla/stream_executor/platform/default/dso_loader.cc:64] Could not load dynamic library 'libnvinfer.so.7'; dlerror: libnvinfer.so.7: cannot open shared object file: No such file or directory; LD_LIBRARY_PATH: /usr/local/lib/python3.8/dist-packages/cv2/../../lib64:/usr/local/lib/python3.8/dist-packages/cv2/../../lib64:/usr/lib64-nvidia\n",
            "2023-02-14 10:38:22.407157: W tensorflow/compiler/xla/stream_executor/platform/default/dso_loader.cc:64] Could not load dynamic library 'libnvinfer_plugin.so.7'; dlerror: libnvinfer_plugin.so.7: cannot open shared object file: No such file or directory; LD_LIBRARY_PATH: /usr/local/lib/python3.8/dist-packages/cv2/../../lib64:/usr/local/lib/python3.8/dist-packages/cv2/../../lib64:/usr/lib64-nvidia\n",
            "2023-02-14 10:38:22.407183: W tensorflow/compiler/tf2tensorrt/utils/py_utils.cc:38] TF-TRT Warning: Cannot dlopen some TensorRT libraries. If you would like to use Nvidia GPU with TensorRT, please make sure the missing libraries mentioned above are installed properly.\n",
            "Training start...\n",
            "\n",
            "     Epoch  iou_loss  dfl_loss  cls_loss\n",
            "  0% 0/24 [00:00<?, ?it/s]/usr/local/lib/python3.8/dist-packages/torch/functional.py:504: UserWarning: torch.meshgrid: in an upcoming release, it will be required to pass the indexing argument. (Triggered internally at ../aten/src/ATen/native/TensorShape.cpp:3190.)\n",
            "  return _VF.meshgrid(tensors, **kwargs)  # type: ignore[attr-defined]\n",
            "      0/99     1.724         0     1.336: 100% 24/24 [00:29<00:00,  1.23s/it]\n",
            "Inferencing model in train datasets.: 100% 4/4 [00:06<00:00,  1.71s/it]\n",
            "\n",
            "Evaluating speed.\n",
            "\n",
            "Evaluating mAP by pycocotools.\n",
            "Saving runs/train/exp/predictions.json...\n",
            "loading annotations into memory...\n",
            "Done (t=0.00s)\n",
            "creating index...\n",
            "index created!\n",
            "Loading and preparing results...\n",
            "DONE (t=0.41s)\n",
            "creating index...\n",
            "index created!\n",
            "Running per image evaluation...\n",
            "Evaluate annotation type *bbox*\n",
            "DONE (t=1.44s).\n",
            "Accumulating evaluation results...\n",
            "DONE (t=0.29s).\n",
            " Average Precision  (AP) @[ IoU=0.50:0.95 | area=   all | maxDets=100 ] = 0.000\n",
            " Average Precision  (AP) @[ IoU=0.50      | area=   all | maxDets=100 ] = 0.000\n",
            " Average Precision  (AP) @[ IoU=0.75      | area=   all | maxDets=100 ] = 0.000\n",
            " Average Precision  (AP) @[ IoU=0.50:0.95 | area= small | maxDets=100 ] = 0.000\n",
            " Average Precision  (AP) @[ IoU=0.50:0.95 | area=medium | maxDets=100 ] = 0.007\n",
            " Average Precision  (AP) @[ IoU=0.50:0.95 | area= large | maxDets=100 ] = 0.000\n",
            " Average Recall     (AR) @[ IoU=0.50:0.95 | area=   all | maxDets=  1 ] = 0.000\n",
            " Average Recall     (AR) @[ IoU=0.50:0.95 | area=   all | maxDets= 10 ] = 0.004\n",
            " Average Recall     (AR) @[ IoU=0.50:0.95 | area=   all | maxDets=100 ] = 0.015\n",
            " Average Recall     (AR) @[ IoU=0.50:0.95 | area= small | maxDets=100 ] = 0.000\n",
            " Average Recall     (AR) @[ IoU=0.50:0.95 | area=medium | maxDets=100 ] = 0.007\n",
            " Average Recall     (AR) @[ IoU=0.50:0.95 | area= large | maxDets=100 ] = 0.024\n",
            "Results saved to runs/train/exp\n",
            "Epoch: 0 | mAP@0.5: 0.00013580767318862626 | mAP@0.50:0.95: 2.453530143969601e-05\n",
            "\n",
            "     Epoch  iou_loss  dfl_loss  cls_loss\n",
            "      1/99     1.547         0     1.212: 100% 24/24 [00:19<00:00,  1.24it/s]\n",
            "\n",
            "     Epoch  iou_loss  dfl_loss  cls_loss\n",
            "      2/99     1.552         0      1.11: 100% 24/24 [00:21<00:00,  1.10it/s]\n",
            "\n",
            "     Epoch  iou_loss  dfl_loss  cls_loss\n",
            "      3/99     1.549         0       1.1: 100% 24/24 [00:19<00:00,  1.20it/s]\n",
            "\n",
            "     Epoch  iou_loss  dfl_loss  cls_loss\n",
            "      4/99     1.538         0     1.092: 100% 24/24 [00:19<00:00,  1.24it/s]\n",
            "\n",
            "     Epoch  iou_loss  dfl_loss  cls_loss\n",
            "      5/99     1.527         0     1.118: 100% 24/24 [00:20<00:00,  1.14it/s]\n",
            "\n",
            "     Epoch  iou_loss  dfl_loss  cls_loss\n",
            "      6/99     1.533         0      1.11: 100% 24/24 [00:19<00:00,  1.24it/s]\n",
            "\n",
            "     Epoch  iou_loss  dfl_loss  cls_loss\n",
            "      7/99     1.497         0     1.117: 100% 24/24 [00:21<00:00,  1.10it/s]\n",
            "\n",
            "     Epoch  iou_loss  dfl_loss  cls_loss\n",
            "      8/99     1.488         0     1.101: 100% 24/24 [00:19<00:00,  1.23it/s]\n",
            "\n",
            "     Epoch  iou_loss  dfl_loss  cls_loss\n",
            "      9/99     1.464         0     1.079: 100% 24/24 [00:19<00:00,  1.22it/s]\n",
            "\n",
            "     Epoch  iou_loss  dfl_loss  cls_loss\n",
            "     10/99     1.406         0     1.072: 100% 24/24 [00:21<00:00,  1.14it/s]\n",
            "\n",
            "     Epoch  iou_loss  dfl_loss  cls_loss\n",
            "     11/99     1.389         0     1.053: 100% 24/24 [00:19<00:00,  1.23it/s]\n",
            "\n",
            "     Epoch  iou_loss  dfl_loss  cls_loss\n",
            "     12/99     1.356         0     1.049: 100% 24/24 [00:21<00:00,  1.11it/s]\n",
            "\n",
            "     Epoch  iou_loss  dfl_loss  cls_loss\n",
            "     13/99     1.377         0     1.032: 100% 24/24 [00:19<00:00,  1.23it/s]\n",
            "\n",
            "     Epoch  iou_loss  dfl_loss  cls_loss\n",
            "     14/99     1.329         0     1.026: 100% 24/24 [00:20<00:00,  1.19it/s]\n",
            "\n",
            "     Epoch  iou_loss  dfl_loss  cls_loss\n",
            "     15/99     1.306         0     1.027: 100% 24/24 [00:20<00:00,  1.18it/s]\n",
            "\n",
            "     Epoch  iou_loss  dfl_loss  cls_loss\n",
            "     16/99     1.275         0     1.031: 100% 24/24 [00:19<00:00,  1.24it/s]\n",
            "\n",
            "     Epoch  iou_loss  dfl_loss  cls_loss\n",
            "     17/99     1.282         0     1.021: 100% 24/24 [00:21<00:00,  1.12it/s]\n",
            "\n",
            "     Epoch  iou_loss  dfl_loss  cls_loss\n",
            "     18/99     1.206         0     1.027: 100% 24/24 [00:19<00:00,  1.24it/s]\n",
            "\n",
            "     Epoch  iou_loss  dfl_loss  cls_loss\n",
            "     19/99      1.18         0     1.019: 100% 24/24 [00:20<00:00,  1.15it/s]\n",
            "\n",
            "     Epoch  iou_loss  dfl_loss  cls_loss\n",
            "     20/99     1.137         0     1.029: 100% 24/24 [00:19<00:00,  1.24it/s]\n",
            "Inferencing model in train datasets.: 100% 4/4 [00:10<00:00,  2.59s/it]\n",
            "\n",
            "Evaluating speed.\n",
            "\n",
            "Evaluating mAP by pycocotools.\n",
            "Saving runs/train/exp/predictions.json...\n",
            "loading annotations into memory...\n",
            "Done (t=0.00s)\n",
            "creating index...\n",
            "index created!\n",
            "Loading and preparing results...\n",
            "DONE (t=0.57s)\n",
            "creating index...\n",
            "index created!\n",
            "Running per image evaluation...\n",
            "Evaluate annotation type *bbox*\n",
            "DONE (t=1.00s).\n",
            "Accumulating evaluation results...\n",
            "DONE (t=0.28s).\n",
            " Average Precision  (AP) @[ IoU=0.50:0.95 | area=   all | maxDets=100 ] = 0.011\n",
            " Average Precision  (AP) @[ IoU=0.50      | area=   all | maxDets=100 ] = 0.039\n",
            " Average Precision  (AP) @[ IoU=0.75      | area=   all | maxDets=100 ] = 0.003\n",
            " Average Precision  (AP) @[ IoU=0.50:0.95 | area= small | maxDets=100 ] = 0.000\n",
            " Average Precision  (AP) @[ IoU=0.50:0.95 | area=medium | maxDets=100 ] = 0.001\n",
            " Average Precision  (AP) @[ IoU=0.50:0.95 | area= large | maxDets=100 ] = 0.017\n",
            " Average Recall     (AR) @[ IoU=0.50:0.95 | area=   all | maxDets=  1 ] = 0.070\n",
            " Average Recall     (AR) @[ IoU=0.50:0.95 | area=   all | maxDets= 10 ] = 0.223\n",
            " Average Recall     (AR) @[ IoU=0.50:0.95 | area=   all | maxDets=100 ] = 0.338\n",
            " Average Recall     (AR) @[ IoU=0.50:0.95 | area= small | maxDets=100 ] = 0.000\n",
            " Average Recall     (AR) @[ IoU=0.50:0.95 | area=medium | maxDets=100 ] = 0.073\n",
            " Average Recall     (AR) @[ IoU=0.50:0.95 | area= large | maxDets=100 ] = 0.481\n",
            "Results saved to runs/train/exp\n",
            "Epoch: 20 | mAP@0.5: 0.038824836246018984 | mAP@0.50:0.95: 0.01087406273895262\n",
            "\n",
            "     Epoch  iou_loss  dfl_loss  cls_loss\n",
            "     21/99     1.068         0     1.029: 100% 24/24 [00:20<00:00,  1.14it/s]\n",
            "\n",
            "     Epoch  iou_loss  dfl_loss  cls_loss\n",
            "     22/99     1.042         0     1.034: 100% 24/24 [00:19<00:00,  1.25it/s]\n",
            "\n",
            "     Epoch  iou_loss  dfl_loss  cls_loss\n",
            "     23/99    0.9819         0     1.039: 100% 24/24 [00:20<00:00,  1.16it/s]\n",
            "\n",
            "     Epoch  iou_loss  dfl_loss  cls_loss\n",
            "     24/99    0.9424         0     1.042: 100% 24/24 [00:19<00:00,  1.24it/s]\n",
            "\n",
            "     Epoch  iou_loss  dfl_loss  cls_loss\n",
            "     25/99    0.8982         0     1.037: 100% 24/24 [00:19<00:00,  1.21it/s]\n",
            "\n",
            "     Epoch  iou_loss  dfl_loss  cls_loss\n",
            "     26/99    0.8822         0     1.049: 100% 24/24 [00:19<00:00,  1.22it/s]\n",
            "\n",
            "     Epoch  iou_loss  dfl_loss  cls_loss\n",
            "     27/99    0.8555         0     1.042: 100% 24/24 [00:19<00:00,  1.24it/s]\n",
            "\n",
            "     Epoch  iou_loss  dfl_loss  cls_loss\n",
            "     28/99    0.8243         0     1.046: 100% 24/24 [00:19<00:00,  1.21it/s]\n",
            "\n",
            "     Epoch  iou_loss  dfl_loss  cls_loss\n",
            "     29/99    0.8012         0     1.057: 100% 24/24 [00:19<00:00,  1.22it/s]\n",
            "\n",
            "     Epoch  iou_loss  dfl_loss  cls_loss\n",
            "     30/99    0.7878         0     1.049: 100% 24/24 [00:21<00:00,  1.13it/s]\n",
            "\n",
            "     Epoch  iou_loss  dfl_loss  cls_loss\n",
            "     31/99    0.7792         0     1.052: 100% 24/24 [00:19<00:00,  1.26it/s]\n",
            "\n",
            "     Epoch  iou_loss  dfl_loss  cls_loss\n",
            "     32/99    0.7557         0     1.051: 100% 24/24 [00:19<00:00,  1.21it/s]\n",
            "\n",
            "     Epoch  iou_loss  dfl_loss  cls_loss\n",
            "     33/99    0.7562         0     1.044: 100% 24/24 [00:20<00:00,  1.16it/s]\n",
            "\n",
            "     Epoch  iou_loss  dfl_loss  cls_loss\n",
            "     34/99    0.7411         0     1.057: 100% 24/24 [00:19<00:00,  1.25it/s]\n",
            "\n",
            "     Epoch  iou_loss  dfl_loss  cls_loss\n",
            "     35/99    0.7363         0     1.035: 100% 24/24 [00:30<00:00,  1.26s/it]\n",
            "\n",
            "     Epoch  iou_loss  dfl_loss  cls_loss\n",
            "     36/99    0.7387         0     1.037: 100% 24/24 [00:30<00:00,  1.26s/it]\n",
            "\n",
            "     Epoch  iou_loss  dfl_loss  cls_loss\n",
            "     37/99     0.722         0     1.034: 100% 24/24 [00:34<00:00,  1.44s/it]\n",
            "\n",
            "     Epoch  iou_loss  dfl_loss  cls_loss\n",
            "     38/99    0.7144         0     1.037: 100% 24/24 [00:30<00:00,  1.26s/it]\n",
            "\n",
            "     Epoch  iou_loss  dfl_loss  cls_loss\n",
            "     39/99    0.7028         0     1.035: 100% 24/24 [00:28<00:00,  1.19s/it]\n",
            "\n",
            "     Epoch  iou_loss  dfl_loss  cls_loss\n",
            "     40/99     0.706         0     1.024: 100% 24/24 [00:20<00:00,  1.19it/s]\n",
            "Inferencing model in train datasets.: 100% 4/4 [00:09<00:00,  2.41s/it]\n",
            "\n",
            "Evaluating speed.\n",
            "\n",
            "Evaluating mAP by pycocotools.\n",
            "Saving runs/train/exp/predictions.json...\n",
            "loading annotations into memory...\n",
            "Done (t=0.00s)\n",
            "creating index...\n",
            "index created!\n",
            "Loading and preparing results...\n",
            "DONE (t=0.57s)\n",
            "creating index...\n",
            "index created!\n",
            "Running per image evaluation...\n",
            "Evaluate annotation type *bbox*\n",
            "DONE (t=1.04s).\n",
            "Accumulating evaluation results...\n",
            "DONE (t=0.28s).\n",
            " Average Precision  (AP) @[ IoU=0.50:0.95 | area=   all | maxDets=100 ] = 0.117\n",
            " Average Precision  (AP) @[ IoU=0.50      | area=   all | maxDets=100 ] = 0.326\n",
            " Average Precision  (AP) @[ IoU=0.75      | area=   all | maxDets=100 ] = 0.047\n",
            " Average Precision  (AP) @[ IoU=0.50:0.95 | area= small | maxDets=100 ] = 0.011\n",
            " Average Precision  (AP) @[ IoU=0.50:0.95 | area=medium | maxDets=100 ] = 0.075\n",
            " Average Precision  (AP) @[ IoU=0.50:0.95 | area= large | maxDets=100 ] = 0.159\n",
            " Average Recall     (AR) @[ IoU=0.50:0.95 | area=   all | maxDets=  1 ] = 0.294\n",
            " Average Recall     (AR) @[ IoU=0.50:0.95 | area=   all | maxDets= 10 ] = 0.464\n",
            " Average Recall     (AR) @[ IoU=0.50:0.95 | area=   all | maxDets=100 ] = 0.489\n",
            " Average Recall     (AR) @[ IoU=0.50:0.95 | area= small | maxDets=100 ] = 0.125\n",
            " Average Recall     (AR) @[ IoU=0.50:0.95 | area=medium | maxDets=100 ] = 0.307\n",
            " Average Recall     (AR) @[ IoU=0.50:0.95 | area= large | maxDets=100 ] = 0.562\n",
            "Results saved to runs/train/exp\n",
            "Epoch: 40 | mAP@0.5: 0.3257687229333094 | mAP@0.50:0.95: 0.1170894579273682\n",
            "\n",
            "     Epoch  iou_loss  dfl_loss  cls_loss\n",
            "     41/99    0.6899         0     1.029: 100% 24/24 [00:19<00:00,  1.20it/s]\n",
            "\n",
            "     Epoch  iou_loss  dfl_loss  cls_loss\n",
            "     42/99    0.6858         0     1.032: 100% 24/24 [00:20<00:00,  1.19it/s]\n",
            "\n",
            "     Epoch  iou_loss  dfl_loss  cls_loss\n",
            "     43/99     0.671         0     1.028: 100% 24/24 [00:22<00:00,  1.06it/s]\n",
            "\n",
            "     Epoch  iou_loss  dfl_loss  cls_loss\n",
            "     44/99    0.6749         0     1.027: 100% 24/24 [00:22<00:00,  1.05it/s]\n",
            "\n",
            "     Epoch  iou_loss  dfl_loss  cls_loss\n",
            "     45/99    0.6645         0     1.025: 100% 24/24 [00:30<00:00,  1.26s/it]\n",
            "\n",
            "     Epoch  iou_loss  dfl_loss  cls_loss\n",
            "     46/99    0.6533         0     1.005: 100% 24/24 [00:29<00:00,  1.23s/it]\n",
            "\n",
            "     Epoch  iou_loss  dfl_loss  cls_loss\n",
            "     47/99    0.6549         0    0.9959: 100% 24/24 [00:29<00:00,  1.24s/it]\n",
            "\n",
            "     Epoch  iou_loss  dfl_loss  cls_loss\n",
            "     48/99    0.6601         0    0.9915: 100% 24/24 [00:27<00:00,  1.13s/it]\n",
            "\n",
            "     Epoch  iou_loss  dfl_loss  cls_loss\n",
            "     49/99    0.6418         0     1.005: 100% 24/24 [00:23<00:00,  1.01it/s]\n",
            "\n",
            "     Epoch  iou_loss  dfl_loss  cls_loss\n",
            "     50/99    0.6551         0     1.007: 100% 24/24 [00:28<00:00,  1.21s/it]\n",
            "\n",
            "     Epoch  iou_loss  dfl_loss  cls_loss\n",
            "     51/99    0.6471         0    0.9969: 100% 24/24 [00:28<00:00,  1.20s/it]\n",
            "Inferencing model in train datasets.: 100% 4/4 [00:13<00:00,  3.44s/it]\n",
            "\n",
            "Evaluating speed.\n",
            "\n",
            "Evaluating mAP by pycocotools.\n",
            "Saving runs/train/exp/predictions.json...\n",
            "loading annotations into memory...\n",
            "Done (t=0.00s)\n",
            "creating index...\n",
            "index created!\n",
            "Loading and preparing results...\n",
            "DONE (t=0.63s)\n",
            "creating index...\n",
            "index created!\n",
            "Running per image evaluation...\n",
            "Evaluate annotation type *bbox*\n",
            "DONE (t=1.69s).\n",
            "Accumulating evaluation results...\n",
            "DONE (t=0.49s).\n",
            " Average Precision  (AP) @[ IoU=0.50:0.95 | area=   all | maxDets=100 ] = 0.156\n",
            " Average Precision  (AP) @[ IoU=0.50      | area=   all | maxDets=100 ] = 0.440\n",
            " Average Precision  (AP) @[ IoU=0.75      | area=   all | maxDets=100 ] = 0.071\n",
            " Average Precision  (AP) @[ IoU=0.50:0.95 | area= small | maxDets=100 ] = 0.151\n",
            " Average Precision  (AP) @[ IoU=0.50:0.95 | area=medium | maxDets=100 ] = 0.082\n",
            " Average Precision  (AP) @[ IoU=0.50:0.95 | area= large | maxDets=100 ] = 0.190\n",
            " Average Recall     (AR) @[ IoU=0.50:0.95 | area=   all | maxDets=  1 ] = 0.302\n",
            " Average Recall     (AR) @[ IoU=0.50:0.95 | area=   all | maxDets= 10 ] = 0.453\n",
            " Average Recall     (AR) @[ IoU=0.50:0.95 | area=   all | maxDets=100 ] = 0.502\n",
            " Average Recall     (AR) @[ IoU=0.50:0.95 | area= small | maxDets=100 ] = 0.150\n",
            " Average Recall     (AR) @[ IoU=0.50:0.95 | area=medium | maxDets=100 ] = 0.376\n",
            " Average Recall     (AR) @[ IoU=0.50:0.95 | area= large | maxDets=100 ] = 0.565\n",
            "Results saved to runs/train/exp\n",
            "Epoch: 51 | mAP@0.5: 0.43951151207355205 | mAP@0.50:0.95: 0.15564316890169247\n",
            "\n",
            "     Epoch  iou_loss  dfl_loss  cls_loss\n",
            "     52/99    0.6285         0    0.9979: 100% 24/24 [00:30<00:00,  1.27s/it]\n",
            "\n",
            "     Epoch  iou_loss  dfl_loss  cls_loss\n",
            "     53/99    0.6371         0    0.9825: 100% 24/24 [00:29<00:00,  1.23s/it]\n",
            "\n",
            "     Epoch  iou_loss  dfl_loss  cls_loss\n",
            "     54/99    0.6341         0    0.9759: 100% 24/24 [00:28<00:00,  1.19s/it]\n",
            "Inferencing model in train datasets.: 100% 4/4 [00:10<00:00,  2.69s/it]\n",
            "\n",
            "Evaluating speed.\n",
            "\n",
            "Evaluating mAP by pycocotools.\n",
            "Saving runs/train/exp/predictions.json...\n",
            "loading annotations into memory...\n",
            "Done (t=0.00s)\n",
            "creating index...\n",
            "index created!\n",
            "Loading and preparing results...\n",
            "DONE (t=1.65s)\n",
            "creating index...\n",
            "index created!\n",
            "Running per image evaluation...\n",
            "Evaluate annotation type *bbox*\n",
            "DONE (t=2.23s).\n",
            "Accumulating evaluation results...\n",
            "DONE (t=0.47s).\n",
            " Average Precision  (AP) @[ IoU=0.50:0.95 | area=   all | maxDets=100 ] = 0.225\n",
            " Average Precision  (AP) @[ IoU=0.50      | area=   all | maxDets=100 ] = 0.498\n",
            " Average Precision  (AP) @[ IoU=0.75      | area=   all | maxDets=100 ] = 0.184\n",
            " Average Precision  (AP) @[ IoU=0.50:0.95 | area= small | maxDets=100 ] = 0.104\n",
            " Average Precision  (AP) @[ IoU=0.50:0.95 | area=medium | maxDets=100 ] = 0.095\n",
            " Average Precision  (AP) @[ IoU=0.50:0.95 | area= large | maxDets=100 ] = 0.302\n",
            " Average Recall     (AR) @[ IoU=0.50:0.95 | area=   all | maxDets=  1 ] = 0.379\n",
            " Average Recall     (AR) @[ IoU=0.50:0.95 | area=   all | maxDets= 10 ] = 0.485\n",
            " Average Recall     (AR) @[ IoU=0.50:0.95 | area=   all | maxDets=100 ] = 0.514\n",
            " Average Recall     (AR) @[ IoU=0.50:0.95 | area= small | maxDets=100 ] = 0.150\n",
            " Average Recall     (AR) @[ IoU=0.50:0.95 | area=medium | maxDets=100 ] = 0.347\n",
            " Average Recall     (AR) @[ IoU=0.50:0.95 | area= large | maxDets=100 ] = 0.614\n",
            "Results saved to runs/train/exp\n",
            "Epoch: 54 | mAP@0.5: 0.49837811164614537 | mAP@0.50:0.95: 0.22497439266964972\n",
            "\n",
            "     Epoch  iou_loss  dfl_loss  cls_loss\n",
            "     55/99    0.6362         0    0.9938: 100% 24/24 [00:28<00:00,  1.19s/it]\n",
            "\n",
            "     Epoch  iou_loss  dfl_loss  cls_loss\n",
            "     56/99    0.6199         0    0.9891: 100% 24/24 [00:28<00:00,  1.18s/it]\n",
            "\n",
            "     Epoch  iou_loss  dfl_loss  cls_loss\n",
            "     57/99    0.6365         0    0.9864: 100% 24/24 [00:28<00:00,  1.17s/it]\n",
            "Inferencing model in train datasets.: 100% 4/4 [00:12<00:00,  3.22s/it]\n",
            "\n",
            "Evaluating speed.\n",
            "\n",
            "Evaluating mAP by pycocotools.\n",
            "Saving runs/train/exp/predictions.json...\n",
            "loading annotations into memory...\n",
            "Done (t=0.00s)\n",
            "creating index...\n",
            "index created!\n",
            "Loading and preparing results...\n",
            "DONE (t=0.83s)\n",
            "creating index...\n",
            "index created!\n",
            "Running per image evaluation...\n",
            "Evaluate annotation type *bbox*\n",
            "DONE (t=1.76s).\n",
            "Accumulating evaluation results...\n",
            "DONE (t=0.46s).\n",
            " Average Precision  (AP) @[ IoU=0.50:0.95 | area=   all | maxDets=100 ] = 0.237\n",
            " Average Precision  (AP) @[ IoU=0.50      | area=   all | maxDets=100 ] = 0.536\n",
            " Average Precision  (AP) @[ IoU=0.75      | area=   all | maxDets=100 ] = 0.183\n",
            " Average Precision  (AP) @[ IoU=0.50:0.95 | area= small | maxDets=100 ] = 0.000\n",
            " Average Precision  (AP) @[ IoU=0.50:0.95 | area=medium | maxDets=100 ] = 0.117\n",
            " Average Precision  (AP) @[ IoU=0.50:0.95 | area= large | maxDets=100 ] = 0.305\n",
            " Average Recall     (AR) @[ IoU=0.50:0.95 | area=   all | maxDets=  1 ] = 0.399\n",
            " Average Recall     (AR) @[ IoU=0.50:0.95 | area=   all | maxDets= 10 ] = 0.502\n",
            " Average Recall     (AR) @[ IoU=0.50:0.95 | area=   all | maxDets=100 ] = 0.531\n",
            " Average Recall     (AR) @[ IoU=0.50:0.95 | area= small | maxDets=100 ] = 0.000\n",
            " Average Recall     (AR) @[ IoU=0.50:0.95 | area=medium | maxDets=100 ] = 0.348\n",
            " Average Recall     (AR) @[ IoU=0.50:0.95 | area= large | maxDets=100 ] = 0.637\n",
            "Results saved to runs/train/exp\n",
            "Epoch: 57 | mAP@0.5: 0.5361929588818055 | mAP@0.50:0.95: 0.2369376646678584\n",
            "\n",
            "     Epoch  iou_loss  dfl_loss  cls_loss\n",
            "     58/99    0.6135         0    0.9798: 100% 24/24 [00:28<00:00,  1.18s/it]\n",
            "\n",
            "     Epoch  iou_loss  dfl_loss  cls_loss\n",
            "     59/99    0.6236         0    0.9855: 100% 24/24 [00:28<00:00,  1.17s/it]\n",
            "\n",
            "     Epoch  iou_loss  dfl_loss  cls_loss\n",
            "     60/99    0.5955         0    0.9745: 100% 24/24 [00:28<00:00,  1.17s/it]\n",
            "Inferencing model in train datasets.: 100% 4/4 [00:12<00:00,  3.18s/it]\n",
            "\n",
            "Evaluating speed.\n",
            "\n",
            "Evaluating mAP by pycocotools.\n",
            "Saving runs/train/exp/predictions.json...\n",
            "loading annotations into memory...\n",
            "Done (t=0.00s)\n",
            "creating index...\n",
            "index created!\n",
            "Loading and preparing results...\n",
            "DONE (t=0.79s)\n",
            "creating index...\n",
            "index created!\n",
            "Running per image evaluation...\n",
            "Evaluate annotation type *bbox*\n",
            "DONE (t=1.25s).\n",
            "Accumulating evaluation results...\n",
            "DONE (t=0.37s).\n",
            " Average Precision  (AP) @[ IoU=0.50:0.95 | area=   all | maxDets=100 ] = 0.205\n",
            " Average Precision  (AP) @[ IoU=0.50      | area=   all | maxDets=100 ] = 0.502\n",
            " Average Precision  (AP) @[ IoU=0.75      | area=   all | maxDets=100 ] = 0.154\n",
            " Average Precision  (AP) @[ IoU=0.50:0.95 | area= small | maxDets=100 ] = 0.001\n",
            " Average Precision  (AP) @[ IoU=0.50:0.95 | area=medium | maxDets=100 ] = 0.095\n",
            " Average Precision  (AP) @[ IoU=0.50:0.95 | area= large | maxDets=100 ] = 0.277\n",
            " Average Recall     (AR) @[ IoU=0.50:0.95 | area=   all | maxDets=  1 ] = 0.349\n",
            " Average Recall     (AR) @[ IoU=0.50:0.95 | area=   all | maxDets= 10 ] = 0.479\n",
            " Average Recall     (AR) @[ IoU=0.50:0.95 | area=   all | maxDets=100 ] = 0.507\n",
            " Average Recall     (AR) @[ IoU=0.50:0.95 | area= small | maxDets=100 ] = 0.050\n",
            " Average Recall     (AR) @[ IoU=0.50:0.95 | area=medium | maxDets=100 ] = 0.359\n",
            " Average Recall     (AR) @[ IoU=0.50:0.95 | area= large | maxDets=100 ] = 0.596\n",
            "Results saved to runs/train/exp\n",
            "Epoch: 60 | mAP@0.5: 0.501583256073772 | mAP@0.50:0.95: 0.20473434633606544\n",
            "\n",
            "     Epoch  iou_loss  dfl_loss  cls_loss\n",
            "     61/99    0.6027         0    0.9603: 100% 24/24 [00:28<00:00,  1.17s/it]\n",
            "\n",
            "     Epoch  iou_loss  dfl_loss  cls_loss\n",
            "     62/99    0.6111         0    0.9626: 100% 24/24 [00:26<00:00,  1.12s/it]\n",
            "\n",
            "     Epoch  iou_loss  dfl_loss  cls_loss\n",
            "     63/99    0.6091         0    0.9627: 100% 24/24 [00:26<00:00,  1.10s/it]\n",
            "Inferencing model in train datasets.: 100% 4/4 [00:13<00:00,  3.35s/it]\n",
            "\n",
            "Evaluating speed.\n",
            "\n",
            "Evaluating mAP by pycocotools.\n",
            "Saving runs/train/exp/predictions.json...\n",
            "loading annotations into memory...\n",
            "Done (t=0.00s)\n",
            "creating index...\n",
            "index created!\n",
            "Loading and preparing results...\n",
            "DONE (t=0.80s)\n",
            "creating index...\n",
            "index created!\n",
            "Running per image evaluation...\n",
            "Evaluate annotation type *bbox*\n",
            "DONE (t=2.53s).\n",
            "Accumulating evaluation results...\n",
            "DONE (t=1.03s).\n",
            " Average Precision  (AP) @[ IoU=0.50:0.95 | area=   all | maxDets=100 ] = 0.215\n",
            " Average Precision  (AP) @[ IoU=0.50      | area=   all | maxDets=100 ] = 0.488\n",
            " Average Precision  (AP) @[ IoU=0.75      | area=   all | maxDets=100 ] = 0.164\n",
            " Average Precision  (AP) @[ IoU=0.50:0.95 | area= small | maxDets=100 ] = 0.101\n",
            " Average Precision  (AP) @[ IoU=0.50:0.95 | area=medium | maxDets=100 ] = 0.116\n",
            " Average Precision  (AP) @[ IoU=0.50:0.95 | area= large | maxDets=100 ] = 0.266\n",
            " Average Recall     (AR) @[ IoU=0.50:0.95 | area=   all | maxDets=  1 ] = 0.401\n",
            " Average Recall     (AR) @[ IoU=0.50:0.95 | area=   all | maxDets= 10 ] = 0.529\n",
            " Average Recall     (AR) @[ IoU=0.50:0.95 | area=   all | maxDets=100 ] = 0.557\n",
            " Average Recall     (AR) @[ IoU=0.50:0.95 | area= small | maxDets=100 ] = 0.200\n",
            " Average Recall     (AR) @[ IoU=0.50:0.95 | area=medium | maxDets=100 ] = 0.413\n",
            " Average Recall     (AR) @[ IoU=0.50:0.95 | area= large | maxDets=100 ] = 0.626\n",
            "Results saved to runs/train/exp\n",
            "Epoch: 63 | mAP@0.5: 0.4881028639715301 | mAP@0.50:0.95: 0.21480045418258426\n",
            "\n",
            "     Epoch  iou_loss  dfl_loss  cls_loss\n",
            "     64/99    0.5973         0    0.9603: 100% 24/24 [00:21<00:00,  1.12it/s]\n",
            "\n",
            "     Epoch  iou_loss  dfl_loss  cls_loss\n",
            "     65/99    0.6019         0    0.9646: 100% 24/24 [00:20<00:00,  1.17it/s]\n",
            "\n",
            "     Epoch  iou_loss  dfl_loss  cls_loss\n",
            "     66/99    0.5996         0     0.964: 100% 24/24 [00:27<00:00,  1.15s/it]\n",
            "Inferencing model in train datasets.: 100% 4/4 [00:12<00:00,  3.02s/it]\n",
            "\n",
            "Evaluating speed.\n",
            "\n",
            "Evaluating mAP by pycocotools.\n",
            "Saving runs/train/exp/predictions.json...\n",
            "loading annotations into memory...\n",
            "Done (t=0.00s)\n",
            "creating index...\n",
            "index created!\n",
            "Loading and preparing results...\n",
            "DONE (t=0.87s)\n",
            "creating index...\n",
            "index created!\n",
            "Running per image evaluation...\n",
            "Evaluate annotation type *bbox*\n",
            "DONE (t=1.79s).\n",
            "Accumulating evaluation results...\n",
            "DONE (t=0.42s).\n",
            " Average Precision  (AP) @[ IoU=0.50:0.95 | area=   all | maxDets=100 ] = 0.251\n",
            " Average Precision  (AP) @[ IoU=0.50      | area=   all | maxDets=100 ] = 0.557\n",
            " Average Precision  (AP) @[ IoU=0.75      | area=   all | maxDets=100 ] = 0.200\n",
            " Average Precision  (AP) @[ IoU=0.50:0.95 | area= small | maxDets=100 ] = 0.088\n",
            " Average Precision  (AP) @[ IoU=0.50:0.95 | area=medium | maxDets=100 ] = 0.129\n",
            " Average Precision  (AP) @[ IoU=0.50:0.95 | area= large | maxDets=100 ] = 0.324\n",
            " Average Recall     (AR) @[ IoU=0.50:0.95 | area=   all | maxDets=  1 ] = 0.397\n",
            " Average Recall     (AR) @[ IoU=0.50:0.95 | area=   all | maxDets= 10 ] = 0.506\n",
            " Average Recall     (AR) @[ IoU=0.50:0.95 | area=   all | maxDets=100 ] = 0.528\n",
            " Average Recall     (AR) @[ IoU=0.50:0.95 | area= small | maxDets=100 ] = 0.125\n",
            " Average Recall     (AR) @[ IoU=0.50:0.95 | area=medium | maxDets=100 ] = 0.359\n",
            " Average Recall     (AR) @[ IoU=0.50:0.95 | area= large | maxDets=100 ] = 0.624\n",
            "Results saved to runs/train/exp\n",
            "Epoch: 66 | mAP@0.5: 0.5569502085884076 | mAP@0.50:0.95: 0.2510992134253272\n",
            "\n",
            "     Epoch  iou_loss  dfl_loss  cls_loss\n",
            "     67/99    0.6068         0    0.9581: 100% 24/24 [00:27<00:00,  1.16s/it]\n",
            "\n",
            "     Epoch  iou_loss  dfl_loss  cls_loss\n",
            "     68/99    0.5906         0    0.9749: 100% 24/24 [00:28<00:00,  1.20s/it]\n",
            "\n",
            "     Epoch  iou_loss  dfl_loss  cls_loss\n",
            "     69/99    0.5933         0     0.962: 100% 24/24 [00:29<00:00,  1.25s/it]\n",
            "Inferencing model in train datasets.: 100% 4/4 [00:12<00:00,  3.21s/it]\n",
            "\n",
            "Evaluating speed.\n",
            "\n",
            "Evaluating mAP by pycocotools.\n",
            "Saving runs/train/exp/predictions.json...\n",
            "loading annotations into memory...\n",
            "Done (t=0.00s)\n",
            "creating index...\n",
            "index created!\n",
            "Loading and preparing results...\n",
            "DONE (t=0.48s)\n",
            "creating index...\n",
            "index created!\n",
            "Running per image evaluation...\n",
            "Evaluate annotation type *bbox*\n",
            "DONE (t=1.58s).\n",
            "Accumulating evaluation results...\n",
            "DONE (t=0.50s).\n",
            " Average Precision  (AP) @[ IoU=0.50:0.95 | area=   all | maxDets=100 ] = 0.248\n",
            " Average Precision  (AP) @[ IoU=0.50      | area=   all | maxDets=100 ] = 0.548\n",
            " Average Precision  (AP) @[ IoU=0.75      | area=   all | maxDets=100 ] = 0.197\n",
            " Average Precision  (AP) @[ IoU=0.50:0.95 | area= small | maxDets=100 ] = 0.032\n",
            " Average Precision  (AP) @[ IoU=0.50:0.95 | area=medium | maxDets=100 ] = 0.126\n",
            " Average Precision  (AP) @[ IoU=0.50:0.95 | area= large | maxDets=100 ] = 0.321\n",
            " Average Recall     (AR) @[ IoU=0.50:0.95 | area=   all | maxDets=  1 ] = 0.400\n",
            " Average Recall     (AR) @[ IoU=0.50:0.95 | area=   all | maxDets= 10 ] = 0.522\n",
            " Average Recall     (AR) @[ IoU=0.50:0.95 | area=   all | maxDets=100 ] = 0.549\n",
            " Average Recall     (AR) @[ IoU=0.50:0.95 | area= small | maxDets=100 ] = 0.100\n",
            " Average Recall     (AR) @[ IoU=0.50:0.95 | area=medium | maxDets=100 ] = 0.399\n",
            " Average Recall     (AR) @[ IoU=0.50:0.95 | area= large | maxDets=100 ] = 0.628\n",
            "Results saved to runs/train/exp\n",
            "Epoch: 69 | mAP@0.5: 0.5475998868622043 | mAP@0.50:0.95: 0.24777604388251437\n",
            "\n",
            "     Epoch  iou_loss  dfl_loss  cls_loss\n",
            "     70/99    0.5894         0    0.9711: 100% 24/24 [00:28<00:00,  1.18s/it]\n",
            "\n",
            "     Epoch  iou_loss  dfl_loss  cls_loss\n",
            "     71/99    0.5906         0    0.9563: 100% 24/24 [00:26<00:00,  1.12s/it]\n",
            "\n",
            "     Epoch  iou_loss  dfl_loss  cls_loss\n",
            "     72/99    0.5854         0    0.9573: 100% 24/24 [00:28<00:00,  1.17s/it]\n",
            "Inferencing model in train datasets.: 100% 4/4 [00:11<00:00,  2.95s/it]\n",
            "\n",
            "Evaluating speed.\n",
            "\n",
            "Evaluating mAP by pycocotools.\n",
            "Saving runs/train/exp/predictions.json...\n",
            "loading annotations into memory...\n",
            "Done (t=0.00s)\n",
            "creating index...\n",
            "index created!\n",
            "Loading and preparing results...\n",
            "DONE (t=0.75s)\n",
            "creating index...\n",
            "index created!\n",
            "Running per image evaluation...\n",
            "Evaluate annotation type *bbox*\n",
            "DONE (t=3.34s).\n",
            "Accumulating evaluation results...\n",
            "DONE (t=0.87s).\n",
            " Average Precision  (AP) @[ IoU=0.50:0.95 | area=   all | maxDets=100 ] = 0.239\n",
            " Average Precision  (AP) @[ IoU=0.50      | area=   all | maxDets=100 ] = 0.532\n",
            " Average Precision  (AP) @[ IoU=0.75      | area=   all | maxDets=100 ] = 0.178\n",
            " Average Precision  (AP) @[ IoU=0.50:0.95 | area= small | maxDets=100 ] = 0.008\n",
            " Average Precision  (AP) @[ IoU=0.50:0.95 | area=medium | maxDets=100 ] = 0.125\n",
            " Average Precision  (AP) @[ IoU=0.50:0.95 | area= large | maxDets=100 ] = 0.304\n",
            " Average Recall     (AR) @[ IoU=0.50:0.95 | area=   all | maxDets=  1 ] = 0.392\n",
            " Average Recall     (AR) @[ IoU=0.50:0.95 | area=   all | maxDets= 10 ] = 0.532\n",
            " Average Recall     (AR) @[ IoU=0.50:0.95 | area=   all | maxDets=100 ] = 0.561\n",
            " Average Recall     (AR) @[ IoU=0.50:0.95 | area= small | maxDets=100 ] = 0.025\n",
            " Average Recall     (AR) @[ IoU=0.50:0.95 | area=medium | maxDets=100 ] = 0.455\n",
            " Average Recall     (AR) @[ IoU=0.50:0.95 | area= large | maxDets=100 ] = 0.616\n",
            "Results saved to runs/train/exp\n",
            "Epoch: 72 | mAP@0.5: 0.5320225974068875 | mAP@0.50:0.95: 0.23905655132185452\n",
            "\n",
            "     Epoch  iou_loss  dfl_loss  cls_loss\n",
            "     73/99    0.5921         0    0.9508: 100% 24/24 [00:21<00:00,  1.13it/s]\n",
            "\n",
            "     Epoch  iou_loss  dfl_loss  cls_loss\n",
            "     74/99    0.5821         0    0.9494: 100% 24/24 [00:19<00:00,  1.21it/s]\n",
            "\n",
            "     Epoch  iou_loss  dfl_loss  cls_loss\n",
            "     75/99    0.5801         0     0.955: 100% 24/24 [00:19<00:00,  1.23it/s]\n",
            "Inferencing model in train datasets.: 100% 4/4 [00:11<00:00,  2.86s/it]\n",
            "\n",
            "Evaluating speed.\n",
            "\n",
            "Evaluating mAP by pycocotools.\n",
            "Saving runs/train/exp/predictions.json...\n",
            "loading annotations into memory...\n",
            "Done (t=0.00s)\n",
            "creating index...\n",
            "index created!\n",
            "Loading and preparing results...\n",
            "DONE (t=0.82s)\n",
            "creating index...\n",
            "index created!\n",
            "Running per image evaluation...\n",
            "Evaluate annotation type *bbox*\n",
            "DONE (t=1.85s).\n",
            "Accumulating evaluation results...\n",
            "DONE (t=0.93s).\n",
            " Average Precision  (AP) @[ IoU=0.50:0.95 | area=   all | maxDets=100 ] = 0.268\n",
            " Average Precision  (AP) @[ IoU=0.50      | area=   all | maxDets=100 ] = 0.567\n",
            " Average Precision  (AP) @[ IoU=0.75      | area=   all | maxDets=100 ] = 0.246\n",
            " Average Precision  (AP) @[ IoU=0.50:0.95 | area= small | maxDets=100 ] = 0.021\n",
            " Average Precision  (AP) @[ IoU=0.50:0.95 | area=medium | maxDets=100 ] = 0.113\n",
            " Average Precision  (AP) @[ IoU=0.50:0.95 | area= large | maxDets=100 ] = 0.350\n",
            " Average Recall     (AR) @[ IoU=0.50:0.95 | area=   all | maxDets=  1 ] = 0.426\n",
            " Average Recall     (AR) @[ IoU=0.50:0.95 | area=   all | maxDets= 10 ] = 0.534\n",
            " Average Recall     (AR) @[ IoU=0.50:0.95 | area=   all | maxDets=100 ] = 0.568\n",
            " Average Recall     (AR) @[ IoU=0.50:0.95 | area= small | maxDets=100 ] = 0.125\n",
            " Average Recall     (AR) @[ IoU=0.50:0.95 | area=medium | maxDets=100 ] = 0.418\n",
            " Average Recall     (AR) @[ IoU=0.50:0.95 | area= large | maxDets=100 ] = 0.652\n",
            "Results saved to runs/train/exp\n",
            "Epoch: 75 | mAP@0.5: 0.5671839416474274 | mAP@0.50:0.95: 0.26800516681190895\n",
            "\n",
            "     Epoch  iou_loss  dfl_loss  cls_loss\n",
            "     76/99    0.5829         0    0.9538: 100% 24/24 [00:26<00:00,  1.10s/it]\n",
            "\n",
            "     Epoch  iou_loss  dfl_loss  cls_loss\n",
            "     77/99    0.5888         0    0.9595: 100% 24/24 [00:19<00:00,  1.23it/s]\n",
            "\n",
            "     Epoch  iou_loss  dfl_loss  cls_loss\n",
            "     78/99    0.5785         0    0.9448: 100% 24/24 [00:21<00:00,  1.12it/s]\n",
            "Inferencing model in train datasets.: 100% 4/4 [00:07<00:00,  1.95s/it]\n",
            "\n",
            "Evaluating speed.\n",
            "\n",
            "Evaluating mAP by pycocotools.\n",
            "Saving runs/train/exp/predictions.json...\n",
            "loading annotations into memory...\n",
            "Done (t=0.00s)\n",
            "creating index...\n",
            "index created!\n",
            "Loading and preparing results...\n",
            "DONE (t=0.38s)\n",
            "creating index...\n",
            "index created!\n",
            "Running per image evaluation...\n",
            "Evaluate annotation type *bbox*\n",
            "DONE (t=0.97s).\n",
            "Accumulating evaluation results...\n",
            "DONE (t=0.27s).\n",
            " Average Precision  (AP) @[ IoU=0.50:0.95 | area=   all | maxDets=100 ] = 0.273\n",
            " Average Precision  (AP) @[ IoU=0.50      | area=   all | maxDets=100 ] = 0.564\n",
            " Average Precision  (AP) @[ IoU=0.75      | area=   all | maxDets=100 ] = 0.232\n",
            " Average Precision  (AP) @[ IoU=0.50:0.95 | area= small | maxDets=100 ] = 0.142\n",
            " Average Precision  (AP) @[ IoU=0.50:0.95 | area=medium | maxDets=100 ] = 0.138\n",
            " Average Precision  (AP) @[ IoU=0.50:0.95 | area= large | maxDets=100 ] = 0.352\n",
            " Average Recall     (AR) @[ IoU=0.50:0.95 | area=   all | maxDets=  1 ] = 0.444\n",
            " Average Recall     (AR) @[ IoU=0.50:0.95 | area=   all | maxDets= 10 ] = 0.562\n",
            " Average Recall     (AR) @[ IoU=0.50:0.95 | area=   all | maxDets=100 ] = 0.583\n",
            " Average Recall     (AR) @[ IoU=0.50:0.95 | area= small | maxDets=100 ] = 0.200\n",
            " Average Recall     (AR) @[ IoU=0.50:0.95 | area=medium | maxDets=100 ] = 0.432\n",
            " Average Recall     (AR) @[ IoU=0.50:0.95 | area= large | maxDets=100 ] = 0.668\n",
            "Results saved to runs/train/exp\n",
            "Epoch: 78 | mAP@0.5: 0.563991527812587 | mAP@0.50:0.95: 0.27316258267314847\n",
            "\n",
            "     Epoch  iou_loss  dfl_loss  cls_loss\n",
            "     79/99    0.5744         0     0.949: 100% 24/24 [00:19<00:00,  1.23it/s]\n",
            "\n",
            "     Epoch  iou_loss  dfl_loss  cls_loss\n",
            "     80/99    0.5799         0    0.9506: 100% 24/24 [00:19<00:00,  1.24it/s]\n",
            "\n",
            "     Epoch  iou_loss  dfl_loss  cls_loss\n",
            "     81/99    0.5766         0    0.9457: 100% 24/24 [00:19<00:00,  1.25it/s]\n",
            "Inferencing model in train datasets.: 100% 4/4 [00:08<00:00,  2.11s/it]\n",
            "\n",
            "Evaluating speed.\n",
            "\n",
            "Evaluating mAP by pycocotools.\n",
            "Saving runs/train/exp/predictions.json...\n",
            "loading annotations into memory...\n",
            "Done (t=0.00s)\n",
            "creating index...\n",
            "index created!\n",
            "Loading and preparing results...\n",
            "DONE (t=0.77s)\n",
            "creating index...\n",
            "index created!\n",
            "Running per image evaluation...\n",
            "Evaluate annotation type *bbox*\n",
            "DONE (t=0.95s).\n",
            "Accumulating evaluation results...\n",
            "DONE (t=0.26s).\n",
            " Average Precision  (AP) @[ IoU=0.50:0.95 | area=   all | maxDets=100 ] = 0.256\n",
            " Average Precision  (AP) @[ IoU=0.50      | area=   all | maxDets=100 ] = 0.559\n",
            " Average Precision  (AP) @[ IoU=0.75      | area=   all | maxDets=100 ] = 0.191\n",
            " Average Precision  (AP) @[ IoU=0.50:0.95 | area= small | maxDets=100 ] = 0.021\n",
            " Average Precision  (AP) @[ IoU=0.50:0.95 | area=medium | maxDets=100 ] = 0.126\n",
            " Average Precision  (AP) @[ IoU=0.50:0.95 | area= large | maxDets=100 ] = 0.323\n",
            " Average Recall     (AR) @[ IoU=0.50:0.95 | area=   all | maxDets=  1 ] = 0.421\n",
            " Average Recall     (AR) @[ IoU=0.50:0.95 | area=   all | maxDets= 10 ] = 0.543\n",
            " Average Recall     (AR) @[ IoU=0.50:0.95 | area=   all | maxDets=100 ] = 0.569\n",
            " Average Recall     (AR) @[ IoU=0.50:0.95 | area= small | maxDets=100 ] = 0.075\n",
            " Average Recall     (AR) @[ IoU=0.50:0.95 | area=medium | maxDets=100 ] = 0.422\n",
            " Average Recall     (AR) @[ IoU=0.50:0.95 | area= large | maxDets=100 ] = 0.649\n",
            "Results saved to runs/train/exp\n",
            "Epoch: 81 | mAP@0.5: 0.5592255514338902 | mAP@0.50:0.95: 0.25575658963281495\n",
            "\n",
            "     Epoch  iou_loss  dfl_loss  cls_loss\n",
            "     82/99    0.5782         0    0.9487: 100% 24/24 [00:18<00:00,  1.28it/s]\n",
            "\n",
            "     Epoch  iou_loss  dfl_loss  cls_loss\n",
            "     83/99    0.5755         0    0.9502: 100% 24/24 [00:20<00:00,  1.15it/s]\n",
            "\n",
            "     Epoch  iou_loss  dfl_loss  cls_loss\n",
            "     84/99     0.578         0    0.9503: 100% 24/24 [00:19<00:00,  1.24it/s]\n",
            "Inferencing model in train datasets.: 100% 4/4 [00:09<00:00,  2.41s/it]\n",
            "\n",
            "Evaluating speed.\n",
            "\n",
            "Evaluating mAP by pycocotools.\n",
            "Saving runs/train/exp/predictions.json...\n",
            "loading annotations into memory...\n",
            "Done (t=0.00s)\n",
            "creating index...\n",
            "index created!\n",
            "Loading and preparing results...\n",
            "DONE (t=0.36s)\n",
            "creating index...\n",
            "index created!\n",
            "Running per image evaluation...\n",
            "Evaluate annotation type *bbox*\n",
            "DONE (t=1.18s).\n",
            "Accumulating evaluation results...\n",
            "DONE (t=0.27s).\n",
            " Average Precision  (AP) @[ IoU=0.50:0.95 | area=   all | maxDets=100 ] = 0.272\n",
            " Average Precision  (AP) @[ IoU=0.50      | area=   all | maxDets=100 ] = 0.573\n",
            " Average Precision  (AP) @[ IoU=0.75      | area=   all | maxDets=100 ] = 0.242\n",
            " Average Precision  (AP) @[ IoU=0.50:0.95 | area= small | maxDets=100 ] = 0.050\n",
            " Average Precision  (AP) @[ IoU=0.50:0.95 | area=medium | maxDets=100 ] = 0.132\n",
            " Average Precision  (AP) @[ IoU=0.50:0.95 | area= large | maxDets=100 ] = 0.354\n",
            " Average Recall     (AR) @[ IoU=0.50:0.95 | area=   all | maxDets=  1 ] = 0.435\n",
            " Average Recall     (AR) @[ IoU=0.50:0.95 | area=   all | maxDets= 10 ] = 0.546\n",
            " Average Recall     (AR) @[ IoU=0.50:0.95 | area=   all | maxDets=100 ] = 0.563\n",
            " Average Recall     (AR) @[ IoU=0.50:0.95 | area= small | maxDets=100 ] = 0.175\n",
            " Average Recall     (AR) @[ IoU=0.50:0.95 | area=medium | maxDets=100 ] = 0.396\n",
            " Average Recall     (AR) @[ IoU=0.50:0.95 | area= large | maxDets=100 ] = 0.654\n",
            "Results saved to runs/train/exp\n",
            "Epoch: 84 | mAP@0.5: 0.5725154510691252 | mAP@0.50:0.95: 0.27216193164781943\n",
            "Train: Final numbers of valid images: 763/ labels: 763. \n",
            "0.2s for dataset initialization.\n",
            "Convert to COCO format\n",
            "100% 217/217 [00:00<00:00, 62865.31it/s]\n",
            "Convert to COCO format finished. Resutls saved in Normal-Insulator,-Defect-Insulator,-Defects--1-2/annotations/instances_valid.json\n",
            "Val: Final numbers of valid images: 217/ labels: 217. \n",
            "0.1s for dataset initialization.\n",
            "\n",
            "     Epoch  iou_loss  dfl_loss  cls_loss\n",
            "     85/99    0.5739         0    0.9581: 100% 24/24 [00:13<00:00,  1.76it/s]\n",
            "\n",
            "     Epoch  iou_loss  dfl_loss  cls_loss\n",
            "     86/99    0.5502         0     0.937: 100% 24/24 [00:11<00:00,  2.14it/s]\n",
            "\n",
            "     Epoch  iou_loss  dfl_loss  cls_loss\n",
            "     87/99    0.5523         0    0.9459: 100% 24/24 [00:11<00:00,  2.16it/s]\n",
            "Inferencing model in train datasets.: 100% 4/4 [00:06<00:00,  1.55s/it]\n",
            "\n",
            "Evaluating speed.\n",
            "\n",
            "Evaluating mAP by pycocotools.\n",
            "Saving runs/train/exp/predictions.json...\n",
            "loading annotations into memory...\n",
            "Done (t=0.00s)\n",
            "creating index...\n",
            "index created!\n",
            "Loading and preparing results...\n",
            "DONE (t=0.56s)\n",
            "creating index...\n",
            "index created!\n",
            "Running per image evaluation...\n",
            "Evaluate annotation type *bbox*\n",
            "DONE (t=0.87s).\n",
            "Accumulating evaluation results...\n",
            "DONE (t=0.21s).\n",
            " Average Precision  (AP) @[ IoU=0.50:0.95 | area=   all | maxDets=100 ] = 0.273\n",
            " Average Precision  (AP) @[ IoU=0.50      | area=   all | maxDets=100 ] = 0.548\n",
            " Average Precision  (AP) @[ IoU=0.75      | area=   all | maxDets=100 ] = 0.244\n",
            " Average Precision  (AP) @[ IoU=0.50:0.95 | area= small | maxDets=100 ] = 0.050\n",
            " Average Precision  (AP) @[ IoU=0.50:0.95 | area=medium | maxDets=100 ] = 0.117\n",
            " Average Precision  (AP) @[ IoU=0.50:0.95 | area= large | maxDets=100 ] = 0.365\n",
            " Average Recall     (AR) @[ IoU=0.50:0.95 | area=   all | maxDets=  1 ] = 0.428\n",
            " Average Recall     (AR) @[ IoU=0.50:0.95 | area=   all | maxDets= 10 ] = 0.543\n",
            " Average Recall     (AR) @[ IoU=0.50:0.95 | area=   all | maxDets=100 ] = 0.567\n",
            " Average Recall     (AR) @[ IoU=0.50:0.95 | area= small | maxDets=100 ] = 0.100\n",
            " Average Recall     (AR) @[ IoU=0.50:0.95 | area=medium | maxDets=100 ] = 0.439\n",
            " Average Recall     (AR) @[ IoU=0.50:0.95 | area= large | maxDets=100 ] = 0.644\n",
            "Results saved to runs/train/exp\n",
            "Epoch: 87 | mAP@0.5: 0.5484790807519742 | mAP@0.50:0.95: 0.2734288536604055\n",
            "\n",
            "     Epoch  iou_loss  dfl_loss  cls_loss\n",
            "     88/99    0.5429         0    0.9328: 100% 24/24 [00:09<00:00,  2.55it/s]\n",
            "\n",
            "     Epoch  iou_loss  dfl_loss  cls_loss\n",
            "     89/99    0.5344         0    0.9363: 100% 24/24 [00:10<00:00,  2.22it/s]\n",
            "\n",
            "     Epoch  iou_loss  dfl_loss  cls_loss\n",
            "     90/99    0.5359         0    0.9389: 100% 24/24 [00:11<00:00,  2.14it/s]\n",
            "Inferencing model in train datasets.: 100% 4/4 [00:06<00:00,  1.59s/it]\n",
            "\n",
            "Evaluating speed.\n",
            "\n",
            "Evaluating mAP by pycocotools.\n",
            "Saving runs/train/exp/predictions.json...\n",
            "loading annotations into memory...\n",
            "Done (t=0.00s)\n",
            "creating index...\n",
            "index created!\n",
            "Loading and preparing results...\n",
            "DONE (t=0.57s)\n",
            "creating index...\n",
            "index created!\n",
            "Running per image evaluation...\n",
            "Evaluate annotation type *bbox*\n",
            "DONE (t=1.50s).\n",
            "Accumulating evaluation results...\n",
            "DONE (t=0.41s).\n",
            " Average Precision  (AP) @[ IoU=0.50:0.95 | area=   all | maxDets=100 ] = 0.277\n",
            " Average Precision  (AP) @[ IoU=0.50      | area=   all | maxDets=100 ] = 0.578\n",
            " Average Precision  (AP) @[ IoU=0.75      | area=   all | maxDets=100 ] = 0.215\n",
            " Average Precision  (AP) @[ IoU=0.50:0.95 | area= small | maxDets=100 ] = 0.125\n",
            " Average Precision  (AP) @[ IoU=0.50:0.95 | area=medium | maxDets=100 ] = 0.136\n",
            " Average Precision  (AP) @[ IoU=0.50:0.95 | area= large | maxDets=100 ] = 0.351\n",
            " Average Recall     (AR) @[ IoU=0.50:0.95 | area=   all | maxDets=  1 ] = 0.431\n",
            " Average Recall     (AR) @[ IoU=0.50:0.95 | area=   all | maxDets= 10 ] = 0.544\n",
            " Average Recall     (AR) @[ IoU=0.50:0.95 | area=   all | maxDets=100 ] = 0.571\n",
            " Average Recall     (AR) @[ IoU=0.50:0.95 | area= small | maxDets=100 ] = 0.125\n",
            " Average Recall     (AR) @[ IoU=0.50:0.95 | area=medium | maxDets=100 ] = 0.440\n",
            " Average Recall     (AR) @[ IoU=0.50:0.95 | area= large | maxDets=100 ] = 0.659\n",
            "Results saved to runs/train/exp\n",
            "Epoch: 90 | mAP@0.5: 0.5775420990180817 | mAP@0.50:0.95: 0.27738595261659077\n",
            "\n",
            "     Epoch  iou_loss  dfl_loss  cls_loss\n",
            "     91/99    0.5367         0    0.9261: 100% 24/24 [00:10<00:00,  2.30it/s]\n",
            "\n",
            "     Epoch  iou_loss  dfl_loss  cls_loss\n",
            "     92/99    0.5405         0     0.925: 100% 24/24 [00:09<00:00,  2.56it/s]\n",
            "\n",
            "     Epoch  iou_loss  dfl_loss  cls_loss\n",
            "     93/99    0.5277         0    0.9306: 100% 24/24 [00:09<00:00,  2.46it/s]\n",
            "Inferencing model in train datasets.: 100% 4/4 [00:07<00:00,  1.96s/it]\n",
            "\n",
            "Evaluating speed.\n",
            "\n",
            "Evaluating mAP by pycocotools.\n",
            "Saving runs/train/exp/predictions.json...\n",
            "loading annotations into memory...\n",
            "Done (t=0.00s)\n",
            "creating index...\n",
            "index created!\n",
            "Loading and preparing results...\n",
            "DONE (t=0.56s)\n",
            "creating index...\n",
            "index created!\n",
            "Running per image evaluation...\n",
            "Evaluate annotation type *bbox*\n",
            "DONE (t=0.97s).\n",
            "Accumulating evaluation results...\n",
            "DONE (t=0.26s).\n",
            " Average Precision  (AP) @[ IoU=0.50:0.95 | area=   all | maxDets=100 ] = 0.281\n",
            " Average Precision  (AP) @[ IoU=0.50      | area=   all | maxDets=100 ] = 0.575\n",
            " Average Precision  (AP) @[ IoU=0.75      | area=   all | maxDets=100 ] = 0.247\n",
            " Average Precision  (AP) @[ IoU=0.50:0.95 | area= small | maxDets=100 ] = 0.125\n",
            " Average Precision  (AP) @[ IoU=0.50:0.95 | area=medium | maxDets=100 ] = 0.146\n",
            " Average Precision  (AP) @[ IoU=0.50:0.95 | area= large | maxDets=100 ] = 0.366\n",
            " Average Recall     (AR) @[ IoU=0.50:0.95 | area=   all | maxDets=  1 ] = 0.440\n",
            " Average Recall     (AR) @[ IoU=0.50:0.95 | area=   all | maxDets= 10 ] = 0.562\n",
            " Average Recall     (AR) @[ IoU=0.50:0.95 | area=   all | maxDets=100 ] = 0.585\n",
            " Average Recall     (AR) @[ IoU=0.50:0.95 | area= small | maxDets=100 ] = 0.150\n",
            " Average Recall     (AR) @[ IoU=0.50:0.95 | area=medium | maxDets=100 ] = 0.436\n",
            " Average Recall     (AR) @[ IoU=0.50:0.95 | area= large | maxDets=100 ] = 0.672\n",
            "Results saved to runs/train/exp\n",
            "Epoch: 93 | mAP@0.5: 0.5750503672285623 | mAP@0.50:0.95: 0.28070757395014917\n",
            "\n",
            "     Epoch  iou_loss  dfl_loss  cls_loss\n",
            "     94/99    0.5335         0    0.9285: 100% 24/24 [00:11<00:00,  2.16it/s]\n",
            "\n",
            "     Epoch  iou_loss  dfl_loss  cls_loss\n",
            "     95/99    0.5305         0    0.9271: 100% 24/24 [00:10<00:00,  2.19it/s]\n",
            "\n",
            "     Epoch  iou_loss  dfl_loss  cls_loss\n",
            "     96/99    0.5306         0     0.922: 100% 24/24 [00:09<00:00,  2.48it/s]\n",
            "Inferencing model in train datasets.: 100% 4/4 [00:07<00:00,  1.83s/it]\n",
            "\n",
            "Evaluating speed.\n",
            "\n",
            "Evaluating mAP by pycocotools.\n",
            "Saving runs/train/exp/predictions.json...\n",
            "loading annotations into memory...\n",
            "Done (t=0.00s)\n",
            "creating index...\n",
            "index created!\n",
            "Loading and preparing results...\n",
            "DONE (t=0.56s)\n",
            "creating index...\n",
            "index created!\n",
            "Running per image evaluation...\n",
            "Evaluate annotation type *bbox*\n",
            "DONE (t=0.97s).\n",
            "Accumulating evaluation results...\n",
            "DONE (t=0.25s).\n",
            " Average Precision  (AP) @[ IoU=0.50:0.95 | area=   all | maxDets=100 ] = 0.285\n",
            " Average Precision  (AP) @[ IoU=0.50      | area=   all | maxDets=100 ] = 0.591\n",
            " Average Precision  (AP) @[ IoU=0.75      | area=   all | maxDets=100 ] = 0.248\n",
            " Average Precision  (AP) @[ IoU=0.50:0.95 | area= small | maxDets=100 ] = 0.125\n",
            " Average Precision  (AP) @[ IoU=0.50:0.95 | area=medium | maxDets=100 ] = 0.147\n",
            " Average Precision  (AP) @[ IoU=0.50:0.95 | area= large | maxDets=100 ] = 0.368\n",
            " Average Recall     (AR) @[ IoU=0.50:0.95 | area=   all | maxDets=  1 ] = 0.436\n",
            " Average Recall     (AR) @[ IoU=0.50:0.95 | area=   all | maxDets= 10 ] = 0.562\n",
            " Average Recall     (AR) @[ IoU=0.50:0.95 | area=   all | maxDets=100 ] = 0.582\n",
            " Average Recall     (AR) @[ IoU=0.50:0.95 | area= small | maxDets=100 ] = 0.125\n",
            " Average Recall     (AR) @[ IoU=0.50:0.95 | area=medium | maxDets=100 ] = 0.433\n",
            " Average Recall     (AR) @[ IoU=0.50:0.95 | area= large | maxDets=100 ] = 0.669\n",
            "Results saved to runs/train/exp\n",
            "Epoch: 96 | mAP@0.5: 0.5914916014834936 | mAP@0.50:0.95: 0.2853765936818273\n",
            "\n",
            "     Epoch  iou_loss  dfl_loss  cls_loss\n",
            "     97/99    0.5291         0    0.9193: 100% 24/24 [00:11<00:00,  2.13it/s]\n",
            "\n",
            "     Epoch  iou_loss  dfl_loss  cls_loss\n",
            "     98/99    0.5308         0    0.9218: 100% 24/24 [00:11<00:00,  2.12it/s]\n",
            "\n",
            "     Epoch  iou_loss  dfl_loss  cls_loss\n",
            "     99/99    0.5347         0     0.922: 100% 24/24 [00:11<00:00,  2.15it/s]\n",
            "Inferencing model in train datasets.: 100% 4/4 [00:06<00:00,  1.51s/it]\n",
            "\n",
            "Evaluating speed.\n",
            "\n",
            "Evaluating mAP by pycocotools.\n",
            "Saving runs/train/exp/predictions.json...\n",
            "loading annotations into memory...\n",
            "Done (t=0.00s)\n",
            "creating index...\n",
            "index created!\n",
            "Loading and preparing results...\n",
            "DONE (t=0.54s)\n",
            "creating index...\n",
            "index created!\n",
            "Running per image evaluation...\n",
            "Evaluate annotation type *bbox*\n",
            "DONE (t=0.96s).\n",
            "Accumulating evaluation results...\n",
            "DONE (t=0.25s).\n",
            " Average Precision  (AP) @[ IoU=0.50:0.95 | area=   all | maxDets=100 ] = 0.286\n",
            " Average Precision  (AP) @[ IoU=0.50      | area=   all | maxDets=100 ] = 0.597\n",
            " Average Precision  (AP) @[ IoU=0.75      | area=   all | maxDets=100 ] = 0.260\n",
            " Average Precision  (AP) @[ IoU=0.50:0.95 | area= small | maxDets=100 ] = 0.125\n",
            " Average Precision  (AP) @[ IoU=0.50:0.95 | area=medium | maxDets=100 ] = 0.137\n",
            " Average Precision  (AP) @[ IoU=0.50:0.95 | area= large | maxDets=100 ] = 0.374\n",
            " Average Recall     (AR) @[ IoU=0.50:0.95 | area=   all | maxDets=  1 ] = 0.437\n",
            " Average Recall     (AR) @[ IoU=0.50:0.95 | area=   all | maxDets= 10 ] = 0.565\n",
            " Average Recall     (AR) @[ IoU=0.50:0.95 | area=   all | maxDets=100 ] = 0.589\n",
            " Average Recall     (AR) @[ IoU=0.50:0.95 | area= small | maxDets=100 ] = 0.150\n",
            " Average Recall     (AR) @[ IoU=0.50:0.95 | area=medium | maxDets=100 ] = 0.445\n",
            " Average Recall     (AR) @[ IoU=0.50:0.95 | area= large | maxDets=100 ] = 0.667\n",
            "Results saved to runs/train/exp\n",
            "Epoch: 99 | mAP@0.5: 0.5973964243077426 | mAP@0.50:0.95: 0.28587891432043633\n",
            "\n",
            "Training completed in 0.809 hours.\n"
          ]
        }
      ]
    },
    {
      "cell_type": "code",
      "source": [
        "!python tools/eval.py --data {dataset.location}/data.yaml --img-size 416 --weights runs/train/exp/weights/best_ckpt.pt --device 0"
      ],
      "metadata": {
        "colab": {
          "base_uri": "https://localhost:8080/"
        },
        "id": "2WpDnP60eV52",
        "outputId": "a35b2c81-6a9e-421e-b396-97e12c627b24"
      },
      "execution_count": null,
      "outputs": [
        {
          "output_type": "stream",
          "name": "stdout",
          "text": [
            "Namespace(batch_size=32, conf_thres=0.03, config_file='', data='/content/YOLOv6/Normal-Insulator,-Defect-Insulator,-Defects--1-2/data.yaml', device='0', do_coco_metric=True, do_pr_metric=False, eval_config_file='./configs/experiment/eval_640_repro.py', force_no_pad=False, half=False, img_size=416, iou_thres=0.65, letterbox_return_int=False, name='exp', not_infer_on_rect=False, plot_confusion_matrix=False, plot_curve=True, reproduce_640_eval=False, save_dir='runs/val/', scale_exact=False, task='val', test_load_size=640, verbose=False, weights='runs/train/exp/weights/best_ckpt.pt')\n",
            "Loading checkpoint from runs/train/exp/weights/best_ckpt.pt\n",
            "\n",
            "Fusing model...\n",
            "/usr/local/lib/python3.8/dist-packages/torch/functional.py:504: UserWarning: torch.meshgrid: in an upcoming release, it will be required to pass the indexing argument. (Triggered internally at ../aten/src/ATen/native/TensorShape.cpp:3190.)\n",
            "  return _VF.meshgrid(tensors, **kwargs)  # type: ignore[attr-defined]\n",
            "Switch model to deploy modality.\n",
            "Model Summary: Params: 18.50M, Gflops: 19.08\n",
            "Val: Checking formats of labels with 2 process(es): \n",
            "217 label(s) found, 0 label(s) missing, 0 label(s) empty, 0 invalid label files: 100% 217/217 [00:00<00:00, 3015.64it/s]\n",
            "Convert to COCO format\n",
            "100% 217/217 [00:00<00:00, 153020.17it/s]\n",
            "Convert to COCO format finished. Resutls saved in Normal-Insulator,-Defect-Insulator,-Defects--1-2/annotations/instances_valid.json\n",
            "Val: Final numbers of valid images: 217/ labels: 217. \n",
            "0.2s for dataset initialization.\n",
            "Inferencing model in val datasets.: 100% 7/7 [00:05<00:00,  1.20it/s]\n",
            "\n",
            "Evaluating speed.\n",
            "Average pre-process time: 0.09 ms\n",
            "Average inference time: 4.42 ms\n",
            "Average NMS time: 1.68 ms\n",
            "\n",
            "Evaluating mAP by pycocotools.\n",
            "Saving runs/val/exp/predictions.json...\n",
            "loading annotations into memory...\n",
            "Done (t=0.00s)\n",
            "creating index...\n",
            "index created!\n",
            "Loading and preparing results...\n",
            "DONE (t=0.36s)\n",
            "creating index...\n",
            "index created!\n",
            "Running per image evaluation...\n",
            "Evaluate annotation type *bbox*\n",
            "DONE (t=0.92s).\n",
            "Accumulating evaluation results...\n",
            "DONE (t=0.32s).\n",
            " Average Precision  (AP) @[ IoU=0.50:0.95 | area=   all | maxDets=100 ] = 0.265\n",
            " Average Precision  (AP) @[ IoU=0.50      | area=   all | maxDets=100 ] = 0.532\n",
            " Average Precision  (AP) @[ IoU=0.75      | area=   all | maxDets=100 ] = 0.226\n",
            " Average Precision  (AP) @[ IoU=0.50:0.95 | area= small | maxDets=100 ] = 0.000\n",
            " Average Precision  (AP) @[ IoU=0.50:0.95 | area=medium | maxDets=100 ] = 0.113\n",
            " Average Precision  (AP) @[ IoU=0.50:0.95 | area= large | maxDets=100 ] = 0.352\n",
            " Average Recall     (AR) @[ IoU=0.50:0.95 | area=   all | maxDets=  1 ] = 0.436\n",
            " Average Recall     (AR) @[ IoU=0.50:0.95 | area=   all | maxDets= 10 ] = 0.549\n",
            " Average Recall     (AR) @[ IoU=0.50:0.95 | area=   all | maxDets=100 ] = 0.574\n",
            " Average Recall     (AR) @[ IoU=0.50:0.95 | area= small | maxDets=100 ] = 0.050\n",
            " Average Recall     (AR) @[ IoU=0.50:0.95 | area=medium | maxDets=100 ] = 0.391\n",
            " Average Recall     (AR) @[ IoU=0.50:0.95 | area= large | maxDets=100 ] = 0.665\n",
            "Results saved to runs/val/exp\n"
          ]
        }
      ]
    },
    {
      "cell_type": "code",
      "source": [
        "!mkdir save_images_test\n"
      ],
      "metadata": {
        "id": "X0hmS1tceYdg"
      },
      "execution_count": null,
      "outputs": []
    },
    {
      "cell_type": "code",
      "source": [
        "!python tools/infer.py  --yaml {dataset.location}/data.yaml  --weights runs/train/exp/weights/best_ckpt.pt   --source {dataset.location}/images/test/0135_jpg.rf.bb6d5f68a6bfcefb56263f7089cc50a4.jpg    --device 0"
      ],
      "metadata": {
        "id": "ANI6j9JYeYof"
      },
      "execution_count": null,
      "outputs": []
    },
    {
      "cell_type": "code",
      "source": [
        "!python tools/infer.py  --yaml {dataset.location}/data.yaml  --weights runs/train/exp/weights/best_ckpt.pt   --source {dataset.location}/images/test/0150_jpg.rf.c9bff09776791433246535e2a045127b.jpg   --device 0"
      ],
      "metadata": {
        "id": "ZUyFiO8beYx3"
      },
      "execution_count": null,
      "outputs": []
    },
    {
      "cell_type": "code",
      "source": [
        "!python tools/infer.py  --yaml {dataset.location}/data.yaml  --weights runs/train/exp/weights/best_ckpt.pt   --source {dataset.location}/images/test/0164_jpg.rf.c7559613b1ad9893c4861f2bba6f37a6.jpg    --device 0"
      ],
      "metadata": {
        "id": "VtXOmjEveZE3"
      },
      "execution_count": null,
      "outputs": []
    },
    {
      "cell_type": "code",
      "source": [
        "!python tools/infer.py  --yaml {dataset.location}/data.yaml  --weights runs/train/exp/weights/best_ckpt.pt   --source {dataset.location}/images/test/0177_jpg.rf.db0eea13530522b709792b3595b8579f.jpg   --device 0"
      ],
      "metadata": {
        "id": "gTGDtt28eZzw"
      },
      "execution_count": null,
      "outputs": []
    },
    {
      "cell_type": "code",
      "source": [
        "!python tools/infer.py  --yaml {dataset.location}/data.yaml  --weights runs/train/exp/weights/best_ckpt.pt   --source {dataset.location}/images/test/0187_jpg.rf.a4bc9b5d292a7a76c6518dbdfd08f3ff.jpg    --device 0"
      ],
      "metadata": {
        "id": "kaBpajbSeZ5g"
      },
      "execution_count": null,
      "outputs": []
    },
    {
      "cell_type": "code",
      "source": [
        "!python tools/infer.py  --yaml {dataset.location}/data.yaml  --weights runs/train/exp/weights/best_ckpt.pt   --source {dataset.location}/images/test/018_jpg.rf.b34e30e7eb7d1d9c82617036d325ace7.jpg    --device 0"
      ],
      "metadata": {
        "id": "bJxTRqbSeZ_H"
      },
      "execution_count": null,
      "outputs": []
    },
    {
      "cell_type": "code",
      "source": [
        "!python tools/infer.py  --yaml {dataset.location}/data.yaml  --weights runs/train/exp/weights/best_ckpt.pt   --source {dataset.location}/images/test/0203_jpg.rf.91a2eba01a347275de894a69040dc976.jpg    --device 0"
      ],
      "metadata": {
        "id": "1OXi8DaoeaGA"
      },
      "execution_count": null,
      "outputs": []
    },
    {
      "cell_type": "code",
      "source": [
        "!python tools/infer.py  --yaml {dataset.location}/data.yaml  --weights runs/train/exp/weights/best_ckpt.pt   --source {dataset.location}/images/test/0211_jpg.rf.6d6e33f4a41040b92a9c59003c16fb0e.jpg   --device 0"
      ],
      "metadata": {
        "id": "iNOuVW1_eaLw"
      },
      "execution_count": null,
      "outputs": []
    },
    {
      "cell_type": "code",
      "source": [
        "!python tools/infer.py  --yaml {dataset.location}/data.yaml  --weights runs/train/exp/weights/best_ckpt.pt   --source {dataset.location}/images/test/023_jpg.rf.d346313bf3802493adc92c85fdfa2db6.jpg    --device 0"
      ],
      "metadata": {
        "id": "kgk3tCVrfg2I"
      },
      "execution_count": null,
      "outputs": []
    },
    {
      "cell_type": "code",
      "source": [
        "!python tools/infer.py  --yaml {dataset.location}/data.yaml  --weights runs/train/exp/weights/best_ckpt.pt   --source {dataset.location}/images/test/026_jpg.rf.1b2bb494fcdd003cf140217fc52ac16c.jpg    --device 0"
      ],
      "metadata": {
        "id": "SmiNRZgdfg9w"
      },
      "execution_count": null,
      "outputs": []
    },
    {
      "cell_type": "code",
      "source": [
        "!python tools/infer.py  --yaml {dataset.location}/data.yaml  --weights runs/train/exp/weights/best_ckpt.pt   --source {dataset.location}/images/test/0342_jpg.rf.2894cd910468ff9824fc862063764ec6.jpg    --device 0"
      ],
      "metadata": {
        "id": "TNAL4izsfhDQ"
      },
      "execution_count": null,
      "outputs": []
    },
    {
      "cell_type": "code",
      "source": [
        "!python tools/infer.py  --yaml {dataset.location}/data.yaml  --weights runs/train/exp/weights/best_ckpt.pt   --source {dataset.location}/images/test/0358_jpg.rf.cd3cf89cc1429de7716b105e22a1fc08.jpg    --device 0"
      ],
      "metadata": {
        "id": "-eQJXo0ifhIf"
      },
      "execution_count": null,
      "outputs": []
    },
    {
      "cell_type": "code",
      "source": [
        "!python tools/infer.py  --yaml {dataset.location}/data.yaml  --weights runs/train/exp/weights/best_ckpt.pt   --source {dataset.location}/images/test/0367_jpg.rf.1b3280986cf826a65ca710c31532c5dd.jpg    --device 0"
      ],
      "metadata": {
        "id": "X6yTOd1efhNC"
      },
      "execution_count": null,
      "outputs": []
    },
    {
      "cell_type": "code",
      "source": [
        "!python tools/infer.py  --yaml {dataset.location}/data.yaml  --weights runs/train/exp/weights/best_ckpt.pt   --source {dataset.location}/images/test/0376_jpg.rf.5fa3f80d9baf7a94505193f43909d104.jpg    --device 0"
      ],
      "metadata": {
        "colab": {
          "base_uri": "https://localhost:8080/"
        },
        "id": "ZSdFKUNMfhV3",
        "outputId": "e9ec93d3-ff04-42c9-da77-febc562adb2f"
      },
      "execution_count": null,
      "outputs": [
        {
          "output_type": "stream",
          "name": "stdout",
          "text": [
            "Namespace(agnostic_nms=False, classes=None, conf_thres=0.4, device='0', half=False, hide_conf=False, hide_labels=False, img_size=[640, 640], iou_thres=0.45, max_det=1000, name='exp', not_save_img=False, project='runs/inference', save_dir=None, save_txt=False, source='/content/YOLOv6/Normal-Insulator,-Defect-Insulator,-Defects--1-2/images/test/0376_jpg.rf.5fa3f80d9baf7a94505193f43909d104.jpg', view_img=False, webcam=False, webcam_addr='0', weights='runs/train/exp/weights/best_ckpt.pt', yaml='/content/YOLOv6/Normal-Insulator,-Defect-Insulator,-Defects--1-2/data.yaml')\n",
            "Loading checkpoint from runs/train/exp/weights/best_ckpt.pt\n",
            "\n",
            "Fusing model...\n",
            "Switch model to deploy modality.\n",
            "/usr/local/lib/python3.8/dist-packages/torch/functional.py:504: UserWarning: torch.meshgrid: in an upcoming release, it will be required to pass the indexing argument. (Triggered internally at ../aten/src/ATen/native/TensorShape.cpp:3190.)\n",
            "  return _VF.meshgrid(tensors, **kwargs)  # type: ignore[attr-defined]\n",
            "100% 1/1 [00:00<00:00, 10.22it/s]\n",
            "Results saved to runs/inference/exp\n"
          ]
        }
      ]
    },
    {
      "cell_type": "code",
      "source": [
        "!python tools/infer.py  --yaml {dataset.location}/data.yaml  --weights runs/train/exp/weights/best_ckpt.pt   --source {dataset.location}/images/test/0379_jpg.rf.198695c81159c52ee43b571fd3dbcaef.jpg    --device 0"
      ],
      "metadata": {
        "colab": {
          "base_uri": "https://localhost:8080/"
        },
        "id": "8HLHxLmzfhbX",
        "outputId": "fe904e5f-e420-4594-995f-7f065f092f24"
      },
      "execution_count": null,
      "outputs": [
        {
          "output_type": "stream",
          "name": "stdout",
          "text": [
            "Namespace(agnostic_nms=False, classes=None, conf_thres=0.4, device='0', half=False, hide_conf=False, hide_labels=False, img_size=[640, 640], iou_thres=0.45, max_det=1000, name='exp', not_save_img=False, project='runs/inference', save_dir=None, save_txt=False, source='/content/YOLOv6/Normal-Insulator,-Defect-Insulator,-Defects--1-2/images/test/0379_jpg.rf.198695c81159c52ee43b571fd3dbcaef.jpg', view_img=False, webcam=False, webcam_addr='0', weights='runs/train/exp/weights/best_ckpt.pt', yaml='/content/YOLOv6/Normal-Insulator,-Defect-Insulator,-Defects--1-2/data.yaml')\n",
            "Save directory already existed\n",
            "Loading checkpoint from runs/train/exp/weights/best_ckpt.pt\n",
            "\n",
            "Fusing model...\n",
            "Switch model to deploy modality.\n",
            "/usr/local/lib/python3.8/dist-packages/torch/functional.py:504: UserWarning: torch.meshgrid: in an upcoming release, it will be required to pass the indexing argument. (Triggered internally at ../aten/src/ATen/native/TensorShape.cpp:3190.)\n",
            "  return _VF.meshgrid(tensors, **kwargs)  # type: ignore[attr-defined]\n",
            "100% 1/1 [00:00<00:00, 22.30it/s]\n",
            "Results saved to runs/inference/exp\n"
          ]
        }
      ]
    },
    {
      "cell_type": "code",
      "source": [
        "!python tools/infer.py  --yaml {dataset.location}/data.yaml  --weights runs/train/exp/weights/best_ckpt.pt   --source {dataset.location}/images/test/0469_jpg.rf.323c545aa083b08a6b4d7e546008690d.jpg    --device 0"
      ],
      "metadata": {
        "colab": {
          "base_uri": "https://localhost:8080/"
        },
        "id": "ii7hSBzYfhgB",
        "outputId": "64dc870f-8b14-435d-b30d-13fe00561a73"
      },
      "execution_count": null,
      "outputs": [
        {
          "output_type": "stream",
          "name": "stdout",
          "text": [
            "Namespace(agnostic_nms=False, classes=None, conf_thres=0.4, device='0', half=False, hide_conf=False, hide_labels=False, img_size=[640, 640], iou_thres=0.45, max_det=1000, name='exp', not_save_img=False, project='runs/inference', save_dir=None, save_txt=False, source='/content/YOLOv6/Normal-Insulator,-Defect-Insulator,-Defects--1-2/images/test/0469_jpg.rf.323c545aa083b08a6b4d7e546008690d.jpg', view_img=False, webcam=False, webcam_addr='0', weights='runs/train/exp/weights/best_ckpt.pt', yaml='/content/YOLOv6/Normal-Insulator,-Defect-Insulator,-Defects--1-2/data.yaml')\n",
            "Save directory already existed\n",
            "Loading checkpoint from runs/train/exp/weights/best_ckpt.pt\n",
            "\n",
            "Fusing model...\n",
            "Switch model to deploy modality.\n",
            "/usr/local/lib/python3.8/dist-packages/torch/functional.py:504: UserWarning: torch.meshgrid: in an upcoming release, it will be required to pass the indexing argument. (Triggered internally at ../aten/src/ATen/native/TensorShape.cpp:3190.)\n",
            "  return _VF.meshgrid(tensors, **kwargs)  # type: ignore[attr-defined]\n",
            "100% 1/1 [00:00<00:00, 24.00it/s]\n",
            "Results saved to runs/inference/exp\n"
          ]
        }
      ]
    },
    {
      "cell_type": "code",
      "source": [
        "!python tools/infer.py  --yaml {dataset.location}/data.yaml  --weights runs/train/exp/weights/best_ckpt.pt   --source {dataset.location}/images/test/046_jpg.rf.751bead1340d8cf12b4649d8cad55fd7.jpg    --device 0"
      ],
      "metadata": {
        "colab": {
          "base_uri": "https://localhost:8080/"
        },
        "id": "FWsp_EuTfhko",
        "outputId": "229efab3-e87f-4f88-9539-4821b82f00ad"
      },
      "execution_count": null,
      "outputs": [
        {
          "output_type": "stream",
          "name": "stdout",
          "text": [
            "Namespace(agnostic_nms=False, classes=None, conf_thres=0.4, device='0', half=False, hide_conf=False, hide_labels=False, img_size=[640, 640], iou_thres=0.45, max_det=1000, name='exp', not_save_img=False, project='runs/inference', save_dir=None, save_txt=False, source='/content/YOLOv6/Normal-Insulator,-Defect-Insulator,-Defects--1-2/images/test/046_jpg.rf.751bead1340d8cf12b4649d8cad55fd7.jpg', view_img=False, webcam=False, webcam_addr='0', weights='runs/train/exp/weights/best_ckpt.pt', yaml='/content/YOLOv6/Normal-Insulator,-Defect-Insulator,-Defects--1-2/data.yaml')\n",
            "Save directory already existed\n",
            "Loading checkpoint from runs/train/exp/weights/best_ckpt.pt\n",
            "\n",
            "Fusing model...\n",
            "Switch model to deploy modality.\n",
            "/usr/local/lib/python3.8/dist-packages/torch/functional.py:504: UserWarning: torch.meshgrid: in an upcoming release, it will be required to pass the indexing argument. (Triggered internally at ../aten/src/ATen/native/TensorShape.cpp:3190.)\n",
            "  return _VF.meshgrid(tensors, **kwargs)  # type: ignore[attr-defined]\n",
            "100% 1/1 [00:00<00:00, 19.92it/s]\n",
            "Results saved to runs/inference/exp\n"
          ]
        }
      ]
    },
    {
      "cell_type": "code",
      "source": [
        "!python tools/infer.py  --yaml {dataset.location}/data.yaml  --weights runs/train/exp/weights/best_ckpt.pt   --source {dataset.location}/images/test/0509_jpg.rf.22ef084ab6478d60879bfa2ab3306aff.jpg    --device 0"
      ],
      "metadata": {
        "colab": {
          "base_uri": "https://localhost:8080/"
        },
        "id": "7vbBIj4ZfhpZ",
        "outputId": "27853411-db57-4790-b723-df55100e4a75"
      },
      "execution_count": null,
      "outputs": [
        {
          "output_type": "stream",
          "name": "stdout",
          "text": [
            "Namespace(agnostic_nms=False, classes=None, conf_thres=0.4, device='0', half=False, hide_conf=False, hide_labels=False, img_size=[640, 640], iou_thres=0.45, max_det=1000, name='exp', not_save_img=False, project='runs/inference', save_dir=None, save_txt=False, source='/content/YOLOv6/Normal-Insulator,-Defect-Insulator,-Defects--1-2/images/test/0509_jpg.rf.22ef084ab6478d60879bfa2ab3306aff.jpg', view_img=False, webcam=False, webcam_addr='0', weights='runs/train/exp/weights/best_ckpt.pt', yaml='/content/YOLOv6/Normal-Insulator,-Defect-Insulator,-Defects--1-2/data.yaml')\n",
            "Save directory already existed\n",
            "Loading checkpoint from runs/train/exp/weights/best_ckpt.pt\n",
            "\n",
            "Fusing model...\n",
            "Switch model to deploy modality.\n",
            "/usr/local/lib/python3.8/dist-packages/torch/functional.py:504: UserWarning: torch.meshgrid: in an upcoming release, it will be required to pass the indexing argument. (Triggered internally at ../aten/src/ATen/native/TensorShape.cpp:3190.)\n",
            "  return _VF.meshgrid(tensors, **kwargs)  # type: ignore[attr-defined]\n",
            "100% 1/1 [00:00<00:00, 24.81it/s]\n",
            "Results saved to runs/inference/exp\n"
          ]
        }
      ]
    },
    {
      "cell_type": "code",
      "source": [
        "!python tools/infer.py  --yaml {dataset.location}/data.yaml  --weights runs/train/exp/weights/best_ckpt.pt   --source {dataset.location}/images/test/050_jpg.rf.8c672010514c012c6cf777b65fabc21d.jpg    --device 0"
      ],
      "metadata": {
        "colab": {
          "base_uri": "https://localhost:8080/"
        },
        "id": "fmehhPoOfhuH",
        "outputId": "3c6cd411-84e9-40e2-bdcc-ff7a0a46e45a"
      },
      "execution_count": null,
      "outputs": [
        {
          "output_type": "stream",
          "name": "stdout",
          "text": [
            "Namespace(agnostic_nms=False, classes=None, conf_thres=0.4, device='0', half=False, hide_conf=False, hide_labels=False, img_size=[640, 640], iou_thres=0.45, max_det=1000, name='exp', not_save_img=False, project='runs/inference', save_dir=None, save_txt=False, source='/content/YOLOv6/Normal-Insulator,-Defect-Insulator,-Defects--1-2/images/test/050_jpg.rf.8c672010514c012c6cf777b65fabc21d.jpg', view_img=False, webcam=False, webcam_addr='0', weights='runs/train/exp/weights/best_ckpt.pt', yaml='/content/YOLOv6/Normal-Insulator,-Defect-Insulator,-Defects--1-2/data.yaml')\n",
            "Save directory already existed\n",
            "Loading checkpoint from runs/train/exp/weights/best_ckpt.pt\n",
            "\n",
            "Fusing model...\n",
            "Switch model to deploy modality.\n",
            "/usr/local/lib/python3.8/dist-packages/torch/functional.py:504: UserWarning: torch.meshgrid: in an upcoming release, it will be required to pass the indexing argument. (Triggered internally at ../aten/src/ATen/native/TensorShape.cpp:3190.)\n",
            "  return _VF.meshgrid(tensors, **kwargs)  # type: ignore[attr-defined]\n",
            "100% 1/1 [00:00<00:00, 24.28it/s]\n",
            "Results saved to runs/inference/exp\n"
          ]
        }
      ]
    },
    {
      "cell_type": "code",
      "source": [
        "!python tools/infer.py  --yaml {dataset.location}/data.yaml  --weights runs/train/exp/weights/best_ckpt.pt   --source {dataset.location}/images/test/0545_jpg.rf.c4f9936b9d2f7d26bb9c2b0fc89fcd16.jpg    --device 0"
      ],
      "metadata": {
        "colab": {
          "base_uri": "https://localhost:8080/"
        },
        "id": "yFiFXIEzfh2w",
        "outputId": "0d3033a7-c699-4fc7-c643-28cc5dfc757a"
      },
      "execution_count": null,
      "outputs": [
        {
          "output_type": "stream",
          "name": "stdout",
          "text": [
            "Namespace(agnostic_nms=False, classes=None, conf_thres=0.4, device='0', half=False, hide_conf=False, hide_labels=False, img_size=[640, 640], iou_thres=0.45, max_det=1000, name='exp', not_save_img=False, project='runs/inference', save_dir=None, save_txt=False, source='/content/YOLOv6/Normal-Insulator,-Defect-Insulator,-Defects--1-2/images/test/0545_jpg.rf.c4f9936b9d2f7d26bb9c2b0fc89fcd16.jpg', view_img=False, webcam=False, webcam_addr='0', weights='runs/train/exp/weights/best_ckpt.pt', yaml='/content/YOLOv6/Normal-Insulator,-Defect-Insulator,-Defects--1-2/data.yaml')\n",
            "Save directory already existed\n",
            "Loading checkpoint from runs/train/exp/weights/best_ckpt.pt\n",
            "\n",
            "Fusing model...\n",
            "Switch model to deploy modality.\n",
            "/usr/local/lib/python3.8/dist-packages/torch/functional.py:504: UserWarning: torch.meshgrid: in an upcoming release, it will be required to pass the indexing argument. (Triggered internally at ../aten/src/ATen/native/TensorShape.cpp:3190.)\n",
            "  return _VF.meshgrid(tensors, **kwargs)  # type: ignore[attr-defined]\n",
            "100% 1/1 [00:00<00:00, 23.68it/s]\n",
            "Results saved to runs/inference/exp\n"
          ]
        }
      ]
    },
    {
      "cell_type": "code",
      "source": [
        "!python tools/infer.py  --yaml {dataset.location}/data.yaml  --weights runs/train/exp/weights/best_ckpt.pt   --source {dataset.location}/images/test/054_jpg.rf.bd23aac0583039d89aca429ce2faa858.jpg    --device 0"
      ],
      "metadata": {
        "colab": {
          "base_uri": "https://localhost:8080/"
        },
        "id": "g8TToeYdfiAw",
        "outputId": "484ae81f-575f-4a09-ee5c-4d152ca46ea8"
      },
      "execution_count": null,
      "outputs": [
        {
          "output_type": "stream",
          "name": "stdout",
          "text": [
            "Namespace(agnostic_nms=False, classes=None, conf_thres=0.4, device='0', half=False, hide_conf=False, hide_labels=False, img_size=[640, 640], iou_thres=0.45, max_det=1000, name='exp', not_save_img=False, project='runs/inference', save_dir=None, save_txt=False, source='/content/YOLOv6/Normal-Insulator,-Defect-Insulator,-Defects--1-2/images/test/054_jpg.rf.bd23aac0583039d89aca429ce2faa858.jpg', view_img=False, webcam=False, webcam_addr='0', weights='runs/train/exp/weights/best_ckpt.pt', yaml='/content/YOLOv6/Normal-Insulator,-Defect-Insulator,-Defects--1-2/data.yaml')\n",
            "Save directory already existed\n",
            "Loading checkpoint from runs/train/exp/weights/best_ckpt.pt\n",
            "\n",
            "Fusing model...\n",
            "Switch model to deploy modality.\n",
            "/usr/local/lib/python3.8/dist-packages/torch/functional.py:504: UserWarning: torch.meshgrid: in an upcoming release, it will be required to pass the indexing argument. (Triggered internally at ../aten/src/ATen/native/TensorShape.cpp:3190.)\n",
            "  return _VF.meshgrid(tensors, **kwargs)  # type: ignore[attr-defined]\n",
            "100% 1/1 [00:00<00:00, 18.85it/s]\n",
            "Results saved to runs/inference/exp\n"
          ]
        }
      ]
    },
    {
      "cell_type": "code",
      "execution_count": null,
      "metadata": {
        "colab": {
          "base_uri": "https://localhost:8080/"
        },
        "id": "MsmLH55uQCjn",
        "outputId": "b34f47b8-372b-4bad-b25e-d918acb00ef5"
      },
      "outputs": [
        {
          "output_type": "stream",
          "name": "stdout",
          "text": [
            "./runs/inference/exp/0135_jpg.rf.bb6d5f68a6bfcefb56263f7089cc50a4.jpg\n"
          ]
        },
        {
          "output_type": "execute_result",
          "data": {
            "text/plain": [
              "1"
            ]
          },
          "metadata": {},
          "execution_count": 36
        }
      ],
      "source": [
        "import cv2\n",
        "import os\n",
        "import random\n",
        "label_folder = r'/content/YOLOv6/Normal-Insulator,-Defect-Insulator,-Defects--1-2/labels'\n",
        "raw_images_folder = r'/content/YOLOv6/Normal-Insulator,-Defect-Insulator,-Defects--1-2/images'\n",
        "save_images_folder = r'/content/YOLOv6/save_images_valid'\n",
        "name_list_path = r'/content/YOLOv6/Normal-Insulator,-Defect-Insulator,-Defects--1-2/labels/valid'\n",
        "classes_path = r'/content/YOLOv6/Normal-Insulator,-Defect-Insulator,-Defects--1-2'\n",
        "image_name=r'./runs/inference/exp/0135_jpg.rf.bb6d5f68a6bfcefb56263f7089cc50a4.jpg'\n",
        "label=name_of_class='defective insulator'\n",
        "\n",
        "def plot_one_box(x, image, color=None, label=name_of_class,line_thickness=None):\n",
        "\n",
        "    tl = line_thickness or round(0.002 * (image.shape[0] + image.shape[1]) / 2) + 1  # line/font thickness\n",
        "    color = color or [random.randint(0, 255) for _ in range(3)]\n",
        "    c1, c2 = (int(x[0]), int(x[1])), (int(x[2]), int(x[3]))\n",
        "    cv2.rectangle(image, c1, c2, color, thickness=tl, lineType=cv2.LINE_AA)\n",
        "    if label:\n",
        "        tf = max(tl - 1, 1)  # font thickness\n",
        "        t_size = cv2.getTextSize(str(label), 0, fontScale=tl / 3,thickness=tf)[0]\n",
        "        c2 = c1[0] + t_size[0], c1[1] - t_size[1] - 3\n",
        "        cv2.rectangle(image, c1, c2, color, -1, cv2.LINE_AA)  # filled\n",
        "        cv2.putText(image, str(label), (c1[0], c1[1] - 2), 0, tl / 3, [225, 255, 255], thickness=tf, lineType=cv2.LINE_AA)\n",
        "def draw_box_on_image(image_name, classes_path, label_folder, raw_images_folder, save_images_folder ):\n",
        "    txt_path  = r\"/content/YOLOv6/YOLOv6/Normal-Insulator,-Defect-Insulator,-Defects--1-2/labels/test/0135_jpg.rf.bb6d5f68a6bfcefb56263f7089cc50a4.txt\"\n",
        "    print(image_name)\n",
        "    if image_name == '.DS_Store':\n",
        "        return 0\n",
        "    image_path = r\"./runs/inference/exp/0135_jpg.rf.bb6d5f68a6bfcefb56263f7089cc50a4.jpg\"\n",
        "    save_file_path = r\"/content/YOLOv6/YOLOv6/save_images_test/0135\"\n",
        "    source_file = open(txt_path) if os.path.exists(txt_path) else []\n",
        "    image = cv2.imread(image_path)\n",
        "    try:\n",
        "        height, width, channels = image.shape\n",
        "    except:\n",
        "        print('no shape info.')\n",
        "        return 0\n",
        "    box_number = 0\n",
        "    for line in source_file:\n",
        "        staff = line.split()\n",
        "        class_idx = int(staff[0])\n",
        "        x_center, y_center, w, h = float(staff[1])*width, float(staff[2])*height, float(staff[3])*width, float(staff[4])*height\n",
        "        x1 = round(x_center-w/2)\n",
        "        y1 = round(y_center-h/2)\n",
        "        x2 = round(x_center+w/2)\n",
        "        y2 = round(y_center+h/2)\n",
        "        plot_one_box([x1,y1,x2,y2], image,  label=name_of_class, line_thickness=None)\n",
        "        cv2.imwrite(r\"/content/YOLOv6/YOLOv6/save_images_test/0135.jpg\",image)\n",
        "        box_number += 1\n",
        "        return box_number\n",
        "draw_box_on_image(image_name, classes_path,  label_folder, raw_images_folder, save_images_folder )\n",
        "\n",
        "\n",
        "\n"
      ]
    },
    {
      "cell_type": "code",
      "execution_count": null,
      "metadata": {
        "colab": {
          "base_uri": "https://localhost:8080/"
        },
        "id": "hiiT6v7OqCuL",
        "outputId": "bf25db42-1920-4330-f3c1-a7f409baf9f1"
      },
      "outputs": [
        {
          "output_type": "stream",
          "name": "stdout",
          "text": [
            "./runs/inference/exp/0150_jpg.rf.c9bff09776791433246535e2a045127b.jpg\n"
          ]
        },
        {
          "output_type": "execute_result",
          "data": {
            "text/plain": [
              "1"
            ]
          },
          "metadata": {},
          "execution_count": 37
        }
      ],
      "source": [
        "\n",
        "import cv2\n",
        "import os\n",
        "import random\n",
        "\n",
        "\n",
        "\n",
        "label_folder = r'/content/YOLOv6/Normal-Insulator,-Defect-Insulator,-Defects--1-2/labels'\n",
        "\n",
        "raw_images_folder = r'/content/YOLOv6/Normal-Insulator,-Defect-Insulator,-Defects--1-2/images'\n",
        "\n",
        "save_images_folder = r'/content/YOLOv6/save_images_valid'\n",
        "\n",
        "name_list_path = r'/content/YOLOv6/Normal-Insulator,-Defect-Insulator,-Defects--1-2/labels/valid'\n",
        "\n",
        "classes_path = r'/content/YOLOv6/Normal-Insulator,-Defect-Insulator,-Defects--1-2'\n",
        "image_name=r'./runs/inference/exp/0150_jpg.rf.c9bff09776791433246535e2a045127b.jpg'\n",
        "\n",
        "label=name_of_class='normalinsulator'\n",
        "\n",
        "def plot_one_box(x, image, color=None, label=name_of_class, line_thickness=None):\n",
        "\n",
        "    tl = line_thickness or round(0.002 * (image.shape[0] + image.shape[1]) / 2) + 1  # line/font thickness\n",
        "    color = color or [random.randint(0, 255) for _ in range(3)]\n",
        "    c1, c2 = (int(x[0]), int(x[1])), (int(x[2]), int(x[3]))\n",
        "    cv2.rectangle(image, c1, c2, color, thickness=tl, lineType=cv2.LINE_AA)\n",
        "    if label:\n",
        "        tf = max(tl - 1, 1)  # font thickness\n",
        "        t_size = cv2.getTextSize(str(label), 0, fontScale=tl / 3, thickness=tf)[0]\n",
        "        c2 = c1[0] + t_size[0], c1[1] - t_size[1] - 3\n",
        "        cv2.rectangle(image, c1, c2, color, -1, cv2.LINE_AA)  # filled\n",
        "        cv2.putText(image, str(label), (c1[0], c1[1] - 2), 0, tl / 3, [225, 255, 255], thickness=tf, lineType=cv2.LINE_AA)\n",
        "\n",
        "\n",
        "def draw_box_on_image(image_name, classes_path, label_folder, raw_images_folder, save_images_folder ):\n",
        "\n",
        "    txt_path  = r\"/content/YOLOv6/YOLOv6/Normal-Insulator,-Defect-Insulator,-Defects--1-2/labels/test/0150_jpg.rf.c9bff09776791433246535e2a045127b.txt\"\n",
        "    print(image_name)\n",
        "    if image_name == '.DS_Store':\n",
        "        return 0\n",
        "\n",
        "    image_path = r\"./runs/inference/exp/0150_jpg.rf.c9bff09776791433246535e2a045127b.jpg\"\n",
        "\n",
        "    save_file_path = r\"/content/YOLOv6/YOLOv6/save_images_test/0150\"\n",
        "\n",
        "    source_file = open(txt_path) if os.path.exists(txt_path) else []\n",
        "    image = cv2.imread(image_path)\n",
        "    try:\n",
        "        height, width, channels = image.shape\n",
        "    except:\n",
        "        print('no shape info.')\n",
        "        return 0\n",
        "\n",
        "    box_number = 0\n",
        "    for line in source_file:\n",
        "        staff = line.split()\n",
        "        class_idx = int(staff[0])\n",
        "\n",
        "        x_center, y_center, w, h = float(staff[1])*width, float(staff[2])*height, float(staff[3])*width, float(staff[4])*height\n",
        "        x1 = round(x_center-w/2)\n",
        "        y1 = round(y_center-h/2)\n",
        "        x2 = round(x_center+w/2)\n",
        "        y2 = round(y_center+h/2)\n",
        "\n",
        "\n",
        "\n",
        "        plot_one_box([x1,y1,x2,y2], image,  label=name_of_class, line_thickness=None)\n",
        "        cv2.imwrite(r\"/content/YOLOv6/YOLOv6/save_images_test/0150.jpg\",image)\n",
        "\n",
        "        box_number += 1\n",
        "        return box_number\n",
        "draw_box_on_image(image_name, classes_path,  label_folder, raw_images_folder, save_images_folder )\n",
        "\n",
        "\n",
        "\n"
      ]
    },
    {
      "cell_type": "code",
      "execution_count": null,
      "metadata": {
        "colab": {
          "base_uri": "https://localhost:8080/"
        },
        "id": "rTMyLsgjq9a_",
        "outputId": "71e8f744-b5b4-4c45-d194-16449a922dc3"
      },
      "outputs": [
        {
          "output_type": "stream",
          "name": "stdout",
          "text": [
            "./runs/inference/exp/0164_jpg.rf.c7559613b1ad9893c4861f2bba6f37a6.jpg\n"
          ]
        },
        {
          "output_type": "execute_result",
          "data": {
            "text/plain": [
              "1"
            ]
          },
          "metadata": {},
          "execution_count": 39
        }
      ],
      "source": [
        "\n",
        "import cv2\n",
        "import os\n",
        "import random\n",
        "\n",
        "\n",
        "\n",
        "label_folder = r'/content/YOLOv6/Normal-Insulator,-Defect-Insulator,-Defects--1-2/labels'\n",
        "\n",
        "raw_images_folder = r'/content/YOLOv6/Normal-Insulator,-Defect-Insulator,-Defects--1-2/images'\n",
        "\n",
        "save_images_folder = r'/content/YOLOv6/save_images_valid'\n",
        "\n",
        "name_list_path = r'/content/YOLOv6/Normal-Insulator,-Defect-Insulator,-Defects--1-2/labels/valid'\n",
        "\n",
        "classes_path = r'/content/YOLOv6/Normal-Insulator,-Defect-Insulator,-Defects--1-2'\n",
        "image_name=r'./runs/inference/exp/0164_jpg.rf.c7559613b1ad9893c4861f2bba6f37a6.jpg'\n",
        "label=name_of_class='normalinsulator'\n",
        "def plot_one_box(x, image, color=None, label=name_of_class, line_thickness=None):\n",
        "\n",
        "    tl = line_thickness or round(0.002 * (image.shape[0] + image.shape[1]) / 2) + 1  # line/font thickness\n",
        "    color = color or [random.randint(0, 255) for _ in range(3)]\n",
        "    c1, c2 = (int(x[0]), int(x[1])), (int(x[2]), int(x[3]))\n",
        "    cv2.rectangle(image, c1, c2, color, thickness=tl, lineType=cv2.LINE_AA)\n",
        "    if label:\n",
        "        tf = max(tl - 1, 1)  # font thickness\n",
        "        t_size = cv2.getTextSize(str(label), 0, fontScale=tl / 3, thickness=tf)[0]\n",
        "        c2 = c1[0] + t_size[0], c1[1] - t_size[1] - 3\n",
        "        cv2.rectangle(image, c1, c2, color, -1, cv2.LINE_AA)  # filled\n",
        "        cv2.putText(image, str(label), (c1[0], c1[1] - 2), 0, tl / 3, [225, 255, 255], thickness=tf, lineType=cv2.LINE_AA)\n",
        "\n",
        "\n",
        "def draw_box_on_image(image_name, classes_path, label_folder, raw_images_folder, save_images_folder ):\n",
        "\n",
        "    txt_path  = r\"/content/YOLOv6/YOLOv6/Normal-Insulator,-Defect-Insulator,-Defects--1-2/labels/test/0164_jpg.rf.c7559613b1ad9893c4861f2bba6f37a6.txt\"\n",
        "    print(image_name)\n",
        "    if image_name == '.DS_Store':\n",
        "        return 0\n",
        "\n",
        "    image_path = r\"./runs/inference/exp/0164_jpg.rf.c7559613b1ad9893c4861f2bba6f37a6.jpg\"\n",
        "\n",
        "    save_file_path = r\"/content/YOLOv6/YOLOv6/save_images_test/0164\"\n",
        "\n",
        "    source_file = open(txt_path) if os.path.exists(txt_path) else []\n",
        "    image = cv2.imread(image_path)\n",
        "    try:\n",
        "        height, width, channels = image.shape\n",
        "    except:\n",
        "        print('no shape info.')\n",
        "        return 0\n",
        "\n",
        "    box_number = 0\n",
        "    for line in source_file:\n",
        "        staff = line.split()\n",
        "        class_idx = int(staff[0])\n",
        "\n",
        "        x_center, y_center, w, h = float(staff[1])*width, float(staff[2])*height, float(staff[3])*width, float(staff[4])*height\n",
        "        x1 = round(x_center-w/2)\n",
        "        y1 = round(y_center-h/2)\n",
        "        x2 = round(x_center+w/2)\n",
        "        y2 = round(y_center+h/2)\n",
        "\n",
        "\n",
        "        plot_one_box([x1,y1,x2,y2], image,  label=name_of_class, line_thickness=None)\n",
        "        cv2.imwrite(r\"/content/YOLOv6/YOLOv6/save_images_test/0164.jpg\",image)\n",
        "\n",
        "        box_number += 1\n",
        "        return box_number\n",
        "draw_box_on_image(image_name, classes_path,  label_folder, raw_images_folder, save_images_folder )\n",
        "\n",
        "\n",
        "\n"
      ]
    },
    {
      "cell_type": "code",
      "execution_count": null,
      "metadata": {
        "colab": {
          "base_uri": "https://localhost:8080/"
        },
        "id": "xdclfXfKt-3z",
        "outputId": "ab5db4b3-facf-4456-dd21-0b9269eb0a1e"
      },
      "outputs": [
        {
          "output_type": "stream",
          "name": "stdout",
          "text": [
            "./runs/inference/exp/0177_jpg.rf.db0eea13530522b709792b3595b8579f.jpg\n"
          ]
        },
        {
          "output_type": "execute_result",
          "data": {
            "text/plain": [
              "1"
            ]
          },
          "metadata": {},
          "execution_count": 41
        }
      ],
      "source": [
        "\n",
        "import cv2\n",
        "import os\n",
        "import random\n",
        "\n",
        "\n",
        "\n",
        "label_folder = r'/content/YOLOv6/Normal-Insulator,-Defect-Insulator,-Defects--1-2/labels'\n",
        "\n",
        "raw_images_folder = r'/content/YOLOv6/Normal-Insulator,-Defect-Insulator,-Defects--1-2/images'\n",
        "\n",
        "save_images_folder = r'/content/YOLOv6/save_images_valid'\n",
        "\n",
        "name_list_path = r'/content/YOLOv6/Normal-Insulator,-Defect-Insulator,-Defects--1-2/labels/valid'\n",
        "\n",
        "classes_path = r'/content/YOLOv6/Normal-Insulator,-Defect-Insulator,-Defects--1-2'\n",
        "image_name=r'./runs/inference/exp/0177_jpg.rf.db0eea13530522b709792b3595b8579f.jpg'\n",
        "label=name_of_class='normalinsulator'\n",
        "def plot_one_box(x, image, color=None, label=name_of_class, line_thickness=None):\n",
        "\n",
        "    tl = line_thickness or round(0.002 * (image.shape[0] + image.shape[1]) / 2) + 1  # line/font thickness\n",
        "    color = color or [random.randint(0, 255) for _ in range(3)]\n",
        "    c1, c2 = (int(x[0]), int(x[1])), (int(x[2]), int(x[3]))\n",
        "    cv2.rectangle(image, c1, c2, color, thickness=tl, lineType=cv2.LINE_AA)\n",
        "    if label:\n",
        "        tf = max(tl - 1, 1)  # font thickness\n",
        "        t_size = cv2.getTextSize(str(label), 0, fontScale=tl / 3, thickness=tf)[0]\n",
        "        c2 = c1[0] + t_size[0], c1[1] - t_size[1] - 3\n",
        "        cv2.rectangle(image, c1, c2, color, -1, cv2.LINE_AA)  # filled\n",
        "        cv2.putText(image,str(label), (c1[0], c1[1] - 2), 0, tl / 3, [225, 255, 255], thickness=tf, lineType=cv2.LINE_AA)\n",
        "\n",
        "\n",
        "def draw_box_on_image(image_name, classes_path, label_folder, raw_images_folder, save_images_folder ):\n",
        "\n",
        "    txt_path  = r\"/content/YOLOv6/YOLOv6/Normal-Insulator,-Defect-Insulator,-Defects--1-2/labels/test/0177_jpg.rf.db0eea13530522b709792b3595b8579f.txt\"\n",
        "    print(image_name)\n",
        "    if image_name == '.DS_Store':\n",
        "        return 0\n",
        "\n",
        "    image_path = r\"./runs/inference/exp/0177_jpg.rf.db0eea13530522b709792b3595b8579f.jpg\"\n",
        "\n",
        "    save_file_path = r\"/content/YOLOv6/YOLOv6/save_images_test/0177\"\n",
        "\n",
        "    source_file = open(txt_path) if os.path.exists(txt_path) else []\n",
        "    image = cv2.imread(image_path)\n",
        "    try:\n",
        "        height, width, channels = image.shape\n",
        "    except:\n",
        "        print('no shape info.')\n",
        "        return 0\n",
        "\n",
        "    box_number = 0\n",
        "    for line in source_file:\n",
        "        staff = line.split()\n",
        "        class_idx = int(staff[0])\n",
        "\n",
        "        x_center, y_center, w, h = float(staff[1])*width, float(staff[2])*height, float(staff[3])*width, float(staff[4])*height\n",
        "        x1 = round(x_center-w/2)\n",
        "        y1 = round(y_center-h/2)\n",
        "        x2 = round(x_center+w/2)\n",
        "        y2 = round(y_center+h/2)\n",
        "\n",
        "\n",
        "\n",
        "        plot_one_box([x1,y1,x2,y2], image,  label=name_of_class, line_thickness=None)\n",
        "        cv2.imwrite(r\"/content/YOLOv6/YOLOv6/save_images_test/0177.jpg\",image)\n",
        "\n",
        "        box_number += 1\n",
        "        return box_number\n",
        "draw_box_on_image(image_name, classes_path,  label_folder, raw_images_folder, save_images_folder )\n",
        "\n",
        "\n",
        "\n"
      ]
    },
    {
      "cell_type": "code",
      "execution_count": null,
      "metadata": {
        "colab": {
          "base_uri": "https://localhost:8080/"
        },
        "id": "Xh0fsLAqv38j",
        "outputId": "ae79e863-bf60-4244-eae5-42cf85671de4"
      },
      "outputs": [
        {
          "output_type": "stream",
          "name": "stdout",
          "text": [
            "./runs/inference/exp/0187_jpg.rf.a4bc9b5d292a7a76c6518dbdfd08f3ff.jpg\n"
          ]
        },
        {
          "output_type": "execute_result",
          "data": {
            "text/plain": [
              "1"
            ]
          },
          "metadata": {},
          "execution_count": 42
        }
      ],
      "source": [
        "\n",
        "import cv2\n",
        "import os\n",
        "import random\n",
        "\n",
        "\n",
        "\n",
        "label_folder = r'/content/YOLOv6/Normal-Insulator,-Defect-Insulator,-Defects--1-2/labels'\n",
        "\n",
        "raw_images_folder = r'/content/YOLOv6/Normal-Insulator,-Defect-Insulator,-Defects--1-2/images'\n",
        "\n",
        "save_images_folder = r'/content/YOLOv6/save_images_valid'\n",
        "\n",
        "name_list_path = r'/content/YOLOv6/Normal-Insulator,-Defect-Insulator,-Defects--1-2/labels/valid'\n",
        "\n",
        "classes_path = r'/content/YOLOv6/Normal-Insulator,-Defect-Insulator,-Defects--1-2'\n",
        "image_name=r'./runs/inference/exp/0187_jpg.rf.a4bc9b5d292a7a76c6518dbdfd08f3ff.jpg'\n",
        "label=name_of_class='normalinsulator '\n",
        "def plot_one_box(x, image, color=None, label=name_of_class, line_thickness=None):\n",
        "\n",
        "    tl = line_thickness or round(0.002 * (image.shape[0] + image.shape[1]) / 2) + 1  # line/font thickness\n",
        "    color = color or [random.randint(0, 255) for _ in range(3)]\n",
        "    c1, c2 = (int(x[0]), int(x[1])), (int(x[2]), int(x[3]))\n",
        "    cv2.rectangle(image, c1, c2, color, thickness=tl, lineType=cv2.LINE_AA)\n",
        "    if label:\n",
        "        tf = max(tl - 1, 1)  # font thickness\n",
        "        t_size = cv2.getTextSize(str(label), 0, fontScale=tl / 3, thickness=tf)[0]\n",
        "        c2 = c1[0] + t_size[0], c1[1] - t_size[1] - 3\n",
        "        cv2.rectangle(image, c1, c2, color, -1, cv2.LINE_AA)  # filled\n",
        "        cv2.putText(image, str(label), (c1[0], c1[1] - 2), 0, tl / 3, [225, 255, 255], thickness=tf, lineType=cv2.LINE_AA)\n",
        "\n",
        "\n",
        "def draw_box_on_image(image_name, classes_path, label_folder, raw_images_folder, save_images_folder ):\n",
        "\n",
        "    txt_path  = r\"/content/YOLOv6/YOLOv6/Normal-Insulator,-Defect-Insulator,-Defects--1-2/labels/test/0187_jpg.rf.a4bc9b5d292a7a76c6518dbdfd08f3ff.txt\"\n",
        "    print(image_name)\n",
        "    if image_name == '.DS_Store':\n",
        "        return 0\n",
        "\n",
        "    image_path = r\"./runs/inference/exp/0187_jpg.rf.a4bc9b5d292a7a76c6518dbdfd08f3ff.jpg\"\n",
        "\n",
        "    save_file_path = r\"/content/YOLOv6/YOLOv6/save_images_test/0187\"\n",
        "\n",
        "    source_file = open(txt_path) if os.path.exists(txt_path) else []\n",
        "    image = cv2.imread(image_path)\n",
        "    try:\n",
        "        height, width, channels = image.shape\n",
        "    except:\n",
        "        print('no shape info.')\n",
        "        return 0\n",
        "\n",
        "    box_number = 0\n",
        "    for line in source_file:\n",
        "        staff = line.split()\n",
        "        class_idx = int(staff[0])\n",
        "\n",
        "        x_center, y_center, w, h = float(staff[1])*width, float(staff[2])*height, float(staff[3])*width, float(staff[4])*height\n",
        "        x1 = round(x_center-w/2)\n",
        "        y1 = round(y_center-h/2)\n",
        "        x2 = round(x_center+w/2)\n",
        "        y2 = round(y_center+h/2)\n",
        "\n",
        "\n",
        "        plot_one_box([x1,y1,x2,y2], image,  label=name_of_class, line_thickness=None)\n",
        "        cv2.imwrite(r\"/content/YOLOv6/YOLOv6/save_images_test/0187.jpg\",image)\n",
        "\n",
        "        box_number += 1\n",
        "        return box_number\n",
        "draw_box_on_image(image_name, classes_path,  label_folder, raw_images_folder, save_images_folder )\n",
        "\n",
        "\n",
        "\n"
      ]
    },
    {
      "cell_type": "code",
      "execution_count": null,
      "metadata": {
        "colab": {
          "base_uri": "https://localhost:8080/"
        },
        "id": "ah8y-E1wweMw",
        "outputId": "18df124b-58ad-4f76-d679-67d6d86043d3"
      },
      "outputs": [
        {
          "output_type": "stream",
          "name": "stdout",
          "text": [
            "./runs/inference/exp/018_jpg.rf.b34e30e7eb7d1d9c82617036d325ace7.jpg\n"
          ]
        },
        {
          "output_type": "execute_result",
          "data": {
            "text/plain": [
              "1"
            ]
          },
          "metadata": {},
          "execution_count": 44
        }
      ],
      "source": [
        "\n",
        "import cv2\n",
        "import os\n",
        "import random\n",
        "\n",
        "\n",
        "\n",
        "label_folder = r'/content/YOLOv6/Normal-Insulator,-Defect-Insulator,-Defects--1-2/labels'\n",
        "\n",
        "raw_images_folder = r'/content/YOLOv6/Normal-Insulator,-Defect-Insulator,-Defects--1-2/images'\n",
        "\n",
        "save_images_folder = r'/content/YOLOv6/save_images_valid'\n",
        "\n",
        "name_list_path = r'/content/YOLOv6/Normal-Insulator,-Defect-Insulator,-Defects--1-2/labels/valid'\n",
        "\n",
        "classes_path = r'/content/YOLOv6/Normal-Insulator,-Defect-Insulator,-Defects--1-2'\n",
        "image_name=r'./runs/inference/exp/018_jpg.rf.b34e30e7eb7d1d9c82617036d325ace7.jpg'\n",
        "label=name_of_class='defect'\n",
        "def plot_one_box(x, image, color=None, label=name_of_class, line_thickness=None):\n",
        "\n",
        "    tl = line_thickness or round(0.002 * (image.shape[0] + image.shape[1]) / 2) + 1  # line/font thickness\n",
        "    color = color or [random.randint(0, 255) for _ in range(3)]\n",
        "    c1, c2 = (int(x[0]), int(x[1])), (int(x[2]), int(x[3]))\n",
        "    cv2.rectangle(image, c1, c2, color, thickness=tl, lineType=cv2.LINE_AA)\n",
        "    if label:\n",
        "        tf = max(tl - 1, 1)  # font thickness\n",
        "        t_size = cv2.getTextSize(str(label), 0, fontScale=tl / 3, thickness=tf)[0]\n",
        "        c2 = c1[0] + t_size[0], c1[1] - t_size[1] - 3\n",
        "        cv2.rectangle(image, c1, c2, color, -1, cv2.LINE_AA)  # filled\n",
        "        cv2.putText(image,str(label), (c1[0], c1[1] - 2), 0, tl / 3, [225, 255, 255], thickness=tf, lineType=cv2.LINE_AA)\n",
        "\n",
        "\n",
        "def draw_box_on_image(image_name, classes_path, label_folder, raw_images_folder, save_images_folder ):\n",
        "\n",
        "    txt_path  = r\"/content/YOLOv6/YOLOv6/Normal-Insulator,-Defect-Insulator,-Defects--1-2/labels/test/018_jpg.rf.b34e30e7eb7d1d9c82617036d325ace7.txt\"\n",
        "    print(image_name)\n",
        "    if image_name == '.DS_Store':\n",
        "        return 0\n",
        "\n",
        "    image_path = r\"./runs/inference/exp/018_jpg.rf.b34e30e7eb7d1d9c82617036d325ace7.jpg\"\n",
        "\n",
        "    save_file_path = r\"/content/YOLOv6/YOLOv6/save_images_test/018\"\n",
        "\n",
        "    source_file = open(txt_path) if os.path.exists(txt_path) else []\n",
        "    image = cv2.imread(image_path)\n",
        "    try:\n",
        "        height, width, channels = image.shape\n",
        "    except:\n",
        "        print('no shape info.')\n",
        "        return 0\n",
        "\n",
        "    box_number = 0\n",
        "    for line in source_file:\n",
        "        staff = line.split()\n",
        "        class_idx = int(staff[0])\n",
        "\n",
        "        x_center, y_center, w, h = float(staff[1])*width, float(staff[2])*height, float(staff[3])*width, float(staff[4])*height\n",
        "        x1 = round(x_center-w/2)\n",
        "        y1 = round(y_center-h/2)\n",
        "        x2 = round(x_center+w/2)\n",
        "        y2 = round(y_center+h/2)\n",
        "\n",
        "\n",
        "\n",
        "        plot_one_box([x1,y1,x2,y2], image,  label=name_of_class, line_thickness=None)\n",
        "        cv2.imwrite(r\"/content/YOLOv6/YOLOv6/save_images_test/018.jpg\",image)\n",
        "\n",
        "        box_number += 1\n",
        "        return box_number\n",
        "draw_box_on_image(image_name, classes_path,  label_folder, raw_images_folder, save_images_folder )\n",
        "\n",
        "\n",
        "\n"
      ]
    },
    {
      "cell_type": "code",
      "execution_count": null,
      "metadata": {
        "colab": {
          "base_uri": "https://localhost:8080/"
        },
        "id": "uyCCy9RaxH-2",
        "outputId": "81f03940-f2cc-48cf-b0fb-d79fca85e265"
      },
      "outputs": [
        {
          "output_type": "stream",
          "name": "stdout",
          "text": [
            "./runs/inference/exp/0203_jpg.rf.91a2eba01a347275de894a69040dc976.jpg\n"
          ]
        },
        {
          "output_type": "execute_result",
          "data": {
            "text/plain": [
              "1"
            ]
          },
          "metadata": {},
          "execution_count": 46
        }
      ],
      "source": [
        "\n",
        "import cv2\n",
        "import os\n",
        "import random\n",
        "\n",
        "\n",
        "\n",
        "label_folder = r'/content/YOLOv6/Normal-Insulator,-Defect-Insulator,-Defects--1-2/labels'\n",
        "\n",
        "raw_images_folder = r'/content/YOLOv6/Normal-Insulator,-Defect-Insulator,-Defects--1-2/images'\n",
        "\n",
        "save_images_folder = r'/content/YOLOv6/save_images_valid'\n",
        "\n",
        "name_list_path = r'/content/YOLOv6/Normal-Insulator,-Defect-Insulator,-Defects--1-2/labels/valid'\n",
        "\n",
        "classes_path = r'/content/YOLOv6/Normal-Insulator,-Defect-Insulator,-Defects--1-2'\n",
        "image_name=r'./runs/inference/exp/0203_jpg.rf.91a2eba01a347275de894a69040dc976.jpg'\n",
        "label=name_of_class='normalinsulator'\n",
        "def plot_one_box(x, image, color=None, label=name_of_class, line_thickness=None):\n",
        "\n",
        "    tl = line_thickness or round(0.002 * (image.shape[0] + image.shape[1]) / 2) + 1  # line/font thickness\n",
        "    color = color or [random.randint(0, 255) for _ in range(3)]\n",
        "    c1, c2 = (int(x[0]), int(x[1])), (int(x[2]), int(x[3]))\n",
        "    cv2.rectangle(image, c1, c2, color, thickness=tl, lineType=cv2.LINE_AA)\n",
        "    if label:\n",
        "        tf = max(tl - 1, 1)  # font thickness\n",
        "        t_size = cv2.getTextSize(str(label), 0, fontScale=tl / 3, thickness=tf)[0]\n",
        "        c2 = c1[0] + t_size[0], c1[1] - t_size[1] - 3\n",
        "        cv2.rectangle(image, c1, c2, color, -1, cv2.LINE_AA)  # filled\n",
        "        cv2.putText(image, str(label), (c1[0], c1[1] - 2), 0, tl / 3, [225, 255, 255], thickness=tf, lineType=cv2.LINE_AA)\n",
        "\n",
        "\n",
        "def draw_box_on_image(image_name, classes_path, label_folder, raw_images_folder, save_images_folder ):\n",
        "\n",
        "    txt_path  = r\"/content/YOLOv6/YOLOv6/Normal-Insulator,-Defect-Insulator,-Defects--1-2/labels/test/0203_jpg.rf.91a2eba01a347275de894a69040dc976.txt\"\n",
        "    print(image_name)\n",
        "    if image_name == '.DS_Store':\n",
        "        return 0\n",
        "\n",
        "    image_path = r\"./runs/inference/exp/0203_jpg.rf.91a2eba01a347275de894a69040dc976.jpg\"\n",
        "\n",
        "    save_file_path = r\"/content/YOLOv6/YOLOv6/save_images_test/0203\"\n",
        "\n",
        "    source_file = open(txt_path) if os.path.exists(txt_path) else []\n",
        "    image = cv2.imread(image_path)\n",
        "    try:\n",
        "        height, width, channels = image.shape\n",
        "    except:\n",
        "        print('no shape info.')\n",
        "        return 0\n",
        "\n",
        "    box_number = 0\n",
        "    for line in source_file:\n",
        "        staff = line.split()\n",
        "        class_idx = int(staff[0])\n",
        "\n",
        "        x_center, y_center, w, h = float(staff[1])*width, float(staff[2])*height, float(staff[3])*width, float(staff[4])*height\n",
        "        x1 = round(x_center-w/2)\n",
        "        y1 = round(y_center-h/2)\n",
        "        x2 = round(x_center+w/2)\n",
        "        y2 = round(y_center+h/2)\n",
        "\n",
        "\n",
        "\n",
        "        plot_one_box([x1,y1,x2,y2], image,  label=name_of_class, line_thickness=None)\n",
        "        cv2.imwrite(r\"/content/YOLOv6/YOLOv6/save_images_test/0203.jpg\",image)\n",
        "\n",
        "        box_number += 1\n",
        "        return box_number\n",
        "draw_box_on_image(image_name, classes_path,  label_folder, raw_images_folder, save_images_folder )\n",
        "\n",
        "\n",
        "\n"
      ]
    },
    {
      "cell_type": "code",
      "execution_count": null,
      "metadata": {
        "colab": {
          "base_uri": "https://localhost:8080/"
        },
        "id": "i3OjTUBMxy1R",
        "outputId": "873a99cd-ec94-401a-d5f7-8ef119ff08c8"
      },
      "outputs": [
        {
          "output_type": "stream",
          "name": "stdout",
          "text": [
            "./runs/inference/exp/0211_jpg.rf.6d6e33f4a41040b92a9c59003c16fb0e.jpg\n"
          ]
        },
        {
          "output_type": "execute_result",
          "data": {
            "text/plain": [
              "1"
            ]
          },
          "metadata": {},
          "execution_count": 48
        }
      ],
      "source": [
        "\n",
        "import cv2\n",
        "import os\n",
        "import random\n",
        "\n",
        "\n",
        "\n",
        "label_folder = r'/content/YOLOv6/Normal-Insulator,-Defect-Insulator,-Defects--1-2/labels'\n",
        "\n",
        "raw_images_folder = r'/content/YOLOv6/Normal-Insulator,-Defect-Insulator,-Defects--1-2/images'\n",
        "\n",
        "save_images_folder = r'/content/YOLOv6/save_images_valid'\n",
        "\n",
        "name_list_path = r'/content/YOLOv6/Normal-Insulator,-Defect-Insulator,-Defects--1-2/labels/valid'\n",
        "\n",
        "classes_path = r'/content/YOLOv6/Normal-Insulator,-Defect-Insulator,-Defects--1-2'\n",
        "image_name=r'./runs/inference/exp/0211_jpg.rf.6d6e33f4a41040b92a9c59003c16fb0e.jpg'\n",
        "label=name_of_class='normalinsulator '\n",
        "def plot_one_box(x, image, color=None, label=name_of_class, line_thickness=None):\n",
        "\n",
        "    tl = line_thickness or round(0.002 * (image.shape[0] + image.shape[1]) / 2) + 1  # line/font thickness\n",
        "    color = color or [random.randint(0, 255) for _ in range(3)]\n",
        "    c1, c2 = (int(x[0]), int(x[1])), (int(x[2]), int(x[3]))\n",
        "    cv2.rectangle(image, c1, c2, color, thickness=tl, lineType=cv2.LINE_AA)\n",
        "    if label:\n",
        "        tf = max(tl - 1, 1)  # font thickness\n",
        "        t_size = cv2.getTextSize(str(label), 0, fontScale=tl / 3, thickness=tf)[0]\n",
        "        c2 = c1[0] + t_size[0], c1[1] - t_size[1] - 3\n",
        "        cv2.rectangle(image, c1, c2, color, -1, cv2.LINE_AA)  # filled\n",
        "        cv2.putText(image, str(label), (c1[0], c1[1] - 2), 0, tl / 3, [225, 255, 255], thickness=tf, lineType=cv2.LINE_AA)\n",
        "\n",
        "\n",
        "def draw_box_on_image(image_name, classes_path, label_folder, raw_images_folder, save_images_folder ):\n",
        "\n",
        "    txt_path  = r\"/content/YOLOv6/YOLOv6/Normal-Insulator,-Defect-Insulator,-Defects--1-2/labels/test/0211_jpg.rf.6d6e33f4a41040b92a9c59003c16fb0e.txt\"\n",
        "    print(image_name)\n",
        "    if image_name == '.DS_Store':\n",
        "        return 0\n",
        "\n",
        "    image_path = r\"./runs/inference/exp/0211_jpg.rf.6d6e33f4a41040b92a9c59003c16fb0e.jpg\"\n",
        "\n",
        "    save_file_path = r\"/content/YOLOv6/YOLOv6/save_images_test/0211\"\n",
        "\n",
        "    source_file = open(txt_path) if os.path.exists(txt_path) else []\n",
        "    image = cv2.imread(image_path)\n",
        "    try:\n",
        "        height, width, channels = image.shape\n",
        "    except:\n",
        "        print('no shape info.')\n",
        "        return 0\n",
        "\n",
        "    box_number = 0\n",
        "    for line in source_file:\n",
        "        staff = line.split()\n",
        "        class_idx = int(staff[0])\n",
        "\n",
        "        x_center, y_center, w, h = float(staff[1])*width, float(staff[2])*height, float(staff[3])*width, float(staff[4])*height\n",
        "        x1 = round(x_center-w/2)\n",
        "        y1 = round(y_center-h/2)\n",
        "        x2 = round(x_center+w/2)\n",
        "        y2 = round(y_center+h/2)\n",
        "\n",
        "\n",
        "        plot_one_box([x1,y1,x2,y2], image,  label=name_of_class, line_thickness=None)\n",
        "        cv2.imwrite(r\"/content/YOLOv6/YOLOv6/save_images_test/0211.jpg\",image)\n",
        "\n",
        "        box_number += 1\n",
        "        return box_number\n",
        "draw_box_on_image(image_name, classes_path,  label_folder, raw_images_folder, save_images_folder )\n",
        "\n",
        "\n",
        "\n"
      ]
    },
    {
      "cell_type": "code",
      "execution_count": null,
      "metadata": {
        "colab": {
          "base_uri": "https://localhost:8080/"
        },
        "id": "ih6e-pMDy4Ke",
        "outputId": "f732f56c-caf8-4275-ece5-d0372a3cfef2"
      },
      "outputs": [
        {
          "output_type": "stream",
          "name": "stdout",
          "text": [
            "./runs/inference/exp/023_jpg.rf.d346313bf3802493adc92c85fdfa2db6.jpg\n"
          ]
        },
        {
          "output_type": "execute_result",
          "data": {
            "text/plain": [
              "1"
            ]
          },
          "metadata": {},
          "execution_count": 49
        }
      ],
      "source": [
        "\n",
        "import cv2\n",
        "import os\n",
        "import random\n",
        "\n",
        "\n",
        "\n",
        "label_folder = r'/content/YOLOv6/Normal-Insulator,-Defect-Insulator,-Defects--1-2/labels'\n",
        "\n",
        "raw_images_folder = r'/content/YOLOv6/Normal-Insulator,-Defect-Insulator,-Defects--1-2/images'\n",
        "\n",
        "save_images_folder = r'/content/YOLOv6/save_images_valid'\n",
        "\n",
        "name_list_path = r'/content/YOLOv6/Normal-Insulator,-Defect-Insulator,-Defects--1-2/labels/valid'\n",
        "\n",
        "classes_path = r'/content/YOLOv6/Normal-Insulator,-Defect-Insulator,-Defects--1-2'\n",
        "image_name=r'./runs/inference/exp/023_jpg.rf.d346313bf3802493adc92c85fdfa2db6.jpg'\n",
        "label= name_of_class='defective insulator'\n",
        "def plot_one_box(x, image, color=None, label=name_of_class, line_thickness=None):\n",
        "\n",
        "    tl = line_thickness or round(0.002 * (image.shape[0] + image.shape[1]) / 2) + 1  # line/font thickness\n",
        "    color = color or [random.randint(0, 255) for _ in range(3)]\n",
        "    c1, c2 = (int(x[0]), int(x[1])), (int(x[2]), int(x[3]))\n",
        "    cv2.rectangle(image, c1, c2, color, thickness=tl, lineType=cv2.LINE_AA)\n",
        "    if label:\n",
        "        tf = max(tl - 1, 1)  # font thickness\n",
        "        t_size = cv2.getTextSize(str(label), 0, fontScale=tl / 3, thickness=tf)[0]\n",
        "        c2 = c1[0] + t_size[0], c1[1] - t_size[1] - 3\n",
        "        cv2.rectangle(image, c1, c2, color, -1, cv2.LINE_AA)  # filled\n",
        "        cv2.putText(image, str(label), (c1[0], c1[1] - 2), 0, tl / 3, [225, 255, 255], thickness=tf, lineType=cv2.LINE_AA)\n",
        "\n",
        "\n",
        "def draw_box_on_image(image_name, classes_path, label_folder, raw_images_folder, save_images_folder ):\n",
        "\n",
        "    txt_path  = r\"/content/YOLOv6/YOLOv6/Normal-Insulator,-Defect-Insulator,-Defects--1-2/labels/test/023_jpg.rf.d346313bf3802493adc92c85fdfa2db6.txt\"\n",
        "    print(image_name)\n",
        "    if image_name == '.DS_Store':\n",
        "        return 0\n",
        "\n",
        "    image_path = r\"./runs/inference/exp/023_jpg.rf.d346313bf3802493adc92c85fdfa2db6.jpg\"\n",
        "\n",
        "    save_file_path = r\"/content/YOLOv6/YOLOv6/save_images_test/023\"\n",
        "\n",
        "    source_file = open(txt_path) if os.path.exists(txt_path) else []\n",
        "    image = cv2.imread(image_path)\n",
        "    try:\n",
        "        height, width, channels = image.shape\n",
        "    except:\n",
        "        print('no shape info.')\n",
        "        return 0\n",
        "\n",
        "    box_number = 0\n",
        "    for line in source_file:\n",
        "        staff = line.split()\n",
        "        class_idx = int(staff[0])\n",
        "\n",
        "        x_center, y_center, w, h = float(staff[1])*width, float(staff[2])*height, float(staff[3])*width, float(staff[4])*height\n",
        "        x1 = round(x_center-w/2)\n",
        "        y1 = round(y_center-h/2)\n",
        "        x2 = round(x_center+w/2)\n",
        "        y2 = round(y_center+h/2)\n",
        "\n",
        "\n",
        "        plot_one_box([x1,y1,x2,y2], image,  label=name_of_class, line_thickness=None)\n",
        "        cv2.imwrite(r\"/content/YOLOv6/YOLOv6/save_images_test/023.jpg\",image)\n",
        "\n",
        "        box_number += 1\n",
        "        return box_number\n",
        "draw_box_on_image(image_name, classes_path,  label_folder, raw_images_folder, save_images_folder )\n",
        "\n",
        "\n",
        "\n"
      ]
    },
    {
      "cell_type": "code",
      "execution_count": null,
      "metadata": {
        "colab": {
          "base_uri": "https://localhost:8080/"
        },
        "id": "_LQXmsD1y6TT",
        "outputId": "f497e6a4-d5fd-4512-e0c1-4e1b75ae8d2a"
      },
      "outputs": [
        {
          "output_type": "stream",
          "name": "stdout",
          "text": [
            "./runs/inference/exp/026_jpg.rf.1b2bb494fcdd003cf140217fc52ac16c.jpg\n"
          ]
        },
        {
          "output_type": "execute_result",
          "data": {
            "text/plain": [
              "1"
            ]
          },
          "metadata": {},
          "execution_count": 51
        }
      ],
      "source": [
        "\n",
        "import cv2\n",
        "import os\n",
        "import random\n",
        "\n",
        "\n",
        "\n",
        "label_folder = r'/content/YOLOv6/Normal-Insulator,-Defect-Insulator,-Defects--1-2/labels'\n",
        "\n",
        "raw_images_folder = r'/content/YOLOv6/Normal-Insulator,-Defect-Insulator,-Defects--1-2/images'\n",
        "\n",
        "save_images_folder = r'/content/YOLOv6/save_images_valid'\n",
        "\n",
        "name_list_path = r'/content/YOLOv6/Normal-Insulator,-Defect-Insulator,-Defects--1-2/labels/valid'\n",
        "\n",
        "classes_path = r'/content/YOLOv6/Normal-Insulator,-Defect-Insulator,-Defects--1-2'\n",
        "image_name=r'./runs/inference/exp/026_jpg.rf.1b2bb494fcdd003cf140217fc52ac16c.jpg'\n",
        "label=name_of_class='defect'\n",
        "def plot_one_box(x, image, color=None, label=name_of_class, line_thickness=None):\n",
        "\n",
        "    tl = line_thickness or round(0.002 * (image.shape[0] + image.shape[1]) / 2) + 1  # line/font thickness\n",
        "    color = color or [random.randint(0, 255) for _ in range(3)]\n",
        "    c1, c2 = (int(x[0]), int(x[1])), (int(x[2]), int(x[3]))\n",
        "    cv2.rectangle(image, c1, c2, color, thickness=tl, lineType=cv2.LINE_AA)\n",
        "    if label:\n",
        "        tf = max(tl - 1, 1)  # font thickness\n",
        "        t_size = cv2.getTextSize(str(label), 0, fontScale=tl / 3, thickness=tf)[0]\n",
        "        c2 = c1[0] + t_size[0], c1[1] - t_size[1] - 3\n",
        "        cv2.rectangle(image, c1, c2, color, -1, cv2.LINE_AA)  # filled\n",
        "        cv2.putText(image, str(label), (c1[0], c1[1] - 2), 0, tl / 3, [225, 255, 255], thickness=tf, lineType=cv2.LINE_AA)\n",
        "\n",
        "\n",
        "def draw_box_on_image(image_name, classes_path, label_folder, raw_images_folder, save_images_folder ):\n",
        "\n",
        "    txt_path  = r\"/content/YOLOv6/YOLOv6/Normal-Insulator,-Defect-Insulator,-Defects--1-2/labels/test/026_jpg.rf.1b2bb494fcdd003cf140217fc52ac16c.txt\"\n",
        "    print(image_name)\n",
        "    if image_name == '.DS_Store':\n",
        "        return 0\n",
        "\n",
        "    image_path = r\"./runs/inference/exp/026_jpg.rf.1b2bb494fcdd003cf140217fc52ac16c.jpg\"\n",
        "\n",
        "    save_file_path = r\"/content/YOLOv6/YOLOv6/save_images_test/026\"\n",
        "\n",
        "    source_file = open(txt_path) if os.path.exists(txt_path) else []\n",
        "    image = cv2.imread(image_path)\n",
        "    try:\n",
        "        height, width, channels = image.shape\n",
        "    except:\n",
        "        print('no shape info.')\n",
        "        return 0\n",
        "\n",
        "    box_number = 0\n",
        "    for line in source_file:\n",
        "        staff = line.split()\n",
        "        class_idx = int(staff[0])\n",
        "\n",
        "        x_center, y_center, w, h = float(staff[1])*width, float(staff[2])*height, float(staff[3])*width, float(staff[4])*height\n",
        "        x1 = round(x_center-w/2)\n",
        "        y1 = round(y_center-h/2)\n",
        "        x2 = round(x_center+w/2)\n",
        "        y2 = round(y_center+h/2)\n",
        "\n",
        "\n",
        "        plot_one_box([x1,y1,x2,y2], image,  label=name_of_class, line_thickness=None)\n",
        "        cv2.imwrite(r\"/content/YOLOv6/YOLOv6/save_images_test/026.jpg\",image)\n",
        "\n",
        "        box_number += 1\n",
        "        return box_number\n",
        "draw_box_on_image(image_name, classes_path,  label_folder, raw_images_folder, save_images_folder )\n",
        "\n",
        "\n",
        "\n"
      ]
    },
    {
      "cell_type": "code",
      "execution_count": null,
      "metadata": {
        "colab": {
          "base_uri": "https://localhost:8080/"
        },
        "id": "EgMnEpI1y8gf",
        "outputId": "9d616944-436b-480c-9c49-c60ac6093f17"
      },
      "outputs": [
        {
          "output_type": "stream",
          "name": "stdout",
          "text": [
            "./runs/inference/exp/0342_jpg.rf.2894cd910468ff9824fc862063764ec6.jpg\n"
          ]
        },
        {
          "output_type": "execute_result",
          "data": {
            "text/plain": [
              "1"
            ]
          },
          "metadata": {},
          "execution_count": 52
        }
      ],
      "source": [
        "\n",
        "import cv2\n",
        "import os\n",
        "import random\n",
        "\n",
        "\n",
        "\n",
        "label_folder = r'/content/YOLOv6/Normal-Insulator,-Defect-Insulator,-Defects--1-2/labels'\n",
        "\n",
        "raw_images_folder = r'/content/YOLOv6/Normal-Insulator,-Defect-Insulator,-Defects--1-2/images'\n",
        "\n",
        "save_images_folder = r'/content/YOLOv6/save_images_valid'\n",
        "\n",
        "name_list_path = r'/content/YOLOv6/Normal-Insulator,-Defect-Insulator,-Defects--1-2/labels/valid'\n",
        "\n",
        "classes_path = r'/content/YOLOv6/Normal-Insulator,-Defect-Insulator,-Defects--1-2'\n",
        "image_name=r'./runs/inference/exp/0342_jpg.rf.2894cd910468ff9824fc862063764ec6.jpg'\n",
        "label=name_of_class='normalinsulator'\n",
        "def plot_one_box(x, image, color=None, label=name_of_class, line_thickness=None):\n",
        "\n",
        "    tl = line_thickness or round(0.002 * (image.shape[0] + image.shape[1]) / 2) + 1  # line/font thickness\n",
        "    color = color or [random.randint(0, 255) for _ in range(3)]\n",
        "    c1, c2 = (int(x[0]), int(x[1])), (int(x[2]), int(x[3]))\n",
        "    cv2.rectangle(image, c1, c2, color, thickness=tl, lineType=cv2.LINE_AA)\n",
        "    if label:\n",
        "        tf = max(tl - 1, 1)  # font thickness\n",
        "        t_size = cv2.getTextSize(str(label), 0, fontScale=tl / 3, thickness=tf)[0]\n",
        "        c2 = c1[0] + t_size[0], c1[1] - t_size[1] - 3\n",
        "        cv2.rectangle(image, c1, c2, color, -1, cv2.LINE_AA)  # filled\n",
        "        cv2.putText(image, str(label), (c1[0], c1[1] - 2), 0, tl / 3, [225, 255, 255], thickness=tf, lineType=cv2.LINE_AA)\n",
        "\n",
        "\n",
        "def draw_box_on_image(image_name, classes_path, label_folder, raw_images_folder, save_images_folder ):\n",
        "\n",
        "    txt_path  = r\"/content/YOLOv6/YOLOv6/Normal-Insulator,-Defect-Insulator,-Defects--1-2/labels/test/0342_jpg.rf.2894cd910468ff9824fc862063764ec6.txt\"\n",
        "    print(image_name)\n",
        "    if image_name == '.DS_Store':\n",
        "        return 0\n",
        "\n",
        "    image_path = r\"./runs/inference/exp/0342_jpg.rf.2894cd910468ff9824fc862063764ec6.jpg\"\n",
        "\n",
        "    save_file_path = r\"/content/YOLOv6/YOLOv6/save_images_test/0342\"\n",
        "\n",
        "    source_file = open(txt_path) if os.path.exists(txt_path) else []\n",
        "    image = cv2.imread(image_path)\n",
        "    try:\n",
        "        height, width, channels = image.shape\n",
        "    except:\n",
        "        print('no shape info.')\n",
        "        return 0\n",
        "\n",
        "    box_number = 0\n",
        "    for line in source_file:\n",
        "        staff = line.split()\n",
        "        class_idx = int(staff[0])\n",
        "\n",
        "        x_center, y_center, w, h = float(staff[1])*width, float(staff[2])*height, float(staff[3])*width, float(staff[4])*height\n",
        "        x1 = round(x_center-w/2)\n",
        "        y1 = round(y_center-h/2)\n",
        "        x2 = round(x_center+w/2)\n",
        "        y2 = round(y_center+h/2)\n",
        "\n",
        "\n",
        "        plot_one_box([x1,y1,x2,y2], image,  label=name_of_class, line_thickness=None)\n",
        "        cv2.imwrite(r\"/content/YOLOv6/YOLOv6/save_images_test/0342.jpg\",image)\n",
        "\n",
        "        box_number += 1\n",
        "        return box_number\n",
        "draw_box_on_image(image_name, classes_path,  label_folder, raw_images_folder, save_images_folder )\n",
        "\n",
        "\n",
        "\n"
      ]
    },
    {
      "cell_type": "code",
      "execution_count": null,
      "metadata": {
        "colab": {
          "base_uri": "https://localhost:8080/"
        },
        "id": "tMvLbJ8G1bIv",
        "outputId": "ed2d6585-dee0-43cb-8f9b-a1053786eca4"
      },
      "outputs": [
        {
          "output_type": "stream",
          "name": "stdout",
          "text": [
            "./runs/inference/exp/0358_jpg.rf.cd3cf89cc1429de7716b105e22a1fc08.jpg\n"
          ]
        },
        {
          "output_type": "execute_result",
          "data": {
            "text/plain": [
              "1"
            ]
          },
          "metadata": {},
          "execution_count": 54
        }
      ],
      "source": [
        "\n",
        "import cv2\n",
        "import os\n",
        "import random\n",
        "\n",
        "\n",
        "\n",
        "label_folder = r'/content/YOLOv6/Normal-Insulator,-Defect-Insulator,-Defects--1-2/labels'\n",
        "\n",
        "raw_images_folder = r'/content/YOLOv6/Normal-Insulator,-Defect-Insulator,-Defects--1-2/images'\n",
        "\n",
        "save_images_folder = r'/content/YOLOv6/save_images_valid'\n",
        "\n",
        "name_list_path = r'/content/YOLOv6/Normal-Insulator,-Defect-Insulator,-Defects--1-2/labels/valid'\n",
        "\n",
        "classes_path = r'/content/YOLOv6/Normal-Insulator,-Defect-Insulator,-Defects--1-2'\n",
        "image_name=r'./runs/inference/exp/0358_jpg.rf.cd3cf89cc1429de7716b105e22a1fc08.jpg'\n",
        "label=name_of_class='normalinsulator'\n",
        "def plot_one_box(x, image, color=None, label=name_of_class, line_thickness=None):\n",
        "\n",
        "    tl = line_thickness or round(0.002 * (image.shape[0] + image.shape[1]) / 2) + 1  # line/font thickness\n",
        "    color = color or [random.randint(0, 255) for _ in range(3)]\n",
        "    c1, c2 = (int(x[0]), int(x[1])), (int(x[2]), int(x[3]))\n",
        "    cv2.rectangle(image, c1, c2, color, thickness=tl, lineType=cv2.LINE_AA)\n",
        "    if label:\n",
        "        tf = max(tl - 1, 1)  # font thickness\n",
        "        t_size = cv2.getTextSize(str(label), 0, fontScale=tl / 3, thickness=tf)[0]\n",
        "        c2 = c1[0] + t_size[0], c1[1] - t_size[1] - 3\n",
        "        cv2.rectangle(image, c1, c2, color, -1, cv2.LINE_AA)  # filled\n",
        "        cv2.putText(image, str(label), (c1[0], c1[1] - 2), 0, tl / 3, [225, 255, 255], thickness=tf, lineType=cv2.LINE_AA)\n",
        "\n",
        "\n",
        "def draw_box_on_image(image_name, classes_path, label_folder, raw_images_folder, save_images_folder ):\n",
        "\n",
        "    txt_path  = r\"/content/YOLOv6/YOLOv6/Normal-Insulator,-Defect-Insulator,-Defects--1-2/labels/test/0358_jpg.rf.cd3cf89cc1429de7716b105e22a1fc08.txt\"\n",
        "    print(image_name)\n",
        "    if image_name == '.DS_Store':\n",
        "        return 0\n",
        "\n",
        "    image_path = r\"./runs/inference/exp/0358_jpg.rf.cd3cf89cc1429de7716b105e22a1fc08.jpg\"\n",
        "\n",
        "    save_file_path = r\"/content/YOLOv6/YOLOv6/save_images_test/0358\"\n",
        "\n",
        "    source_file = open(txt_path) if os.path.exists(txt_path) else []\n",
        "    image = cv2.imread(image_path)\n",
        "    try:\n",
        "        height, width, channels = image.shape\n",
        "    except:\n",
        "        print('no shape info.')\n",
        "        return 0\n",
        "\n",
        "    box_number = 0\n",
        "    for line in source_file:\n",
        "        staff = line.split()\n",
        "        class_idx = int(staff[0])\n",
        "\n",
        "        x_center, y_center, w, h = float(staff[1])*width, float(staff[2])*height, float(staff[3])*width, float(staff[4])*height\n",
        "        x1 = round(x_center-w/2)\n",
        "        y1 = round(y_center-h/2)\n",
        "        x2 = round(x_center+w/2)\n",
        "        y2 = round(y_center+h/2)\n",
        "\n",
        "\n",
        "        plot_one_box([x1,y1,x2,y2], image,  label=name_of_class, line_thickness=None)\n",
        "        cv2.imwrite(r\"/content/YOLOv6/YOLOv6/save_images_test/0358.jpg\",image)\n",
        "\n",
        "        box_number += 1\n",
        "        return box_number\n",
        "draw_box_on_image(image_name, classes_path,  label_folder, raw_images_folder, save_images_folder )\n",
        "\n",
        "\n",
        "\n"
      ]
    },
    {
      "cell_type": "code",
      "execution_count": null,
      "metadata": {
        "colab": {
          "base_uri": "https://localhost:8080/"
        },
        "id": "Tumr9yJq1fbm",
        "outputId": "72016ceb-2fd0-443a-ee15-2c5b93d18096"
      },
      "outputs": [
        {
          "output_type": "stream",
          "name": "stdout",
          "text": [
            "./runs/inference/exp/0367_jpg.rf.1b3280986cf826a65ca710c31532c5dd.jpg\n"
          ]
        },
        {
          "output_type": "execute_result",
          "data": {
            "text/plain": [
              "1"
            ]
          },
          "metadata": {},
          "execution_count": 58
        }
      ],
      "source": [
        "\n",
        "import cv2\n",
        "import os\n",
        "import random\n",
        "\n",
        "\n",
        "\n",
        "label_folder = r'/content/YOLOv6/Normal-Insulator,-Defect-Insulator,-Defects--1-2/labels'\n",
        "\n",
        "raw_images_folder = r'/content/YOLOv6/Normal-Insulator,-Defect-Insulator,-Defects--1-2/images'\n",
        "\n",
        "save_images_folder = r'/content/YOLOv6/save_images_valid'\n",
        "\n",
        "name_list_path = r'/content/YOLOv6/Normal-Insulator,-Defect-Insulator,-Defects--1-2/labels/valid'\n",
        "\n",
        "classes_path = r'/content/YOLOv6/Normal-Insulator,-Defect-Insulator,-Defects--1-2'\n",
        "image_name=r'./runs/inference/exp/0367_jpg.rf.1b3280986cf826a65ca710c31532c5dd.jpg'\n",
        "label=name_of_class='normalinsulator'\n",
        "def plot_one_box(x, image, color=None, label=name_of_class, line_thickness=None):\n",
        "\n",
        "    tl = line_thickness or round(0.002 * (image.shape[0] + image.shape[1]) / 2) + 1  # line/font thickness\n",
        "    color = color or [random.randint(0, 255) for _ in range(3)]\n",
        "    c1, c2 = (int(x[0]), int(x[1])), (int(x[2]), int(x[3]))\n",
        "    cv2.rectangle(image, c1, c2, color, thickness=tl, lineType=cv2.LINE_AA)\n",
        "    if label:\n",
        "        tf = max(tl - 1, 1)  # font thickness\n",
        "        t_size = cv2.getTextSize(str(label), 0, fontScale=tl / 3, thickness=tf)[0]\n",
        "        c2 = c1[0] + t_size[0], c1[1] - t_size[1] - 3\n",
        "        cv2.rectangle(image, c1, c2, color, -1, cv2.LINE_AA)  # filled\n",
        "        cv2.putText(image,str(label), (c1[0], c1[1] - 2), 0, tl / 3, [225, 255, 255], thickness=tf, lineType=cv2.LINE_AA)\n",
        "\n",
        "\n",
        "def draw_box_on_image(image_name, classes_path, label_folder, raw_images_folder, save_images_folder ):\n",
        "\n",
        "    txt_path  = r\"/content/YOLOv6/YOLOv6/Normal-Insulator,-Defect-Insulator,-Defects--1-2/labels/test/0367_jpg.rf.1b3280986cf826a65ca710c31532c5dd.txt\"\n",
        "    print(image_name)\n",
        "    if image_name == '.DS_Store':\n",
        "        return 0\n",
        "\n",
        "    image_path = r\"./runs/inference/exp/0367_jpg.rf.1b3280986cf826a65ca710c31532c5dd.jpg\"\n",
        "\n",
        "    save_file_path = r\"/content/YOLOv6/YOLOv6/save_images_test/0367\"\n",
        "\n",
        "    source_file = open(txt_path) if os.path.exists(txt_path) else []\n",
        "    image = cv2.imread(image_path)\n",
        "    try:\n",
        "        height, width, channels = image.shape\n",
        "    except:\n",
        "        print('no shape info.')\n",
        "        return 0\n",
        "\n",
        "    box_number = 0\n",
        "    for line in source_file:\n",
        "        staff = line.split()\n",
        "        class_idx = int(staff[0])\n",
        "\n",
        "        x_center, y_center, w, h = float(staff[1])*width, float(staff[2])*height, float(staff[3])*width, float(staff[4])*height\n",
        "        x1 = round(x_center-w/2)\n",
        "        y1 = round(y_center-h/2)\n",
        "        x2 = round(x_center+w/2)\n",
        "        y2 = round(y_center+h/2)\n",
        "\n",
        "\n",
        "        plot_one_box([x1,y1,x2,y2], image,  label=name_of_class, line_thickness=None)\n",
        "        cv2.imwrite(r\"/content/YOLOv6/YOLOv6/save_images_test/0367.jpg\",image)\n",
        "\n",
        "        box_number += 1\n",
        "        return box_number\n",
        "draw_box_on_image(image_name, classes_path,  label_folder, raw_images_folder, save_images_folder )\n",
        "\n",
        "\n",
        "\n"
      ]
    },
    {
      "cell_type": "code",
      "execution_count": null,
      "metadata": {
        "colab": {
          "base_uri": "https://localhost:8080/"
        },
        "outputId": "6bee8e9f-bd7c-45c6-f188-51d50512ca8b",
        "id": "JJOxfH-ZjMZM"
      },
      "outputs": [
        {
          "output_type": "stream",
          "name": "stdout",
          "text": [
            "./runs/inference/exp/0376_jpg.rf.5fa3f80d9baf7a94505193f43909d104.jpg\n"
          ]
        },
        {
          "output_type": "execute_result",
          "data": {
            "text/plain": [
              "1"
            ]
          },
          "metadata": {},
          "execution_count": 15
        }
      ],
      "source": [
        "\n",
        "import cv2\n",
        "import os\n",
        "import random\n",
        "\n",
        "\n",
        "\n",
        "label_folder = r'/content/YOLOv6/Normal-Insulator,-Defect-Insulator,-Defects--1-2/labels'\n",
        "\n",
        "raw_images_folder = r'/content/YOLOv6/Normal-Insulator,-Defect-Insulator,-Defects--1-2/images'\n",
        "\n",
        "save_images_folder = r'/content/YOLOv6/save_images_valid'\n",
        "\n",
        "name_list_path = r'/content/YOLOv6/Normal-Insulator,-Defect-Insulator,-Defects--1-2/labels/valid'\n",
        "\n",
        "classes_path = r'/content/YOLOv6/Normal-Insulator,-Defect-Insulator,-Defects--1-2'\n",
        "image_name=r'./runs/inference/exp/0376_jpg.rf.5fa3f80d9baf7a94505193f43909d104.jpg'\n",
        "label=name_of_class='normalinsulator'\n",
        "def plot_one_box(x, image, color=None, label=name_of_class, line_thickness=None):\n",
        "\n",
        "    tl = line_thickness or round(0.002 * (image.shape[0] + image.shape[1]) / 2) + 1  # line/font thickness\n",
        "    color = color or [random.randint(0, 255) for _ in range(3)]\n",
        "    c1, c2 = (int(x[0]), int(x[1])), (int(x[2]), int(x[3]))\n",
        "    cv2.rectangle(image, c1, c2, color, thickness=tl, lineType=cv2.LINE_AA)\n",
        "    if label:\n",
        "        tf = max(tl - 1, 1)  # font thickness\n",
        "        t_size = cv2.getTextSize(str(label), 0, fontScale=tl / 3, thickness=tf)[0]\n",
        "        c2 = c1[0] + t_size[0], c1[1] - t_size[1] - 3\n",
        "        cv2.rectangle(image, c1, c2, color, -1, cv2.LINE_AA)  # filled\n",
        "        cv2.putText(image,str(label), (c1[0], c1[1] - 2), 0, tl / 3, [225, 255, 255], thickness=tf, lineType=cv2.LINE_AA)\n",
        "\n",
        "\n",
        "def draw_box_on_image(image_name, classes_path, label_folder, raw_images_folder, save_images_folder ):\n",
        "\n",
        "    txt_path  = r\"/content/YOLOv6/Normal-Insulator,-Defect-Insulator,-Defects--1-2/labels/test/0376_jpg.rf.5fa3f80d9baf7a94505193f43909d104.txt\"\n",
        "    print(image_name)\n",
        "    if image_name == '.DS_Store':\n",
        "        return 0\n",
        "\n",
        "    image_path = r\"./runs/inference/exp/0376_jpg.rf.5fa3f80d9baf7a94505193f43909d104.jpg\"\n",
        "    save_file_path = r\"/content/YOLOv6/save_images_test/0376\"\n",
        "\n",
        "    source_file = open(txt_path) if os.path.exists(txt_path) else []\n",
        "    image = cv2.imread(image_path)\n",
        "    try:\n",
        "        height, width, channels = image.shape\n",
        "    except:\n",
        "        print('no shape info.')\n",
        "        return 0\n",
        "\n",
        "    box_number = 0\n",
        "    for line in source_file:\n",
        "        staff = line.split()\n",
        "        class_idx = int(staff[0])\n",
        "\n",
        "        x_center, y_center, w, h = float(staff[1])*width, float(staff[2])*height, float(staff[3])*width, float(staff[4])*height\n",
        "        x1 = round(x_center-w/2)\n",
        "        y1 = round(y_center-h/2)\n",
        "        x2 = round(x_center+w/2)\n",
        "        y2 = round(y_center+h/2)\n",
        "\n",
        "\n",
        "        plot_one_box([x1,y1,x2,y2], image,  label=name_of_class, line_thickness=None)\n",
        "        cv2.imwrite(r\"/content/YOLOv6/save_images_test/0376.jpg\",image)\n",
        "\n",
        "        box_number += 1\n",
        "        return box_number\n",
        "draw_box_on_image(image_name, classes_path,  label_folder, raw_images_folder, save_images_folder )\n",
        "\n",
        "\n",
        "\n"
      ]
    },
    {
      "cell_type": "code",
      "execution_count": null,
      "metadata": {
        "colab": {
          "base_uri": "https://localhost:8080/"
        },
        "outputId": "5d4727f9-fd53-46af-ec4d-0e29fab1b5a3",
        "id": "S0qw9iBojgXr"
      },
      "outputs": [
        {
          "output_type": "stream",
          "name": "stdout",
          "text": [
            "./runs/inference/exp/0379_jpg.rf.198695c81159c52ee43b571fd3dbcaef.jpg\n"
          ]
        },
        {
          "output_type": "execute_result",
          "data": {
            "text/plain": [
              "1"
            ]
          },
          "metadata": {},
          "execution_count": 16
        }
      ],
      "source": [
        "\n",
        "import cv2\n",
        "import os\n",
        "import random\n",
        "\n",
        "\n",
        "\n",
        "label_folder = r'/content/YOLOv6/Normal-Insulator,-Defect-Insulator,-Defects--1-2/labels'\n",
        "\n",
        "raw_images_folder = r'/content/YOLOv6/Normal-Insulator,-Defect-Insulator,-Defects--1-2/images'\n",
        "\n",
        "save_images_folder = r'/content/YOLOv6/save_images_valid'\n",
        "\n",
        "name_list_path = r'/content/YOLOv6/Normal-Insulator,-Defect-Insulator,-Defects--1-2/labels/valid'\n",
        "\n",
        "classes_path = r'/content/YOLOv6/Normal-Insulator,-Defect-Insulator,-Defects--1-2'\n",
        "image_name=r'./runs/inference/exp/0379_jpg.rf.198695c81159c52ee43b571fd3dbcaef.jpg'\n",
        "label=name_of_class='normalinsulator'\n",
        "def plot_one_box(x, image, color=None, label=name_of_class, line_thickness=None):\n",
        "\n",
        "    tl = line_thickness or round(0.002 * (image.shape[0] + image.shape[1]) / 2) + 1  # line/font thickness\n",
        "    color = color or [random.randint(0, 255) for _ in range(3)]\n",
        "    c1, c2 = (int(x[0]), int(x[1])), (int(x[2]), int(x[3]))\n",
        "    cv2.rectangle(image, c1, c2, color, thickness=tl, lineType=cv2.LINE_AA)\n",
        "    if label:\n",
        "        tf = max(tl - 1, 1)  # font thickness\n",
        "        t_size = cv2.getTextSize(str(label), 0, fontScale=tl / 3, thickness=tf)[0]\n",
        "        c2 = c1[0] + t_size[0], c1[1] - t_size[1] - 3\n",
        "        cv2.rectangle(image, c1, c2, color, -1, cv2.LINE_AA)  # filled\n",
        "        cv2.putText(image,str(label), (c1[0], c1[1] - 2), 0, tl / 3, [225, 255, 255], thickness=tf, lineType=cv2.LINE_AA)\n",
        "\n",
        "\n",
        "def draw_box_on_image(image_name, classes_path, label_folder, raw_images_folder, save_images_folder ):\n",
        "\n",
        "    txt_path  = r\"/content/YOLOv6/Normal-Insulator,-Defect-Insulator,-Defects--1-2/labels/test/0379_jpg.rf.198695c81159c52ee43b571fd3dbcaef.txt\"\n",
        "    print(image_name)\n",
        "    if image_name == '.DS_Store':\n",
        "        return 0\n",
        "\n",
        "    image_path = r\"./runs/inference/exp/0379_jpg.rf.198695c81159c52ee43b571fd3dbcaef.jpg\"\n",
        "    save_file_path = r\"/content/YOLOv6/save_images_test/0379\"\n",
        "\n",
        "    source_file = open(txt_path) if os.path.exists(txt_path) else []\n",
        "    image = cv2.imread(image_path)\n",
        "    try:\n",
        "        height, width, channels = image.shape\n",
        "    except:\n",
        "        print('no shape info.')\n",
        "        return 0\n",
        "\n",
        "    box_number = 0\n",
        "    for line in source_file:\n",
        "        staff = line.split()\n",
        "        class_idx = int(staff[0])\n",
        "\n",
        "        x_center, y_center, w, h = float(staff[1])*width, float(staff[2])*height, float(staff[3])*width, float(staff[4])*height\n",
        "        x1 = round(x_center-w/2)\n",
        "        y1 = round(y_center-h/2)\n",
        "        x2 = round(x_center+w/2)\n",
        "        y2 = round(y_center+h/2)\n",
        "\n",
        "\n",
        "        plot_one_box([x1,y1,x2,y2], image,  label=name_of_class, line_thickness=None)\n",
        "        cv2.imwrite(r\"/content/YOLOv6/save_images_test/0379.jpg\",image)\n",
        "\n",
        "        box_number += 1\n",
        "        return box_number\n",
        "draw_box_on_image(image_name, classes_path,  label_folder, raw_images_folder, save_images_folder )\n",
        "\n",
        "\n",
        "\n"
      ]
    },
    {
      "cell_type": "code",
      "execution_count": null,
      "metadata": {
        "colab": {
          "base_uri": "https://localhost:8080/"
        },
        "outputId": "c7730526-1c9d-4df2-f9a0-ede68ad66493",
        "id": "LYcncWPDjihr"
      },
      "outputs": [
        {
          "output_type": "stream",
          "name": "stdout",
          "text": [
            "./runs/inference/exp/0469_jpg.rf.323c545aa083b08a6b4d7e546008690d.jpg\n"
          ]
        },
        {
          "output_type": "execute_result",
          "data": {
            "text/plain": [
              "1"
            ]
          },
          "metadata": {},
          "execution_count": 17
        }
      ],
      "source": [
        "\n",
        "import cv2\n",
        "import os\n",
        "import random\n",
        "\n",
        "\n",
        "\n",
        "label_folder = r'/content/YOLOv6/Normal-Insulator,-Defect-Insulator,-Defects--1-2/labels'\n",
        "\n",
        "raw_images_folder = r'/content/YOLOv6/Normal-Insulator,-Defect-Insulator,-Defects--1-2/images'\n",
        "\n",
        "save_images_folder = r'/content/YOLOv6/save_images_valid'\n",
        "\n",
        "name_list_path = r'/content/YOLOv6/Normal-Insulator,-Defect-Insulator,-Defects--1-2/labels/valid'\n",
        "\n",
        "classes_path = r'/content/YOLOv6/Normal-Insulator,-Defect-Insulator,-Defects--1-2'\n",
        "image_name=r'./runs/inference/exp/0469_jpg.rf.323c545aa083b08a6b4d7e546008690d.jpg'\n",
        "label=name_of_class='normalinsulator'\n",
        "def plot_one_box(x, image, color=None, label=name_of_class, line_thickness=None):\n",
        "\n",
        "    tl = line_thickness or round(0.002 * (image.shape[0] + image.shape[1]) / 2) + 1  # line/font thickness\n",
        "    color = color or [random.randint(0, 255) for _ in range(3)]\n",
        "    c1, c2 = (int(x[0]), int(x[1])), (int(x[2]), int(x[3]))\n",
        "    cv2.rectangle(image, c1, c2, color, thickness=tl, lineType=cv2.LINE_AA)\n",
        "    if label:\n",
        "        tf = max(tl - 1, 1)  # font thickness\n",
        "        t_size = cv2.getTextSize(str(label), 0, fontScale=tl / 3, thickness=tf)[0]\n",
        "        c2 = c1[0] + t_size[0], c1[1] - t_size[1] - 3\n",
        "        cv2.rectangle(image, c1, c2, color, -1, cv2.LINE_AA)  # filled\n",
        "        cv2.putText(image,str(label), (c1[0], c1[1] - 2), 0, tl / 3, [225, 255, 255], thickness=tf, lineType=cv2.LINE_AA)\n",
        "\n",
        "\n",
        "def draw_box_on_image(image_name, classes_path, label_folder, raw_images_folder, save_images_folder ):\n",
        "\n",
        "    txt_path  = r\"/content/YOLOv6/Normal-Insulator,-Defect-Insulator,-Defects--1-2/labels/test/0469_jpg.rf.323c545aa083b08a6b4d7e546008690d.txt\"\n",
        "    print(image_name)\n",
        "    if image_name == '.DS_Store':\n",
        "        return 0\n",
        "\n",
        "    image_path = r\"./runs/inference/exp/0469_jpg.rf.323c545aa083b08a6b4d7e546008690d.jpg\"\n",
        "    save_file_path = r\"/content/YOLOv6/save_images_test/0469\"\n",
        "\n",
        "    source_file = open(txt_path) if os.path.exists(txt_path) else []\n",
        "    image = cv2.imread(image_path)\n",
        "    try:\n",
        "        height, width, channels = image.shape\n",
        "    except:\n",
        "        print('no shape info.')\n",
        "        return 0\n",
        "\n",
        "    box_number = 0\n",
        "    for line in source_file:\n",
        "        staff = line.split()\n",
        "        class_idx = int(staff[0])\n",
        "\n",
        "        x_center, y_center, w, h = float(staff[1])*width, float(staff[2])*height, float(staff[3])*width, float(staff[4])*height\n",
        "        x1 = round(x_center-w/2)\n",
        "        y1 = round(y_center-h/2)\n",
        "        x2 = round(x_center+w/2)\n",
        "        y2 = round(y_center+h/2)\n",
        "\n",
        "\n",
        "        plot_one_box([x1,y1,x2,y2], image,  label=name_of_class, line_thickness=None)\n",
        "        cv2.imwrite(r\"/content/YOLOv6/save_images_test/0469.jpg\",image)\n",
        "\n",
        "        box_number += 1\n",
        "        return box_number\n",
        "draw_box_on_image(image_name, classes_path,  label_folder, raw_images_folder, save_images_folder )\n",
        "\n",
        "\n",
        "\n"
      ]
    },
    {
      "cell_type": "code",
      "execution_count": null,
      "metadata": {
        "colab": {
          "base_uri": "https://localhost:8080/"
        },
        "outputId": "6d79b971-6c8f-4150-acc8-c391a67a5c46",
        "id": "mGgviLD0jkli"
      },
      "outputs": [
        {
          "output_type": "stream",
          "name": "stdout",
          "text": [
            "./runs/inference/exp/046_jpg.rf.751bead1340d8cf12b4649d8cad55fd7.jpg\n"
          ]
        },
        {
          "output_type": "execute_result",
          "data": {
            "text/plain": [
              "1"
            ]
          },
          "metadata": {},
          "execution_count": 18
        }
      ],
      "source": [
        "\n",
        "import cv2\n",
        "import os\n",
        "import random\n",
        "\n",
        "\n",
        "\n",
        "label_folder = r'/content/YOLOv6/Normal-Insulator,-Defect-Insulator,-Defects--1-2/labels'\n",
        "\n",
        "raw_images_folder = r'/content/YOLOv6/Normal-Insulator,-Defect-Insulator,-Defects--1-2/images'\n",
        "\n",
        "save_images_folder = r'/content/YOLOv6/save_images_valid'\n",
        "\n",
        "name_list_path = r'/content/YOLOv6/Normal-Insulator,-Defect-Insulator,-Defects--1-2/labels/valid'\n",
        "\n",
        "classes_path = r'/content/YOLOv6/Normal-Insulator,-Defect-Insulator,-Defects--1-2'\n",
        "image_name=r'./runs/inference/exp/046_jpg.rf.751bead1340d8cf12b4649d8cad55fd7.jpg'\n",
        "label=name_of_class='defective insulator'\n",
        "def plot_one_box(x, image, color=None, label=name_of_class, line_thickness=None):\n",
        "\n",
        "    tl = line_thickness or round(0.002 * (image.shape[0] + image.shape[1]) / 2) + 1  # line/font thickness\n",
        "    color = color or [random.randint(0, 255) for _ in range(3)]\n",
        "    c1, c2 = (int(x[0]), int(x[1])), (int(x[2]), int(x[3]))\n",
        "    cv2.rectangle(image, c1, c2, color, thickness=tl, lineType=cv2.LINE_AA)\n",
        "    if label:\n",
        "        tf = max(tl - 1, 1)  # font thickness\n",
        "        t_size = cv2.getTextSize(str(label), 0, fontScale=tl / 3, thickness=tf)[0]\n",
        "        c2 = c1[0] + t_size[0], c1[1] - t_size[1] - 3\n",
        "        cv2.rectangle(image, c1, c2, color, -1, cv2.LINE_AA)  # filled\n",
        "        cv2.putText(image,str(label), (c1[0], c1[1] - 2), 0, tl / 3, [225, 255, 255], thickness=tf, lineType=cv2.LINE_AA)\n",
        "\n",
        "\n",
        "def draw_box_on_image(image_name, classes_path, label_folder, raw_images_folder, save_images_folder ):\n",
        "\n",
        "    txt_path  = r\"/content/YOLOv6/Normal-Insulator,-Defect-Insulator,-Defects--1-2/labels/test/046_jpg.rf.751bead1340d8cf12b4649d8cad55fd7.txt\"\n",
        "    print(image_name)\n",
        "    if image_name == '.DS_Store':\n",
        "        return 0\n",
        "\n",
        "    image_path = r\"./runs/inference/exp/046_jpg.rf.751bead1340d8cf12b4649d8cad55fd7.jpg\"\n",
        "    save_file_path = r\"/content/YOLOv6/save_images_test/046\"\n",
        "\n",
        "    source_file = open(txt_path) if os.path.exists(txt_path) else []\n",
        "    image = cv2.imread(image_path)\n",
        "    try:\n",
        "        height, width, channels = image.shape\n",
        "    except:\n",
        "        print('no shape info.')\n",
        "        return 0\n",
        "\n",
        "    box_number = 0\n",
        "    for line in source_file:\n",
        "        staff = line.split()\n",
        "        class_idx = int(staff[0])\n",
        "\n",
        "        x_center, y_center, w, h = float(staff[1])*width, float(staff[2])*height, float(staff[3])*width, float(staff[4])*height\n",
        "        x1 = round(x_center-w/2)\n",
        "        y1 = round(y_center-h/2)\n",
        "        x2 = round(x_center+w/2)\n",
        "        y2 = round(y_center+h/2)\n",
        "\n",
        "\n",
        "        plot_one_box([x1,y1,x2,y2], image,  label=name_of_class, line_thickness=None)\n",
        "        cv2.imwrite(r\"/content/YOLOv6/save_images_test/046.jpg\",image)\n",
        "\n",
        "        box_number += 1\n",
        "        return box_number\n",
        "draw_box_on_image(image_name, classes_path,  label_folder, raw_images_folder, save_images_folder )\n",
        "\n",
        "\n",
        "\n"
      ]
    },
    {
      "cell_type": "code",
      "execution_count": null,
      "metadata": {
        "colab": {
          "base_uri": "https://localhost:8080/"
        },
        "outputId": "a1847271-f681-4dac-e367-beb778e905dc",
        "id": "yAgeIGzhjpXz"
      },
      "outputs": [
        {
          "output_type": "stream",
          "name": "stdout",
          "text": [
            "./runs/inference/exp/0509_jpg.rf.22ef084ab6478d60879bfa2ab3306aff.jpg\n"
          ]
        },
        {
          "output_type": "execute_result",
          "data": {
            "text/plain": [
              "1"
            ]
          },
          "metadata": {},
          "execution_count": 19
        }
      ],
      "source": [
        "\n",
        "import cv2\n",
        "import os\n",
        "import random\n",
        "\n",
        "\n",
        "\n",
        "label_folder = r'/content/YOLOv6/Normal-Insulator,-Defect-Insulator,-Defects--1-2/labels'\n",
        "\n",
        "raw_images_folder = r'/content/YOLOv6/Normal-Insulator,-Defect-Insulator,-Defects--1-2/images'\n",
        "\n",
        "save_images_folder = r'/content/YOLOv6/save_images_valid'\n",
        "\n",
        "name_list_path = r'/content/YOLOv6/Normal-Insulator,-Defect-Insulator,-Defects--1-2/labels/valid'\n",
        "\n",
        "classes_path = r'/content/YOLOv6/Normal-Insulator,-Defect-Insulator,-Defects--1-2'\n",
        "image_name=r'./runs/inference/exp/0509_jpg.rf.22ef084ab6478d60879bfa2ab3306aff.jpg'\n",
        "label=name_of_class='normalinsulator'\n",
        "def plot_one_box(x, image, color=None, label=name_of_class, line_thickness=None):\n",
        "\n",
        "    tl = line_thickness or round(0.002 * (image.shape[0] + image.shape[1]) / 2) + 1  # line/font thickness\n",
        "    color = color or [random.randint(0, 255) for _ in range(3)]\n",
        "    c1, c2 = (int(x[0]), int(x[1])), (int(x[2]), int(x[3]))\n",
        "    cv2.rectangle(image, c1, c2, color, thickness=tl, lineType=cv2.LINE_AA)\n",
        "    if label:\n",
        "        tf = max(tl - 1, 1)  # font thickness\n",
        "        t_size = cv2.getTextSize(str(label), 0, fontScale=tl / 3, thickness=tf)[0]\n",
        "        c2 = c1[0] + t_size[0], c1[1] - t_size[1] - 3\n",
        "        cv2.rectangle(image, c1, c2, color, -1, cv2.LINE_AA)  # filled\n",
        "        cv2.putText(image,str(label), (c1[0], c1[1] - 2), 0, tl / 3, [225, 255, 255], thickness=tf, lineType=cv2.LINE_AA)\n",
        "\n",
        "\n",
        "def draw_box_on_image(image_name, classes_path, label_folder, raw_images_folder, save_images_folder ):\n",
        "\n",
        "    txt_path  = r\"/content/YOLOv6/Normal-Insulator,-Defect-Insulator,-Defects--1-2/labels/test/0509_jpg.rf.22ef084ab6478d60879bfa2ab3306aff.txt\"\n",
        "    print(image_name)\n",
        "    if image_name == '.DS_Store':\n",
        "        return 0\n",
        "\n",
        "    image_path = r\"./runs/inference/exp/0509_jpg.rf.22ef084ab6478d60879bfa2ab3306aff.jpg\"\n",
        "    save_file_path = r\"/content/YOLOv6/save_images_test/0509\"\n",
        "\n",
        "    source_file = open(txt_path) if os.path.exists(txt_path) else []\n",
        "    image = cv2.imread(image_path)\n",
        "    try:\n",
        "        height, width, channels = image.shape\n",
        "    except:\n",
        "        print('no shape info.')\n",
        "        return 0\n",
        "\n",
        "    box_number = 0\n",
        "    for line in source_file:\n",
        "        staff = line.split()\n",
        "        class_idx = int(staff[0])\n",
        "\n",
        "        x_center, y_center, w, h = float(staff[1])*width, float(staff[2])*height, float(staff[3])*width, float(staff[4])*height\n",
        "        x1 = round(x_center-w/2)\n",
        "        y1 = round(y_center-h/2)\n",
        "        x2 = round(x_center+w/2)\n",
        "        y2 = round(y_center+h/2)\n",
        "\n",
        "\n",
        "        plot_one_box([x1,y1,x2,y2], image,  label=name_of_class, line_thickness=None)\n",
        "        cv2.imwrite(r\"/content/YOLOv6/save_images_test/0509.jpg\",image)\n",
        "\n",
        "        box_number += 1\n",
        "        return box_number\n",
        "draw_box_on_image(image_name, classes_path,  label_folder, raw_images_folder, save_images_folder )\n",
        "\n",
        "\n",
        "\n"
      ]
    },
    {
      "cell_type": "code",
      "execution_count": null,
      "metadata": {
        "colab": {
          "base_uri": "https://localhost:8080/"
        },
        "outputId": "695bddf9-2c02-44c1-9bdd-b1eda4c3d6ca",
        "id": "LRnroxmEjptq"
      },
      "outputs": [
        {
          "output_type": "stream",
          "name": "stdout",
          "text": [
            "./runs/inference/exp/050_jpg.rf.8c672010514c012c6cf777b65fabc21d.jpg\n"
          ]
        },
        {
          "output_type": "execute_result",
          "data": {
            "text/plain": [
              "1"
            ]
          },
          "metadata": {},
          "execution_count": 21
        }
      ],
      "source": [
        "\n",
        "import cv2\n",
        "import os\n",
        "import random\n",
        "\n",
        "\n",
        "\n",
        "label_folder = r'/content/YOLOv6/Normal-Insulator,-Defect-Insulator,-Defects--1-2/labels'\n",
        "\n",
        "raw_images_folder = r'/content/YOLOv6/Normal-Insulator,-Defect-Insulator,-Defects--1-2/images'\n",
        "\n",
        "save_images_folder = r'/content/YOLOv6/save_images_valid'\n",
        "\n",
        "name_list_path = r'/content/YOLOv6/Normal-Insulator,-Defect-Insulator,-Defects--1-2/labels/valid'\n",
        "\n",
        "classes_path = r'/content/YOLOv6/Normal-Insulator,-Defect-Insulator,-Defects--1-2'\n",
        "image_name=r'./runs/inference/exp/050_jpg.rf.8c672010514c012c6cf777b65fabc21d.jpg'\n",
        "label=name_of_class='defective insulator'\n",
        "def plot_one_box(x, image, color=None, label=name_of_class, line_thickness=None):\n",
        "\n",
        "    tl = line_thickness or round(0.002 * (image.shape[0] + image.shape[1]) / 2) + 1  # line/font thickness\n",
        "    color = color or [random.randint(0, 255) for _ in range(3)]\n",
        "    c1, c2 = (int(x[0]), int(x[1])), (int(x[2]), int(x[3]))\n",
        "    cv2.rectangle(image, c1, c2, color, thickness=tl, lineType=cv2.LINE_AA)\n",
        "    if label:\n",
        "        tf = max(tl - 1, 1)  # font thickness\n",
        "        t_size = cv2.getTextSize(str(label), 0, fontScale=tl / 3, thickness=tf)[0]\n",
        "        c2 = c1[0] + t_size[0], c1[1] - t_size[1] - 3\n",
        "        cv2.rectangle(image, c1, c2, color, -1, cv2.LINE_AA)  # filled\n",
        "        cv2.putText(image,str(label), (c1[0], c1[1] - 2), 0, tl / 3, [225, 255, 255], thickness=tf, lineType=cv2.LINE_AA)\n",
        "\n",
        "\n",
        "def draw_box_on_image(image_name, classes_path, label_folder, raw_images_folder, save_images_folder ):\n",
        "\n",
        "    txt_path  = r\"/content/YOLOv6/Normal-Insulator,-Defect-Insulator,-Defects--1-2/labels/test/050_jpg.rf.8c672010514c012c6cf777b65fabc21d.txt\"\n",
        "    print(image_name)\n",
        "    if image_name == '.DS_Store':\n",
        "        return 0\n",
        "\n",
        "    image_path = r\"./runs/inference/exp/050_jpg.rf.8c672010514c012c6cf777b65fabc21d.jpg\"\n",
        "    save_file_path = r\"/content/YOLOv6/save_images_test/050\"\n",
        "\n",
        "    source_file = open(txt_path) if os.path.exists(txt_path) else []\n",
        "    image = cv2.imread(image_path)\n",
        "    try:\n",
        "        height, width, channels = image.shape\n",
        "    except:\n",
        "        print('no shape info.')\n",
        "        return 0\n",
        "\n",
        "    box_number = 0\n",
        "    for line in source_file:\n",
        "        staff = line.split()\n",
        "        class_idx = int(staff[0])\n",
        "\n",
        "        x_center, y_center, w, h = float(staff[1])*width, float(staff[2])*height, float(staff[3])*width, float(staff[4])*height\n",
        "        x1 = round(x_center-w/2)\n",
        "        y1 = round(y_center-h/2)\n",
        "        x2 = round(x_center+w/2)\n",
        "        y2 = round(y_center+h/2)\n",
        "\n",
        "\n",
        "        plot_one_box([x1,y1,x2,y2], image,  label=name_of_class, line_thickness=None)\n",
        "        cv2.imwrite(r\"/content/YOLOv6/save_images_test/050.jpg\",image)\n",
        "\n",
        "        box_number += 1\n",
        "        return box_number\n",
        "draw_box_on_image(image_name, classes_path,  label_folder, raw_images_folder, save_images_folder )\n",
        "\n",
        "\n",
        "\n"
      ]
    },
    {
      "cell_type": "code",
      "execution_count": null,
      "metadata": {
        "colab": {
          "base_uri": "https://localhost:8080/"
        },
        "outputId": "d9f84c76-804e-4caf-ca38-b19699ecbc13",
        "id": "Qh_ezuStjp4C"
      },
      "outputs": [
        {
          "output_type": "stream",
          "name": "stdout",
          "text": [
            "./runs/inference/exp/0545_jpg.rf.c4f9936b9d2f7d26bb9c2b0fc89fcd16.jpg\n"
          ]
        },
        {
          "output_type": "execute_result",
          "data": {
            "text/plain": [
              "1"
            ]
          },
          "metadata": {},
          "execution_count": 22
        }
      ],
      "source": [
        "\n",
        "import cv2\n",
        "import os\n",
        "import random\n",
        "\n",
        "\n",
        "\n",
        "label_folder = r'/content/YOLOv6/Normal-Insulator,-Defect-Insulator,-Defects--1-2/labels'\n",
        "\n",
        "raw_images_folder = r'/content/YOLOv6/Normal-Insulator,-Defect-Insulator,-Defects--1-2/images'\n",
        "\n",
        "save_images_folder = r'/content/YOLOv6/save_images_valid'\n",
        "\n",
        "name_list_path = r'/content/YOLOv6/Normal-Insulator,-Defect-Insulator,-Defects--1-2/labels/valid'\n",
        "\n",
        "classes_path = r'/content/YOLOv6/Normal-Insulator,-Defect-Insulator,-Defects--1-2'\n",
        "image_name=r'./runs/inference/exp/0545_jpg.rf.c4f9936b9d2f7d26bb9c2b0fc89fcd16.jpg'\n",
        "label=name_of_class='normalinsulator'\n",
        "def plot_one_box(x, image, color=None, label=name_of_class, line_thickness=None):\n",
        "\n",
        "    tl = line_thickness or round(0.002 * (image.shape[0] + image.shape[1]) / 2) + 1  # line/font thickness\n",
        "    color = color or [random.randint(0, 255) for _ in range(3)]\n",
        "    c1, c2 = (int(x[0]), int(x[1])), (int(x[2]), int(x[3]))\n",
        "    cv2.rectangle(image, c1, c2, color, thickness=tl, lineType=cv2.LINE_AA)\n",
        "    if label:\n",
        "        tf = max(tl - 1, 1)  # font thickness\n",
        "        t_size = cv2.getTextSize(str(label), 0, fontScale=tl / 3, thickness=tf)[0]\n",
        "        c2 = c1[0] + t_size[0], c1[1] - t_size[1] - 3\n",
        "        cv2.rectangle(image, c1, c2, color, -1, cv2.LINE_AA)  # filled\n",
        "        cv2.putText(image,str(label), (c1[0], c1[1] - 2), 0, tl / 3, [225, 255, 255], thickness=tf, lineType=cv2.LINE_AA)\n",
        "\n",
        "\n",
        "def draw_box_on_image(image_name, classes_path, label_folder, raw_images_folder, save_images_folder ):\n",
        "\n",
        "    txt_path  = r\"/content/YOLOv6/Normal-Insulator,-Defect-Insulator,-Defects--1-2/labels/test/0545_jpg.rf.c4f9936b9d2f7d26bb9c2b0fc89fcd16.txt\"\n",
        "    print(image_name)\n",
        "    if image_name == '.DS_Store':\n",
        "        return 0\n",
        "\n",
        "    image_path = r\"./runs/inference/exp/0545_jpg.rf.c4f9936b9d2f7d26bb9c2b0fc89fcd16.jpg\"\n",
        "    save_file_path = r\"/content/YOLOv6/save_images_test/0545\"\n",
        "\n",
        "    source_file = open(txt_path) if os.path.exists(txt_path) else []\n",
        "    image = cv2.imread(image_path)\n",
        "    try:\n",
        "        height, width, channels = image.shape\n",
        "    except:\n",
        "        print('no shape info.')\n",
        "        return 0\n",
        "\n",
        "    box_number = 0\n",
        "    for line in source_file:\n",
        "        staff = line.split()\n",
        "        class_idx = int(staff[0])\n",
        "\n",
        "        x_center, y_center, w, h = float(staff[1])*width, float(staff[2])*height, float(staff[3])*width, float(staff[4])*height\n",
        "        x1 = round(x_center-w/2)\n",
        "        y1 = round(y_center-h/2)\n",
        "        x2 = round(x_center+w/2)\n",
        "        y2 = round(y_center+h/2)\n",
        "\n",
        "\n",
        "        plot_one_box([x1,y1,x2,y2], image,  label=name_of_class, line_thickness=None)\n",
        "        cv2.imwrite(r\"/content/YOLOv6/save_images_test/0545.jpg\",image)\n",
        "\n",
        "        box_number += 1\n",
        "        return box_number\n",
        "draw_box_on_image(image_name, classes_path,  label_folder, raw_images_folder, save_images_folder )\n",
        "\n",
        "\n",
        "\n"
      ]
    },
    {
      "cell_type": "code",
      "execution_count": null,
      "metadata": {
        "colab": {
          "base_uri": "https://localhost:8080/"
        },
        "outputId": "5b14ffd2-27a7-4290-e72b-47e5cc69957b",
        "id": "LNFGfRz8jqAc"
      },
      "outputs": [
        {
          "output_type": "stream",
          "name": "stdout",
          "text": [
            "./runs/inference/exp/054_jpg.rf.bd23aac0583039d89aca429ce2faa858.jpg\n"
          ]
        },
        {
          "output_type": "execute_result",
          "data": {
            "text/plain": [
              "1"
            ]
          },
          "metadata": {},
          "execution_count": 24
        }
      ],
      "source": [
        "\n",
        "import cv2\n",
        "import os\n",
        "import random\n",
        "\n",
        "\n",
        "\n",
        "label_folder = r'/content/YOLOv6/Normal-Insulator,-Defect-Insulator,-Defects--1-2/labels'\n",
        "\n",
        "raw_images_folder = r'/content/YOLOv6/Normal-Insulator,-Defect-Insulator,-Defects--1-2/images'\n",
        "\n",
        "save_images_folder = r'/content/YOLOv6/save_images_valid'\n",
        "\n",
        "name_list_path = r'/content/YOLOv6/Normal-Insulator,-Defect-Insulator,-Defects--1-2/labels/valid'\n",
        "\n",
        "classes_path = r'/content/YOLOv6/Normal-Insulator,-Defect-Insulator,-Defects--1-2'\n",
        "image_name=r'./runs/inference/exp/054_jpg.rf.bd23aac0583039d89aca429ce2faa858.jpg'\n",
        "label=name_of_class='defect'\n",
        "def plot_one_box(x, image, color=None, label=name_of_class, line_thickness=None):\n",
        "\n",
        "    tl = line_thickness or round(0.002 * (image.shape[0] + image.shape[1]) / 2) + 1  # line/font thickness\n",
        "    color = color or [random.randint(0, 255) for _ in range(3)]\n",
        "    c1, c2 = (int(x[0]), int(x[1])), (int(x[2]), int(x[3]))\n",
        "    cv2.rectangle(image, c1, c2, color, thickness=tl, lineType=cv2.LINE_AA)\n",
        "    if label:\n",
        "        tf = max(tl - 1, 1)  # font thickness\n",
        "        t_size = cv2.getTextSize(str(label), 0, fontScale=tl / 3, thickness=tf)[0]\n",
        "        c2 = c1[0] + t_size[0], c1[1] - t_size[1] - 3\n",
        "        cv2.rectangle(image, c1, c2, color, -1, cv2.LINE_AA)  # filled\n",
        "        cv2.putText(image,str(label), (c1[0], c1[1] - 2), 0, tl / 3, [225, 255, 255], thickness=tf, lineType=cv2.LINE_AA)\n",
        "\n",
        "\n",
        "def draw_box_on_image(image_name, classes_path, label_folder, raw_images_folder, save_images_folder ):\n",
        "\n",
        "    txt_path  = r\"/content/YOLOv6/Normal-Insulator,-Defect-Insulator,-Defects--1-2/labels/test/054_jpg.rf.bd23aac0583039d89aca429ce2faa858.txt\"\n",
        "    print(image_name)\n",
        "    if image_name == '.DS_Store':\n",
        "        return 0\n",
        "\n",
        "    image_path = r\"./runs/inference/exp/054_jpg.rf.bd23aac0583039d89aca429ce2faa858.jpg\"\n",
        "    save_file_path = r\"/content/YOLOv6/save_images_test/054\"\n",
        "\n",
        "    source_file = open(txt_path) if os.path.exists(txt_path) else []\n",
        "    image = cv2.imread(image_path)\n",
        "    try:\n",
        "        height, width, channels = image.shape\n",
        "    except:\n",
        "        print('no shape info.')\n",
        "        return 0\n",
        "\n",
        "    box_number = 0\n",
        "    for line in source_file:\n",
        "        staff = line.split()\n",
        "        class_idx = int(staff[0])\n",
        "\n",
        "        x_center, y_center, w, h = float(staff[1])*width, float(staff[2])*height, float(staff[3])*width, float(staff[4])*height\n",
        "        x1 = round(x_center-w/2)\n",
        "        y1 = round(y_center-h/2)\n",
        "        x2 = round(x_center+w/2)\n",
        "        y2 = round(y_center+h/2)\n",
        "\n",
        "\n",
        "        plot_one_box([x1,y1,x2,y2], image,  label=name_of_class, line_thickness=None)\n",
        "        cv2.imwrite(r\"/content/YOLOv6/save_images_test/054.jpg\",image)\n",
        "\n",
        "        box_number += 1\n",
        "        return box_number\n",
        "draw_box_on_image(image_name, classes_path,  label_folder, raw_images_folder, save_images_folder )\n",
        "\n",
        "\n",
        "\n"
      ]
    },
    {
      "cell_type": "code",
      "source": [
        "!python tools/infer.py  --yaml {dataset.location}/data.yaml  --weights runs/train/exp/weights/best_ckpt.pt   --source {dataset.location}/images/test/055_jpg.rf.530da4234099e400ca68d5874e7188ed.jpg    --device 0"
      ],
      "metadata": {
        "colab": {
          "base_uri": "https://localhost:8080/"
        },
        "id": "TbsG1sMMpVlh",
        "outputId": "3ae0c969-ab46-4ff8-ade0-f8d9a8bbeeda"
      },
      "execution_count": null,
      "outputs": [
        {
          "output_type": "stream",
          "name": "stdout",
          "text": [
            "Namespace(agnostic_nms=False, classes=None, conf_thres=0.4, device='0', half=False, hide_conf=False, hide_labels=False, img_size=[640, 640], iou_thres=0.45, max_det=1000, name='exp', not_save_img=False, project='runs/inference', save_dir=None, save_txt=False, source='/content/YOLOv6/Normal-Insulator,-Defect-Insulator,-Defects--1-2/images/test/055_jpg.rf.530da4234099e400ca68d5874e7188ed.jpg', view_img=False, webcam=False, webcam_addr='0', weights='runs/train/exp/weights/best_ckpt.pt', yaml='/content/YOLOv6/Normal-Insulator,-Defect-Insulator,-Defects--1-2/data.yaml')\n",
            "Save directory already existed\n",
            "Loading checkpoint from runs/train/exp/weights/best_ckpt.pt\n",
            "\n",
            "Fusing model...\n",
            "Switch model to deploy modality.\n",
            "/usr/local/lib/python3.8/dist-packages/torch/functional.py:504: UserWarning: torch.meshgrid: in an upcoming release, it will be required to pass the indexing argument. (Triggered internally at ../aten/src/ATen/native/TensorShape.cpp:3190.)\n",
            "  return _VF.meshgrid(tensors, **kwargs)  # type: ignore[attr-defined]\n",
            "100% 1/1 [00:00<00:00, 19.31it/s]\n",
            "Results saved to runs/inference/exp\n"
          ]
        }
      ]
    },
    {
      "cell_type": "code",
      "source": [
        "!python tools/infer.py  --yaml {dataset.location}/data.yaml  --weights runs/train/exp/weights/best_ckpt.pt   --source {dataset.location}/images/test/0617_jpg.rf.6c5c6797713ce790d851fb7d32f3a907.jpg    --device 0"
      ],
      "metadata": {
        "colab": {
          "base_uri": "https://localhost:8080/"
        },
        "id": "BjQBEE9GpVrJ",
        "outputId": "21df8ca2-bbd4-4561-d6c4-479cfd077168"
      },
      "execution_count": null,
      "outputs": [
        {
          "output_type": "stream",
          "name": "stdout",
          "text": [
            "Namespace(agnostic_nms=False, classes=None, conf_thres=0.4, device='0', half=False, hide_conf=False, hide_labels=False, img_size=[640, 640], iou_thres=0.45, max_det=1000, name='exp', not_save_img=False, project='runs/inference', save_dir=None, save_txt=False, source='/content/YOLOv6/Normal-Insulator,-Defect-Insulator,-Defects--1-2/images/test/0617_jpg.rf.6c5c6797713ce790d851fb7d32f3a907.jpg', view_img=False, webcam=False, webcam_addr='0', weights='runs/train/exp/weights/best_ckpt.pt', yaml='/content/YOLOv6/Normal-Insulator,-Defect-Insulator,-Defects--1-2/data.yaml')\n",
            "Save directory already existed\n",
            "Loading checkpoint from runs/train/exp/weights/best_ckpt.pt\n",
            "\n",
            "Fusing model...\n",
            "Switch model to deploy modality.\n",
            "/usr/local/lib/python3.8/dist-packages/torch/functional.py:504: UserWarning: torch.meshgrid: in an upcoming release, it will be required to pass the indexing argument. (Triggered internally at ../aten/src/ATen/native/TensorShape.cpp:3190.)\n",
            "  return _VF.meshgrid(tensors, **kwargs)  # type: ignore[attr-defined]\n",
            "100% 1/1 [00:00<00:00, 18.68it/s]\n",
            "Results saved to runs/inference/exp\n"
          ]
        }
      ]
    },
    {
      "cell_type": "code",
      "source": [
        "!python tools/infer.py  --yaml {dataset.location}/data.yaml  --weights runs/train/exp/weights/best_ckpt.pt   --source {dataset.location}/images/test/0627_jpg.rf.537ed58579fe891d97dd237d37fcf9cd.jpg    --device 0"
      ],
      "metadata": {
        "colab": {
          "base_uri": "https://localhost:8080/"
        },
        "id": "YMmNAJAOpVv0",
        "outputId": "f6c723ff-4c8d-41fa-95c5-c64d4089e80e"
      },
      "execution_count": null,
      "outputs": [
        {
          "output_type": "stream",
          "name": "stdout",
          "text": [
            "Namespace(agnostic_nms=False, classes=None, conf_thres=0.4, device='0', half=False, hide_conf=False, hide_labels=False, img_size=[640, 640], iou_thres=0.45, max_det=1000, name='exp', not_save_img=False, project='runs/inference', save_dir=None, save_txt=False, source='/content/YOLOv6/Normal-Insulator,-Defect-Insulator,-Defects--1-2/images/test/0627_jpg.rf.537ed58579fe891d97dd237d37fcf9cd.jpg', view_img=False, webcam=False, webcam_addr='0', weights='runs/train/exp/weights/best_ckpt.pt', yaml='/content/YOLOv6/Normal-Insulator,-Defect-Insulator,-Defects--1-2/data.yaml')\n",
            "Save directory already existed\n",
            "Loading checkpoint from runs/train/exp/weights/best_ckpt.pt\n",
            "\n",
            "Fusing model...\n",
            "Switch model to deploy modality.\n",
            "/usr/local/lib/python3.8/dist-packages/torch/functional.py:504: UserWarning: torch.meshgrid: in an upcoming release, it will be required to pass the indexing argument. (Triggered internally at ../aten/src/ATen/native/TensorShape.cpp:3190.)\n",
            "  return _VF.meshgrid(tensors, **kwargs)  # type: ignore[attr-defined]\n",
            "100% 1/1 [00:00<00:00, 24.73it/s]\n",
            "Results saved to runs/inference/exp\n"
          ]
        }
      ]
    },
    {
      "cell_type": "code",
      "source": [
        "!python tools/infer.py  --yaml {dataset.location}/data.yaml  --weights runs/train/exp/weights/best_ckpt.pt   --source {dataset.location}/images/test/0713_jpg.rf.7511fd3b1891526039dfca238620a70f.jpg    --device 0"
      ],
      "metadata": {
        "colab": {
          "base_uri": "https://localhost:8080/"
        },
        "id": "qQNe20c8pV0G",
        "outputId": "e5aece13-aced-4d20-b355-92877274b677"
      },
      "execution_count": null,
      "outputs": [
        {
          "output_type": "stream",
          "name": "stdout",
          "text": [
            "Namespace(agnostic_nms=False, classes=None, conf_thres=0.4, device='0', half=False, hide_conf=False, hide_labels=False, img_size=[640, 640], iou_thres=0.45, max_det=1000, name='exp', not_save_img=False, project='runs/inference', save_dir=None, save_txt=False, source='/content/YOLOv6/Normal-Insulator,-Defect-Insulator,-Defects--1-2/images/test/0713_jpg.rf.7511fd3b1891526039dfca238620a70f.jpg', view_img=False, webcam=False, webcam_addr='0', weights='runs/train/exp/weights/best_ckpt.pt', yaml='/content/YOLOv6/Normal-Insulator,-Defect-Insulator,-Defects--1-2/data.yaml')\n",
            "Save directory already existed\n",
            "Loading checkpoint from runs/train/exp/weights/best_ckpt.pt\n",
            "\n",
            "Fusing model...\n",
            "Switch model to deploy modality.\n",
            "/usr/local/lib/python3.8/dist-packages/torch/functional.py:504: UserWarning: torch.meshgrid: in an upcoming release, it will be required to pass the indexing argument. (Triggered internally at ../aten/src/ATen/native/TensorShape.cpp:3190.)\n",
            "  return _VF.meshgrid(tensors, **kwargs)  # type: ignore[attr-defined]\n",
            "100% 1/1 [00:00<00:00, 23.12it/s]\n",
            "Results saved to runs/inference/exp\n"
          ]
        }
      ]
    },
    {
      "cell_type": "code",
      "source": [
        "!python tools/infer.py  --yaml {dataset.location}/data.yaml  --weights runs/train/exp/weights/best_ckpt.pt   --source {dataset.location}/images/test/0718_jpg.rf.7e923300cc12ea45b20673763eb4dc73.jpg    --device 0"
      ],
      "metadata": {
        "colab": {
          "base_uri": "https://localhost:8080/"
        },
        "id": "rZcAFvWspV48",
        "outputId": "d84f5075-c36d-4fac-fd85-f58b088df42d"
      },
      "execution_count": null,
      "outputs": [
        {
          "output_type": "stream",
          "name": "stdout",
          "text": [
            "Namespace(agnostic_nms=False, classes=None, conf_thres=0.4, device='0', half=False, hide_conf=False, hide_labels=False, img_size=[640, 640], iou_thres=0.45, max_det=1000, name='exp', not_save_img=False, project='runs/inference', save_dir=None, save_txt=False, source='/content/YOLOv6/Normal-Insulator,-Defect-Insulator,-Defects--1-2/images/test/0718_jpg.rf.7e923300cc12ea45b20673763eb4dc73.jpg', view_img=False, webcam=False, webcam_addr='0', weights='runs/train/exp/weights/best_ckpt.pt', yaml='/content/YOLOv6/Normal-Insulator,-Defect-Insulator,-Defects--1-2/data.yaml')\n",
            "Save directory already existed\n",
            "Loading checkpoint from runs/train/exp/weights/best_ckpt.pt\n",
            "\n",
            "Fusing model...\n",
            "Switch model to deploy modality.\n",
            "/usr/local/lib/python3.8/dist-packages/torch/functional.py:504: UserWarning: torch.meshgrid: in an upcoming release, it will be required to pass the indexing argument. (Triggered internally at ../aten/src/ATen/native/TensorShape.cpp:3190.)\n",
            "  return _VF.meshgrid(tensors, **kwargs)  # type: ignore[attr-defined]\n",
            "100% 1/1 [00:00<00:00, 23.82it/s]\n",
            "Results saved to runs/inference/exp\n"
          ]
        }
      ]
    },
    {
      "cell_type": "code",
      "source": [
        "!python tools/infer.py  --yaml {dataset.location}/data.yaml  --weights runs/train/exp/weights/best_ckpt.pt   --source {dataset.location}/images/test/072_jpg.rf.e1de013b7a1ce0bfeb4c17bd02857350.jpg    --device 0"
      ],
      "metadata": {
        "colab": {
          "base_uri": "https://localhost:8080/"
        },
        "id": "u3Ou9xk2pV9X",
        "outputId": "bfa756eb-c613-474d-e679-29688d442462"
      },
      "execution_count": null,
      "outputs": [
        {
          "output_type": "stream",
          "name": "stdout",
          "text": [
            "Namespace(agnostic_nms=False, classes=None, conf_thres=0.4, device='0', half=False, hide_conf=False, hide_labels=False, img_size=[640, 640], iou_thres=0.45, max_det=1000, name='exp', not_save_img=False, project='runs/inference', save_dir=None, save_txt=False, source='/content/YOLOv6/Normal-Insulator,-Defect-Insulator,-Defects--1-2/images/test/072_jpg.rf.e1de013b7a1ce0bfeb4c17bd02857350.jpg', view_img=False, webcam=False, webcam_addr='0', weights='runs/train/exp/weights/best_ckpt.pt', yaml='/content/YOLOv6/Normal-Insulator,-Defect-Insulator,-Defects--1-2/data.yaml')\n",
            "Save directory already existed\n",
            "Loading checkpoint from runs/train/exp/weights/best_ckpt.pt\n",
            "\n",
            "Fusing model...\n",
            "Switch model to deploy modality.\n",
            "/usr/local/lib/python3.8/dist-packages/torch/functional.py:504: UserWarning: torch.meshgrid: in an upcoming release, it will be required to pass the indexing argument. (Triggered internally at ../aten/src/ATen/native/TensorShape.cpp:3190.)\n",
            "  return _VF.meshgrid(tensors, **kwargs)  # type: ignore[attr-defined]\n",
            "100% 1/1 [00:00<00:00, 22.78it/s]\n",
            "Results saved to runs/inference/exp\n"
          ]
        }
      ]
    },
    {
      "cell_type": "code",
      "source": [
        "!python tools/infer.py  --yaml {dataset.location}/data.yaml  --weights runs/train/exp/weights/best_ckpt.pt   --source {dataset.location}/images/test/0735_jpg.rf.47977688bf443ba70e663cd056d308d7.jpg    --device 0"
      ],
      "metadata": {
        "colab": {
          "base_uri": "https://localhost:8080/"
        },
        "id": "6Lk4-l1dpWB3",
        "outputId": "c72c54a6-54e0-472b-f1d5-5c0c44f4f2fe"
      },
      "execution_count": null,
      "outputs": [
        {
          "output_type": "stream",
          "name": "stdout",
          "text": [
            "Namespace(agnostic_nms=False, classes=None, conf_thres=0.4, device='0', half=False, hide_conf=False, hide_labels=False, img_size=[640, 640], iou_thres=0.45, max_det=1000, name='exp', not_save_img=False, project='runs/inference', save_dir=None, save_txt=False, source='/content/YOLOv6/Normal-Insulator,-Defect-Insulator,-Defects--1-2/images/test/0735_jpg.rf.47977688bf443ba70e663cd056d308d7.jpg', view_img=False, webcam=False, webcam_addr='0', weights='runs/train/exp/weights/best_ckpt.pt', yaml='/content/YOLOv6/Normal-Insulator,-Defect-Insulator,-Defects--1-2/data.yaml')\n",
            "Save directory already existed\n",
            "Loading checkpoint from runs/train/exp/weights/best_ckpt.pt\n",
            "\n",
            "Fusing model...\n",
            "Switch model to deploy modality.\n",
            "/usr/local/lib/python3.8/dist-packages/torch/functional.py:504: UserWarning: torch.meshgrid: in an upcoming release, it will be required to pass the indexing argument. (Triggered internally at ../aten/src/ATen/native/TensorShape.cpp:3190.)\n",
            "  return _VF.meshgrid(tensors, **kwargs)  # type: ignore[attr-defined]\n",
            "100% 1/1 [00:00<00:00, 24.45it/s]\n",
            "Results saved to runs/inference/exp\n"
          ]
        }
      ]
    },
    {
      "cell_type": "code",
      "source": [
        "!python tools/infer.py  --yaml {dataset.location}/data.yaml  --weights runs/train/exp/weights/best_ckpt.pt   --source {dataset.location}/images/test/073_jpg.rf.8e40dd55704608ea5ea62018813ddb46.jpg    --device 0"
      ],
      "metadata": {
        "colab": {
          "base_uri": "https://localhost:8080/"
        },
        "id": "P9Exq5BFpWKP",
        "outputId": "30e957da-6719-4b29-e2b9-48ba206cc7fe"
      },
      "execution_count": null,
      "outputs": [
        {
          "output_type": "stream",
          "name": "stdout",
          "text": [
            "Namespace(agnostic_nms=False, classes=None, conf_thres=0.4, device='0', half=False, hide_conf=False, hide_labels=False, img_size=[640, 640], iou_thres=0.45, max_det=1000, name='exp', not_save_img=False, project='runs/inference', save_dir=None, save_txt=False, source='/content/YOLOv6/Normal-Insulator,-Defect-Insulator,-Defects--1-2/images/test/073_jpg.rf.8e40dd55704608ea5ea62018813ddb46.jpg', view_img=False, webcam=False, webcam_addr='0', weights='runs/train/exp/weights/best_ckpt.pt', yaml='/content/YOLOv6/Normal-Insulator,-Defect-Insulator,-Defects--1-2/data.yaml')\n",
            "Save directory already existed\n",
            "Loading checkpoint from runs/train/exp/weights/best_ckpt.pt\n",
            "\n",
            "Fusing model...\n",
            "Switch model to deploy modality.\n",
            "/usr/local/lib/python3.8/dist-packages/torch/functional.py:504: UserWarning: torch.meshgrid: in an upcoming release, it will be required to pass the indexing argument. (Triggered internally at ../aten/src/ATen/native/TensorShape.cpp:3190.)\n",
            "  return _VF.meshgrid(tensors, **kwargs)  # type: ignore[attr-defined]\n",
            "100% 1/1 [00:00<00:00, 23.74it/s]\n",
            "Results saved to runs/inference/exp\n"
          ]
        }
      ]
    },
    {
      "cell_type": "code",
      "source": [
        "!python tools/infer.py  --yaml {dataset.location}/data.yaml  --weights runs/train/exp/weights/best_ckpt.pt   --source {dataset.location}/images/test/0792_jpg.rf.1a5f5695df2079d8002bddce856a8654.jpg    --device 0"
      ],
      "metadata": {
        "colab": {
          "base_uri": "https://localhost:8080/"
        },
        "id": "bN5XlId3pWOz",
        "outputId": "6772147d-3bc7-43d9-9934-9edcbdcb081b"
      },
      "execution_count": null,
      "outputs": [
        {
          "output_type": "stream",
          "name": "stdout",
          "text": [
            "Namespace(agnostic_nms=False, classes=None, conf_thres=0.4, device='0', half=False, hide_conf=False, hide_labels=False, img_size=[640, 640], iou_thres=0.45, max_det=1000, name='exp', not_save_img=False, project='runs/inference', save_dir=None, save_txt=False, source='/content/YOLOv6/Normal-Insulator,-Defect-Insulator,-Defects--1-2/images/test/0792_jpg.rf.1a5f5695df2079d8002bddce856a8654.jpg', view_img=False, webcam=False, webcam_addr='0', weights='runs/train/exp/weights/best_ckpt.pt', yaml='/content/YOLOv6/Normal-Insulator,-Defect-Insulator,-Defects--1-2/data.yaml')\n",
            "Save directory already existed\n",
            "Loading checkpoint from runs/train/exp/weights/best_ckpt.pt\n",
            "\n",
            "Fusing model...\n",
            "Switch model to deploy modality.\n",
            "/usr/local/lib/python3.8/dist-packages/torch/functional.py:504: UserWarning: torch.meshgrid: in an upcoming release, it will be required to pass the indexing argument. (Triggered internally at ../aten/src/ATen/native/TensorShape.cpp:3190.)\n",
            "  return _VF.meshgrid(tensors, **kwargs)  # type: ignore[attr-defined]\n",
            "100% 1/1 [00:00<00:00, 24.02it/s]\n",
            "Results saved to runs/inference/exp\n"
          ]
        }
      ]
    },
    {
      "cell_type": "code",
      "source": [
        "!python tools/infer.py  --yaml {dataset.location}/data.yaml  --weights runs/train/exp/weights/best_ckpt.pt   --source {dataset.location}/images/test/085_jpg.rf.edfc18f82cb64dcdada59c19245a0834.jpg    --device 0"
      ],
      "metadata": {
        "colab": {
          "base_uri": "https://localhost:8080/"
        },
        "id": "cmU20qChpWS-",
        "outputId": "f326e582-4763-4262-bee5-f7319b03b5cf"
      },
      "execution_count": null,
      "outputs": [
        {
          "output_type": "stream",
          "name": "stdout",
          "text": [
            "Namespace(agnostic_nms=False, classes=None, conf_thres=0.4, device='0', half=False, hide_conf=False, hide_labels=False, img_size=[640, 640], iou_thres=0.45, max_det=1000, name='exp', not_save_img=False, project='runs/inference', save_dir=None, save_txt=False, source='/content/YOLOv6/Normal-Insulator,-Defect-Insulator,-Defects--1-2/images/test/085_jpg.rf.edfc18f82cb64dcdada59c19245a0834.jpg', view_img=False, webcam=False, webcam_addr='0', weights='runs/train/exp/weights/best_ckpt.pt', yaml='/content/YOLOv6/Normal-Insulator,-Defect-Insulator,-Defects--1-2/data.yaml')\n",
            "Save directory already existed\n",
            "Loading checkpoint from runs/train/exp/weights/best_ckpt.pt\n",
            "\n",
            "Fusing model...\n",
            "Switch model to deploy modality.\n",
            "/usr/local/lib/python3.8/dist-packages/torch/functional.py:504: UserWarning: torch.meshgrid: in an upcoming release, it will be required to pass the indexing argument. (Triggered internally at ../aten/src/ATen/native/TensorShape.cpp:3190.)\n",
            "  return _VF.meshgrid(tensors, **kwargs)  # type: ignore[attr-defined]\n",
            "100% 1/1 [00:00<00:00, 24.91it/s]\n",
            "Results saved to runs/inference/exp\n"
          ]
        }
      ]
    },
    {
      "cell_type": "code",
      "source": [
        "!python tools/infer.py  --yaml {dataset.location}/data.yaml  --weights runs/train/exp/weights/best_ckpt.pt   --source {dataset.location}/images/test/086_jpg.rf.fae0ccc0de1f85b494ceff2c07c02508.jpg    --device 0"
      ],
      "metadata": {
        "colab": {
          "base_uri": "https://localhost:8080/"
        },
        "id": "DIP8mBVVpWXO",
        "outputId": "cf30fa7e-023a-4439-fcf5-8ff33c5fb75b"
      },
      "execution_count": null,
      "outputs": [
        {
          "output_type": "stream",
          "name": "stdout",
          "text": [
            "Namespace(agnostic_nms=False, classes=None, conf_thres=0.4, device='0', half=False, hide_conf=False, hide_labels=False, img_size=[640, 640], iou_thres=0.45, max_det=1000, name='exp', not_save_img=False, project='runs/inference', save_dir=None, save_txt=False, source='/content/YOLOv6/Normal-Insulator,-Defect-Insulator,-Defects--1-2/images/test/086_jpg.rf.fae0ccc0de1f85b494ceff2c07c02508.jpg', view_img=False, webcam=False, webcam_addr='0', weights='runs/train/exp/weights/best_ckpt.pt', yaml='/content/YOLOv6/Normal-Insulator,-Defect-Insulator,-Defects--1-2/data.yaml')\n",
            "Save directory already existed\n",
            "Loading checkpoint from runs/train/exp/weights/best_ckpt.pt\n",
            "\n",
            "Fusing model...\n",
            "Switch model to deploy modality.\n",
            "/usr/local/lib/python3.8/dist-packages/torch/functional.py:504: UserWarning: torch.meshgrid: in an upcoming release, it will be required to pass the indexing argument. (Triggered internally at ../aten/src/ATen/native/TensorShape.cpp:3190.)\n",
            "  return _VF.meshgrid(tensors, **kwargs)  # type: ignore[attr-defined]\n",
            "100% 1/1 [00:00<00:00, 23.69it/s]\n",
            "Results saved to runs/inference/exp\n"
          ]
        }
      ]
    },
    {
      "cell_type": "code",
      "source": [
        "!python tools/infer.py  --yaml {dataset.location}/data.yaml  --weights runs/train/exp/weights/best_ckpt.pt   --source {dataset.location}/images/test/0895_jpg.rf.c2868528b6fc7e365d3cf59b3ee005fc.jpg    --device 0"
      ],
      "metadata": {
        "colab": {
          "base_uri": "https://localhost:8080/"
        },
        "id": "dWyZEf6epWfI",
        "outputId": "281781c6-b257-4bb3-82b6-ec1dd83e4c64"
      },
      "execution_count": null,
      "outputs": [
        {
          "output_type": "stream",
          "name": "stdout",
          "text": [
            "Namespace(agnostic_nms=False, classes=None, conf_thres=0.4, device='0', half=False, hide_conf=False, hide_labels=False, img_size=[640, 640], iou_thres=0.45, max_det=1000, name='exp', not_save_img=False, project='runs/inference', save_dir=None, save_txt=False, source='/content/YOLOv6/Normal-Insulator,-Defect-Insulator,-Defects--1-2/images/test/0895_jpg.rf.c2868528b6fc7e365d3cf59b3ee005fc.jpg', view_img=False, webcam=False, webcam_addr='0', weights='runs/train/exp/weights/best_ckpt.pt', yaml='/content/YOLOv6/Normal-Insulator,-Defect-Insulator,-Defects--1-2/data.yaml')\n",
            "Save directory already existed\n",
            "Loading checkpoint from runs/train/exp/weights/best_ckpt.pt\n",
            "\n",
            "Fusing model...\n",
            "Switch model to deploy modality.\n",
            "/usr/local/lib/python3.8/dist-packages/torch/functional.py:504: UserWarning: torch.meshgrid: in an upcoming release, it will be required to pass the indexing argument. (Triggered internally at ../aten/src/ATen/native/TensorShape.cpp:3190.)\n",
            "  return _VF.meshgrid(tensors, **kwargs)  # type: ignore[attr-defined]\n",
            "100% 1/1 [00:00<00:00, 19.27it/s]\n",
            "Results saved to runs/inference/exp\n"
          ]
        }
      ]
    },
    {
      "cell_type": "code",
      "source": [
        "!python tools/infer.py  --yaml {dataset.location}/data.yaml  --weights runs/train/exp/weights/best_ckpt.pt   --source {dataset.location}/images/test/0907_jpg.rf.bbd794632b6154d94aacd37883701c64.jpg    --device 0"
      ],
      "metadata": {
        "colab": {
          "base_uri": "https://localhost:8080/"
        },
        "id": "2xOMtwjVpWjp",
        "outputId": "5d293a9d-c48e-40ee-c10b-10bf5408d7f0"
      },
      "execution_count": null,
      "outputs": [
        {
          "output_type": "stream",
          "name": "stdout",
          "text": [
            "Namespace(agnostic_nms=False, classes=None, conf_thres=0.4, device='0', half=False, hide_conf=False, hide_labels=False, img_size=[640, 640], iou_thres=0.45, max_det=1000, name='exp', not_save_img=False, project='runs/inference', save_dir=None, save_txt=False, source='/content/YOLOv6/Normal-Insulator,-Defect-Insulator,-Defects--1-2/images/test/0907_jpg.rf.bbd794632b6154d94aacd37883701c64.jpg', view_img=False, webcam=False, webcam_addr='0', weights='runs/train/exp/weights/best_ckpt.pt', yaml='/content/YOLOv6/Normal-Insulator,-Defect-Insulator,-Defects--1-2/data.yaml')\n",
            "Save directory already existed\n",
            "Loading checkpoint from runs/train/exp/weights/best_ckpt.pt\n",
            "\n",
            "Fusing model...\n",
            "Switch model to deploy modality.\n",
            "/usr/local/lib/python3.8/dist-packages/torch/functional.py:504: UserWarning: torch.meshgrid: in an upcoming release, it will be required to pass the indexing argument. (Triggered internally at ../aten/src/ATen/native/TensorShape.cpp:3190.)\n",
            "  return _VF.meshgrid(tensors, **kwargs)  # type: ignore[attr-defined]\n",
            "100% 1/1 [00:00<00:00, 18.73it/s]\n",
            "Results saved to runs/inference/exp\n"
          ]
        }
      ]
    },
    {
      "cell_type": "code",
      "source": [
        "!python tools/infer.py  --yaml {dataset.location}/data.yaml  --weights runs/train/exp/weights/best_ckpt.pt   --source {dataset.location}/images/test/0913_jpg.rf.453b05c77ed5158c5cea7b4bb059f40b.jpg   --device 0"
      ],
      "metadata": {
        "colab": {
          "base_uri": "https://localhost:8080/"
        },
        "id": "uo2tgaSwpWom",
        "outputId": "b0cb9040-f1e0-4f32-9302-6162921f38da"
      },
      "execution_count": null,
      "outputs": [
        {
          "output_type": "stream",
          "name": "stdout",
          "text": [
            "Namespace(agnostic_nms=False, classes=None, conf_thres=0.4, device='0', half=False, hide_conf=False, hide_labels=False, img_size=[640, 640], iou_thres=0.45, max_det=1000, name='exp', not_save_img=False, project='runs/inference', save_dir=None, save_txt=False, source='/content/YOLOv6/Normal-Insulator,-Defect-Insulator,-Defects--1-2/images/test/0913_jpg.rf.453b05c77ed5158c5cea7b4bb059f40b.jpg', view_img=False, webcam=False, webcam_addr='0', weights='runs/train/exp/weights/best_ckpt.pt', yaml='/content/YOLOv6/Normal-Insulator,-Defect-Insulator,-Defects--1-2/data.yaml')\n",
            "Save directory already existed\n",
            "Loading checkpoint from runs/train/exp/weights/best_ckpt.pt\n",
            "\n",
            "Fusing model...\n",
            "Switch model to deploy modality.\n",
            "/usr/local/lib/python3.8/dist-packages/torch/functional.py:504: UserWarning: torch.meshgrid: in an upcoming release, it will be required to pass the indexing argument. (Triggered internally at ../aten/src/ATen/native/TensorShape.cpp:3190.)\n",
            "  return _VF.meshgrid(tensors, **kwargs)  # type: ignore[attr-defined]\n",
            "100% 1/1 [00:00<00:00, 23.50it/s]\n",
            "Results saved to runs/inference/exp\n"
          ]
        }
      ]
    },
    {
      "cell_type": "code",
      "execution_count": null,
      "metadata": {
        "colab": {
          "base_uri": "https://localhost:8080/"
        },
        "outputId": "33c4d455-53c1-4a6c-8b5b-e8a919cb8ec5",
        "id": "oFnr2RGEjqII"
      },
      "outputs": [
        {
          "output_type": "stream",
          "name": "stdout",
          "text": [
            "./runs/inference/exp/055_jpg.rf.530da4234099e400ca68d5874e7188ed.jpg\n"
          ]
        },
        {
          "output_type": "execute_result",
          "data": {
            "text/plain": [
              "1"
            ]
          },
          "metadata": {},
          "execution_count": 39
        }
      ],
      "source": [
        "\n",
        "import cv2\n",
        "import os\n",
        "import random\n",
        "\n",
        "\n",
        "\n",
        "label_folder = r'/content/YOLOv6/Normal-Insulator,-Defect-Insulator,-Defects--1-2/labels'\n",
        "\n",
        "raw_images_folder = r'/content/YOLOv6/Normal-Insulator,-Defect-Insulator,-Defects--1-2/images'\n",
        "\n",
        "save_images_folder = r'/content/YOLOv6/save_images_valid'\n",
        "\n",
        "name_list_path = r'/content/YOLOv6/Normal-Insulator,-Defect-Insulator,-Defects--1-2/labels/valid'\n",
        "\n",
        "classes_path = r'/content/YOLOv6/Normal-Insulator,-Defect-Insulator,-Defects--1-2'\n",
        "image_name=r'./runs/inference/exp/055_jpg.rf.530da4234099e400ca68d5874e7188ed.jpg'\n",
        "label=name_of_class='normalinsulator'\n",
        "def plot_one_box(x, image, color=None, label=name_of_class, line_thickness=None):\n",
        "\n",
        "    tl = line_thickness or round(0.002 * (image.shape[0] + image.shape[1]) / 2) + 1  # line/font thickness\n",
        "    color = color or [random.randint(0, 255) for _ in range(3)]\n",
        "    c1, c2 = (int(x[0]), int(x[1])), (int(x[2]), int(x[3]))\n",
        "    cv2.rectangle(image, c1, c2, color, thickness=tl, lineType=cv2.LINE_AA)\n",
        "    if label:\n",
        "        tf = max(tl - 1, 1)  # font thickness\n",
        "        t_size = cv2.getTextSize(str(label), 0, fontScale=tl / 3, thickness=tf)[0]\n",
        "        c2 = c1[0] + t_size[0], c1[1] - t_size[1] - 3\n",
        "        cv2.rectangle(image, c1, c2, color, -1, cv2.LINE_AA)  # filled\n",
        "        cv2.putText(image,str(label), (c1[0], c1[1] - 2), 0, tl / 3, [225, 255, 255], thickness=tf, lineType=cv2.LINE_AA)\n",
        "\n",
        "\n",
        "def draw_box_on_image(image_name, classes_path, label_folder, raw_images_folder, save_images_folder ):\n",
        "\n",
        "    txt_path  = r\"/content/YOLOv6/Normal-Insulator,-Defect-Insulator,-Defects--1-2/labels/test/055_jpg.rf.530da4234099e400ca68d5874e7188ed.txt\"\n",
        "    print(image_name)\n",
        "    if image_name == '.DS_Store':\n",
        "        return 0\n",
        "\n",
        "    image_path = r\"./runs/inference/exp/055_jpg.rf.530da4234099e400ca68d5874e7188ed.jpg\"\n",
        "    save_file_path = r\"/content/YOLOv6/save_images_test/055\"\n",
        "\n",
        "    source_file = open(txt_path) if os.path.exists(txt_path) else []\n",
        "    image = cv2.imread(image_path)\n",
        "    try:\n",
        "        height, width, channels = image.shape\n",
        "    except:\n",
        "        print('no shape info.')\n",
        "        return 0\n",
        "\n",
        "    box_number = 0\n",
        "    for line in source_file:\n",
        "        staff = line.split()\n",
        "        class_idx = int(staff[0])\n",
        "\n",
        "        x_center, y_center, w, h = float(staff[1])*width, float(staff[2])*height, float(staff[3])*width, float(staff[4])*height\n",
        "        x1 = round(x_center-w/2)\n",
        "        y1 = round(y_center-h/2)\n",
        "        x2 = round(x_center+w/2)\n",
        "        y2 = round(y_center+h/2)\n",
        "\n",
        "\n",
        "        plot_one_box([x1,y1,x2,y2], image,  label=name_of_class, line_thickness=None)\n",
        "        cv2.imwrite(r\"/content/YOLOv6/save_images_test/055.jpg\",image)\n",
        "\n",
        "        box_number += 1\n",
        "        return box_number\n",
        "draw_box_on_image(image_name, classes_path,  label_folder, raw_images_folder, save_images_folder )\n",
        "\n",
        "\n",
        "\n"
      ]
    },
    {
      "cell_type": "code",
      "execution_count": null,
      "metadata": {
        "colab": {
          "base_uri": "https://localhost:8080/"
        },
        "outputId": "344831a8-4ac0-4b44-91d8-bd7b532f9d90",
        "id": "SOhZYyH-jqQL"
      },
      "outputs": [
        {
          "output_type": "stream",
          "name": "stdout",
          "text": [
            "./runs/inference/exp/0617_jpg.rf.6c5c6797713ce790d851fb7d32f3a907.jpg\n"
          ]
        },
        {
          "output_type": "execute_result",
          "data": {
            "text/plain": [
              "1"
            ]
          },
          "metadata": {},
          "execution_count": 40
        }
      ],
      "source": [
        "\n",
        "import cv2\n",
        "import os\n",
        "import random\n",
        "\n",
        "\n",
        "\n",
        "label_folder = r'/content/YOLOv6/Normal-Insulator,-Defect-Insulator,-Defects--1-2/labels'\n",
        "\n",
        "raw_images_folder = r'/content/YOLOv6/Normal-Insulator,-Defect-Insulator,-Defects--1-2/images'\n",
        "\n",
        "save_images_folder = r'/content/YOLOv6/save_images_valid'\n",
        "\n",
        "name_list_path = r'/content/YOLOv6/Normal-Insulator,-Defect-Insulator,-Defects--1-2/labels/valid'\n",
        "\n",
        "classes_path = r'/content/YOLOv6/Normal-Insulator,-Defect-Insulator,-Defects--1-2'\n",
        "image_name=r'./runs/inference/exp/0617_jpg.rf.6c5c6797713ce790d851fb7d32f3a907.jpg'\n",
        "label=name_of_class='normalinsulator'\n",
        "def plot_one_box(x, image, color=None, label=name_of_class, line_thickness=None):\n",
        "\n",
        "    tl = line_thickness or round(0.002 * (image.shape[0] + image.shape[1]) / 2) + 1  # line/font thickness\n",
        "    color = color or [random.randint(0, 255) for _ in range(3)]\n",
        "    c1, c2 = (int(x[0]), int(x[1])), (int(x[2]), int(x[3]))\n",
        "    cv2.rectangle(image, c1, c2, color, thickness=tl, lineType=cv2.LINE_AA)\n",
        "    if label:\n",
        "        tf = max(tl - 1, 1)  # font thickness\n",
        "        t_size = cv2.getTextSize(str(label), 0, fontScale=tl / 3, thickness=tf)[0]\n",
        "        c2 = c1[0] + t_size[0], c1[1] - t_size[1] - 3\n",
        "        cv2.rectangle(image, c1, c2, color, -1, cv2.LINE_AA)  # filled\n",
        "        cv2.putText(image,str(label), (c1[0], c1[1] - 2), 0, tl / 3, [225, 255, 255], thickness=tf, lineType=cv2.LINE_AA)\n",
        "\n",
        "\n",
        "def draw_box_on_image(image_name, classes_path, label_folder, raw_images_folder, save_images_folder ):\n",
        "\n",
        "    txt_path  = r\"/content/YOLOv6/Normal-Insulator,-Defect-Insulator,-Defects--1-2/labels/test/0617_jpg.rf.6c5c6797713ce790d851fb7d32f3a907.txt\"\n",
        "    print(image_name)\n",
        "    if image_name == '.DS_Store':\n",
        "        return 0\n",
        "\n",
        "    image_path = r\"./runs/inference/exp/0617_jpg.rf.6c5c6797713ce790d851fb7d32f3a907.jpg\"\n",
        "    save_file_path = r\"/content/YOLOv6/save_images_test/0617\"\n",
        "\n",
        "    source_file = open(txt_path) if os.path.exists(txt_path) else []\n",
        "    image = cv2.imread(image_path)\n",
        "    try:\n",
        "        height, width, channels = image.shape\n",
        "    except:\n",
        "        print('no shape info.')\n",
        "        return 0\n",
        "\n",
        "    box_number = 0\n",
        "    for line in source_file:\n",
        "        staff = line.split()\n",
        "        class_idx = int(staff[0])\n",
        "\n",
        "        x_center, y_center, w, h = float(staff[1])*width, float(staff[2])*height, float(staff[3])*width, float(staff[4])*height\n",
        "        x1 = round(x_center-w/2)\n",
        "        y1 = round(y_center-h/2)\n",
        "        x2 = round(x_center+w/2)\n",
        "        y2 = round(y_center+h/2)\n",
        "\n",
        "\n",
        "        plot_one_box([x1,y1,x2,y2], image,  label=name_of_class, line_thickness=None)\n",
        "        cv2.imwrite(r\"/content/YOLOv6/save_images_test/0617.jpg\",image)\n",
        "\n",
        "        box_number += 1\n",
        "        return box_number\n",
        "draw_box_on_image(image_name, classes_path,  label_folder, raw_images_folder, save_images_folder )\n",
        "\n",
        "\n",
        "\n"
      ]
    },
    {
      "cell_type": "code",
      "execution_count": null,
      "metadata": {
        "colab": {
          "base_uri": "https://localhost:8080/"
        },
        "outputId": "2df94367-c308-4675-d476-268bbad9fe24",
        "id": "PvhCk-kGjsBM"
      },
      "outputs": [
        {
          "output_type": "stream",
          "name": "stdout",
          "text": [
            "./runs/inference/exp/0627_jpg.rf.537ed58579fe891d97dd237d37fcf9cd.jpg\n"
          ]
        },
        {
          "output_type": "execute_result",
          "data": {
            "text/plain": [
              "1"
            ]
          },
          "metadata": {},
          "execution_count": 41
        }
      ],
      "source": [
        "\n",
        "import cv2\n",
        "import os\n",
        "import random\n",
        "\n",
        "\n",
        "\n",
        "label_folder = r'/content/YOLOv6/Normal-Insulator,-Defect-Insulator,-Defects--1-2/labels'\n",
        "\n",
        "raw_images_folder = r'/content/YOLOv6/Normal-Insulator,-Defect-Insulator,-Defects--1-2/images'\n",
        "\n",
        "save_images_folder = r'/content/YOLOv6/save_images_valid'\n",
        "\n",
        "name_list_path = r'/content/YOLOv6/Normal-Insulator,-Defect-Insulator,-Defects--1-2/labels/valid'\n",
        "\n",
        "classes_path = r'/content/YOLOv6/Normal-Insulator,-Defect-Insulator,-Defects--1-2'\n",
        "image_name=r'./runs/inference/exp/0627_jpg.rf.537ed58579fe891d97dd237d37fcf9cd.jpg'\n",
        "label=name_of_class='normalinsulator'\n",
        "def plot_one_box(x, image, color=None, label=name_of_class, line_thickness=None):\n",
        "\n",
        "    tl = line_thickness or round(0.002 * (image.shape[0] + image.shape[1]) / 2) + 1  # line/font thickness\n",
        "    color = color or [random.randint(0, 255) for _ in range(3)]\n",
        "    c1, c2 = (int(x[0]), int(x[1])), (int(x[2]), int(x[3]))\n",
        "    cv2.rectangle(image, c1, c2, color, thickness=tl, lineType=cv2.LINE_AA)\n",
        "    if label:\n",
        "        tf = max(tl - 1, 1)  # font thickness\n",
        "        t_size = cv2.getTextSize(str(label), 0, fontScale=tl / 3, thickness=tf)[0]\n",
        "        c2 = c1[0] + t_size[0], c1[1] - t_size[1] - 3\n",
        "        cv2.rectangle(image, c1, c2, color, -1, cv2.LINE_AA)  # filled\n",
        "        cv2.putText(image,str(label), (c1[0], c1[1] - 2), 0, tl / 3, [225, 255, 255], thickness=tf, lineType=cv2.LINE_AA)\n",
        "\n",
        "\n",
        "def draw_box_on_image(image_name, classes_path, label_folder, raw_images_folder, save_images_folder ):\n",
        "\n",
        "    txt_path  = r\"/content/YOLOv6/Normal-Insulator,-Defect-Insulator,-Defects--1-2/labels/test/0627_jpg.rf.537ed58579fe891d97dd237d37fcf9cd.txt\"\n",
        "    print(image_name)\n",
        "    if image_name == '.DS_Store':\n",
        "        return 0\n",
        "\n",
        "    image_path = r\"./runs/inference/exp/0627_jpg.rf.537ed58579fe891d97dd237d37fcf9cd.jpg\"\n",
        "    save_file_path = r\"/content/YOLOv6/save_images_test/0627\"\n",
        "\n",
        "    source_file = open(txt_path) if os.path.exists(txt_path) else []\n",
        "    image = cv2.imread(image_path)\n",
        "    try:\n",
        "        height, width, channels = image.shape\n",
        "    except:\n",
        "        print('no shape info.')\n",
        "        return 0\n",
        "\n",
        "    box_number = 0\n",
        "    for line in source_file:\n",
        "        staff = line.split()\n",
        "        class_idx = int(staff[0])\n",
        "\n",
        "        x_center, y_center, w, h = float(staff[1])*width, float(staff[2])*height, float(staff[3])*width, float(staff[4])*height\n",
        "        x1 = round(x_center-w/2)\n",
        "        y1 = round(y_center-h/2)\n",
        "        x2 = round(x_center+w/2)\n",
        "        y2 = round(y_center+h/2)\n",
        "\n",
        "\n",
        "        plot_one_box([x1,y1,x2,y2], image,  label=name_of_class, line_thickness=None)\n",
        "        cv2.imwrite(r\"/content/YOLOv6/save_images_test/0627.jpg\",image)\n",
        "\n",
        "        box_number += 1\n",
        "        return box_number\n",
        "draw_box_on_image(image_name, classes_path,  label_folder, raw_images_folder, save_images_folder )\n",
        "\n",
        "\n",
        "\n"
      ]
    },
    {
      "cell_type": "code",
      "execution_count": null,
      "metadata": {
        "colab": {
          "base_uri": "https://localhost:8080/"
        },
        "outputId": "caca61d0-8339-4e8b-bf5f-e499caae05f4",
        "id": "MMrCVWyPjsOz"
      },
      "outputs": [
        {
          "output_type": "stream",
          "name": "stdout",
          "text": [
            "./runs/inference/exp/0713_jpg.rf.7511fd3b1891526039dfca238620a70f.jpg\n"
          ]
        },
        {
          "output_type": "execute_result",
          "data": {
            "text/plain": [
              "1"
            ]
          },
          "metadata": {},
          "execution_count": 42
        }
      ],
      "source": [
        "\n",
        "import cv2\n",
        "import os\n",
        "import random\n",
        "\n",
        "\n",
        "\n",
        "label_folder = r'/content/YOLOv6/Normal-Insulator,-Defect-Insulator,-Defects--1-2/labels'\n",
        "\n",
        "raw_images_folder = r'/content/YOLOv6/Normal-Insulator,-Defect-Insulator,-Defects--1-2/images'\n",
        "\n",
        "save_images_folder = r'/content/YOLOv6/save_images_valid'\n",
        "\n",
        "name_list_path = r'/content/YOLOv6/Normal-Insulator,-Defect-Insulator,-Defects--1-2/labels/valid'\n",
        "\n",
        "classes_path = r'/content/YOLOv6/Normal-Insulator,-Defect-Insulator,-Defects--1-2'\n",
        "image_name=r'./runs/inference/exp/0713_jpg.rf.7511fd3b1891526039dfca238620a70f.jpg'\n",
        "label=name_of_class='normalinsulator'\n",
        "def plot_one_box(x, image, color=None, label=name_of_class, line_thickness=None):\n",
        "\n",
        "    tl = line_thickness or round(0.002 * (image.shape[0] + image.shape[1]) / 2) + 1  # line/font thickness\n",
        "    color = color or [random.randint(0, 255) for _ in range(3)]\n",
        "    c1, c2 = (int(x[0]), int(x[1])), (int(x[2]), int(x[3]))\n",
        "    cv2.rectangle(image, c1, c2, color, thickness=tl, lineType=cv2.LINE_AA)\n",
        "    if label:\n",
        "        tf = max(tl - 1, 1)  # font thickness\n",
        "        t_size = cv2.getTextSize(str(label), 0, fontScale=tl / 3, thickness=tf)[0]\n",
        "        c2 = c1[0] + t_size[0], c1[1] - t_size[1] - 3\n",
        "        cv2.rectangle(image, c1, c2, color, -1, cv2.LINE_AA)  # filled\n",
        "        cv2.putText(image,str(label), (c1[0], c1[1] - 2), 0, tl / 3, [225, 255, 255], thickness=tf, lineType=cv2.LINE_AA)\n",
        "\n",
        "\n",
        "def draw_box_on_image(image_name, classes_path, label_folder, raw_images_folder, save_images_folder ):\n",
        "\n",
        "    txt_path  = r\"/content/YOLOv6/Normal-Insulator,-Defect-Insulator,-Defects--1-2/labels/test/0713_jpg.rf.7511fd3b1891526039dfca238620a70f.txt\"\n",
        "    print(image_name)\n",
        "    if image_name == '.DS_Store':\n",
        "        return 0\n",
        "\n",
        "    image_path = r\"./runs/inference/exp/0713_jpg.rf.7511fd3b1891526039dfca238620a70f.jpg\"\n",
        "    save_file_path = r\"/content/YOLOv6/save_images_test/0713\"\n",
        "\n",
        "    source_file = open(txt_path) if os.path.exists(txt_path) else []\n",
        "    image = cv2.imread(image_path)\n",
        "    try:\n",
        "        height, width, channels = image.shape\n",
        "    except:\n",
        "        print('no shape info.')\n",
        "        return 0\n",
        "\n",
        "    box_number = 0\n",
        "    for line in source_file:\n",
        "        staff = line.split()\n",
        "        class_idx = int(staff[0])\n",
        "\n",
        "        x_center, y_center, w, h = float(staff[1])*width, float(staff[2])*height, float(staff[3])*width, float(staff[4])*height\n",
        "        x1 = round(x_center-w/2)\n",
        "        y1 = round(y_center-h/2)\n",
        "        x2 = round(x_center+w/2)\n",
        "        y2 = round(y_center+h/2)\n",
        "\n",
        "\n",
        "        plot_one_box([x1,y1,x2,y2], image,  label=name_of_class, line_thickness=None)\n",
        "        cv2.imwrite(r\"/content/YOLOv6/save_images_test/0713.jpg\",image)\n",
        "\n",
        "        box_number += 1\n",
        "        return box_number\n",
        "draw_box_on_image(image_name, classes_path,  label_folder, raw_images_folder, save_images_folder )\n",
        "\n",
        "\n",
        "\n"
      ]
    },
    {
      "cell_type": "code",
      "execution_count": null,
      "metadata": {
        "colab": {
          "base_uri": "https://localhost:8080/"
        },
        "outputId": "06919b09-1fe1-45b0-9bc7-cd9fb106dc84",
        "id": "P_qJ3s08jsZs"
      },
      "outputs": [
        {
          "output_type": "stream",
          "name": "stdout",
          "text": [
            "./runs/inference/exp/0718_jpg.rf.7e923300cc12ea45b20673763eb4dc73.jpg\n"
          ]
        },
        {
          "output_type": "execute_result",
          "data": {
            "text/plain": [
              "1"
            ]
          },
          "metadata": {},
          "execution_count": 43
        }
      ],
      "source": [
        "\n",
        "import cv2\n",
        "import os\n",
        "import random\n",
        "\n",
        "\n",
        "\n",
        "label_folder = r'/content/YOLOv6/Normal-Insulator,-Defect-Insulator,-Defects--1-2/labels'\n",
        "\n",
        "raw_images_folder = r'/content/YOLOv6/Normal-Insulator,-Defect-Insulator,-Defects--1-2/images'\n",
        "\n",
        "save_images_folder = r'/content/YOLOv6/save_images_valid'\n",
        "\n",
        "name_list_path = r'/content/YOLOv6/Normal-Insulator,-Defect-Insulator,-Defects--1-2/labels/valid'\n",
        "\n",
        "classes_path = r'/content/YOLOv6/Normal-Insulator,-Defect-Insulator,-Defects--1-2'\n",
        "image_name=r'./runs/inference/exp/0718_jpg.rf.7e923300cc12ea45b20673763eb4dc73.jpg'\n",
        "label=name_of_class='normalinsulator'\n",
        "def plot_one_box(x, image, color=None, label=name_of_class, line_thickness=None):\n",
        "\n",
        "    tl = line_thickness or round(0.002 * (image.shape[0] + image.shape[1]) / 2) + 1  # line/font thickness\n",
        "    color = color or [random.randint(0, 255) for _ in range(3)]\n",
        "    c1, c2 = (int(x[0]), int(x[1])), (int(x[2]), int(x[3]))\n",
        "    cv2.rectangle(image, c1, c2, color, thickness=tl, lineType=cv2.LINE_AA)\n",
        "    if label:\n",
        "        tf = max(tl - 1, 1)  # font thickness\n",
        "        t_size = cv2.getTextSize(str(label), 0, fontScale=tl / 3, thickness=tf)[0]\n",
        "        c2 = c1[0] + t_size[0], c1[1] - t_size[1] - 3\n",
        "        cv2.rectangle(image, c1, c2, color, -1, cv2.LINE_AA)  # filled\n",
        "        cv2.putText(image,str(label), (c1[0], c1[1] - 2), 0, tl / 3, [225, 255, 255], thickness=tf, lineType=cv2.LINE_AA)\n",
        "\n",
        "\n",
        "def draw_box_on_image(image_name, classes_path, label_folder, raw_images_folder, save_images_folder ):\n",
        "\n",
        "    txt_path  = r\"/content/YOLOv6/Normal-Insulator,-Defect-Insulator,-Defects--1-2/labels/test/0718_jpg.rf.7e923300cc12ea45b20673763eb4dc73.txt\"\n",
        "    print(image_name)\n",
        "    if image_name == '.DS_Store':\n",
        "        return 0\n",
        "\n",
        "    image_path = r\"./runs/inference/exp/0718_jpg.rf.7e923300cc12ea45b20673763eb4dc73.jpg\"\n",
        "    save_file_path = r\"/content/YOLOv6/save_images_test/0718\"\n",
        "\n",
        "    source_file = open(txt_path) if os.path.exists(txt_path) else []\n",
        "    image = cv2.imread(image_path)\n",
        "    try:\n",
        "        height, width, channels = image.shape\n",
        "    except:\n",
        "        print('no shape info.')\n",
        "        return 0\n",
        "\n",
        "    box_number = 0\n",
        "    for line in source_file:\n",
        "        staff = line.split()\n",
        "        class_idx = int(staff[0])\n",
        "\n",
        "        x_center, y_center, w, h = float(staff[1])*width, float(staff[2])*height, float(staff[3])*width, float(staff[4])*height\n",
        "        x1 = round(x_center-w/2)\n",
        "        y1 = round(y_center-h/2)\n",
        "        x2 = round(x_center+w/2)\n",
        "        y2 = round(y_center+h/2)\n",
        "\n",
        "\n",
        "        plot_one_box([x1,y1,x2,y2], image,  label=name_of_class, line_thickness=None)\n",
        "        cv2.imwrite(r\"/content/YOLOv6/save_images_test/0718.jpg\",image)\n",
        "\n",
        "        box_number += 1\n",
        "        return box_number\n",
        "draw_box_on_image(image_name, classes_path,  label_folder, raw_images_folder, save_images_folder )\n",
        "\n",
        "\n",
        "\n"
      ]
    },
    {
      "cell_type": "code",
      "execution_count": null,
      "metadata": {
        "colab": {
          "base_uri": "https://localhost:8080/"
        },
        "outputId": "7d2330bb-bb93-46f3-e1b2-ddd7e03b9bff",
        "id": "jQgwKFwxjsj7"
      },
      "outputs": [
        {
          "output_type": "stream",
          "name": "stdout",
          "text": [
            "./runs/inference/exp/072_jpg.rf.e1de013b7a1ce0bfeb4c17bd02857350.jpg\n"
          ]
        },
        {
          "output_type": "execute_result",
          "data": {
            "text/plain": [
              "1"
            ]
          },
          "metadata": {},
          "execution_count": 44
        }
      ],
      "source": [
        "\n",
        "import cv2\n",
        "import os\n",
        "import random\n",
        "\n",
        "\n",
        "\n",
        "label_folder = r'/content/YOLOv6/Normal-Insulator,-Defect-Insulator,-Defects--1-2/labels'\n",
        "\n",
        "raw_images_folder = r'/content/YOLOv6/Normal-Insulator,-Defect-Insulator,-Defects--1-2/images'\n",
        "\n",
        "save_images_folder = r'/content/YOLOv6/save_images_valid'\n",
        "\n",
        "name_list_path = r'/content/YOLOv6/Normal-Insulator,-Defect-Insulator,-Defects--1-2/labels/valid'\n",
        "\n",
        "classes_path = r'/content/YOLOv6/Normal-Insulator,-Defect-Insulator,-Defects--1-2'\n",
        "image_name=r'./runs/inference/exp/072_jpg.rf.e1de013b7a1ce0bfeb4c17bd02857350.jpg'\n",
        "label=name_of_class='normalinsulator'\n",
        "def plot_one_box(x, image, color=None, label=name_of_class, line_thickness=None):\n",
        "\n",
        "    tl = line_thickness or round(0.002 * (image.shape[0] + image.shape[1]) / 2) + 1  # line/font thickness\n",
        "    color = color or [random.randint(0, 255) for _ in range(3)]\n",
        "    c1, c2 = (int(x[0]), int(x[1])), (int(x[2]), int(x[3]))\n",
        "    cv2.rectangle(image, c1, c2, color, thickness=tl, lineType=cv2.LINE_AA)\n",
        "    if label:\n",
        "        tf = max(tl - 1, 1)  # font thickness\n",
        "        t_size = cv2.getTextSize(str(label), 0, fontScale=tl / 3, thickness=tf)[0]\n",
        "        c2 = c1[0] + t_size[0], c1[1] - t_size[1] - 3\n",
        "        cv2.rectangle(image, c1, c2, color, -1, cv2.LINE_AA)  # filled\n",
        "        cv2.putText(image,str(label), (c1[0], c1[1] - 2), 0, tl / 3, [225, 255, 255], thickness=tf, lineType=cv2.LINE_AA)\n",
        "\n",
        "\n",
        "def draw_box_on_image(image_name, classes_path, label_folder, raw_images_folder, save_images_folder ):\n",
        "\n",
        "    txt_path  = r\"/content/YOLOv6/Normal-Insulator,-Defect-Insulator,-Defects--1-2/labels/test/072_jpg.rf.e1de013b7a1ce0bfeb4c17bd02857350.txt\"\n",
        "    print(image_name)\n",
        "    if image_name == '.DS_Store':\n",
        "        return 0\n",
        "\n",
        "    image_path = r\"./runs/inference/exp/072_jpg.rf.e1de013b7a1ce0bfeb4c17bd02857350.jpg\"\n",
        "    save_file_path = r\"/content/YOLOv6/save_images_test/072\"\n",
        "\n",
        "    source_file = open(txt_path) if os.path.exists(txt_path) else []\n",
        "    image = cv2.imread(image_path)\n",
        "    try:\n",
        "        height, width, channels = image.shape\n",
        "    except:\n",
        "        print('no shape info.')\n",
        "        return 0\n",
        "\n",
        "    box_number = 0\n",
        "    for line in source_file:\n",
        "        staff = line.split()\n",
        "        class_idx = int(staff[0])\n",
        "\n",
        "        x_center, y_center, w, h = float(staff[1])*width, float(staff[2])*height, float(staff[3])*width, float(staff[4])*height\n",
        "        x1 = round(x_center-w/2)\n",
        "        y1 = round(y_center-h/2)\n",
        "        x2 = round(x_center+w/2)\n",
        "        y2 = round(y_center+h/2)\n",
        "\n",
        "\n",
        "        plot_one_box([x1,y1,x2,y2], image,  label=name_of_class, line_thickness=None)\n",
        "        cv2.imwrite(r\"/content/YOLOv6/save_images_test/072.jpg\",image)\n",
        "\n",
        "        box_number += 1\n",
        "        return box_number\n",
        "draw_box_on_image(image_name, classes_path,  label_folder, raw_images_folder, save_images_folder )\n",
        "\n",
        "\n",
        "\n"
      ]
    },
    {
      "cell_type": "code",
      "execution_count": null,
      "metadata": {
        "colab": {
          "base_uri": "https://localhost:8080/"
        },
        "outputId": "366fca0e-2375-48a8-92d1-9741a946b7a8",
        "id": "2HDzQApBjsuc"
      },
      "outputs": [
        {
          "output_type": "stream",
          "name": "stdout",
          "text": [
            "./runs/inference/exp/0735_jpg.rf.47977688bf443ba70e663cd056d308d7.jpg\n"
          ]
        },
        {
          "output_type": "execute_result",
          "data": {
            "text/plain": [
              "1"
            ]
          },
          "metadata": {},
          "execution_count": 45
        }
      ],
      "source": [
        "\n",
        "import cv2\n",
        "import os\n",
        "import random\n",
        "\n",
        "\n",
        "\n",
        "label_folder = r'/content/YOLOv6/Normal-Insulator,-Defect-Insulator,-Defects--1-2/labels'\n",
        "\n",
        "raw_images_folder = r'/content/YOLOv6/Normal-Insulator,-Defect-Insulator,-Defects--1-2/images'\n",
        "\n",
        "save_images_folder = r'/content/YOLOv6/save_images_valid'\n",
        "\n",
        "name_list_path = r'/content/YOLOv6/Normal-Insulator,-Defect-Insulator,-Defects--1-2/labels/valid'\n",
        "\n",
        "classes_path = r'/content/YOLOv6/Normal-Insulator,-Defect-Insulator,-Defects--1-2'\n",
        "image_name=r'./runs/inference/exp/0735_jpg.rf.47977688bf443ba70e663cd056d308d7.jpg'\n",
        "label=name_of_class='normalinsulator'\n",
        "def plot_one_box(x, image, color=None, label=name_of_class, line_thickness=None):\n",
        "\n",
        "    tl = line_thickness or round(0.002 * (image.shape[0] + image.shape[1]) / 2) + 1  # line/font thickness\n",
        "    color = color or [random.randint(0, 255) for _ in range(3)]\n",
        "    c1, c2 = (int(x[0]), int(x[1])), (int(x[2]), int(x[3]))\n",
        "    cv2.rectangle(image, c1, c2, color, thickness=tl, lineType=cv2.LINE_AA)\n",
        "    if label:\n",
        "        tf = max(tl - 1, 1)  # font thickness\n",
        "        t_size = cv2.getTextSize(str(label), 0, fontScale=tl / 3, thickness=tf)[0]\n",
        "        c2 = c1[0] + t_size[0], c1[1] - t_size[1] - 3\n",
        "        cv2.rectangle(image, c1, c2, color, -1, cv2.LINE_AA)  # filled\n",
        "        cv2.putText(image,str(label), (c1[0], c1[1] - 2), 0, tl / 3, [225, 255, 255], thickness=tf, lineType=cv2.LINE_AA)\n",
        "\n",
        "\n",
        "def draw_box_on_image(image_name, classes_path, label_folder, raw_images_folder, save_images_folder ):\n",
        "\n",
        "    txt_path  = r\"/content/YOLOv6/Normal-Insulator,-Defect-Insulator,-Defects--1-2/labels/test/0735_jpg.rf.47977688bf443ba70e663cd056d308d7.txt\"\n",
        "    print(image_name)\n",
        "    if image_name == '.DS_Store':\n",
        "        return 0\n",
        "\n",
        "    image_path = r\"./runs/inference/exp/0735_jpg.rf.47977688bf443ba70e663cd056d308d7.jpg\"\n",
        "    save_file_path = r\"/content/YOLOv6/save_images_test/0735\"\n",
        "\n",
        "    source_file = open(txt_path) if os.path.exists(txt_path) else []\n",
        "    image = cv2.imread(image_path)\n",
        "    try:\n",
        "        height, width, channels = image.shape\n",
        "    except:\n",
        "        print('no shape info.')\n",
        "        return 0\n",
        "\n",
        "    box_number = 0\n",
        "    for line in source_file:\n",
        "        staff = line.split()\n",
        "        class_idx = int(staff[0])\n",
        "\n",
        "        x_center, y_center, w, h = float(staff[1])*width, float(staff[2])*height, float(staff[3])*width, float(staff[4])*height\n",
        "        x1 = round(x_center-w/2)\n",
        "        y1 = round(y_center-h/2)\n",
        "        x2 = round(x_center+w/2)\n",
        "        y2 = round(y_center+h/2)\n",
        "\n",
        "\n",
        "        plot_one_box([x1,y1,x2,y2], image,  label=name_of_class, line_thickness=None)\n",
        "        cv2.imwrite(r\"/content/YOLOv6/save_images_test/0735.jpg\",image)\n",
        "\n",
        "        box_number += 1\n",
        "        return box_number\n",
        "draw_box_on_image(image_name, classes_path,  label_folder, raw_images_folder, save_images_folder )\n",
        "\n",
        "\n",
        "\n"
      ]
    },
    {
      "cell_type": "code",
      "execution_count": null,
      "metadata": {
        "colab": {
          "base_uri": "https://localhost:8080/"
        },
        "outputId": "127f5498-0ed2-4517-b763-98fdd999183a",
        "id": "K0JIORWijs4A"
      },
      "outputs": [
        {
          "output_type": "stream",
          "name": "stdout",
          "text": [
            "./runs/inference/exp/073_jpg.rf.8e40dd55704608ea5ea62018813ddb46.jpg\n"
          ]
        },
        {
          "output_type": "execute_result",
          "data": {
            "text/plain": [
              "1"
            ]
          },
          "metadata": {},
          "execution_count": 47
        }
      ],
      "source": [
        "\n",
        "import cv2\n",
        "import os\n",
        "import random\n",
        "\n",
        "\n",
        "\n",
        "label_folder = r'/content/YOLOv6/Normal-Insulator,-Defect-Insulator,-Defects--1-2/labels'\n",
        "\n",
        "raw_images_folder = r'/content/YOLOv6/Normal-Insulator,-Defect-Insulator,-Defects--1-2/images'\n",
        "\n",
        "save_images_folder = r'/content/YOLOv6/save_images_valid'\n",
        "\n",
        "name_list_path = r'/content/YOLOv6/Normal-Insulator,-Defect-Insulator,-Defects--1-2/labels/valid'\n",
        "\n",
        "classes_path = r'/content/YOLOv6/Normal-Insulator,-Defect-Insulator,-Defects--1-2'\n",
        "image_name=r'./runs/inference/exp/073_jpg.rf.8e40dd55704608ea5ea62018813ddb46.jpg'\n",
        "label=name_of_class='defective insulator'\n",
        "def plot_one_box(x, image, color=None, label=name_of_class, line_thickness=None):\n",
        "\n",
        "    tl = line_thickness or round(0.002 * (image.shape[0] + image.shape[1]) / 2) + 1  # line/font thickness\n",
        "    color = color or [random.randint(0, 255) for _ in range(3)]\n",
        "    c1, c2 = (int(x[0]), int(x[1])), (int(x[2]), int(x[3]))\n",
        "    cv2.rectangle(image, c1, c2, color, thickness=tl, lineType=cv2.LINE_AA)\n",
        "    if label:\n",
        "        tf = max(tl - 1, 1)  # font thickness\n",
        "        t_size = cv2.getTextSize(str(label), 0, fontScale=tl / 3, thickness=tf)[0]\n",
        "        c2 = c1[0] + t_size[0], c1[1] - t_size[1] - 3\n",
        "        cv2.rectangle(image, c1, c2, color, -1, cv2.LINE_AA)  # filled\n",
        "        cv2.putText(image,str(label), (c1[0], c1[1] - 2), 0, tl / 3, [225, 255, 255], thickness=tf, lineType=cv2.LINE_AA)\n",
        "\n",
        "\n",
        "def draw_box_on_image(image_name, classes_path, label_folder, raw_images_folder, save_images_folder ):\n",
        "\n",
        "    txt_path  = r\"/content/YOLOv6/Normal-Insulator,-Defect-Insulator,-Defects--1-2/labels/test/073_jpg.rf.8e40dd55704608ea5ea62018813ddb46.txt\"\n",
        "    print(image_name)\n",
        "    if image_name == '.DS_Store':\n",
        "        return 0\n",
        "\n",
        "    image_path = r\"./runs/inference/exp/073_jpg.rf.8e40dd55704608ea5ea62018813ddb46.jpg\"\n",
        "    save_file_path = r\"/content/YOLOv6/save_images_test/073\"\n",
        "\n",
        "    source_file = open(txt_path) if os.path.exists(txt_path) else []\n",
        "    image = cv2.imread(image_path)\n",
        "    try:\n",
        "        height, width, channels = image.shape\n",
        "    except:\n",
        "        print('no shape info.')\n",
        "        return 0\n",
        "\n",
        "    box_number = 0\n",
        "    for line in source_file:\n",
        "        staff = line.split()\n",
        "        class_idx = int(staff[0])\n",
        "\n",
        "        x_center, y_center, w, h = float(staff[1])*width, float(staff[2])*height, float(staff[3])*width, float(staff[4])*height\n",
        "        x1 = round(x_center-w/2)\n",
        "        y1 = round(y_center-h/2)\n",
        "        x2 = round(x_center+w/2)\n",
        "        y2 = round(y_center+h/2)\n",
        "\n",
        "\n",
        "        plot_one_box([x1,y1,x2,y2], image,  label=name_of_class, line_thickness=None)\n",
        "        cv2.imwrite(r\"/content/YOLOv6/save_images_test/073.jpg\",image)\n",
        "\n",
        "        box_number += 1\n",
        "        return box_number\n",
        "draw_box_on_image(image_name, classes_path,  label_folder, raw_images_folder, save_images_folder )\n",
        "\n",
        "\n",
        "\n"
      ]
    },
    {
      "cell_type": "code",
      "execution_count": null,
      "metadata": {
        "colab": {
          "base_uri": "https://localhost:8080/"
        },
        "outputId": "839dc947-916a-4eea-ecbc-42a3fb25708b",
        "id": "cLXxG80UjtBz"
      },
      "outputs": [
        {
          "output_type": "stream",
          "name": "stdout",
          "text": [
            "./runs/inference/exp/0792_jpg.rf.1a5f5695df2079d8002bddce856a8654.jpg\n"
          ]
        },
        {
          "output_type": "execute_result",
          "data": {
            "text/plain": [
              "1"
            ]
          },
          "metadata": {},
          "execution_count": 48
        }
      ],
      "source": [
        "\n",
        "import cv2\n",
        "import os\n",
        "import random\n",
        "\n",
        "\n",
        "\n",
        "label_folder = r'/content/YOLOv6/Normal-Insulator,-Defect-Insulator,-Defects--1-2/labels'\n",
        "\n",
        "raw_images_folder = r'/content/YOLOv6/Normal-Insulator,-Defect-Insulator,-Defects--1-2/images'\n",
        "\n",
        "save_images_folder = r'/content/YOLOv6/save_images_valid'\n",
        "\n",
        "name_list_path = r'/content/YOLOv6/Normal-Insulator,-Defect-Insulator,-Defects--1-2/labels/valid'\n",
        "\n",
        "classes_path = r'/content/YOLOv6/Normal-Insulator,-Defect-Insulator,-Defects--1-2'\n",
        "image_name=r'./runs/inference/exp/0792_jpg.rf.1a5f5695df2079d8002bddce856a8654.jpg'\n",
        "label=name_of_class='normalinsulator'\n",
        "def plot_one_box(x, image, color=None, label=name_of_class, line_thickness=None):\n",
        "\n",
        "    tl = line_thickness or round(0.002 * (image.shape[0] + image.shape[1]) / 2) + 1  # line/font thickness\n",
        "    color = color or [random.randint(0, 255) for _ in range(3)]\n",
        "    c1, c2 = (int(x[0]), int(x[1])), (int(x[2]), int(x[3]))\n",
        "    cv2.rectangle(image, c1, c2, color, thickness=tl, lineType=cv2.LINE_AA)\n",
        "    if label:\n",
        "        tf = max(tl - 1, 1)  # font thickness\n",
        "        t_size = cv2.getTextSize(str(label), 0, fontScale=tl / 3, thickness=tf)[0]\n",
        "        c2 = c1[0] + t_size[0], c1[1] - t_size[1] - 3\n",
        "        cv2.rectangle(image, c1, c2, color, -1, cv2.LINE_AA)  # filled\n",
        "        cv2.putText(image,str(label), (c1[0], c1[1] - 2), 0, tl / 3, [225, 255, 255], thickness=tf, lineType=cv2.LINE_AA)\n",
        "\n",
        "\n",
        "def draw_box_on_image(image_name, classes_path, label_folder, raw_images_folder, save_images_folder ):\n",
        "\n",
        "    txt_path  = r\"/content/YOLOv6/Normal-Insulator,-Defect-Insulator,-Defects--1-2/labels/test/0792_jpg.rf.1a5f5695df2079d8002bddce856a8654.txt\"\n",
        "    print(image_name)\n",
        "    if image_name == '.DS_Store':\n",
        "        return 0\n",
        "\n",
        "    image_path = r\"./runs/inference/exp/0792_jpg.rf.1a5f5695df2079d8002bddce856a8654.jpg\"\n",
        "    save_file_path = r\"/content/YOLOv6/save_images_test/0792\"\n",
        "\n",
        "    source_file = open(txt_path) if os.path.exists(txt_path) else []\n",
        "    image = cv2.imread(image_path)\n",
        "    try:\n",
        "        height, width, channels = image.shape\n",
        "    except:\n",
        "        print('no shape info.')\n",
        "        return 0\n",
        "\n",
        "    box_number = 0\n",
        "    for line in source_file:\n",
        "        staff = line.split()\n",
        "        class_idx = int(staff[0])\n",
        "\n",
        "        x_center, y_center, w, h = float(staff[1])*width, float(staff[2])*height, float(staff[3])*width, float(staff[4])*height\n",
        "        x1 = round(x_center-w/2)\n",
        "        y1 = round(y_center-h/2)\n",
        "        x2 = round(x_center+w/2)\n",
        "        y2 = round(y_center+h/2)\n",
        "\n",
        "\n",
        "        plot_one_box([x1,y1,x2,y2], image,  label=name_of_class, line_thickness=None)\n",
        "        cv2.imwrite(r\"/content/YOLOv6/save_images_test/0792.jpg\",image)\n",
        "\n",
        "        box_number += 1\n",
        "        return box_number\n",
        "draw_box_on_image(image_name, classes_path,  label_folder, raw_images_folder, save_images_folder )\n",
        "\n",
        "\n",
        "\n"
      ]
    },
    {
      "cell_type": "code",
      "execution_count": null,
      "metadata": {
        "colab": {
          "base_uri": "https://localhost:8080/"
        },
        "outputId": "3e4b4aee-b27c-441b-e734-3915f94c9cc8",
        "id": "cuwSEspzjtLi"
      },
      "outputs": [
        {
          "output_type": "stream",
          "name": "stdout",
          "text": [
            "./runs/inference/exp/085_jpg.rf.edfc18f82cb64dcdada59c19245a0834.jpg\n"
          ]
        },
        {
          "output_type": "execute_result",
          "data": {
            "text/plain": [
              "1"
            ]
          },
          "metadata": {},
          "execution_count": 50
        }
      ],
      "source": [
        "\n",
        "import cv2\n",
        "import os\n",
        "import random\n",
        "\n",
        "\n",
        "\n",
        "label_folder = r'/content/YOLOv6/Normal-Insulator,-Defect-Insulator,-Defects--1-2/labels'\n",
        "\n",
        "raw_images_folder = r'/content/YOLOv6/Normal-Insulator,-Defect-Insulator,-Defects--1-2/images'\n",
        "\n",
        "save_images_folder = r'/content/YOLOv6/save_images_valid'\n",
        "\n",
        "name_list_path = r'/content/YOLOv6/Normal-Insulator,-Defect-Insulator,-Defects--1-2/labels/valid'\n",
        "\n",
        "classes_path = r'/content/YOLOv6/Normal-Insulator,-Defect-Insulator,-Defects--1-2'\n",
        "image_name=r'./runs/inference/exp/085_jpg.rf.edfc18f82cb64dcdada59c19245a0834.jpg'\n",
        "label=name_of_class='defect'\n",
        "def plot_one_box(x, image, color=None, label=name_of_class, line_thickness=None):\n",
        "\n",
        "    tl = line_thickness or round(0.002 * (image.shape[0] + image.shape[1]) / 2) + 1  # line/font thickness\n",
        "    color = color or [random.randint(0, 255) for _ in range(3)]\n",
        "    c1, c2 = (int(x[0]), int(x[1])), (int(x[2]), int(x[3]))\n",
        "    cv2.rectangle(image, c1, c2, color, thickness=tl, lineType=cv2.LINE_AA)\n",
        "    if label:\n",
        "        tf = max(tl - 1, 1)  # font thickness\n",
        "        t_size = cv2.getTextSize(str(label), 0, fontScale=tl / 3, thickness=tf)[0]\n",
        "        c2 = c1[0] + t_size[0], c1[1] - t_size[1] - 3\n",
        "        cv2.rectangle(image, c1, c2, color, -1, cv2.LINE_AA)  # filled\n",
        "        cv2.putText(image,str(label), (c1[0], c1[1] - 2), 0, tl / 3, [225, 255, 255], thickness=tf, lineType=cv2.LINE_AA)\n",
        "\n",
        "\n",
        "def draw_box_on_image(image_name, classes_path, label_folder, raw_images_folder, save_images_folder ):\n",
        "\n",
        "    txt_path  = r\"/content/YOLOv6/Normal-Insulator,-Defect-Insulator,-Defects--1-2/labels/test/085_jpg.rf.edfc18f82cb64dcdada59c19245a0834.txt\"\n",
        "    print(image_name)\n",
        "    if image_name == '.DS_Store':\n",
        "        return 0\n",
        "\n",
        "    image_path = r\"./runs/inference/exp/085_jpg.rf.edfc18f82cb64dcdada59c19245a0834.jpg\"\n",
        "    save_file_path = r\"/content/YOLOv6/save_images_test/085\"\n",
        "\n",
        "    source_file = open(txt_path) if os.path.exists(txt_path) else []\n",
        "    image = cv2.imread(image_path)\n",
        "    try:\n",
        "        height, width, channels = image.shape\n",
        "    except:\n",
        "        print('no shape info.')\n",
        "        return 0\n",
        "\n",
        "    box_number = 0\n",
        "    for line in source_file:\n",
        "        staff = line.split()\n",
        "        class_idx = int(staff[0])\n",
        "\n",
        "        x_center, y_center, w, h = float(staff[1])*width, float(staff[2])*height, float(staff[3])*width, float(staff[4])*height\n",
        "        x1 = round(x_center-w/2)\n",
        "        y1 = round(y_center-h/2)\n",
        "        x2 = round(x_center+w/2)\n",
        "        y2 = round(y_center+h/2)\n",
        "\n",
        "\n",
        "        plot_one_box([x1,y1,x2,y2], image,  label=name_of_class, line_thickness=None)\n",
        "        cv2.imwrite(r\"/content/YOLOv6/save_images_test/085.jpg\",image)\n",
        "\n",
        "        box_number += 1\n",
        "        return box_number\n",
        "draw_box_on_image(image_name, classes_path,  label_folder, raw_images_folder, save_images_folder )\n",
        "\n",
        "\n",
        "\n"
      ]
    },
    {
      "cell_type": "code",
      "execution_count": null,
      "metadata": {
        "colab": {
          "base_uri": "https://localhost:8080/"
        },
        "outputId": "fe04eaf1-cb78-42c5-909a-bbd8771bcc00",
        "id": "TowGcpS5jtVD"
      },
      "outputs": [
        {
          "output_type": "stream",
          "name": "stdout",
          "text": [
            "./runs/inference/exp/086_jpg.rf.fae0ccc0de1f85b494ceff2c07c02508.jpg\n"
          ]
        },
        {
          "output_type": "execute_result",
          "data": {
            "text/plain": [
              "1"
            ]
          },
          "metadata": {},
          "execution_count": 52
        }
      ],
      "source": [
        "\n",
        "import cv2\n",
        "import os\n",
        "import random\n",
        "\n",
        "\n",
        "\n",
        "label_folder = r'/content/YOLOv6/Normal-Insulator,-Defect-Insulator,-Defects--1-2/labels'\n",
        "\n",
        "raw_images_folder = r'/content/YOLOv6/Normal-Insulator,-Defect-Insulator,-Defects--1-2/images'\n",
        "\n",
        "save_images_folder = r'/content/YOLOv6/save_images_valid'\n",
        "\n",
        "name_list_path = r'/content/YOLOv6/Normal-Insulator,-Defect-Insulator,-Defects--1-2/labels/valid'\n",
        "\n",
        "classes_path = r'/content/YOLOv6/Normal-Insulator,-Defect-Insulator,-Defects--1-2'\n",
        "image_name=r'./runs/inference/exp/086_jpg.rf.fae0ccc0de1f85b494ceff2c07c02508.jpg'\n",
        "label=name_of_class='defective insulator'\n",
        "def plot_one_box(x, image, color=None, label=name_of_class, line_thickness=None):\n",
        "\n",
        "    tl = line_thickness or round(0.002 * (image.shape[0] + image.shape[1]) / 2) + 1  # line/font thickness\n",
        "    color = color or [random.randint(0, 255) for _ in range(3)]\n",
        "    c1, c2 = (int(x[0]), int(x[1])), (int(x[2]), int(x[3]))\n",
        "    cv2.rectangle(image, c1, c2, color, thickness=tl, lineType=cv2.LINE_AA)\n",
        "    if label:\n",
        "        tf = max(tl - 1, 1)  # font thickness\n",
        "        t_size = cv2.getTextSize(str(label), 0, fontScale=tl / 3, thickness=tf)[0]\n",
        "        c2 = c1[0] + t_size[0], c1[1] - t_size[1] - 3\n",
        "        cv2.rectangle(image, c1, c2, color, -1, cv2.LINE_AA)  # filled\n",
        "        cv2.putText(image,str(label), (c1[0], c1[1] - 2), 0, tl / 3, [225, 255, 255], thickness=tf, lineType=cv2.LINE_AA)\n",
        "\n",
        "\n",
        "def draw_box_on_image(image_name, classes_path, label_folder, raw_images_folder, save_images_folder ):\n",
        "\n",
        "    txt_path  = r\"/content/YOLOv6/Normal-Insulator,-Defect-Insulator,-Defects--1-2/labels/test/086_jpg.rf.fae0ccc0de1f85b494ceff2c07c02508.txt\"\n",
        "    print(image_name)\n",
        "    if image_name == '.DS_Store':\n",
        "        return 0\n",
        "\n",
        "    image_path = r\"./runs/inference/exp/086_jpg.rf.fae0ccc0de1f85b494ceff2c07c02508.jpg\"\n",
        "    save_file_path = r\"/content/YOLOv6/save_images_test/086\"\n",
        "\n",
        "    source_file = open(txt_path) if os.path.exists(txt_path) else []\n",
        "    image = cv2.imread(image_path)\n",
        "    try:\n",
        "        height, width, channels = image.shape\n",
        "    except:\n",
        "        print('no shape info.')\n",
        "        return 0\n",
        "\n",
        "    box_number = 0\n",
        "    for line in source_file:\n",
        "        staff = line.split()\n",
        "        class_idx = int(staff[0])\n",
        "\n",
        "        x_center, y_center, w, h = float(staff[1])*width, float(staff[2])*height, float(staff[3])*width, float(staff[4])*height\n",
        "        x1 = round(x_center-w/2)\n",
        "        y1 = round(y_center-h/2)\n",
        "        x2 = round(x_center+w/2)\n",
        "        y2 = round(y_center+h/2)\n",
        "\n",
        "\n",
        "        plot_one_box([x1,y1,x2,y2], image,  label=name_of_class, line_thickness=None)\n",
        "        cv2.imwrite(r\"/content/YOLOv6/save_images_test/086.jpg\",image)\n",
        "\n",
        "        box_number += 1\n",
        "        return box_number\n",
        "draw_box_on_image(image_name, classes_path,  label_folder, raw_images_folder, save_images_folder )\n",
        "\n",
        "\n",
        "\n"
      ]
    },
    {
      "cell_type": "code",
      "execution_count": null,
      "metadata": {
        "colab": {
          "base_uri": "https://localhost:8080/"
        },
        "outputId": "5a575f4d-1625-4052-a9f8-b2604e17346d",
        "id": "W4qqx34ejtey"
      },
      "outputs": [
        {
          "output_type": "stream",
          "name": "stdout",
          "text": [
            "./runs/inference/exp/0895_jpg.rf.c2868528b6fc7e365d3cf59b3ee005fc.jpg\n"
          ]
        },
        {
          "output_type": "execute_result",
          "data": {
            "text/plain": [
              "1"
            ]
          },
          "metadata": {},
          "execution_count": 53
        }
      ],
      "source": [
        "\n",
        "import cv2\n",
        "import os\n",
        "import random\n",
        "\n",
        "\n",
        "\n",
        "label_folder = r'/content/YOLOv6/Normal-Insulator,-Defect-Insulator,-Defects--1-2/labels'\n",
        "\n",
        "raw_images_folder = r'/content/YOLOv6/Normal-Insulator,-Defect-Insulator,-Defects--1-2/images'\n",
        "\n",
        "save_images_folder = r'/content/YOLOv6/save_images_valid'\n",
        "\n",
        "name_list_path = r'/content/YOLOv6/Normal-Insulator,-Defect-Insulator,-Defects--1-2/labels/valid'\n",
        "\n",
        "classes_path = r'/content/YOLOv6/Normal-Insulator,-Defect-Insulator,-Defects--1-2'\n",
        "image_name=r'./runs/inference/exp/0895_jpg.rf.c2868528b6fc7e365d3cf59b3ee005fc.jpg'\n",
        "label=name_of_class='normalinsulator'\n",
        "def plot_one_box(x, image, color=None, label=name_of_class, line_thickness=None):\n",
        "\n",
        "    tl = line_thickness or round(0.002 * (image.shape[0] + image.shape[1]) / 2) + 1  # line/font thickness\n",
        "    color = color or [random.randint(0, 255) for _ in range(3)]\n",
        "    c1, c2 = (int(x[0]), int(x[1])), (int(x[2]), int(x[3]))\n",
        "    cv2.rectangle(image, c1, c2, color, thickness=tl, lineType=cv2.LINE_AA)\n",
        "    if label:\n",
        "        tf = max(tl - 1, 1)  # font thickness\n",
        "        t_size = cv2.getTextSize(str(label), 0, fontScale=tl / 3, thickness=tf)[0]\n",
        "        c2 = c1[0] + t_size[0], c1[1] - t_size[1] - 3\n",
        "        cv2.rectangle(image, c1, c2, color, -1, cv2.LINE_AA)  # filled\n",
        "        cv2.putText(image,str(label), (c1[0], c1[1] - 2), 0, tl / 3, [225, 255, 255], thickness=tf, lineType=cv2.LINE_AA)\n",
        "\n",
        "\n",
        "def draw_box_on_image(image_name, classes_path, label_folder, raw_images_folder, save_images_folder ):\n",
        "\n",
        "    txt_path  = r\"/content/YOLOv6/Normal-Insulator,-Defect-Insulator,-Defects--1-2/labels/test/0895_jpg.rf.c2868528b6fc7e365d3cf59b3ee005fc.txt\"\n",
        "\n",
        "    print(image_name)\n",
        "    if image_name == '.DS_Store':\n",
        "        return 0\n",
        "\n",
        "    image_path = r\"./runs/inference/exp/0895_jpg.rf.c2868528b6fc7e365d3cf59b3ee005fc.jpg\"\n",
        "    save_file_path = r\"/content/YOLOv6/save_images_test/0895\"\n",
        "\n",
        "    source_file = open(txt_path) if os.path.exists(txt_path) else []\n",
        "    image = cv2.imread(image_path)\n",
        "    try:\n",
        "        height, width, channels = image.shape\n",
        "    except:\n",
        "        print('no shape info.')\n",
        "        return 0\n",
        "\n",
        "    box_number = 0\n",
        "    for line in source_file:\n",
        "        staff = line.split()\n",
        "        class_idx = int(staff[0])\n",
        "\n",
        "        x_center, y_center, w, h = float(staff[1])*width, float(staff[2])*height, float(staff[3])*width, float(staff[4])*height\n",
        "        x1 = round(x_center-w/2)\n",
        "        y1 = round(y_center-h/2)\n",
        "        x2 = round(x_center+w/2)\n",
        "        y2 = round(y_center+h/2)\n",
        "\n",
        "\n",
        "        plot_one_box([x1,y1,x2,y2], image,  label=name_of_class, line_thickness=None)\n",
        "        cv2.imwrite(r\"/content/YOLOv6/save_images_test/0895.jpg\",image)\n",
        "\n",
        "        box_number += 1\n",
        "        return box_number\n",
        "draw_box_on_image(image_name, classes_path,  label_folder, raw_images_folder, save_images_folder )\n",
        "\n",
        "\n",
        "\n"
      ]
    },
    {
      "cell_type": "code",
      "execution_count": null,
      "metadata": {
        "colab": {
          "base_uri": "https://localhost:8080/"
        },
        "outputId": "aeda18f4-1cee-416d-91a8-eff59647564b",
        "id": "8Y2tEcF4jtnZ"
      },
      "outputs": [
        {
          "output_type": "stream",
          "name": "stdout",
          "text": [
            "./runs/inference/exp/0907_jpg.rf.bbd794632b6154d94aacd37883701c64.jpg\n"
          ]
        },
        {
          "output_type": "execute_result",
          "data": {
            "text/plain": [
              "1"
            ]
          },
          "metadata": {},
          "execution_count": 54
        }
      ],
      "source": [
        "\n",
        "import cv2\n",
        "import os\n",
        "import random\n",
        "\n",
        "\n",
        "\n",
        "label_folder = r'/content/YOLOv6/Normal-Insulator,-Defect-Insulator,-Defects--1-2/labels'\n",
        "\n",
        "raw_images_folder = r'/content/YOLOv6/Normal-Insulator,-Defect-Insulator,-Defects--1-2/images'\n",
        "\n",
        "save_images_folder = r'/content/YOLOv6/save_images_valid'\n",
        "\n",
        "name_list_path = r'/content/YOLOv6/Normal-Insulator,-Defect-Insulator,-Defects--1-2/labels/valid'\n",
        "\n",
        "classes_path = r'/content/YOLOv6/Normal-Insulator,-Defect-Insulator,-Defects--1-2'\n",
        "image_name=r'./runs/inference/exp/0907_jpg.rf.bbd794632b6154d94aacd37883701c64.jpg'\n",
        "label=name_of_class='normalinsulator'\n",
        "def plot_one_box(x, image, color=None, label=name_of_class, line_thickness=None):\n",
        "\n",
        "    tl = line_thickness or round(0.002 * (image.shape[0] + image.shape[1]) / 2) + 1  # line/font thickness\n",
        "    color = color or [random.randint(0, 255) for _ in range(3)]\n",
        "    c1, c2 = (int(x[0]), int(x[1])), (int(x[2]), int(x[3]))\n",
        "    cv2.rectangle(image, c1, c2, color, thickness=tl, lineType=cv2.LINE_AA)\n",
        "    if label:\n",
        "        tf = max(tl - 1, 1)  # font thickness\n",
        "        t_size = cv2.getTextSize(str(label), 0, fontScale=tl / 3, thickness=tf)[0]\n",
        "        c2 = c1[0] + t_size[0], c1[1] - t_size[1] - 3\n",
        "        cv2.rectangle(image, c1, c2, color, -1, cv2.LINE_AA)  # filled\n",
        "        cv2.putText(image,str(label), (c1[0], c1[1] - 2), 0, tl / 3, [225, 255, 255], thickness=tf, lineType=cv2.LINE_AA)\n",
        "\n",
        "\n",
        "def draw_box_on_image(image_name, classes_path, label_folder, raw_images_folder, save_images_folder ):\n",
        "\n",
        "    txt_path  = r\"/content/YOLOv6/Normal-Insulator,-Defect-Insulator,-Defects--1-2/labels/test/0907_jpg.rf.bbd794632b6154d94aacd37883701c64.txt\"\n",
        "    print(image_name)\n",
        "    if image_name == '.DS_Store':\n",
        "        return 0\n",
        "\n",
        "    image_path = r\"./runs/inference/exp/0907_jpg.rf.bbd794632b6154d94aacd37883701c64.jpg\"\n",
        "    save_file_path = r\"/content/YOLOv6/save_images_test/0907\"\n",
        "\n",
        "    source_file = open(txt_path) if os.path.exists(txt_path) else []\n",
        "    image = cv2.imread(image_path)\n",
        "    try:\n",
        "        height, width, channels = image.shape\n",
        "    except:\n",
        "        print('no shape info.')\n",
        "        return 0\n",
        "\n",
        "    box_number = 0\n",
        "    for line in source_file:\n",
        "        staff = line.split()\n",
        "        class_idx = int(staff[0])\n",
        "\n",
        "        x_center, y_center, w, h = float(staff[1])*width, float(staff[2])*height, float(staff[3])*width, float(staff[4])*height\n",
        "        x1 = round(x_center-w/2)\n",
        "        y1 = round(y_center-h/2)\n",
        "        x2 = round(x_center+w/2)\n",
        "        y2 = round(y_center+h/2)\n",
        "\n",
        "\n",
        "        plot_one_box([x1,y1,x2,y2], image,  label=name_of_class, line_thickness=None)\n",
        "        cv2.imwrite(r\"/content/YOLOv6/save_images_test/0907.jpg\",image)\n",
        "\n",
        "        box_number += 1\n",
        "        return box_number\n",
        "draw_box_on_image(image_name, classes_path,  label_folder, raw_images_folder, save_images_folder )\n",
        "\n",
        "\n",
        "\n"
      ]
    },
    {
      "cell_type": "code",
      "execution_count": null,
      "metadata": {
        "colab": {
          "base_uri": "https://localhost:8080/"
        },
        "outputId": "9f4349a2-6a83-4256-f2c3-a885d73e9a6a",
        "id": "mjLyuMd_jtxh"
      },
      "outputs": [
        {
          "output_type": "stream",
          "name": "stdout",
          "text": [
            "./runs/inference/exp/0913_jpg.rf.453b05c77ed5158c5cea7b4bb059f40b.jpg\n"
          ]
        },
        {
          "output_type": "execute_result",
          "data": {
            "text/plain": [
              "1"
            ]
          },
          "metadata": {},
          "execution_count": 55
        }
      ],
      "source": [
        "\n",
        "import cv2\n",
        "import os\n",
        "import random\n",
        "\n",
        "\n",
        "\n",
        "label_folder = r'/content/YOLOv6/Normal-Insulator,-Defect-Insulator,-Defects--1-2/labels'\n",
        "\n",
        "raw_images_folder = r'/content/YOLOv6/Normal-Insulator,-Defect-Insulator,-Defects--1-2/images'\n",
        "\n",
        "save_images_folder = r'/content/YOLOv6/save_images_valid'\n",
        "\n",
        "name_list_path = r'/content/YOLOv6/Normal-Insulator,-Defect-Insulator,-Defects--1-2/labels/valid'\n",
        "\n",
        "classes_path = r'/content/YOLOv6/Normal-Insulator,-Defect-Insulator,-Defects--1-2'\n",
        "image_name=r'./runs/inference/exp/0913_jpg.rf.453b05c77ed5158c5cea7b4bb059f40b.jpg'\n",
        "label=name_of_class='normalinsulator'\n",
        "def plot_one_box(x, image, color=None, label=name_of_class, line_thickness=None):\n",
        "\n",
        "    tl = line_thickness or round(0.002 * (image.shape[0] + image.shape[1]) / 2) + 1  # line/font thickness\n",
        "    color = color or [random.randint(0, 255) for _ in range(3)]\n",
        "    c1, c2 = (int(x[0]), int(x[1])), (int(x[2]), int(x[3]))\n",
        "    cv2.rectangle(image, c1, c2, color, thickness=tl, lineType=cv2.LINE_AA)\n",
        "    if label:\n",
        "        tf = max(tl - 1, 1)  # font thickness\n",
        "        t_size = cv2.getTextSize(str(label), 0, fontScale=tl / 3, thickness=tf)[0]\n",
        "        c2 = c1[0] + t_size[0], c1[1] - t_size[1] - 3\n",
        "        cv2.rectangle(image, c1, c2, color, -1, cv2.LINE_AA)  # filled\n",
        "        cv2.putText(image,str(label), (c1[0], c1[1] - 2), 0, tl / 3, [225, 255, 255], thickness=tf, lineType=cv2.LINE_AA)\n",
        "\n",
        "\n",
        "def draw_box_on_image(image_name, classes_path, label_folder, raw_images_folder, save_images_folder ):\n",
        "\n",
        "    txt_path  = r\"/content/YOLOv6/Normal-Insulator,-Defect-Insulator,-Defects--1-2/labels/test/0913_jpg.rf.453b05c77ed5158c5cea7b4bb059f40b.txt\"\n",
        "    print(image_name)\n",
        "    if image_name == '.DS_Store':\n",
        "        return 0\n",
        "\n",
        "    image_path = r\"./runs/inference/exp/0913_jpg.rf.453b05c77ed5158c5cea7b4bb059f40b.jpg\"\n",
        "    save_file_path = r\"/content/YOLOv6/save_images_test/0913\"\n",
        "\n",
        "    source_file = open(txt_path) if os.path.exists(txt_path) else []\n",
        "    image = cv2.imread(image_path)\n",
        "    try:\n",
        "        height, width, channels = image.shape\n",
        "    except:\n",
        "        print('no shape info.')\n",
        "        return 0\n",
        "\n",
        "    box_number = 0\n",
        "    for line in source_file:\n",
        "        staff = line.split()\n",
        "        class_idx = int(staff[0])\n",
        "\n",
        "        x_center, y_center, w, h = float(staff[1])*width, float(staff[2])*height, float(staff[3])*width, float(staff[4])*height\n",
        "        x1 = round(x_center-w/2)\n",
        "        y1 = round(y_center-h/2)\n",
        "        x2 = round(x_center+w/2)\n",
        "        y2 = round(y_center+h/2)\n",
        "\n",
        "\n",
        "        plot_one_box([x1,y1,x2,y2], image,  label=name_of_class, line_thickness=None)\n",
        "        cv2.imwrite(r\"/content/YOLOv6/save_images_test/0913.jpg\",image)\n",
        "\n",
        "        box_number += 1\n",
        "        return box_number\n",
        "draw_box_on_image(image_name, classes_path,  label_folder, raw_images_folder, save_images_folder )\n",
        "\n",
        "\n",
        "\n"
      ]
    },
    {
      "cell_type": "code",
      "source": [
        "!python tools/infer.py  --yaml {dataset.location}/data.yaml  --weights runs/train/exp/weights/best_ckpt.pt   --source {dataset.location}/images/test/092_jpg.rf.a380510d59311c1198d97ee4dc866e82.jpg --device 0"
      ],
      "metadata": {
        "colab": {
          "base_uri": "https://localhost:8080/"
        },
        "id": "9BFfIm_b4g1q",
        "outputId": "62b2c1a2-d19f-4d4f-806f-5436a40ba488"
      },
      "execution_count": null,
      "outputs": [
        {
          "output_type": "stream",
          "name": "stdout",
          "text": [
            "Namespace(agnostic_nms=False, classes=None, conf_thres=0.4, device='0', half=False, hide_conf=False, hide_labels=False, img_size=[640, 640], iou_thres=0.45, max_det=1000, name='exp', not_save_img=False, project='runs/inference', save_dir=None, save_txt=False, source='/content/YOLOv6/Normal-Insulator,-Defect-Insulator,-Defects--1-2/images/test/092_jpg.rf.a380510d59311c1198d97ee4dc866e82.jpg', view_img=False, webcam=False, webcam_addr='0', weights='runs/train/exp/weights/best_ckpt.pt', yaml='/content/YOLOv6/Normal-Insulator,-Defect-Insulator,-Defects--1-2/data.yaml')\n",
            "Save directory already existed\n",
            "Loading checkpoint from runs/train/exp/weights/best_ckpt.pt\n",
            "\n",
            "Fusing model...\n",
            "Switch model to deploy modality.\n",
            "/usr/local/lib/python3.8/dist-packages/torch/functional.py:504: UserWarning: torch.meshgrid: in an upcoming release, it will be required to pass the indexing argument. (Triggered internally at ../aten/src/ATen/native/TensorShape.cpp:3190.)\n",
            "  return _VF.meshgrid(tensors, **kwargs)  # type: ignore[attr-defined]\n",
            "100% 1/1 [00:00<00:00, 21.68it/s]\n",
            "Results saved to runs/inference/exp\n"
          ]
        }
      ]
    },
    {
      "cell_type": "code",
      "source": [
        "!python tools/infer.py  --yaml {dataset.location}/data.yaml  --weights runs/train/exp/weights/best_ckpt.pt   --source {dataset.location}/images/test/0979_jpg.rf.037a44c104a4ff1b2b68f58c9a2702e9.jpg   --device 0"
      ],
      "metadata": {
        "colab": {
          "base_uri": "https://localhost:8080/"
        },
        "id": "1vDJVlEX4g_W",
        "outputId": "88f09e5a-b3bb-49af-f318-29ae2345c641"
      },
      "execution_count": null,
      "outputs": [
        {
          "output_type": "stream",
          "name": "stdout",
          "text": [
            "Namespace(agnostic_nms=False, classes=None, conf_thres=0.4, device='0', half=False, hide_conf=False, hide_labels=False, img_size=[640, 640], iou_thres=0.45, max_det=1000, name='exp', not_save_img=False, project='runs/inference', save_dir=None, save_txt=False, source='/content/YOLOv6/Normal-Insulator,-Defect-Insulator,-Defects--1-2/images/test/0979_jpg.rf.037a44c104a4ff1b2b68f58c9a2702e9.jpg', view_img=False, webcam=False, webcam_addr='0', weights='runs/train/exp/weights/best_ckpt.pt', yaml='/content/YOLOv6/Normal-Insulator,-Defect-Insulator,-Defects--1-2/data.yaml')\n",
            "Save directory already existed\n",
            "Loading checkpoint from runs/train/exp/weights/best_ckpt.pt\n",
            "\n",
            "Fusing model...\n",
            "Switch model to deploy modality.\n",
            "/usr/local/lib/python3.8/dist-packages/torch/functional.py:504: UserWarning: torch.meshgrid: in an upcoming release, it will be required to pass the indexing argument. (Triggered internally at ../aten/src/ATen/native/TensorShape.cpp:3190.)\n",
            "  return _VF.meshgrid(tensors, **kwargs)  # type: ignore[attr-defined]\n",
            "100% 1/1 [00:00<00:00, 18.64it/s]\n",
            "Results saved to runs/inference/exp\n"
          ]
        }
      ]
    },
    {
      "cell_type": "code",
      "source": [
        "!python tools/infer.py  --yaml {dataset.location}/data.yaml  --weights runs/train/exp/weights/best_ckpt.pt   --source {dataset.location}/images/test/099_jpg.rf.a7f7a0255022a2c40019d0bd4a4fdffb.jpg   --device 0"
      ],
      "metadata": {
        "colab": {
          "base_uri": "https://localhost:8080/"
        },
        "id": "zX8bTmFk4hFm",
        "outputId": "146b083d-23bd-4f48-ac9b-b6f871a74de0"
      },
      "execution_count": null,
      "outputs": [
        {
          "output_type": "stream",
          "name": "stdout",
          "text": [
            "Namespace(agnostic_nms=False, classes=None, conf_thres=0.4, device='0', half=False, hide_conf=False, hide_labels=False, img_size=[640, 640], iou_thres=0.45, max_det=1000, name='exp', not_save_img=False, project='runs/inference', save_dir=None, save_txt=False, source='/content/YOLOv6/Normal-Insulator,-Defect-Insulator,-Defects--1-2/images/test/099_jpg.rf.a7f7a0255022a2c40019d0bd4a4fdffb.jpg', view_img=False, webcam=False, webcam_addr='0', weights='runs/train/exp/weights/best_ckpt.pt', yaml='/content/YOLOv6/Normal-Insulator,-Defect-Insulator,-Defects--1-2/data.yaml')\n",
            "Save directory already existed\n",
            "Loading checkpoint from runs/train/exp/weights/best_ckpt.pt\n",
            "\n",
            "Fusing model...\n",
            "Switch model to deploy modality.\n",
            "/usr/local/lib/python3.8/dist-packages/torch/functional.py:504: UserWarning: torch.meshgrid: in an upcoming release, it will be required to pass the indexing argument. (Triggered internally at ../aten/src/ATen/native/TensorShape.cpp:3190.)\n",
            "  return _VF.meshgrid(tensors, **kwargs)  # type: ignore[attr-defined]\n",
            "100% 1/1 [00:00<00:00, 25.80it/s]\n",
            "Results saved to runs/inference/exp\n"
          ]
        }
      ]
    },
    {
      "cell_type": "code",
      "source": [
        "!python tools/infer.py  --yaml {dataset.location}/data.yaml  --weights runs/train/exp/weights/best_ckpt.pt   --source {dataset.location}/images/test/1003_jpg.rf.6b7fd7a4ce0db65939a8332049953a22.jpg   --device 0"
      ],
      "metadata": {
        "colab": {
          "base_uri": "https://localhost:8080/"
        },
        "id": "--Mc4WQ04hKg",
        "outputId": "9406e2f3-19e9-4f80-cbe5-54b6a7c43f48"
      },
      "execution_count": null,
      "outputs": [
        {
          "output_type": "stream",
          "name": "stdout",
          "text": [
            "Namespace(agnostic_nms=False, classes=None, conf_thres=0.4, device='0', half=False, hide_conf=False, hide_labels=False, img_size=[640, 640], iou_thres=0.45, max_det=1000, name='exp', not_save_img=False, project='runs/inference', save_dir=None, save_txt=False, source='/content/YOLOv6/Normal-Insulator,-Defect-Insulator,-Defects--1-2/images/test/1003_jpg.rf.6b7fd7a4ce0db65939a8332049953a22.jpg', view_img=False, webcam=False, webcam_addr='0', weights='runs/train/exp/weights/best_ckpt.pt', yaml='/content/YOLOv6/Normal-Insulator,-Defect-Insulator,-Defects--1-2/data.yaml')\n",
            "Save directory already existed\n",
            "Loading checkpoint from runs/train/exp/weights/best_ckpt.pt\n",
            "\n",
            "Fusing model...\n",
            "Switch model to deploy modality.\n",
            "/usr/local/lib/python3.8/dist-packages/torch/functional.py:504: UserWarning: torch.meshgrid: in an upcoming release, it will be required to pass the indexing argument. (Triggered internally at ../aten/src/ATen/native/TensorShape.cpp:3190.)\n",
            "  return _VF.meshgrid(tensors, **kwargs)  # type: ignore[attr-defined]\n",
            "100% 1/1 [00:00<00:00, 24.26it/s]\n",
            "Results saved to runs/inference/exp\n"
          ]
        }
      ]
    },
    {
      "cell_type": "code",
      "source": [
        "!python tools/infer.py  --yaml {dataset.location}/data.yaml  --weights runs/train/exp/weights/best_ckpt.pt   --source {dataset.location}/images/test/101_jpg.rf.d7c756a61a595a4afeda8ab3cdc44083.jpg   --device 0"
      ],
      "metadata": {
        "colab": {
          "base_uri": "https://localhost:8080/"
        },
        "id": "lOcFZTZK4hPI",
        "outputId": "02f4ae68-dbc9-4f19-fa94-2cd43bbe11e7"
      },
      "execution_count": null,
      "outputs": [
        {
          "output_type": "stream",
          "name": "stdout",
          "text": [
            "Namespace(agnostic_nms=False, classes=None, conf_thres=0.4, device='0', half=False, hide_conf=False, hide_labels=False, img_size=[640, 640], iou_thres=0.45, max_det=1000, name='exp', not_save_img=False, project='runs/inference', save_dir=None, save_txt=False, source='/content/YOLOv6/Normal-Insulator,-Defect-Insulator,-Defects--1-2/images/test/101_jpg.rf.d7c756a61a595a4afeda8ab3cdc44083.jpg', view_img=False, webcam=False, webcam_addr='0', weights='runs/train/exp/weights/best_ckpt.pt', yaml='/content/YOLOv6/Normal-Insulator,-Defect-Insulator,-Defects--1-2/data.yaml')\n",
            "Save directory already existed\n",
            "Loading checkpoint from runs/train/exp/weights/best_ckpt.pt\n",
            "\n",
            "Fusing model...\n",
            "Switch model to deploy modality.\n",
            "/usr/local/lib/python3.8/dist-packages/torch/functional.py:504: UserWarning: torch.meshgrid: in an upcoming release, it will be required to pass the indexing argument. (Triggered internally at ../aten/src/ATen/native/TensorShape.cpp:3190.)\n",
            "  return _VF.meshgrid(tensors, **kwargs)  # type: ignore[attr-defined]\n",
            "100% 1/1 [00:00<00:00, 24.00it/s]\n",
            "Results saved to runs/inference/exp\n"
          ]
        }
      ]
    },
    {
      "cell_type": "code",
      "source": [
        "!python tools/infer.py  --yaml {dataset.location}/data.yaml  --weights runs/train/exp/weights/best_ckpt.pt   --source {dataset.location}/images/test/103_jpg.rf.f8199b3e92f2ec7c633cbafe8c5b1c90.jpg   --device 0"
      ],
      "metadata": {
        "colab": {
          "base_uri": "https://localhost:8080/"
        },
        "id": "Apn6eR3i4hVs",
        "outputId": "8f47f0a8-542a-451b-ed34-e293cc184769"
      },
      "execution_count": null,
      "outputs": [
        {
          "output_type": "stream",
          "name": "stdout",
          "text": [
            "Namespace(agnostic_nms=False, classes=None, conf_thres=0.4, device='0', half=False, hide_conf=False, hide_labels=False, img_size=[640, 640], iou_thres=0.45, max_det=1000, name='exp', not_save_img=False, project='runs/inference', save_dir=None, save_txt=False, source='/content/YOLOv6/Normal-Insulator,-Defect-Insulator,-Defects--1-2/images/test/103_jpg.rf.f8199b3e92f2ec7c633cbafe8c5b1c90.jpg', view_img=False, webcam=False, webcam_addr='0', weights='runs/train/exp/weights/best_ckpt.pt', yaml='/content/YOLOv6/Normal-Insulator,-Defect-Insulator,-Defects--1-2/data.yaml')\n",
            "Save directory already existed\n",
            "Loading checkpoint from runs/train/exp/weights/best_ckpt.pt\n",
            "\n",
            "Fusing model...\n",
            "Switch model to deploy modality.\n",
            "/usr/local/lib/python3.8/dist-packages/torch/functional.py:504: UserWarning: torch.meshgrid: in an upcoming release, it will be required to pass the indexing argument. (Triggered internally at ../aten/src/ATen/native/TensorShape.cpp:3190.)\n",
            "  return _VF.meshgrid(tensors, **kwargs)  # type: ignore[attr-defined]\n",
            "100% 1/1 [00:00<00:00, 20.41it/s]\n",
            "Results saved to runs/inference/exp\n"
          ]
        }
      ]
    },
    {
      "cell_type": "code",
      "source": [
        "!python tools/infer.py  --yaml {dataset.location}/data.yaml  --weights runs/train/exp/weights/best_ckpt.pt   --source {dataset.location}/images/test/1055_jpg.rf.a2fd8ced3ba2192253f6e92752ee5c2f.jpg   --device 0"
      ],
      "metadata": {
        "colab": {
          "base_uri": "https://localhost:8080/"
        },
        "id": "gExhY-Cl4hgu",
        "outputId": "8531e2e6-15c4-4e1b-c025-4982ee47f848"
      },
      "execution_count": null,
      "outputs": [
        {
          "output_type": "stream",
          "name": "stdout",
          "text": [
            "Namespace(agnostic_nms=False, classes=None, conf_thres=0.4, device='0', half=False, hide_conf=False, hide_labels=False, img_size=[640, 640], iou_thres=0.45, max_det=1000, name='exp', not_save_img=False, project='runs/inference', save_dir=None, save_txt=False, source='/content/YOLOv6/Normal-Insulator,-Defect-Insulator,-Defects--1-2/images/test/1055_jpg.rf.a2fd8ced3ba2192253f6e92752ee5c2f.jpg', view_img=False, webcam=False, webcam_addr='0', weights='runs/train/exp/weights/best_ckpt.pt', yaml='/content/YOLOv6/Normal-Insulator,-Defect-Insulator,-Defects--1-2/data.yaml')\n",
            "Save directory already existed\n",
            "Loading checkpoint from runs/train/exp/weights/best_ckpt.pt\n",
            "\n",
            "Fusing model...\n",
            "Switch model to deploy modality.\n",
            "/usr/local/lib/python3.8/dist-packages/torch/functional.py:504: UserWarning: torch.meshgrid: in an upcoming release, it will be required to pass the indexing argument. (Triggered internally at ../aten/src/ATen/native/TensorShape.cpp:3190.)\n",
            "  return _VF.meshgrid(tensors, **kwargs)  # type: ignore[attr-defined]\n",
            "100% 1/1 [00:00<00:00, 22.90it/s]\n",
            "Results saved to runs/inference/exp\n"
          ]
        }
      ]
    },
    {
      "cell_type": "code",
      "source": [
        "!python tools/infer.py  --yaml {dataset.location}/data.yaml  --weights runs/train/exp/weights/best_ckpt.pt   --source {dataset.location}/images/test/106_jpg.rf.e5eb4fae5eb4f2526ce15f9f903d692f.jpg   --device 0"
      ],
      "metadata": {
        "colab": {
          "base_uri": "https://localhost:8080/"
        },
        "id": "RyHCLdwL5LeS",
        "outputId": "c958c033-5e74-4371-dcc5-5296675649d4"
      },
      "execution_count": null,
      "outputs": [
        {
          "output_type": "stream",
          "name": "stdout",
          "text": [
            "Namespace(agnostic_nms=False, classes=None, conf_thres=0.4, device='0', half=False, hide_conf=False, hide_labels=False, img_size=[640, 640], iou_thres=0.45, max_det=1000, name='exp', not_save_img=False, project='runs/inference', save_dir=None, save_txt=False, source='/content/YOLOv6/Normal-Insulator,-Defect-Insulator,-Defects--1-2/images/test/106_jpg.rf.e5eb4fae5eb4f2526ce15f9f903d692f.jpg', view_img=False, webcam=False, webcam_addr='0', weights='runs/train/exp/weights/best_ckpt.pt', yaml='/content/YOLOv6/Normal-Insulator,-Defect-Insulator,-Defects--1-2/data.yaml')\n",
            "Save directory already existed\n",
            "Loading checkpoint from runs/train/exp/weights/best_ckpt.pt\n",
            "\n",
            "Fusing model...\n",
            "Switch model to deploy modality.\n",
            "/usr/local/lib/python3.8/dist-packages/torch/functional.py:504: UserWarning: torch.meshgrid: in an upcoming release, it will be required to pass the indexing argument. (Triggered internally at ../aten/src/ATen/native/TensorShape.cpp:3190.)\n",
            "  return _VF.meshgrid(tensors, **kwargs)  # type: ignore[attr-defined]\n",
            "100% 1/1 [00:00<00:00, 23.74it/s]\n",
            "Results saved to runs/inference/exp\n"
          ]
        }
      ]
    },
    {
      "cell_type": "code",
      "source": [
        "!python tools/infer.py  --yaml {dataset.location}/data.yaml  --weights runs/train/exp/weights/best_ckpt.pt   --source {dataset.location}/images/test/1148_jpg.rf.02ee65b7706b9c4adc5db5c69dbd61a4.jpg   --device 0"
      ],
      "metadata": {
        "colab": {
          "base_uri": "https://localhost:8080/"
        },
        "id": "B_byXsyL5Lp9",
        "outputId": "a694c2ee-c5f3-4248-84f6-095c468aaa32"
      },
      "execution_count": null,
      "outputs": [
        {
          "output_type": "stream",
          "name": "stdout",
          "text": [
            "Namespace(agnostic_nms=False, classes=None, conf_thres=0.4, device='0', half=False, hide_conf=False, hide_labels=False, img_size=[640, 640], iou_thres=0.45, max_det=1000, name='exp', not_save_img=False, project='runs/inference', save_dir=None, save_txt=False, source='/content/YOLOv6/Normal-Insulator,-Defect-Insulator,-Defects--1-2/images/test/1148_jpg.rf.02ee65b7706b9c4adc5db5c69dbd61a4.jpg', view_img=False, webcam=False, webcam_addr='0', weights='runs/train/exp/weights/best_ckpt.pt', yaml='/content/YOLOv6/Normal-Insulator,-Defect-Insulator,-Defects--1-2/data.yaml')\n",
            "Save directory already existed\n",
            "Loading checkpoint from runs/train/exp/weights/best_ckpt.pt\n",
            "\n",
            "Fusing model...\n",
            "Switch model to deploy modality.\n",
            "/usr/local/lib/python3.8/dist-packages/torch/functional.py:504: UserWarning: torch.meshgrid: in an upcoming release, it will be required to pass the indexing argument. (Triggered internally at ../aten/src/ATen/native/TensorShape.cpp:3190.)\n",
            "  return _VF.meshgrid(tensors, **kwargs)  # type: ignore[attr-defined]\n",
            "100% 1/1 [00:00<00:00, 23.26it/s]\n",
            "Results saved to runs/inference/exp\n"
          ]
        }
      ]
    },
    {
      "cell_type": "code",
      "source": [
        "!python tools/infer.py  --yaml {dataset.location}/data.yaml  --weights runs/train/exp/weights/best_ckpt.pt   --source {dataset.location}/images/test/115_jpg.rf.52db49b4a7b621baa4c81494f8584537.jpg   --device 0"
      ],
      "metadata": {
        "colab": {
          "base_uri": "https://localhost:8080/"
        },
        "id": "NzPG1Hqi5Qaq",
        "outputId": "4bbb8589-3d67-44e8-ecb6-fcd8ddb570c0"
      },
      "execution_count": null,
      "outputs": [
        {
          "output_type": "stream",
          "name": "stdout",
          "text": [
            "Namespace(agnostic_nms=False, classes=None, conf_thres=0.4, device='0', half=False, hide_conf=False, hide_labels=False, img_size=[640, 640], iou_thres=0.45, max_det=1000, name='exp', not_save_img=False, project='runs/inference', save_dir=None, save_txt=False, source='/content/YOLOv6/Normal-Insulator,-Defect-Insulator,-Defects--1-2/images/test/115_jpg.rf.52db49b4a7b621baa4c81494f8584537.jpg', view_img=False, webcam=False, webcam_addr='0', weights='runs/train/exp/weights/best_ckpt.pt', yaml='/content/YOLOv6/Normal-Insulator,-Defect-Insulator,-Defects--1-2/data.yaml')\n",
            "Save directory already existed\n",
            "Loading checkpoint from runs/train/exp/weights/best_ckpt.pt\n",
            "\n",
            "Fusing model...\n",
            "Switch model to deploy modality.\n",
            "/usr/local/lib/python3.8/dist-packages/torch/functional.py:504: UserWarning: torch.meshgrid: in an upcoming release, it will be required to pass the indexing argument. (Triggered internally at ../aten/src/ATen/native/TensorShape.cpp:3190.)\n",
            "  return _VF.meshgrid(tensors, **kwargs)  # type: ignore[attr-defined]\n",
            "100% 1/1 [00:00<00:00, 23.77it/s]\n",
            "Results saved to runs/inference/exp\n"
          ]
        }
      ]
    },
    {
      "cell_type": "code",
      "source": [
        "!python tools/infer.py  --yaml {dataset.location}/data.yaml  --weights runs/train/exp/weights/best_ckpt.pt   --source {dataset.location}/images/test/116_jpg.rf.fd0f2e01699d496040c2141a478480be.jpg   --device 0"
      ],
      "metadata": {
        "colab": {
          "base_uri": "https://localhost:8080/"
        },
        "id": "PO5zy4z35QlF",
        "outputId": "2b7335bb-9e35-4a14-ebc8-498cd2c22430"
      },
      "execution_count": null,
      "outputs": [
        {
          "output_type": "stream",
          "name": "stdout",
          "text": [
            "Namespace(agnostic_nms=False, classes=None, conf_thres=0.4, device='0', half=False, hide_conf=False, hide_labels=False, img_size=[640, 640], iou_thres=0.45, max_det=1000, name='exp', not_save_img=False, project='runs/inference', save_dir=None, save_txt=False, source='/content/YOLOv6/Normal-Insulator,-Defect-Insulator,-Defects--1-2/images/test/116_jpg.rf.fd0f2e01699d496040c2141a478480be.jpg', view_img=False, webcam=False, webcam_addr='0', weights='runs/train/exp/weights/best_ckpt.pt', yaml='/content/YOLOv6/Normal-Insulator,-Defect-Insulator,-Defects--1-2/data.yaml')\n",
            "Save directory already existed\n",
            "Loading checkpoint from runs/train/exp/weights/best_ckpt.pt\n",
            "\n",
            "Fusing model...\n",
            "Switch model to deploy modality.\n",
            "/usr/local/lib/python3.8/dist-packages/torch/functional.py:504: UserWarning: torch.meshgrid: in an upcoming release, it will be required to pass the indexing argument. (Triggered internally at ../aten/src/ATen/native/TensorShape.cpp:3190.)\n",
            "  return _VF.meshgrid(tensors, **kwargs)  # type: ignore[attr-defined]\n",
            "100% 1/1 [00:00<00:00, 23.95it/s]\n",
            "Results saved to runs/inference/exp\n"
          ]
        }
      ]
    },
    {
      "cell_type": "code",
      "source": [
        "!python tools/infer.py  --yaml {dataset.location}/data.yaml  --weights runs/train/exp/weights/best_ckpt.pt   --source {dataset.location}/images/test/118_jpg.rf.e79f452f7924940ebc03e87ac2865ae8.jpg   --device 0"
      ],
      "metadata": {
        "colab": {
          "base_uri": "https://localhost:8080/"
        },
        "id": "voMrK1oy5Q3B",
        "outputId": "0b94a155-532f-49c9-cd19-cc8a1953e46f"
      },
      "execution_count": null,
      "outputs": [
        {
          "output_type": "stream",
          "name": "stdout",
          "text": [
            "Namespace(agnostic_nms=False, classes=None, conf_thres=0.4, device='0', half=False, hide_conf=False, hide_labels=False, img_size=[640, 640], iou_thres=0.45, max_det=1000, name='exp', not_save_img=False, project='runs/inference', save_dir=None, save_txt=False, source='/content/YOLOv6/Normal-Insulator,-Defect-Insulator,-Defects--1-2/images/test/118_jpg.rf.e79f452f7924940ebc03e87ac2865ae8.jpg', view_img=False, webcam=False, webcam_addr='0', weights='runs/train/exp/weights/best_ckpt.pt', yaml='/content/YOLOv6/Normal-Insulator,-Defect-Insulator,-Defects--1-2/data.yaml')\n",
            "Save directory already existed\n",
            "Loading checkpoint from runs/train/exp/weights/best_ckpt.pt\n",
            "\n",
            "Fusing model...\n",
            "Switch model to deploy modality.\n",
            "/usr/local/lib/python3.8/dist-packages/torch/functional.py:504: UserWarning: torch.meshgrid: in an upcoming release, it will be required to pass the indexing argument. (Triggered internally at ../aten/src/ATen/native/TensorShape.cpp:3190.)\n",
            "  return _VF.meshgrid(tensors, **kwargs)  # type: ignore[attr-defined]\n",
            "100% 1/1 [00:00<00:00, 24.28it/s]\n",
            "Results saved to runs/inference/exp\n"
          ]
        }
      ]
    },
    {
      "cell_type": "code",
      "execution_count": null,
      "metadata": {
        "colab": {
          "base_uri": "https://localhost:8080/"
        },
        "outputId": "3d8f915c-2293-40ed-f105-44359d84a547",
        "id": "xpnraD2sjt7D"
      },
      "outputs": [
        {
          "output_type": "stream",
          "name": "stdout",
          "text": [
            "./runs/inference/exp/092_jpg.rf.a380510d59311c1198d97ee4dc866e82.jpg\n"
          ]
        },
        {
          "output_type": "execute_result",
          "data": {
            "text/plain": [
              "1"
            ]
          },
          "metadata": {},
          "execution_count": 74
        }
      ],
      "source": [
        "\n",
        "import cv2\n",
        "import os\n",
        "import random\n",
        "\n",
        "\n",
        "\n",
        "label_folder = r'/content/YOLOv6/Normal-Insulator,-Defect-Insulator,-Defects--1-2/labels'\n",
        "\n",
        "raw_images_folder = r'/content/YOLOv6/Normal-Insulator,-Defect-Insulator,-Defects--1-2/images'\n",
        "\n",
        "save_images_folder = r'/content/YOLOv6/save_images_valid'\n",
        "\n",
        "name_list_path = r'/content/YOLOv6/Normal-Insulator,-Defect-Insulator,-Defects--1-2/labels/valid'\n",
        "\n",
        "classes_path = r'/content/YOLOv6/Normal-Insulator,-Defect-Insulator,-Defects--1-2'\n",
        "image_name=r'./runs/inference/exp/092_jpg.rf.a380510d59311c1198d97ee4dc866e82.jpg'\n",
        "label=name_of_class='defective insulator'\n",
        "def plot_one_box(x, image, color=None, label=name_of_class, line_thickness=None):\n",
        "\n",
        "    tl = line_thickness or round(0.002 * (image.shape[0] + image.shape[1]) / 2) + 1  # line/font thickness\n",
        "    color = color or [random.randint(0, 255) for _ in range(3)]\n",
        "    c1, c2 = (int(x[0]), int(x[1])), (int(x[2]), int(x[3]))\n",
        "    cv2.rectangle(image, c1, c2, color, thickness=tl, lineType=cv2.LINE_AA)\n",
        "    if label:\n",
        "        tf = max(tl - 1, 1)  # font thickness\n",
        "        t_size = cv2.getTextSize(str(label), 0, fontScale=tl / 3, thickness=tf)[0]\n",
        "        c2 = c1[0] + t_size[0], c1[1] - t_size[1] - 3\n",
        "        cv2.rectangle(image, c1, c2, color, -1, cv2.LINE_AA)  # filled\n",
        "        cv2.putText(image,str(label), (c1[0], c1[1] - 2), 0, tl / 3, [225, 255, 255], thickness=tf, lineType=cv2.LINE_AA)\n",
        "\n",
        "\n",
        "def draw_box_on_image(image_name, classes_path, label_folder, raw_images_folder, save_images_folder ):\n",
        "\n",
        "    txt_path  = r\"/content/YOLOv6/Normal-Insulator,-Defect-Insulator,-Defects--1-2/labels/test/092_jpg.rf.a380510d59311c1198d97ee4dc866e82.txt\"\n",
        "    print(image_name)\n",
        "    if image_name == '.DS_Store':\n",
        "        return 0\n",
        "\n",
        "    image_path = r\"./runs/inference/exp/092_jpg.rf.a380510d59311c1198d97ee4dc866e82.jpg\"\n",
        "    save_file_path = r\"/content/YOLOv6/save_images_test/092\"\n",
        "\n",
        "    source_file = open(txt_path) if os.path.exists(txt_path) else []\n",
        "    image = cv2.imread(image_path)\n",
        "    try:\n",
        "        height, width, channels = image.shape\n",
        "    except:\n",
        "        print('no shape info.')\n",
        "        return 0\n",
        "\n",
        "    box_number = 0\n",
        "    for line in source_file:\n",
        "        staff = line.split()\n",
        "        class_idx = int(staff[0])\n",
        "\n",
        "        x_center, y_center, w, h = float(staff[1])*width, float(staff[2])*height, float(staff[3])*width, float(staff[4])*height\n",
        "        x1 = round(x_center-w/2)\n",
        "        y1 = round(y_center-h/2)\n",
        "        x2 = round(x_center+w/2)\n",
        "        y2 = round(y_center+h/2)\n",
        "\n",
        "\n",
        "        plot_one_box([x1,y1,x2,y2], image,  label=name_of_class, line_thickness=None)\n",
        "        cv2.imwrite(r\"/content/YOLOv6/save_images_test/092.jpg\",image)\n",
        "\n",
        "        box_number += 1\n",
        "        return box_number\n",
        "draw_box_on_image(image_name, classes_path,  label_folder, raw_images_folder, save_images_folder )\n",
        "\n",
        "\n",
        "\n"
      ]
    },
    {
      "cell_type": "code",
      "execution_count": null,
      "metadata": {
        "colab": {
          "base_uri": "https://localhost:8080/"
        },
        "outputId": "f66ec984-cb43-47b7-fab4-12277c346ed1",
        "id": "t3mHNjEBjuF3"
      },
      "outputs": [
        {
          "output_type": "stream",
          "name": "stdout",
          "text": [
            "./runs/inference/exp/0979_jpg.rf.037a44c104a4ff1b2b68f58c9a2702e9.jpg\n"
          ]
        },
        {
          "output_type": "execute_result",
          "data": {
            "text/plain": [
              "1"
            ]
          },
          "metadata": {},
          "execution_count": 75
        }
      ],
      "source": [
        "\n",
        "import cv2\n",
        "import os\n",
        "import random\n",
        "\n",
        "\n",
        "\n",
        "label_folder = r'/content/YOLOv6/Normal-Insulator,-Defect-Insulator,-Defects--1-2/labels'\n",
        "\n",
        "raw_images_folder = r'/content/YOLOv6/Normal-Insulator,-Defect-Insulator,-Defects--1-2/images'\n",
        "\n",
        "save_images_folder = r'/content/YOLOv6/save_images_valid'\n",
        "\n",
        "name_list_path = r'/content/YOLOv6/Normal-Insulator,-Defect-Insulator,-Defects--1-2/labels/valid'\n",
        "\n",
        "classes_path = r'/content/YOLOv6/Normal-Insulator,-Defect-Insulator,-Defects--1-2'\n",
        "image_name=r'./runs/inference/exp/0979_jpg.rf.037a44c104a4ff1b2b68f58c9a2702e9.jpg'\n",
        "label=name_of_class='normalinsulator'\n",
        "def plot_one_box(x, image, color=None, label=name_of_class, line_thickness=None):\n",
        "\n",
        "    tl = line_thickness or round(0.002 * (image.shape[0] + image.shape[1]) / 2) + 1  # line/font thickness\n",
        "    color = color or [random.randint(0, 255) for _ in range(3)]\n",
        "    c1, c2 = (int(x[0]), int(x[1])), (int(x[2]), int(x[3]))\n",
        "    cv2.rectangle(image, c1, c2, color, thickness=tl, lineType=cv2.LINE_AA)\n",
        "    if label:\n",
        "        tf = max(tl - 1, 1)  # font thickness\n",
        "        t_size = cv2.getTextSize(str(label), 0, fontScale=tl / 3, thickness=tf)[0]\n",
        "        c2 = c1[0] + t_size[0], c1[1] - t_size[1] - 3\n",
        "        cv2.rectangle(image, c1, c2, color, -1, cv2.LINE_AA)  # filled\n",
        "        cv2.putText(image,str(label), (c1[0], c1[1] - 2), 0, tl / 3, [225, 255, 255], thickness=tf, lineType=cv2.LINE_AA)\n",
        "\n",
        "\n",
        "def draw_box_on_image(image_name, classes_path, label_folder, raw_images_folder, save_images_folder ):\n",
        "\n",
        "    txt_path  = r\"/content/YOLOv6/Normal-Insulator,-Defect-Insulator,-Defects--1-2/labels/test/0979_jpg.rf.037a44c104a4ff1b2b68f58c9a2702e9.txt\"\n",
        "    print(image_name)\n",
        "    if image_name == '.DS_Store':\n",
        "        return 0\n",
        "\n",
        "    image_path = r\"./runs/inference/exp/0979_jpg.rf.037a44c104a4ff1b2b68f58c9a2702e9.jpg\"\n",
        "    save_file_path = r\"/content/YOLOv6/save_images_test/0979\"\n",
        "\n",
        "    source_file = open(txt_path) if os.path.exists(txt_path) else []\n",
        "    image = cv2.imread(image_path)\n",
        "    try:\n",
        "        height, width, channels = image.shape\n",
        "    except:\n",
        "        print('no shape info.')\n",
        "        return 0\n",
        "\n",
        "    box_number = 0\n",
        "    for line in source_file:\n",
        "        staff = line.split()\n",
        "        class_idx = int(staff[0])\n",
        "\n",
        "        x_center, y_center, w, h = float(staff[1])*width, float(staff[2])*height, float(staff[3])*width, float(staff[4])*height\n",
        "        x1 = round(x_center-w/2)\n",
        "        y1 = round(y_center-h/2)\n",
        "        x2 = round(x_center+w/2)\n",
        "        y2 = round(y_center+h/2)\n",
        "\n",
        "\n",
        "        plot_one_box([x1,y1,x2,y2], image,  label=name_of_class, line_thickness=None)\n",
        "        cv2.imwrite(r\"/content/YOLOv6/save_images_test/0979.jpg\",image)\n",
        "\n",
        "        box_number += 1\n",
        "        return box_number\n",
        "draw_box_on_image(image_name, classes_path,  label_folder, raw_images_folder, save_images_folder )\n",
        "\n",
        "\n",
        "\n"
      ]
    },
    {
      "cell_type": "code",
      "execution_count": null,
      "metadata": {
        "colab": {
          "base_uri": "https://localhost:8080/"
        },
        "outputId": "35645214-bcba-46f2-81fd-e769e135da52",
        "id": "k9Mi_-lbjuPU"
      },
      "outputs": [
        {
          "output_type": "stream",
          "name": "stdout",
          "text": [
            "./runs/inference/exp/099_jpg.rf.a7f7a0255022a2c40019d0bd4a4fdffb.jpg\n"
          ]
        },
        {
          "output_type": "execute_result",
          "data": {
            "text/plain": [
              "1"
            ]
          },
          "metadata": {},
          "execution_count": 77
        }
      ],
      "source": [
        "\n",
        "import cv2\n",
        "import os\n",
        "import random\n",
        "\n",
        "\n",
        "\n",
        "label_folder = r'/content/YOLOv6/Normal-Insulator,-Defect-Insulator,-Defects--1-2/labels'\n",
        "\n",
        "raw_images_folder = r'/content/YOLOv6/Normal-Insulator,-Defect-Insulator,-Defects--1-2/images'\n",
        "\n",
        "save_images_folder = r'/content/YOLOv6/save_images_valid'\n",
        "\n",
        "name_list_path = r'/content/YOLOv6/Normal-Insulator,-Defect-Insulator,-Defects--1-2/labels/valid'\n",
        "\n",
        "classes_path = r'/content/YOLOv6/Normal-Insulator,-Defect-Insulator,-Defects--1-2'\n",
        "image_name=r'./runs/inference/exp/099_jpg.rf.a7f7a0255022a2c40019d0bd4a4fdffb.jpg'\n",
        "label=name_of_class='defect'\n",
        "def plot_one_box(x, image, color=None, label=name_of_class, line_thickness=None):\n",
        "\n",
        "    tl = line_thickness or round(0.002 * (image.shape[0] + image.shape[1]) / 2) + 1  # line/font thickness\n",
        "    color = color or [random.randint(0, 255) for _ in range(3)]\n",
        "    c1, c2 = (int(x[0]), int(x[1])), (int(x[2]), int(x[3]))\n",
        "    cv2.rectangle(image, c1, c2, color, thickness=tl, lineType=cv2.LINE_AA)\n",
        "    if label:\n",
        "        tf = max(tl - 1, 1)  # font thickness\n",
        "        t_size = cv2.getTextSize(str(label), 0, fontScale=tl / 3, thickness=tf)[0]\n",
        "        c2 = c1[0] + t_size[0], c1[1] - t_size[1] - 3\n",
        "        cv2.rectangle(image, c1, c2, color, -1, cv2.LINE_AA)  # filled\n",
        "        cv2.putText(image,str(label), (c1[0], c1[1] - 2), 0, tl / 3, [225, 255, 255], thickness=tf, lineType=cv2.LINE_AA)\n",
        "\n",
        "\n",
        "def draw_box_on_image(image_name, classes_path, label_folder, raw_images_folder, save_images_folder ):\n",
        "\n",
        "    txt_path  = r\"/content/YOLOv6/Normal-Insulator,-Defect-Insulator,-Defects--1-2/labels/test/099_jpg.rf.a7f7a0255022a2c40019d0bd4a4fdffb.txt\"\n",
        "    print(image_name)\n",
        "    if image_name == '.DS_Store':\n",
        "        return 0\n",
        "\n",
        "    image_path = r\"./runs/inference/exp/099_jpg.rf.a7f7a0255022a2c40019d0bd4a4fdffb.jpg\"\n",
        "    save_file_path = r\"/content/YOLOv6/save_images_test/099\"\n",
        "\n",
        "    source_file = open(txt_path) if os.path.exists(txt_path) else []\n",
        "    image = cv2.imread(image_path)\n",
        "    try:\n",
        "        height, width, channels = image.shape\n",
        "    except:\n",
        "        print('no shape info.')\n",
        "        return 0\n",
        "\n",
        "    box_number = 0\n",
        "    for line in source_file:\n",
        "        staff = line.split()\n",
        "        class_idx = int(staff[0])\n",
        "\n",
        "        x_center, y_center, w, h = float(staff[1])*width, float(staff[2])*height, float(staff[3])*width, float(staff[4])*height\n",
        "        x1 = round(x_center-w/2)\n",
        "        y1 = round(y_center-h/2)\n",
        "        x2 = round(x_center+w/2)\n",
        "        y2 = round(y_center+h/2)\n",
        "\n",
        "\n",
        "        plot_one_box([x1,y1,x2,y2], image,  label=name_of_class, line_thickness=None)\n",
        "        cv2.imwrite(r\"/content/YOLOv6/save_images_test/099.jpg\",image)\n",
        "\n",
        "        box_number += 1\n",
        "        return box_number\n",
        "draw_box_on_image(image_name, classes_path,  label_folder, raw_images_folder, save_images_folder )\n",
        "\n",
        "\n",
        "\n"
      ]
    },
    {
      "cell_type": "code",
      "execution_count": null,
      "metadata": {
        "colab": {
          "base_uri": "https://localhost:8080/"
        },
        "outputId": "a794a5f1-fa66-48c0-9de9-053f22df9bf0",
        "id": "-W1b8ta5juYx"
      },
      "outputs": [
        {
          "output_type": "stream",
          "name": "stdout",
          "text": [
            "./runs/inference/exp/1003_jpg.rf.6b7fd7a4ce0db65939a8332049953a22.jpg\n"
          ]
        },
        {
          "output_type": "execute_result",
          "data": {
            "text/plain": [
              "1"
            ]
          },
          "metadata": {},
          "execution_count": 78
        }
      ],
      "source": [
        "\n",
        "import cv2\n",
        "import os\n",
        "import random\n",
        "\n",
        "\n",
        "\n",
        "label_folder = r'/content/YOLOv6/Normal-Insulator,-Defect-Insulator,-Defects--1-2/labels'\n",
        "\n",
        "raw_images_folder = r'/content/YOLOv6/Normal-Insulator,-Defect-Insulator,-Defects--1-2/images'\n",
        "\n",
        "save_images_folder = r'/content/YOLOv6/save_images_valid'\n",
        "\n",
        "name_list_path = r'/content/YOLOv6/Normal-Insulator,-Defect-Insulator,-Defects--1-2/labels/valid'\n",
        "\n",
        "classes_path = r'/content/YOLOv6/Normal-Insulator,-Defect-Insulator,-Defects--1-2'\n",
        "image_name=r'./runs/inference/exp/1003_jpg.rf.6b7fd7a4ce0db65939a8332049953a22.jpg'\n",
        "label=name_of_class='normalinsulator'\n",
        "def plot_one_box(x, image, color=None, label=name_of_class, line_thickness=None):\n",
        "\n",
        "    tl = line_thickness or round(0.002 * (image.shape[0] + image.shape[1]) / 2) + 1  # line/font thickness\n",
        "    color = color or [random.randint(0, 255) for _ in range(3)]\n",
        "    c1, c2 = (int(x[0]), int(x[1])), (int(x[2]), int(x[3]))\n",
        "    cv2.rectangle(image, c1, c2, color, thickness=tl, lineType=cv2.LINE_AA)\n",
        "    if label:\n",
        "        tf = max(tl - 1, 1)  # font thickness\n",
        "        t_size = cv2.getTextSize(str(label), 0, fontScale=tl / 3, thickness=tf)[0]\n",
        "        c2 = c1[0] + t_size[0], c1[1] - t_size[1] - 3\n",
        "        cv2.rectangle(image, c1, c2, color, -1, cv2.LINE_AA)  # filled\n",
        "        cv2.putText(image,str(label), (c1[0], c1[1] - 2), 0, tl / 3, [225, 255, 255], thickness=tf, lineType=cv2.LINE_AA)\n",
        "\n",
        "\n",
        "def draw_box_on_image(image_name, classes_path, label_folder, raw_images_folder, save_images_folder ):\n",
        "\n",
        "    txt_path  = r\"/content/YOLOv6/Normal-Insulator,-Defect-Insulator,-Defects--1-2/labels/test/1003_jpg.rf.6b7fd7a4ce0db65939a8332049953a22.txt\"\n",
        "    print(image_name)\n",
        "    if image_name == '.DS_Store':\n",
        "        return 0\n",
        "\n",
        "    image_path = r\"./runs/inference/exp/1003_jpg.rf.6b7fd7a4ce0db65939a8332049953a22.jpg\"\n",
        "    save_file_path = r\"/content/YOLOv6/save_images_test/1003\"\n",
        "\n",
        "    source_file = open(txt_path) if os.path.exists(txt_path) else []\n",
        "    image = cv2.imread(image_path)\n",
        "    try:\n",
        "        height, width, channels = image.shape\n",
        "    except:\n",
        "        print('no shape info.')\n",
        "        return 0\n",
        "\n",
        "    box_number = 0\n",
        "    for line in source_file:\n",
        "        staff = line.split()\n",
        "        class_idx = int(staff[0])\n",
        "\n",
        "        x_center, y_center, w, h = float(staff[1])*width, float(staff[2])*height, float(staff[3])*width, float(staff[4])*height\n",
        "        x1 = round(x_center-w/2)\n",
        "        y1 = round(y_center-h/2)\n",
        "        x2 = round(x_center+w/2)\n",
        "        y2 = round(y_center+h/2)\n",
        "\n",
        "\n",
        "        plot_one_box([x1,y1,x2,y2], image,  label=name_of_class, line_thickness=None)\n",
        "        cv2.imwrite(r\"/content/YOLOv6/save_images_test/1003.jpg\",image)\n",
        "\n",
        "        box_number += 1\n",
        "        return box_number\n",
        "draw_box_on_image(image_name, classes_path,  label_folder, raw_images_folder, save_images_folder )\n",
        "\n",
        "\n",
        "\n"
      ]
    },
    {
      "cell_type": "code",
      "execution_count": null,
      "metadata": {
        "colab": {
          "base_uri": "https://localhost:8080/"
        },
        "outputId": "9ca11e5f-9ad9-4cc4-ccb4-c6f893a19dca",
        "id": "UZ6Yjsvkjuii"
      },
      "outputs": [
        {
          "output_type": "stream",
          "name": "stdout",
          "text": [
            "./runs/inference/exp/101_jpg.rf.d7c756a61a595a4afeda8ab3cdc44083.jpg\n"
          ]
        },
        {
          "output_type": "execute_result",
          "data": {
            "text/plain": [
              "1"
            ]
          },
          "metadata": {},
          "execution_count": 81
        }
      ],
      "source": [
        "\n",
        "import cv2\n",
        "import os\n",
        "import random\n",
        "\n",
        "\n",
        "\n",
        "label_folder = r'/content/YOLOv6/Normal-Insulator,-Defect-Insulator,-Defects--1-2/labels'\n",
        "\n",
        "raw_images_folder = r'/content/YOLOv6/Normal-Insulator,-Defect-Insulator,-Defects--1-2/images'\n",
        "\n",
        "save_images_folder = r'/content/YOLOv6/save_images_valid'\n",
        "\n",
        "name_list_path = r'/content/YOLOv6/Normal-Insulator,-Defect-Insulator,-Defects--1-2/labels/valid'\n",
        "\n",
        "classes_path = r'/content/YOLOv6/Normal-Insulator,-Defect-Insulator,-Defects--1-2'\n",
        "image_name=r'./runs/inference/exp/101_jpg.rf.d7c756a61a595a4afeda8ab3cdc44083.jpg'\n",
        "label=name_of_class='defect'\n",
        "def plot_one_box(x, image, color=None, label=name_of_class, line_thickness=None):\n",
        "\n",
        "    tl = line_thickness or round(0.002 * (image.shape[0] + image.shape[1]) / 2) + 1  # line/font thickness\n",
        "    color = color or [random.randint(0, 255) for _ in range(3)]\n",
        "    c1, c2 = (int(x[0]), int(x[1])), (int(x[2]), int(x[3]))\n",
        "    cv2.rectangle(image, c1, c2, color, thickness=tl, lineType=cv2.LINE_AA)\n",
        "    if label:\n",
        "        tf = max(tl - 1, 1)  # font thickness\n",
        "        t_size = cv2.getTextSize(str(label), 0, fontScale=tl / 3, thickness=tf)[0]\n",
        "        c2 = c1[0] + t_size[0], c1[1] - t_size[1] - 3\n",
        "        cv2.rectangle(image, c1, c2, color, -1, cv2.LINE_AA)  # filled\n",
        "        cv2.putText(image,str(label), (c1[0], c1[1] - 2), 0, tl / 3, [225, 255, 255], thickness=tf, lineType=cv2.LINE_AA)\n",
        "\n",
        "\n",
        "def draw_box_on_image(image_name, classes_path, label_folder, raw_images_folder, save_images_folder ):\n",
        "\n",
        "    txt_path  = r\"/content/YOLOv6/Normal-Insulator,-Defect-Insulator,-Defects--1-2/labels/test/101_jpg.rf.d7c756a61a595a4afeda8ab3cdc44083.txt\"\n",
        "    print(image_name)\n",
        "    if image_name == '.DS_Store':\n",
        "        return 0\n",
        "\n",
        "    image_path = r\"./runs/inference/exp/101_jpg.rf.d7c756a61a595a4afeda8ab3cdc44083.jpg\"\n",
        "    save_file_path = r\"/content/YOLOv6/save_images_test/101\"\n",
        "\n",
        "    source_file = open(txt_path) if os.path.exists(txt_path) else []\n",
        "    image = cv2.imread(image_path)\n",
        "    try:\n",
        "        height, width, channels = image.shape\n",
        "    except:\n",
        "        print('no shape info.')\n",
        "        return 0\n",
        "\n",
        "    box_number = 0\n",
        "    for line in source_file:\n",
        "        staff = line.split()\n",
        "        class_idx = int(staff[0])\n",
        "\n",
        "        x_center, y_center, w, h = float(staff[1])*width, float(staff[2])*height, float(staff[3])*width, float(staff[4])*height\n",
        "        x1 = round(x_center-w/2)\n",
        "        y1 = round(y_center-h/2)\n",
        "        x2 = round(x_center+w/2)\n",
        "        y2 = round(y_center+h/2)\n",
        "\n",
        "\n",
        "        plot_one_box([x1,y1,x2,y2], image,  label=name_of_class, line_thickness=None)\n",
        "        cv2.imwrite(r\"/content/YOLOv6/save_images_test/101.jpg\",image)\n",
        "\n",
        "        box_number += 1\n",
        "        return box_number\n",
        "draw_box_on_image(image_name, classes_path,  label_folder, raw_images_folder, save_images_folder )\n",
        "\n",
        "\n",
        "\n"
      ]
    },
    {
      "cell_type": "code",
      "execution_count": null,
      "metadata": {
        "colab": {
          "base_uri": "https://localhost:8080/"
        },
        "outputId": "54f99fa8-f3b7-43a6-d2c0-e21f3c7c5698",
        "id": "ReR2Z1Skjuq5"
      },
      "outputs": [
        {
          "output_type": "stream",
          "name": "stdout",
          "text": [
            "./runs/inference/exp/103_jpg.rf.f8199b3e92f2ec7c633cbafe8c5b1c90.jpg\n"
          ]
        },
        {
          "output_type": "execute_result",
          "data": {
            "text/plain": [
              "1"
            ]
          },
          "metadata": {},
          "execution_count": 83
        }
      ],
      "source": [
        "\n",
        "import cv2\n",
        "import os\n",
        "import random\n",
        "\n",
        "\n",
        "\n",
        "label_folder = r'/content/YOLOv6/Normal-Insulator,-Defect-Insulator,-Defects--1-2/labels'\n",
        "\n",
        "raw_images_folder = r'/content/YOLOv6/Normal-Insulator,-Defect-Insulator,-Defects--1-2/images'\n",
        "\n",
        "save_images_folder = r'/content/YOLOv6/save_images_valid'\n",
        "\n",
        "name_list_path = r'/content/YOLOv6/Normal-Insulator,-Defect-Insulator,-Defects--1-2/labels/valid'\n",
        "\n",
        "classes_path = r'/content/YOLOv6/Normal-Insulator,-Defect-Insulator,-Defects--1-2'\n",
        "image_name=r'./runs/inference/exp/103_jpg.rf.f8199b3e92f2ec7c633cbafe8c5b1c90.jpg'\n",
        "label=name_of_class='defect'\n",
        "def plot_one_box(x, image, color=None, label=name_of_class, line_thickness=None):\n",
        "\n",
        "    tl = line_thickness or round(0.002 * (image.shape[0] + image.shape[1]) / 2) + 1  # line/font thickness\n",
        "    color = color or [random.randint(0, 255) for _ in range(3)]\n",
        "    c1, c2 = (int(x[0]), int(x[1])), (int(x[2]), int(x[3]))\n",
        "    cv2.rectangle(image, c1, c2, color, thickness=tl, lineType=cv2.LINE_AA)\n",
        "    if label:\n",
        "        tf = max(tl - 1, 1)  # font thickness\n",
        "        t_size = cv2.getTextSize(str(label), 0, fontScale=tl / 3, thickness=tf)[0]\n",
        "        c2 = c1[0] + t_size[0], c1[1] - t_size[1] - 3\n",
        "        cv2.rectangle(image, c1, c2, color, -1, cv2.LINE_AA)  # filled\n",
        "        cv2.putText(image,str(label), (c1[0], c1[1] - 2), 0, tl / 3, [225, 255, 255], thickness=tf, lineType=cv2.LINE_AA)\n",
        "\n",
        "\n",
        "def draw_box_on_image(image_name, classes_path, label_folder, raw_images_folder, save_images_folder ):\n",
        "\n",
        "    txt_path  = r\"/content/YOLOv6/Normal-Insulator,-Defect-Insulator,-Defects--1-2/labels/test/103_jpg.rf.f8199b3e92f2ec7c633cbafe8c5b1c90.txt\"\n",
        "    print(image_name)\n",
        "    if image_name == '.DS_Store':\n",
        "        return 0\n",
        "\n",
        "    image_path = r\"./runs/inference/exp/103_jpg.rf.f8199b3e92f2ec7c633cbafe8c5b1c90.jpg\"\n",
        "    save_file_path = r\"/content/YOLOv6/save_images_test/103\"\n",
        "\n",
        "    source_file = open(txt_path) if os.path.exists(txt_path) else []\n",
        "    image = cv2.imread(image_path)\n",
        "    try:\n",
        "        height, width, channels = image.shape\n",
        "    except:\n",
        "        print('no shape info.')\n",
        "        return 0\n",
        "\n",
        "    box_number = 0\n",
        "    for line in source_file:\n",
        "        staff = line.split()\n",
        "        class_idx = int(staff[0])\n",
        "\n",
        "        x_center, y_center, w, h = float(staff[1])*width, float(staff[2])*height, float(staff[3])*width, float(staff[4])*height\n",
        "        x1 = round(x_center-w/2)\n",
        "        y1 = round(y_center-h/2)\n",
        "        x2 = round(x_center+w/2)\n",
        "        y2 = round(y_center+h/2)\n",
        "\n",
        "\n",
        "        plot_one_box([x1,y1,x2,y2], image,  label=name_of_class, line_thickness=None)\n",
        "        cv2.imwrite(r\"/content/YOLOv6/save_images_test/103.jpg\",image)\n",
        "\n",
        "        box_number += 1\n",
        "        return box_number\n",
        "draw_box_on_image(image_name, classes_path,  label_folder, raw_images_folder, save_images_folder )\n",
        "\n",
        "\n",
        "\n"
      ]
    },
    {
      "cell_type": "code",
      "execution_count": null,
      "metadata": {
        "colab": {
          "base_uri": "https://localhost:8080/"
        },
        "outputId": "96ee1d6f-e60a-4007-c8e2-7180099d40ed",
        "id": "Rn_-QhlqAfEo"
      },
      "outputs": [
        {
          "output_type": "stream",
          "name": "stdout",
          "text": [
            "./runs/inference/exp/1055_jpg.rf.a2fd8ced3ba2192253f6e92752ee5c2f.jpg\n"
          ]
        },
        {
          "output_type": "execute_result",
          "data": {
            "text/plain": [
              "1"
            ]
          },
          "metadata": {},
          "execution_count": 84
        }
      ],
      "source": [
        "\n",
        "import cv2\n",
        "import os\n",
        "import random\n",
        "\n",
        "\n",
        "\n",
        "label_folder = r'/content/YOLOv6/Normal-Insulator,-Defect-Insulator,-Defects--1-2/labels'\n",
        "\n",
        "raw_images_folder = r'/content/YOLOv6/Normal-Insulator,-Defect-Insulator,-Defects--1-2/images'\n",
        "\n",
        "save_images_folder = r'/content/YOLOv6/save_images_valid'\n",
        "\n",
        "name_list_path = r'/content/YOLOv6/Normal-Insulator,-Defect-Insulator,-Defects--1-2/labels/valid'\n",
        "\n",
        "classes_path = r'/content/YOLOv6/Normal-Insulator,-Defect-Insulator,-Defects--1-2'\n",
        "image_name=r'./runs/inference/exp/1055_jpg.rf.a2fd8ced3ba2192253f6e92752ee5c2f.jpg'\n",
        "label=name_of_class='normalinsulator'\n",
        "def plot_one_box(x, image, color=None, label=name_of_class, line_thickness=None):\n",
        "\n",
        "    tl = line_thickness or round(0.002 * (image.shape[0] + image.shape[1]) / 2) + 1  # line/font thickness\n",
        "    color = color or [random.randint(0, 255) for _ in range(3)]\n",
        "    c1, c2 = (int(x[0]), int(x[1])), (int(x[2]), int(x[3]))\n",
        "    cv2.rectangle(image, c1, c2, color, thickness=tl, lineType=cv2.LINE_AA)\n",
        "    if label:\n",
        "        tf = max(tl - 1, 1)  # font thickness\n",
        "        t_size = cv2.getTextSize(str(label), 0, fontScale=tl / 3, thickness=tf)[0]\n",
        "        c2 = c1[0] + t_size[0], c1[1] - t_size[1] - 3\n",
        "        cv2.rectangle(image, c1, c2, color, -1, cv2.LINE_AA)  # filled\n",
        "        cv2.putText(image,str(label), (c1[0], c1[1] - 2), 0, tl / 3, [225, 255, 255], thickness=tf, lineType=cv2.LINE_AA)\n",
        "\n",
        "\n",
        "def draw_box_on_image(image_name, classes_path, label_folder, raw_images_folder, save_images_folder ):\n",
        "\n",
        "    txt_path  = r\"/content/YOLOv6/Normal-Insulator,-Defect-Insulator,-Defects--1-2/labels/test/1055_jpg.rf.a2fd8ced3ba2192253f6e92752ee5c2f.txt\"\n",
        "    print(image_name)\n",
        "    if image_name == '.DS_Store':\n",
        "        return 0\n",
        "\n",
        "    image_path = r\"./runs/inference/exp/1055_jpg.rf.a2fd8ced3ba2192253f6e92752ee5c2f.jpg\"\n",
        "    save_file_path = r\"/content/YOLOv6/save_images_test/1055\"\n",
        "\n",
        "    source_file = open(txt_path) if os.path.exists(txt_path) else []\n",
        "    image = cv2.imread(image_path)\n",
        "    try:\n",
        "        height, width, channels = image.shape\n",
        "    except:\n",
        "        print('no shape info.')\n",
        "        return 0\n",
        "\n",
        "    box_number = 0\n",
        "    for line in source_file:\n",
        "        staff = line.split()\n",
        "        class_idx = int(staff[0])\n",
        "\n",
        "        x_center, y_center, w, h = float(staff[1])*width, float(staff[2])*height, float(staff[3])*width, float(staff[4])*height\n",
        "        x1 = round(x_center-w/2)\n",
        "        y1 = round(y_center-h/2)\n",
        "        x2 = round(x_center+w/2)\n",
        "        y2 = round(y_center+h/2)\n",
        "\n",
        "\n",
        "        plot_one_box([x1,y1,x2,y2], image,  label=name_of_class, line_thickness=None)\n",
        "        cv2.imwrite(r\"/content/YOLOv6/save_images_test/1055.jpg\",image)\n",
        "\n",
        "        box_number += 1\n",
        "        return box_number\n",
        "draw_box_on_image(image_name, classes_path,  label_folder, raw_images_folder, save_images_folder )\n",
        "\n",
        "\n",
        "\n"
      ]
    },
    {
      "cell_type": "code",
      "execution_count": null,
      "metadata": {
        "colab": {
          "base_uri": "https://localhost:8080/"
        },
        "outputId": "5f747585-ac94-47f4-aaa8-535a60be858e",
        "id": "HlYrH0SrAd7f"
      },
      "outputs": [
        {
          "output_type": "stream",
          "name": "stdout",
          "text": [
            "./runs/inference/exp/106_jpg.rf.e5eb4fae5eb4f2526ce15f9f903d692f.jpg\n"
          ]
        },
        {
          "output_type": "execute_result",
          "data": {
            "text/plain": [
              "1"
            ]
          },
          "metadata": {},
          "execution_count": 85
        }
      ],
      "source": [
        "\n",
        "import cv2\n",
        "import os\n",
        "import random\n",
        "\n",
        "\n",
        "\n",
        "label_folder = r'/content/YOLOv6/Normal-Insulator,-Defect-Insulator,-Defects--1-2/labels'\n",
        "\n",
        "raw_images_folder = r'/content/YOLOv6/Normal-Insulator,-Defect-Insulator,-Defects--1-2/images'\n",
        "\n",
        "save_images_folder = r'/content/YOLOv6/save_images_valid'\n",
        "\n",
        "name_list_path = r'/content/YOLOv6/Normal-Insulator,-Defect-Insulator,-Defects--1-2/labels/valid'\n",
        "\n",
        "classes_path = r'/content/YOLOv6/Normal-Insulator,-Defect-Insulator,-Defects--1-2'\n",
        "image_name=r'./runs/inference/exp/106_jpg.rf.e5eb4fae5eb4f2526ce15f9f903d692f.jpg'\n",
        "label=name_of_class='defect'\n",
        "def plot_one_box(x, image, color=None, label=name_of_class, line_thickness=None):\n",
        "\n",
        "    tl = line_thickness or round(0.002 * (image.shape[0] + image.shape[1]) / 2) + 1  # line/font thickness\n",
        "    color = color or [random.randint(0, 255) for _ in range(3)]\n",
        "    c1, c2 = (int(x[0]), int(x[1])), (int(x[2]), int(x[3]))\n",
        "    cv2.rectangle(image, c1, c2, color, thickness=tl, lineType=cv2.LINE_AA)\n",
        "    if label:\n",
        "        tf = max(tl - 1, 1)  # font thickness\n",
        "        t_size = cv2.getTextSize(str(label), 0, fontScale=tl / 3, thickness=tf)[0]\n",
        "        c2 = c1[0] + t_size[0], c1[1] - t_size[1] - 3\n",
        "        cv2.rectangle(image, c1, c2, color, -1, cv2.LINE_AA)  # filled\n",
        "        cv2.putText(image,str(label), (c1[0], c1[1] - 2), 0, tl / 3, [225, 255, 255], thickness=tf, lineType=cv2.LINE_AA)\n",
        "\n",
        "\n",
        "def draw_box_on_image(image_name, classes_path, label_folder, raw_images_folder, save_images_folder ):\n",
        "\n",
        "    txt_path  = r\"/content/YOLOv6/Normal-Insulator,-Defect-Insulator,-Defects--1-2/labels/test/106_jpg.rf.e5eb4fae5eb4f2526ce15f9f903d692f.txt\"\n",
        "    print(image_name)\n",
        "    if image_name == '.DS_Store':\n",
        "        return 0\n",
        "\n",
        "    image_path = r\"./runs/inference/exp/106_jpg.rf.e5eb4fae5eb4f2526ce15f9f903d692f.jpg\"\n",
        "    save_file_path = r\"/content/YOLOv6/save_images_test/106\"\n",
        "\n",
        "    source_file = open(txt_path) if os.path.exists(txt_path) else []\n",
        "    image = cv2.imread(image_path)\n",
        "    try:\n",
        "        height, width, channels = image.shape\n",
        "    except:\n",
        "        print('no shape info.')\n",
        "        return 0\n",
        "\n",
        "    box_number = 0\n",
        "    for line in source_file:\n",
        "        staff = line.split()\n",
        "        class_idx = int(staff[0])\n",
        "\n",
        "        x_center, y_center, w, h = float(staff[1])*width, float(staff[2])*height, float(staff[3])*width, float(staff[4])*height\n",
        "        x1 = round(x_center-w/2)\n",
        "        y1 = round(y_center-h/2)\n",
        "        x2 = round(x_center+w/2)\n",
        "        y2 = round(y_center+h/2)\n",
        "\n",
        "\n",
        "        plot_one_box([x1,y1,x2,y2], image,  label=name_of_class, line_thickness=None)\n",
        "        cv2.imwrite(r\"/content/YOLOv6/save_images_test/106.jpg\",image)\n",
        "\n",
        "        box_number += 1\n",
        "        return box_number\n",
        "draw_box_on_image(image_name, classes_path,  label_folder, raw_images_folder, save_images_folder )\n",
        "\n",
        "\n",
        "\n"
      ]
    },
    {
      "cell_type": "code",
      "execution_count": null,
      "metadata": {
        "colab": {
          "base_uri": "https://localhost:8080/"
        },
        "outputId": "52495641-de39-423e-eb35-34aa3d9f6c13",
        "id": "-REm0TmXAc_S"
      },
      "outputs": [
        {
          "output_type": "stream",
          "name": "stdout",
          "text": [
            "./runs/inference/exp/1148_jpg.rf.02ee65b7706b9c4adc5db5c69dbd61a4.jpg\n"
          ]
        },
        {
          "output_type": "execute_result",
          "data": {
            "text/plain": [
              "1"
            ]
          },
          "metadata": {},
          "execution_count": 86
        }
      ],
      "source": [
        "\n",
        "import cv2\n",
        "import os\n",
        "import random\n",
        "\n",
        "\n",
        "\n",
        "label_folder = r'/content/YOLOv6/Normal-Insulator,-Defect-Insulator,-Defects--1-2/labels'\n",
        "\n",
        "raw_images_folder = r'/content/YOLOv6/Normal-Insulator,-Defect-Insulator,-Defects--1-2/images'\n",
        "\n",
        "save_images_folder = r'/content/YOLOv6/save_images_valid'\n",
        "\n",
        "name_list_path = r'/content/YOLOv6/Normal-Insulator,-Defect-Insulator,-Defects--1-2/labels/valid'\n",
        "\n",
        "classes_path = r'/content/YOLOv6/Normal-Insulator,-Defect-Insulator,-Defects--1-2'\n",
        "image_name=r'./runs/inference/exp/1148_jpg.rf.02ee65b7706b9c4adc5db5c69dbd61a4.jpg'\n",
        "label=name_of_class='normalinsulator'\n",
        "def plot_one_box(x, image, color=None, label=name_of_class, line_thickness=None):\n",
        "\n",
        "    tl = line_thickness or round(0.002 * (image.shape[0] + image.shape[1]) / 2) + 1  # line/font thickness\n",
        "    color = color or [random.randint(0, 255) for _ in range(3)]\n",
        "    c1, c2 = (int(x[0]), int(x[1])), (int(x[2]), int(x[3]))\n",
        "    cv2.rectangle(image, c1, c2, color, thickness=tl, lineType=cv2.LINE_AA)\n",
        "    if label:\n",
        "        tf = max(tl - 1, 1)  # font thickness\n",
        "        t_size = cv2.getTextSize(str(label), 0, fontScale=tl / 3, thickness=tf)[0]\n",
        "        c2 = c1[0] + t_size[0], c1[1] - t_size[1] - 3\n",
        "        cv2.rectangle(image, c1, c2, color, -1, cv2.LINE_AA)  # filled\n",
        "        cv2.putText(image,str(label), (c1[0], c1[1] - 2), 0, tl / 3, [225, 255, 255], thickness=tf, lineType=cv2.LINE_AA)\n",
        "\n",
        "\n",
        "def draw_box_on_image(image_name, classes_path, label_folder, raw_images_folder, save_images_folder ):\n",
        "\n",
        "    txt_path  = r\"/content/YOLOv6/Normal-Insulator,-Defect-Insulator,-Defects--1-2/labels/test/1148_jpg.rf.02ee65b7706b9c4adc5db5c69dbd61a4.txt\"\n",
        "    print(image_name)\n",
        "    if image_name == '.DS_Store':\n",
        "        return 0\n",
        "\n",
        "    image_path = r\"./runs/inference/exp/1148_jpg.rf.02ee65b7706b9c4adc5db5c69dbd61a4.jpg\"\n",
        "    save_file_path = r\"/content/YOLOv6/save_images_test/1148\"\n",
        "\n",
        "    source_file = open(txt_path) if os.path.exists(txt_path) else []\n",
        "    image = cv2.imread(image_path)\n",
        "    try:\n",
        "        height, width, channels = image.shape\n",
        "    except:\n",
        "        print('no shape info.')\n",
        "        return 0\n",
        "\n",
        "    box_number = 0\n",
        "    for line in source_file:\n",
        "        staff = line.split()\n",
        "        class_idx = int(staff[0])\n",
        "\n",
        "        x_center, y_center, w, h = float(staff[1])*width, float(staff[2])*height, float(staff[3])*width, float(staff[4])*height\n",
        "        x1 = round(x_center-w/2)\n",
        "        y1 = round(y_center-h/2)\n",
        "        x2 = round(x_center+w/2)\n",
        "        y2 = round(y_center+h/2)\n",
        "\n",
        "\n",
        "        plot_one_box([x1,y1,x2,y2], image,  label=name_of_class, line_thickness=None)\n",
        "        cv2.imwrite(r\"/content/YOLOv6/save_images_test/1148.jpg\",image)\n",
        "\n",
        "        box_number += 1\n",
        "        return box_number\n",
        "draw_box_on_image(image_name, classes_path,  label_folder, raw_images_folder, save_images_folder )\n",
        "\n",
        "\n",
        "\n"
      ]
    },
    {
      "cell_type": "code",
      "execution_count": null,
      "metadata": {
        "colab": {
          "base_uri": "https://localhost:8080/"
        },
        "outputId": "ee9d17d7-2cc0-40ec-9300-f47156b33ce6",
        "id": "_pwJtZDRBFzP"
      },
      "outputs": [
        {
          "output_type": "stream",
          "name": "stdout",
          "text": [
            "./runs/inference/exp/115_jpg.rf.52db49b4a7b621baa4c81494f8584537.jpg\n"
          ]
        },
        {
          "output_type": "execute_result",
          "data": {
            "text/plain": [
              "1"
            ]
          },
          "metadata": {},
          "execution_count": 88
        }
      ],
      "source": [
        "\n",
        "import cv2\n",
        "import os\n",
        "import random\n",
        "\n",
        "\n",
        "\n",
        "label_folder = r'/content/YOLOv6/Normal-Insulator,-Defect-Insulator,-Defects--1-2/labels'\n",
        "\n",
        "raw_images_folder = r'/content/YOLOv6/Normal-Insulator,-Defect-Insulator,-Defects--1-2/images'\n",
        "\n",
        "save_images_folder = r'/content/YOLOv6/save_images_valid'\n",
        "\n",
        "name_list_path = r'/content/YOLOv6/Normal-Insulator,-Defect-Insulator,-Defects--1-2/labels/valid'\n",
        "\n",
        "classes_path = r'/content/YOLOv6/Normal-Insulator,-Defect-Insulator,-Defects--1-2'\n",
        "image_name=r'./runs/inference/exp/115_jpg.rf.52db49b4a7b621baa4c81494f8584537.jpg'\n",
        "label=name_of_class='defective insulator'\n",
        "def plot_one_box(x, image, color=None, label=name_of_class, line_thickness=None):\n",
        "\n",
        "    tl = line_thickness or round(0.002 * (image.shape[0] + image.shape[1]) / 2) + 1  # line/font thickness\n",
        "    color = color or [random.randint(0, 255) for _ in range(3)]\n",
        "    c1, c2 = (int(x[0]), int(x[1])), (int(x[2]), int(x[3]))\n",
        "    cv2.rectangle(image, c1, c2, color, thickness=tl, lineType=cv2.LINE_AA)\n",
        "    if label:\n",
        "        tf = max(tl - 1, 1)  # font thickness\n",
        "        t_size = cv2.getTextSize(str(label), 0, fontScale=tl / 3, thickness=tf)[0]\n",
        "        c2 = c1[0] + t_size[0], c1[1] - t_size[1] - 3\n",
        "        cv2.rectangle(image, c1, c2, color, -1, cv2.LINE_AA)  # filled\n",
        "        cv2.putText(image,str(label), (c1[0], c1[1] - 2), 0, tl / 3, [225, 255, 255], thickness=tf, lineType=cv2.LINE_AA)\n",
        "\n",
        "\n",
        "def draw_box_on_image(image_name, classes_path, label_folder, raw_images_folder, save_images_folder ):\n",
        "\n",
        "    txt_path  = r\"/content/YOLOv6/Normal-Insulator,-Defect-Insulator,-Defects--1-2/labels/test/115_jpg.rf.52db49b4a7b621baa4c81494f8584537.txt\"\n",
        "    print(image_name)\n",
        "    if image_name == '.DS_Store':\n",
        "        return 0\n",
        "\n",
        "    image_path = r\"./runs/inference/exp/115_jpg.rf.52db49b4a7b621baa4c81494f8584537.jpg\"\n",
        "    save_file_path = r\"/content/YOLOv6/save_images_test/115\"\n",
        "\n",
        "    source_file = open(txt_path) if os.path.exists(txt_path) else []\n",
        "    image = cv2.imread(image_path)\n",
        "    try:\n",
        "        height, width, channels = image.shape\n",
        "    except:\n",
        "        print('no shape info.')\n",
        "        return 0\n",
        "\n",
        "    box_number = 0\n",
        "    for line in source_file:\n",
        "        staff = line.split()\n",
        "        class_idx = int(staff[0])\n",
        "\n",
        "        x_center, y_center, w, h = float(staff[1])*width, float(staff[2])*height, float(staff[3])*width, float(staff[4])*height\n",
        "        x1 = round(x_center-w/2)\n",
        "        y1 = round(y_center-h/2)\n",
        "        x2 = round(x_center+w/2)\n",
        "        y2 = round(y_center+h/2)\n",
        "\n",
        "\n",
        "        plot_one_box([x1,y1,x2,y2], image,  label=name_of_class, line_thickness=None)\n",
        "        cv2.imwrite(r\"/content/YOLOv6/save_images_test/115.jpg\",image)\n",
        "\n",
        "        box_number += 1\n",
        "        return box_number\n",
        "draw_box_on_image(image_name, classes_path,  label_folder, raw_images_folder, save_images_folder )\n",
        "\n",
        "\n",
        "\n"
      ]
    },
    {
      "cell_type": "code",
      "execution_count": null,
      "metadata": {
        "colab": {
          "base_uri": "https://localhost:8080/"
        },
        "outputId": "8623b60c-58f4-469d-a814-527ed31a4462",
        "id": "QfEiLjMhBE7h"
      },
      "outputs": [
        {
          "output_type": "stream",
          "name": "stdout",
          "text": [
            "./runs/inference/exp/116_jpg.rf.fd0f2e01699d496040c2141a478480be.jpg\n"
          ]
        },
        {
          "output_type": "execute_result",
          "data": {
            "text/plain": [
              "1"
            ]
          },
          "metadata": {},
          "execution_count": 89
        }
      ],
      "source": [
        "\n",
        "import cv2\n",
        "import os\n",
        "import random\n",
        "\n",
        "\n",
        "\n",
        "label_folder = r'/content/YOLOv6/Normal-Insulator,-Defect-Insulator,-Defects--1-2/labels'\n",
        "\n",
        "raw_images_folder = r'/content/YOLOv6/Normal-Insulator,-Defect-Insulator,-Defects--1-2/images'\n",
        "\n",
        "save_images_folder = r'/content/YOLOv6/save_images_valid'\n",
        "\n",
        "name_list_path = r'/content/YOLOv6/Normal-Insulator,-Defect-Insulator,-Defects--1-2/labels/valid'\n",
        "\n",
        "classes_path = r'/content/YOLOv6/Normal-Insulator,-Defect-Insulator,-Defects--1-2'\n",
        "image_name=r'./runs/inference/exp/116_jpg.rf.fd0f2e01699d496040c2141a478480be.jpg'\n",
        "label=name_of_class='defect'\n",
        "def plot_one_box(x, image, color=None, label=name_of_class, line_thickness=None):\n",
        "\n",
        "    tl = line_thickness or round(0.002 * (image.shape[0] + image.shape[1]) / 2) + 1  # line/font thickness\n",
        "    color = color or [random.randint(0, 255) for _ in range(3)]\n",
        "    c1, c2 = (int(x[0]), int(x[1])), (int(x[2]), int(x[3]))\n",
        "    cv2.rectangle(image, c1, c2, color, thickness=tl, lineType=cv2.LINE_AA)\n",
        "    if label:\n",
        "        tf = max(tl - 1, 1)  # font thickness\n",
        "        t_size = cv2.getTextSize(str(label), 0, fontScale=tl / 3, thickness=tf)[0]\n",
        "        c2 = c1[0] + t_size[0], c1[1] - t_size[1] - 3\n",
        "        cv2.rectangle(image, c1, c2, color, -1, cv2.LINE_AA)  # filled\n",
        "        cv2.putText(image,str(label), (c1[0], c1[1] - 2), 0, tl / 3, [225, 255, 255], thickness=tf, lineType=cv2.LINE_AA)\n",
        "\n",
        "\n",
        "def draw_box_on_image(image_name, classes_path, label_folder, raw_images_folder, save_images_folder ):\n",
        "\n",
        "    txt_path  = r\"/content/YOLOv6/Normal-Insulator,-Defect-Insulator,-Defects--1-2/labels/test/116_jpg.rf.fd0f2e01699d496040c2141a478480be.txt\"\n",
        "    print(image_name)\n",
        "    if image_name == '.DS_Store':\n",
        "        return 0\n",
        "\n",
        "    image_path = r\"./runs/inference/exp/116_jpg.rf.fd0f2e01699d496040c2141a478480be.jpg\"\n",
        "    save_file_path = r\"/content/YOLOv6/save_images_test/116\"\n",
        "\n",
        "    source_file = open(txt_path) if os.path.exists(txt_path) else []\n",
        "    image = cv2.imread(image_path)\n",
        "    try:\n",
        "        height, width, channels = image.shape\n",
        "    except:\n",
        "        print('no shape info.')\n",
        "        return 0\n",
        "\n",
        "    box_number = 0\n",
        "    for line in source_file:\n",
        "        staff = line.split()\n",
        "        class_idx = int(staff[0])\n",
        "\n",
        "        x_center, y_center, w, h = float(staff[1])*width, float(staff[2])*height, float(staff[3])*width, float(staff[4])*height\n",
        "        x1 = round(x_center-w/2)\n",
        "        y1 = round(y_center-h/2)\n",
        "        x2 = round(x_center+w/2)\n",
        "        y2 = round(y_center+h/2)\n",
        "\n",
        "\n",
        "        plot_one_box([x1,y1,x2,y2], image,  label=name_of_class, line_thickness=None)\n",
        "        cv2.imwrite(r\"/content/YOLOv6/save_images_test/116.jpg\",image)\n",
        "\n",
        "        box_number += 1\n",
        "        return box_number\n",
        "draw_box_on_image(image_name, classes_path,  label_folder, raw_images_folder, save_images_folder )\n",
        "\n",
        "\n",
        "\n"
      ]
    },
    {
      "cell_type": "code",
      "execution_count": null,
      "metadata": {
        "colab": {
          "base_uri": "https://localhost:8080/"
        },
        "outputId": "2bf2c70b-79e8-4a02-96ff-770faeb8201c",
        "id": "lS-N6Y36BEFC"
      },
      "outputs": [
        {
          "output_type": "stream",
          "name": "stdout",
          "text": [
            "./runs/inference/exp/118_jpg.rf.e79f452f7924940ebc03e87ac2865ae8.jpg\n"
          ]
        },
        {
          "output_type": "execute_result",
          "data": {
            "text/plain": [
              "1"
            ]
          },
          "metadata": {},
          "execution_count": 91
        }
      ],
      "source": [
        "\n",
        "import cv2\n",
        "import os\n",
        "import random\n",
        "\n",
        "\n",
        "\n",
        "label_folder = r'/content/YOLOv6/Normal-Insulator,-Defect-Insulator,-Defects--1-2/labels'\n",
        "\n",
        "raw_images_folder = r'/content/YOLOv6/Normal-Insulator,-Defect-Insulator,-Defects--1-2/images'\n",
        "\n",
        "save_images_folder = r'/content/YOLOv6/save_images_valid'\n",
        "\n",
        "name_list_path = r'/content/YOLOv6/Normal-Insulator,-Defect-Insulator,-Defects--1-2/labels/valid'\n",
        "\n",
        "classes_path = r'/content/YOLOv6/Normal-Insulator,-Defect-Insulator,-Defects--1-2'\n",
        "image_name=r'./runs/inference/exp/118_jpg.rf.e79f452f7924940ebc03e87ac2865ae8.jpg'\n",
        "label=name_of_class='defective insulator'\n",
        "def plot_one_box(x, image, color=None, label=name_of_class, line_thickness=None):\n",
        "\n",
        "    tl = line_thickness or round(0.002 * (image.shape[0] + image.shape[1]) / 2) + 1  # line/font thickness\n",
        "    color = color or [random.randint(0, 255) for _ in range(3)]\n",
        "    c1, c2 = (int(x[0]), int(x[1])), (int(x[2]), int(x[3]))\n",
        "    cv2.rectangle(image, c1, c2, color, thickness=tl, lineType=cv2.LINE_AA)\n",
        "    if label:\n",
        "        tf = max(tl - 1, 1)  # font thickness\n",
        "        t_size = cv2.getTextSize(str(label), 0, fontScale=tl / 3, thickness=tf)[0]\n",
        "        c2 = c1[0] + t_size[0], c1[1] - t_size[1] - 3\n",
        "        cv2.rectangle(image, c1, c2, color, -1, cv2.LINE_AA)  # filled\n",
        "        cv2.putText(image,str(label), (c1[0], c1[1] - 2), 0, tl / 3, [225, 255, 255], thickness=tf, lineType=cv2.LINE_AA)\n",
        "\n",
        "\n",
        "def draw_box_on_image(image_name, classes_path, label_folder, raw_images_folder, save_images_folder ):\n",
        "\n",
        "    txt_path  = r\"/content/YOLOv6/Normal-Insulator,-Defect-Insulator,-Defects--1-2/labels/test/118_jpg.rf.e79f452f7924940ebc03e87ac2865ae8.txt\"\n",
        "    print(image_name)\n",
        "    if image_name == '.DS_Store':\n",
        "        return 0\n",
        "\n",
        "    image_path = r\"./runs/inference/exp/118_jpg.rf.e79f452f7924940ebc03e87ac2865ae8.jpg\"\n",
        "    save_file_path = r\"/content/YOLOv6/save_images_test/118\"\n",
        "\n",
        "    source_file = open(txt_path) if os.path.exists(txt_path) else []\n",
        "    image = cv2.imread(image_path)\n",
        "    try:\n",
        "        height, width, channels = image.shape\n",
        "    except:\n",
        "        print('no shape info.')\n",
        "        return 0\n",
        "\n",
        "    box_number = 0\n",
        "    for line in source_file:\n",
        "        staff = line.split()\n",
        "        class_idx = int(staff[0])\n",
        "\n",
        "        x_center, y_center, w, h = float(staff[1])*width, float(staff[2])*height, float(staff[3])*width, float(staff[4])*height\n",
        "        x1 = round(x_center-w/2)\n",
        "        y1 = round(y_center-h/2)\n",
        "        x2 = round(x_center+w/2)\n",
        "        y2 = round(y_center+h/2)\n",
        "\n",
        "\n",
        "        plot_one_box([x1,y1,x2,y2], image,  label=name_of_class, line_thickness=None)\n",
        "        cv2.imwrite(r\"/content/YOLOv6/save_images_test/118.jpg\",image)\n",
        "\n",
        "        box_number += 1\n",
        "        return box_number\n",
        "draw_box_on_image(image_name, classes_path,  label_folder, raw_images_folder, save_images_folder )\n",
        "\n",
        "\n",
        "\n"
      ]
    },
    {
      "cell_type": "code",
      "source": [
        "!python tools/infer.py  --yaml {dataset.location}/data.yaml  --weights runs/train/exp/weights/best_ckpt.pt   --source {dataset.location}/images/test/1247_jpg.rf.7bd0f45d4585e4db2e3ee4cdfef29f89.jpg    --device 0"
      ],
      "metadata": {
        "colab": {
          "base_uri": "https://localhost:8080/"
        },
        "id": "oq8wcA-ljfey",
        "outputId": "cc1d9e43-ab4a-4ef5-d895-7194be573c51"
      },
      "execution_count": null,
      "outputs": [
        {
          "output_type": "stream",
          "name": "stdout",
          "text": [
            "Namespace(agnostic_nms=False, classes=None, conf_thres=0.4, device='0', half=False, hide_conf=False, hide_labels=False, img_size=[640, 640], iou_thres=0.45, max_det=1000, name='exp', not_save_img=False, project='runs/inference', save_dir=None, save_txt=False, source='/content/YOLOv6/Normal-Insulator,-Defect-Insulator,-Defects--1-2/images/test/1247_jpg.rf.7bd0f45d4585e4db2e3ee4cdfef29f89.jpg', view_img=False, webcam=False, webcam_addr='0', weights='runs/train/exp/weights/best_ckpt.pt', yaml='/content/YOLOv6/Normal-Insulator,-Defect-Insulator,-Defects--1-2/data.yaml')\n",
            "Save directory already existed\n",
            "Loading checkpoint from runs/train/exp/weights/best_ckpt.pt\n",
            "\n",
            "Fusing model...\n",
            "Switch model to deploy modality.\n",
            "/usr/local/lib/python3.8/dist-packages/torch/functional.py:504: UserWarning: torch.meshgrid: in an upcoming release, it will be required to pass the indexing argument. (Triggered internally at ../aten/src/ATen/native/TensorShape.cpp:3190.)\n",
            "  return _VF.meshgrid(tensors, **kwargs)  # type: ignore[attr-defined]\n",
            "100% 1/1 [00:00<00:00, 18.75it/s]\n",
            "Results saved to runs/inference/exp\n"
          ]
        }
      ]
    },
    {
      "cell_type": "code",
      "source": [
        "!python tools/infer.py  --yaml {dataset.location}/data.yaml  --weights runs/train/exp/weights/best_ckpt.pt   --source {dataset.location}/images/test/125_jpg.rf.13757de435f7ebb3758ee4c089956085.jpg    --device 0"
      ],
      "metadata": {
        "colab": {
          "base_uri": "https://localhost:8080/"
        },
        "id": "SD4kwJv4jfjx",
        "outputId": "cc9984e8-56b9-4723-a277-09938c9dc580"
      },
      "execution_count": null,
      "outputs": [
        {
          "output_type": "stream",
          "name": "stdout",
          "text": [
            "Namespace(agnostic_nms=False, classes=None, conf_thres=0.4, device='0', half=False, hide_conf=False, hide_labels=False, img_size=[640, 640], iou_thres=0.45, max_det=1000, name='exp', not_save_img=False, project='runs/inference', save_dir=None, save_txt=False, source='/content/YOLOv6/Normal-Insulator,-Defect-Insulator,-Defects--1-2/images/test/125_jpg.rf.13757de435f7ebb3758ee4c089956085.jpg', view_img=False, webcam=False, webcam_addr='0', weights='runs/train/exp/weights/best_ckpt.pt', yaml='/content/YOLOv6/Normal-Insulator,-Defect-Insulator,-Defects--1-2/data.yaml')\n",
            "Save directory already existed\n",
            "Loading checkpoint from runs/train/exp/weights/best_ckpt.pt\n",
            "\n",
            "Fusing model...\n",
            "Switch model to deploy modality.\n",
            "/usr/local/lib/python3.8/dist-packages/torch/functional.py:504: UserWarning: torch.meshgrid: in an upcoming release, it will be required to pass the indexing argument. (Triggered internally at ../aten/src/ATen/native/TensorShape.cpp:3190.)\n",
            "  return _VF.meshgrid(tensors, **kwargs)  # type: ignore[attr-defined]\n",
            "100% 1/1 [00:00<00:00, 25.24it/s]\n",
            "Results saved to runs/inference/exp\n"
          ]
        }
      ]
    },
    {
      "cell_type": "code",
      "source": [
        "!python tools/infer.py  --yaml {dataset.location}/data.yaml  --weights runs/train/exp/weights/best_ckpt.pt   --source {dataset.location}/images/test/127_jpg.rf.47f0d5a63f1e1f2dd2302ade478f1a9a.jpg    --device 0"
      ],
      "metadata": {
        "colab": {
          "base_uri": "https://localhost:8080/"
        },
        "id": "4fThSVGhGXZW",
        "outputId": "aa7d7423-51c4-4e1f-e694-aedd1aed446b"
      },
      "execution_count": null,
      "outputs": [
        {
          "output_type": "stream",
          "name": "stdout",
          "text": [
            "Namespace(agnostic_nms=False, classes=None, conf_thres=0.4, device='0', half=False, hide_conf=False, hide_labels=False, img_size=[640, 640], iou_thres=0.45, max_det=1000, name='exp', not_save_img=False, project='runs/inference', save_dir=None, save_txt=False, source='/content/YOLOv6/Normal-Insulator,-Defect-Insulator,-Defects--1-2/images/test/127_jpg.rf.47f0d5a63f1e1f2dd2302ade478f1a9a.jpg', view_img=False, webcam=False, webcam_addr='0', weights='runs/train/exp/weights/best_ckpt.pt', yaml='/content/YOLOv6/Normal-Insulator,-Defect-Insulator,-Defects--1-2/data.yaml')\n",
            "Save directory already existed\n",
            "Loading checkpoint from runs/train/exp/weights/best_ckpt.pt\n",
            "\n",
            "Fusing model...\n",
            "Switch model to deploy modality.\n",
            "/usr/local/lib/python3.8/dist-packages/torch/functional.py:504: UserWarning: torch.meshgrid: in an upcoming release, it will be required to pass the indexing argument. (Triggered internally at ../aten/src/ATen/native/TensorShape.cpp:3190.)\n",
            "  return _VF.meshgrid(tensors, **kwargs)  # type: ignore[attr-defined]\n",
            "100% 1/1 [00:00<00:00, 24.02it/s]\n",
            "Results saved to runs/inference/exp\n"
          ]
        }
      ]
    },
    {
      "cell_type": "code",
      "source": [
        "!python tools/infer.py  --yaml {dataset.location}/data.yaml  --weights runs/train/exp/weights/best_ckpt.pt   --source {dataset.location}/images/test/1292_jpg.rf.eff429f9e976a65bd9d17ce11cffc951.jpg    --device 0"
      ],
      "metadata": {
        "colab": {
          "base_uri": "https://localhost:8080/"
        },
        "id": "bW1sbodLGXit",
        "outputId": "3e22d6b1-847a-4da5-ce5b-47ecc1697227"
      },
      "execution_count": null,
      "outputs": [
        {
          "output_type": "stream",
          "name": "stdout",
          "text": [
            "Namespace(agnostic_nms=False, classes=None, conf_thres=0.4, device='0', half=False, hide_conf=False, hide_labels=False, img_size=[640, 640], iou_thres=0.45, max_det=1000, name='exp', not_save_img=False, project='runs/inference', save_dir=None, save_txt=False, source='/content/YOLOv6/Normal-Insulator,-Defect-Insulator,-Defects--1-2/images/test/1292_jpg.rf.eff429f9e976a65bd9d17ce11cffc951.jpg', view_img=False, webcam=False, webcam_addr='0', weights='runs/train/exp/weights/best_ckpt.pt', yaml='/content/YOLOv6/Normal-Insulator,-Defect-Insulator,-Defects--1-2/data.yaml')\n",
            "Save directory already existed\n",
            "Loading checkpoint from runs/train/exp/weights/best_ckpt.pt\n",
            "\n",
            "Fusing model...\n",
            "Switch model to deploy modality.\n",
            "/usr/local/lib/python3.8/dist-packages/torch/functional.py:504: UserWarning: torch.meshgrid: in an upcoming release, it will be required to pass the indexing argument. (Triggered internally at ../aten/src/ATen/native/TensorShape.cpp:3190.)\n",
            "  return _VF.meshgrid(tensors, **kwargs)  # type: ignore[attr-defined]\n",
            "100% 1/1 [00:00<00:00, 22.52it/s]\n",
            "Results saved to runs/inference/exp\n"
          ]
        }
      ]
    },
    {
      "cell_type": "code",
      "source": [
        "!python tools/infer.py  --yaml {dataset.location}/data.yaml  --weights runs/train/exp/weights/best_ckpt.pt   --source {dataset.location}/images/test/1347_jpg.rf.d241fc8520058072eb333baa99bf36de.jpg   --device 0"
      ],
      "metadata": {
        "colab": {
          "base_uri": "https://localhost:8080/"
        },
        "id": "DXFpspyLGXnv",
        "outputId": "966f535f-6973-4d60-e0a5-9aaffe82ef3c"
      },
      "execution_count": null,
      "outputs": [
        {
          "output_type": "stream",
          "name": "stdout",
          "text": [
            "Namespace(agnostic_nms=False, classes=None, conf_thres=0.4, device='0', half=False, hide_conf=False, hide_labels=False, img_size=[640, 640], iou_thres=0.45, max_det=1000, name='exp', not_save_img=False, project='runs/inference', save_dir=None, save_txt=False, source='/content/YOLOv6/Normal-Insulator,-Defect-Insulator,-Defects--1-2/images/test/1347_jpg.rf.d241fc8520058072eb333baa99bf36de.jpg', view_img=False, webcam=False, webcam_addr='0', weights='runs/train/exp/weights/best_ckpt.pt', yaml='/content/YOLOv6/Normal-Insulator,-Defect-Insulator,-Defects--1-2/data.yaml')\n",
            "Save directory already existed\n",
            "Loading checkpoint from runs/train/exp/weights/best_ckpt.pt\n",
            "\n",
            "Fusing model...\n",
            "Switch model to deploy modality.\n",
            "/usr/local/lib/python3.8/dist-packages/torch/functional.py:504: UserWarning: torch.meshgrid: in an upcoming release, it will be required to pass the indexing argument. (Triggered internally at ../aten/src/ATen/native/TensorShape.cpp:3190.)\n",
            "  return _VF.meshgrid(tensors, **kwargs)  # type: ignore[attr-defined]\n",
            "100% 1/1 [00:00<00:00, 24.02it/s]\n",
            "Results saved to runs/inference/exp\n"
          ]
        }
      ]
    },
    {
      "cell_type": "code",
      "source": [
        "!python tools/infer.py  --yaml {dataset.location}/data.yaml  --weights runs/train/exp/weights/best_ckpt.pt   --source {dataset.location}/images/test/125_jpg.rf.13757de435f7ebb3758ee4c089956085.jpg    --device 0"
      ],
      "metadata": {
        "colab": {
          "base_uri": "https://localhost:8080/"
        },
        "id": "A6ww1h0fGXsY",
        "outputId": "f77caf4e-8c9c-4079-b005-b93930ac98bf"
      },
      "execution_count": null,
      "outputs": [
        {
          "output_type": "stream",
          "name": "stdout",
          "text": [
            "Namespace(agnostic_nms=False, classes=None, conf_thres=0.4, device='0', half=False, hide_conf=False, hide_labels=False, img_size=[640, 640], iou_thres=0.45, max_det=1000, name='exp', not_save_img=False, project='runs/inference', save_dir=None, save_txt=False, source='/content/YOLOv6/Normal-Insulator,-Defect-Insulator,-Defects--1-2/images/test/125_jpg.rf.13757de435f7ebb3758ee4c089956085.jpg', view_img=False, webcam=False, webcam_addr='0', weights='runs/train/exp/weights/best_ckpt.pt', yaml='/content/YOLOv6/Normal-Insulator,-Defect-Insulator,-Defects--1-2/data.yaml')\n",
            "Save directory already existed\n",
            "Loading checkpoint from runs/train/exp/weights/best_ckpt.pt\n",
            "\n",
            "Fusing model...\n",
            "Switch model to deploy modality.\n",
            "/usr/local/lib/python3.8/dist-packages/torch/functional.py:504: UserWarning: torch.meshgrid: in an upcoming release, it will be required to pass the indexing argument. (Triggered internally at ../aten/src/ATen/native/TensorShape.cpp:3190.)\n",
            "  return _VF.meshgrid(tensors, **kwargs)  # type: ignore[attr-defined]\n",
            "100% 1/1 [00:00<00:00, 24.11it/s]\n",
            "Results saved to runs/inference/exp\n"
          ]
        }
      ]
    },
    {
      "cell_type": "code",
      "source": [
        "!python tools/infer.py  --yaml {dataset.location}/data.yaml  --weights runs/train/exp/weights/best_ckpt.pt   --source {dataset.location}/images/test/127_jpg.rf.47f0d5a63f1e1f2dd2302ade478f1a9a.jpg    --device 0"
      ],
      "metadata": {
        "colab": {
          "base_uri": "https://localhost:8080/"
        },
        "id": "SRrE6IdPGXwa",
        "outputId": "125ca667-e1df-42e2-9642-60edd106eb86"
      },
      "execution_count": null,
      "outputs": [
        {
          "output_type": "stream",
          "name": "stdout",
          "text": [
            "Namespace(agnostic_nms=False, classes=None, conf_thres=0.4, device='0', half=False, hide_conf=False, hide_labels=False, img_size=[640, 640], iou_thres=0.45, max_det=1000, name='exp', not_save_img=False, project='runs/inference', save_dir=None, save_txt=False, source='/content/YOLOv6/Normal-Insulator,-Defect-Insulator,-Defects--1-2/images/test/127_jpg.rf.47f0d5a63f1e1f2dd2302ade478f1a9a.jpg', view_img=False, webcam=False, webcam_addr='0', weights='runs/train/exp/weights/best_ckpt.pt', yaml='/content/YOLOv6/Normal-Insulator,-Defect-Insulator,-Defects--1-2/data.yaml')\n",
            "Save directory already existed\n",
            "Loading checkpoint from runs/train/exp/weights/best_ckpt.pt\n",
            "\n",
            "Fusing model...\n",
            "Switch model to deploy modality.\n",
            "/usr/local/lib/python3.8/dist-packages/torch/functional.py:504: UserWarning: torch.meshgrid: in an upcoming release, it will be required to pass the indexing argument. (Triggered internally at ../aten/src/ATen/native/TensorShape.cpp:3190.)\n",
            "  return _VF.meshgrid(tensors, **kwargs)  # type: ignore[attr-defined]\n",
            "100% 1/1 [00:00<00:00, 23.94it/s]\n",
            "Results saved to runs/inference/exp\n"
          ]
        }
      ]
    },
    {
      "cell_type": "code",
      "source": [
        "!python tools/infer.py  --yaml {dataset.location}/data.yaml  --weights runs/train/exp/weights/best_ckpt.pt   --source {dataset.location}/images/test/1292_jpg.rf.eff429f9e976a65bd9d17ce11cffc951.jpg    --device 0"
      ],
      "metadata": {
        "colab": {
          "base_uri": "https://localhost:8080/"
        },
        "id": "Dpzr2NmQGX4r",
        "outputId": "e59ee034-d6af-4e65-8dcd-131e5eba01cf"
      },
      "execution_count": null,
      "outputs": [
        {
          "output_type": "stream",
          "name": "stdout",
          "text": [
            "Namespace(agnostic_nms=False, classes=None, conf_thres=0.4, device='0', half=False, hide_conf=False, hide_labels=False, img_size=[640, 640], iou_thres=0.45, max_det=1000, name='exp', not_save_img=False, project='runs/inference', save_dir=None, save_txt=False, source='/content/YOLOv6/Normal-Insulator,-Defect-Insulator,-Defects--1-2/images/test/1292_jpg.rf.eff429f9e976a65bd9d17ce11cffc951.jpg', view_img=False, webcam=False, webcam_addr='0', weights='runs/train/exp/weights/best_ckpt.pt', yaml='/content/YOLOv6/Normal-Insulator,-Defect-Insulator,-Defects--1-2/data.yaml')\n",
            "Save directory already existed\n",
            "Loading checkpoint from runs/train/exp/weights/best_ckpt.pt\n",
            "\n",
            "Fusing model...\n",
            "Switch model to deploy modality.\n",
            "/usr/local/lib/python3.8/dist-packages/torch/functional.py:504: UserWarning: torch.meshgrid: in an upcoming release, it will be required to pass the indexing argument. (Triggered internally at ../aten/src/ATen/native/TensorShape.cpp:3190.)\n",
            "  return _VF.meshgrid(tensors, **kwargs)  # type: ignore[attr-defined]\n",
            "100% 1/1 [00:00<00:00, 21.58it/s]\n",
            "Results saved to runs/inference/exp\n"
          ]
        }
      ]
    },
    {
      "cell_type": "code",
      "source": [
        "!python tools/infer.py  --yaml {dataset.location}/data.yaml  --weights runs/train/exp/weights/best_ckpt.pt   --source {dataset.location}/images/test/1347_jpg.rf.d241fc8520058072eb333baa99bf36de.jpg    --device 0"
      ],
      "metadata": {
        "colab": {
          "base_uri": "https://localhost:8080/"
        },
        "id": "ucz6UnzYGYC8",
        "outputId": "300e868d-7aca-4a6d-d191-640e6a97c9c7"
      },
      "execution_count": null,
      "outputs": [
        {
          "output_type": "stream",
          "name": "stdout",
          "text": [
            "Namespace(agnostic_nms=False, classes=None, conf_thres=0.4, device='0', half=False, hide_conf=False, hide_labels=False, img_size=[640, 640], iou_thres=0.45, max_det=1000, name='exp', not_save_img=False, project='runs/inference', save_dir=None, save_txt=False, source='/content/YOLOv6/Normal-Insulator,-Defect-Insulator,-Defects--1-2/images/test/1347_jpg.rf.d241fc8520058072eb333baa99bf36de.jpg', view_img=False, webcam=False, webcam_addr='0', weights='runs/train/exp/weights/best_ckpt.pt', yaml='/content/YOLOv6/Normal-Insulator,-Defect-Insulator,-Defects--1-2/data.yaml')\n",
            "Save directory already existed\n",
            "Loading checkpoint from runs/train/exp/weights/best_ckpt.pt\n",
            "\n",
            "Fusing model...\n",
            "Switch model to deploy modality.\n",
            "/usr/local/lib/python3.8/dist-packages/torch/functional.py:504: UserWarning: torch.meshgrid: in an upcoming release, it will be required to pass the indexing argument. (Triggered internally at ../aten/src/ATen/native/TensorShape.cpp:3190.)\n",
            "  return _VF.meshgrid(tensors, **kwargs)  # type: ignore[attr-defined]\n",
            "100% 1/1 [00:00<00:00, 17.15it/s]\n",
            "Results saved to runs/inference/exp\n"
          ]
        }
      ]
    },
    {
      "cell_type": "code",
      "source": [
        "!python tools/infer.py  --yaml {dataset.location}/data.yaml  --weights runs/train/exp/weights/best_ckpt.pt   --source {dataset.location}/images/test/134_jpg.rf.e4497553c8ff91a6615fb83adf557d1c.jpg    --device 0"
      ],
      "metadata": {
        "colab": {
          "base_uri": "https://localhost:8080/"
        },
        "id": "UT5YUdv6GYLq",
        "outputId": "733a5dbb-1876-4dac-e201-c045efd0c820"
      },
      "execution_count": null,
      "outputs": [
        {
          "output_type": "stream",
          "name": "stdout",
          "text": [
            "Namespace(agnostic_nms=False, classes=None, conf_thres=0.4, device='0', half=False, hide_conf=False, hide_labels=False, img_size=[640, 640], iou_thres=0.45, max_det=1000, name='exp', not_save_img=False, project='runs/inference', save_dir=None, save_txt=False, source='/content/YOLOv6/Normal-Insulator,-Defect-Insulator,-Defects--1-2/images/test/134_jpg.rf.e4497553c8ff91a6615fb83adf557d1c.jpg', view_img=False, webcam=False, webcam_addr='0', weights='runs/train/exp/weights/best_ckpt.pt', yaml='/content/YOLOv6/Normal-Insulator,-Defect-Insulator,-Defects--1-2/data.yaml')\n",
            "Save directory already existed\n",
            "Loading checkpoint from runs/train/exp/weights/best_ckpt.pt\n",
            "\n",
            "Fusing model...\n",
            "Switch model to deploy modality.\n",
            "/usr/local/lib/python3.8/dist-packages/torch/functional.py:504: UserWarning: torch.meshgrid: in an upcoming release, it will be required to pass the indexing argument. (Triggered internally at ../aten/src/ATen/native/TensorShape.cpp:3190.)\n",
            "  return _VF.meshgrid(tensors, **kwargs)  # type: ignore[attr-defined]\n",
            "100% 1/1 [00:00<00:00, 23.72it/s]\n",
            "Results saved to runs/inference/exp\n"
          ]
        }
      ]
    },
    {
      "cell_type": "code",
      "source": [
        "!python tools/infer.py  --yaml {dataset.location}/data.yaml  --weights runs/train/exp/weights/best_ckpt.pt   --source {dataset.location}/images/test/1366_jpg.rf.e68cb93bdc0a5b0fbbcaa6ff5defe132.jpg    --device 0"
      ],
      "metadata": {
        "colab": {
          "base_uri": "https://localhost:8080/"
        },
        "id": "DASZIYEOGfyn",
        "outputId": "e3a9d08c-9e53-48e7-bdb9-e2f66be23f84"
      },
      "execution_count": null,
      "outputs": [
        {
          "output_type": "stream",
          "name": "stdout",
          "text": [
            "Namespace(agnostic_nms=False, classes=None, conf_thres=0.4, device='0', half=False, hide_conf=False, hide_labels=False, img_size=[640, 640], iou_thres=0.45, max_det=1000, name='exp', not_save_img=False, project='runs/inference', save_dir=None, save_txt=False, source='/content/YOLOv6/Normal-Insulator,-Defect-Insulator,-Defects--1-2/images/test/1366_jpg.rf.e68cb93bdc0a5b0fbbcaa6ff5defe132.jpg', view_img=False, webcam=False, webcam_addr='0', weights='runs/train/exp/weights/best_ckpt.pt', yaml='/content/YOLOv6/Normal-Insulator,-Defect-Insulator,-Defects--1-2/data.yaml')\n",
            "Save directory already existed\n",
            "Loading checkpoint from runs/train/exp/weights/best_ckpt.pt\n",
            "\n",
            "Fusing model...\n",
            "Switch model to deploy modality.\n",
            "/usr/local/lib/python3.8/dist-packages/torch/functional.py:504: UserWarning: torch.meshgrid: in an upcoming release, it will be required to pass the indexing argument. (Triggered internally at ../aten/src/ATen/native/TensorShape.cpp:3190.)\n",
            "  return _VF.meshgrid(tensors, **kwargs)  # type: ignore[attr-defined]\n",
            "100% 1/1 [00:00<00:00, 20.50it/s]\n",
            "Results saved to runs/inference/exp\n"
          ]
        }
      ]
    },
    {
      "cell_type": "code",
      "source": [
        "!python tools/infer.py  --yaml {dataset.location}/data.yaml  --weights runs/train/exp/weights/best_ckpt.pt   --source {dataset.location}/images/test/1379_jpg.rf.30c31161c007d71b7c3a06e569aec333.jpg    --device 0"
      ],
      "metadata": {
        "colab": {
          "base_uri": "https://localhost:8080/"
        },
        "id": "9bEo0-cmGf9V",
        "outputId": "9c5beb66-8c17-4b82-8287-859be9527aca"
      },
      "execution_count": null,
      "outputs": [
        {
          "output_type": "stream",
          "name": "stdout",
          "text": [
            "Namespace(agnostic_nms=False, classes=None, conf_thres=0.4, device='0', half=False, hide_conf=False, hide_labels=False, img_size=[640, 640], iou_thres=0.45, max_det=1000, name='exp', not_save_img=False, project='runs/inference', save_dir=None, save_txt=False, source='/content/YOLOv6/Normal-Insulator,-Defect-Insulator,-Defects--1-2/images/test/1379_jpg.rf.30c31161c007d71b7c3a06e569aec333.jpg', view_img=False, webcam=False, webcam_addr='0', weights='runs/train/exp/weights/best_ckpt.pt', yaml='/content/YOLOv6/Normal-Insulator,-Defect-Insulator,-Defects--1-2/data.yaml')\n",
            "Save directory already existed\n",
            "Loading checkpoint from runs/train/exp/weights/best_ckpt.pt\n",
            "\n",
            "Fusing model...\n",
            "Switch model to deploy modality.\n",
            "/usr/local/lib/python3.8/dist-packages/torch/functional.py:504: UserWarning: torch.meshgrid: in an upcoming release, it will be required to pass the indexing argument. (Triggered internally at ../aten/src/ATen/native/TensorShape.cpp:3190.)\n",
            "  return _VF.meshgrid(tensors, **kwargs)  # type: ignore[attr-defined]\n",
            "100% 1/1 [00:00<00:00, 23.67it/s]\n",
            "Results saved to runs/inference/exp\n"
          ]
        }
      ]
    },
    {
      "cell_type": "code",
      "execution_count": null,
      "metadata": {
        "colab": {
          "base_uri": "https://localhost:8080/"
        },
        "outputId": "770eefa4-6b1f-466f-c515-4649050363df",
        "id": "70n6sAeFIWHD"
      },
      "outputs": [
        {
          "output_type": "stream",
          "name": "stdout",
          "text": [
            "./runs/inference/exp/1247_jpg.rf.7bd0f45d4585e4db2e3ee4cdfef29f89.jpg\n"
          ]
        },
        {
          "output_type": "execute_result",
          "data": {
            "text/plain": [
              "1"
            ]
          },
          "metadata": {},
          "execution_count": 104
        }
      ],
      "source": [
        "\n",
        "import cv2\n",
        "import os\n",
        "import random\n",
        "\n",
        "\n",
        "\n",
        "label_folder = r'/content/YOLOv6/Normal-Insulator,-Defect-Insulator,-Defects--1-2/labels'\n",
        "\n",
        "raw_images_folder = r'/content/YOLOv6/Normal-Insulator,-Defect-Insulator,-Defects--1-2/images'\n",
        "\n",
        "save_images_folder = r'/content/YOLOv6/save_images_valid'\n",
        "\n",
        "name_list_path = r'/content/YOLOv6/Normal-Insulator,-Defect-Insulator,-Defects--1-2/labels/valid'\n",
        "\n",
        "classes_path = r'/content/YOLOv6/Normal-Insulator,-Defect-Insulator,-Defects--1-2'\n",
        "image_name=r'./runs/inference/exp/1247_jpg.rf.7bd0f45d4585e4db2e3ee4cdfef29f89.jpg'\n",
        "label=name_of_class='normalinsulator'\n",
        "def plot_one_box(x, image, color=None, label=name_of_class, line_thickness=None):\n",
        "\n",
        "    tl = line_thickness or round(0.002 * (image.shape[0] + image.shape[1]) / 2) + 1  # line/font thickness\n",
        "    color = color or [random.randint(0, 255) for _ in range(3)]\n",
        "    c1, c2 = (int(x[0]), int(x[1])), (int(x[2]), int(x[3]))\n",
        "    cv2.rectangle(image, c1, c2, color, thickness=tl, lineType=cv2.LINE_AA)\n",
        "    if label:\n",
        "        tf = max(tl - 1, 1)  # font thickness\n",
        "        t_size = cv2.getTextSize(str(label), 0, fontScale=tl / 3, thickness=tf)[0]\n",
        "        c2 = c1[0] + t_size[0], c1[1] - t_size[1] - 3\n",
        "        cv2.rectangle(image, c1, c2, color, -1, cv2.LINE_AA)  # filled\n",
        "        cv2.putText(image,str(label), (c1[0], c1[1] - 2), 0, tl / 3, [225, 255, 255], thickness=tf, lineType=cv2.LINE_AA)\n",
        "\n",
        "\n",
        "def draw_box_on_image(image_name, classes_path, label_folder, raw_images_folder, save_images_folder ):\n",
        "\n",
        "    txt_path  = r\"/content/YOLOv6/Normal-Insulator,-Defect-Insulator,-Defects--1-2/labels/test/1247_jpg.rf.7bd0f45d4585e4db2e3ee4cdfef29f89.txt\"\n",
        "    print(image_name)\n",
        "    if image_name == '.DS_Store':\n",
        "        return 0\n",
        "\n",
        "    image_path = r\"./runs/inference/exp/1247_jpg.rf.7bd0f45d4585e4db2e3ee4cdfef29f89.jpg\"\n",
        "    save_file_path = r\"/content/YOLOv6/save_images_test/1247\"\n",
        "\n",
        "    source_file = open(txt_path) if os.path.exists(txt_path) else []\n",
        "    image = cv2.imread(image_path)\n",
        "    try:\n",
        "        height, width, channels = image.shape\n",
        "    except:\n",
        "        print('no shape info.')\n",
        "        return 0\n",
        "\n",
        "    box_number = 0\n",
        "    for line in source_file:\n",
        "        staff = line.split()\n",
        "        class_idx = int(staff[0])\n",
        "\n",
        "        x_center, y_center, w, h = float(staff[1])*width, float(staff[2])*height, float(staff[3])*width, float(staff[4])*height\n",
        "        x1 = round(x_center-w/2)\n",
        "        y1 = round(y_center-h/2)\n",
        "        x2 = round(x_center+w/2)\n",
        "        y2 = round(y_center+h/2)\n",
        "\n",
        "\n",
        "        plot_one_box([x1,y1,x2,y2], image,  label=name_of_class, line_thickness=None)\n",
        "        cv2.imwrite(r\"/content/YOLOv6/save_images_test/1247.jpg\",image)\n",
        "\n",
        "        box_number += 1\n",
        "        return box_number\n",
        "draw_box_on_image(image_name, classes_path,  label_folder, raw_images_folder, save_images_folder )\n",
        "\n",
        "\n",
        "\n"
      ]
    },
    {
      "cell_type": "code",
      "execution_count": null,
      "metadata": {
        "colab": {
          "base_uri": "https://localhost:8080/"
        },
        "outputId": "22a9e1f6-76d8-4f5f-b327-f893748d2f00",
        "id": "h6j6Rc8MI1cu"
      },
      "outputs": [
        {
          "output_type": "stream",
          "name": "stdout",
          "text": [
            "./runs/inference/exp/125_jpg.rf.13757de435f7ebb3758ee4c089956085.jpg\n"
          ]
        },
        {
          "output_type": "execute_result",
          "data": {
            "text/plain": [
              "1"
            ]
          },
          "metadata": {},
          "execution_count": 105
        }
      ],
      "source": [
        "\n",
        "import cv2\n",
        "import os\n",
        "import random\n",
        "\n",
        "\n",
        "\n",
        "label_folder = r'/content/YOLOv6/Normal-Insulator,-Defect-Insulator,-Defects--1-2/labels'\n",
        "\n",
        "raw_images_folder = r'/content/YOLOv6/Normal-Insulator,-Defect-Insulator,-Defects--1-2/images'\n",
        "\n",
        "save_images_folder = r'/content/YOLOv6/save_images_valid'\n",
        "\n",
        "name_list_path = r'/content/YOLOv6/Normal-Insulator,-Defect-Insulator,-Defects--1-2/labels/valid'\n",
        "\n",
        "classes_path = r'/content/YOLOv6/Normal-Insulator,-Defect-Insulator,-Defects--1-2'\n",
        "image_name=r'./runs/inference/exp/125_jpg.rf.13757de435f7ebb3758ee4c089956085.jpg'\n",
        "label=name_of_class='defective insulator'\n",
        "def plot_one_box(x, image, color=None, label=name_of_class, line_thickness=None):\n",
        "\n",
        "    tl = line_thickness or round(0.002 * (image.shape[0] + image.shape[1]) / 2) + 1  # line/font thickness\n",
        "    color = color or [random.randint(0, 255) for _ in range(3)]\n",
        "    c1, c2 = (int(x[0]), int(x[1])), (int(x[2]), int(x[3]))\n",
        "    cv2.rectangle(image, c1, c2, color, thickness=tl, lineType=cv2.LINE_AA)\n",
        "    if label:\n",
        "        tf = max(tl - 1, 1)  # font thickness\n",
        "        t_size = cv2.getTextSize(str(label), 0, fontScale=tl / 3, thickness=tf)[0]\n",
        "        c2 = c1[0] + t_size[0], c1[1] - t_size[1] - 3\n",
        "        cv2.rectangle(image, c1, c2, color, -1, cv2.LINE_AA)  # filled\n",
        "        cv2.putText(image,str(label), (c1[0], c1[1] - 2), 0, tl / 3, [225, 255, 255], thickness=tf, lineType=cv2.LINE_AA)\n",
        "\n",
        "\n",
        "def draw_box_on_image(image_name, classes_path, label_folder, raw_images_folder, save_images_folder ):\n",
        "\n",
        "    txt_path  = r\"/content/YOLOv6/Normal-Insulator,-Defect-Insulator,-Defects--1-2/labels/test/125_jpg.rf.13757de435f7ebb3758ee4c089956085.txt\"\n",
        "    print(image_name)\n",
        "    if image_name == '.DS_Store':\n",
        "        return 0\n",
        "\n",
        "    image_path = r\"./runs/inference/exp/125_jpg.rf.13757de435f7ebb3758ee4c089956085.jpg\"\n",
        "    save_file_path = r\"/content/YOLOv6/save_images_test/125\"\n",
        "\n",
        "    source_file = open(txt_path) if os.path.exists(txt_path) else []\n",
        "    image = cv2.imread(image_path)\n",
        "    try:\n",
        "        height, width, channels = image.shape\n",
        "    except:\n",
        "        print('no shape info.')\n",
        "        return 0\n",
        "\n",
        "    box_number = 0\n",
        "    for line in source_file:\n",
        "        staff = line.split()\n",
        "        class_idx = int(staff[0])\n",
        "\n",
        "        x_center, y_center, w, h = float(staff[1])*width, float(staff[2])*height, float(staff[3])*width, float(staff[4])*height\n",
        "        x1 = round(x_center-w/2)\n",
        "        y1 = round(y_center-h/2)\n",
        "        x2 = round(x_center+w/2)\n",
        "        y2 = round(y_center+h/2)\n",
        "\n",
        "\n",
        "        plot_one_box([x1,y1,x2,y2], image,  label=name_of_class, line_thickness=None)\n",
        "        cv2.imwrite(r\"/content/YOLOv6/save_images_test/125.jpg\",image)\n",
        "\n",
        "        box_number += 1\n",
        "        return box_number\n",
        "draw_box_on_image(image_name, classes_path,  label_folder, raw_images_folder, save_images_folder )\n",
        "\n",
        "\n",
        "\n"
      ]
    },
    {
      "cell_type": "code",
      "execution_count": null,
      "metadata": {
        "colab": {
          "base_uri": "https://localhost:8080/"
        },
        "outputId": "b0c4de90-3237-4983-8155-a579a0fc0046",
        "id": "JI6Ib5vkI0iW"
      },
      "outputs": [
        {
          "output_type": "stream",
          "name": "stdout",
          "text": [
            "./runs/inference/exp/127_jpg.rf.47f0d5a63f1e1f2dd2302ade478f1a9a.jpg\n"
          ]
        },
        {
          "output_type": "execute_result",
          "data": {
            "text/plain": [
              "1"
            ]
          },
          "metadata": {},
          "execution_count": 106
        }
      ],
      "source": [
        "\n",
        "import cv2\n",
        "import os\n",
        "import random\n",
        "\n",
        "\n",
        "\n",
        "label_folder = r'/content/YOLOv6/Normal-Insulator,-Defect-Insulator,-Defects--1-2/labels'\n",
        "\n",
        "raw_images_folder = r'/content/YOLOv6/Normal-Insulator,-Defect-Insulator,-Defects--1-2/images'\n",
        "\n",
        "save_images_folder = r'/content/YOLOv6/save_images_valid'\n",
        "\n",
        "name_list_path = r'/content/YOLOv6/Normal-Insulator,-Defect-Insulator,-Defects--1-2/labels/valid'\n",
        "\n",
        "classes_path = r'/content/YOLOv6/Normal-Insulator,-Defect-Insulator,-Defects--1-2'\n",
        "image_name=r'./runs/inference/exp/127_jpg.rf.47f0d5a63f1e1f2dd2302ade478f1a9a.jpg'\n",
        "label=name_of_class='defective insulator'\n",
        "def plot_one_box(x, image, color=None, label=name_of_class, line_thickness=None):\n",
        "\n",
        "    tl = line_thickness or round(0.002 * (image.shape[0] + image.shape[1]) / 2) + 1  # line/font thickness\n",
        "    color = color or [random.randint(0, 255) for _ in range(3)]\n",
        "    c1, c2 = (int(x[0]), int(x[1])), (int(x[2]), int(x[3]))\n",
        "    cv2.rectangle(image, c1, c2, color, thickness=tl, lineType=cv2.LINE_AA)\n",
        "    if label:\n",
        "        tf = max(tl - 1, 1)  # font thickness\n",
        "        t_size = cv2.getTextSize(str(label), 0, fontScale=tl / 3, thickness=tf)[0]\n",
        "        c2 = c1[0] + t_size[0], c1[1] - t_size[1] - 3\n",
        "        cv2.rectangle(image, c1, c2, color, -1, cv2.LINE_AA)  # filled\n",
        "        cv2.putText(image,str(label), (c1[0], c1[1] - 2), 0, tl / 3, [225, 255, 255], thickness=tf, lineType=cv2.LINE_AA)\n",
        "\n",
        "\n",
        "def draw_box_on_image(image_name, classes_path, label_folder, raw_images_folder, save_images_folder ):\n",
        "\n",
        "    txt_path  = r\"/content/YOLOv6/Normal-Insulator,-Defect-Insulator,-Defects--1-2/labels/test/127_jpg.rf.47f0d5a63f1e1f2dd2302ade478f1a9a.txt\"\n",
        "    print(image_name)\n",
        "    if image_name == '.DS_Store':\n",
        "        return 0\n",
        "\n",
        "    image_path = r\"./runs/inference/exp/127_jpg.rf.47f0d5a63f1e1f2dd2302ade478f1a9a.jpg\"\n",
        "    save_file_path = r\"/content/YOLOv6/save_images_test/127\"\n",
        "\n",
        "    source_file = open(txt_path) if os.path.exists(txt_path) else []\n",
        "    image = cv2.imread(image_path)\n",
        "    try:\n",
        "        height, width, channels = image.shape\n",
        "    except:\n",
        "        print('no shape info.')\n",
        "        return 0\n",
        "\n",
        "    box_number = 0\n",
        "    for line in source_file:\n",
        "        staff = line.split()\n",
        "        class_idx = int(staff[0])\n",
        "\n",
        "        x_center, y_center, w, h = float(staff[1])*width, float(staff[2])*height, float(staff[3])*width, float(staff[4])*height\n",
        "        x1 = round(x_center-w/2)\n",
        "        y1 = round(y_center-h/2)\n",
        "        x2 = round(x_center+w/2)\n",
        "        y2 = round(y_center+h/2)\n",
        "\n",
        "\n",
        "        plot_one_box([x1,y1,x2,y2], image,  label=name_of_class, line_thickness=None)\n",
        "        cv2.imwrite(r\"/content/YOLOv6/save_images_test/127.jpg\",image)\n",
        "\n",
        "        box_number += 1\n",
        "        return box_number\n",
        "draw_box_on_image(image_name, classes_path,  label_folder, raw_images_folder, save_images_folder )\n",
        "\n",
        "\n",
        "\n"
      ]
    },
    {
      "cell_type": "code",
      "execution_count": null,
      "metadata": {
        "colab": {
          "base_uri": "https://localhost:8080/"
        },
        "outputId": "ce61f75d-4f2f-4a8e-ca5e-f7b6b8084585",
        "id": "aeLS4A-kIl7b"
      },
      "outputs": [
        {
          "output_type": "stream",
          "name": "stdout",
          "text": [
            "./runs/inference/exp/1292_jpg.rf.eff429f9e976a65bd9d17ce11cffc951.jpg\n"
          ]
        },
        {
          "output_type": "execute_result",
          "data": {
            "text/plain": [
              "1"
            ]
          },
          "metadata": {},
          "execution_count": 107
        }
      ],
      "source": [
        "\n",
        "import cv2\n",
        "import os\n",
        "import random\n",
        "\n",
        "\n",
        "\n",
        "label_folder = r'/content/YOLOv6/Normal-Insulator,-Defect-Insulator,-Defects--1-2/labels'\n",
        "\n",
        "raw_images_folder = r'/content/YOLOv6/Normal-Insulator,-Defect-Insulator,-Defects--1-2/images'\n",
        "\n",
        "save_images_folder = r'/content/YOLOv6/save_images_valid'\n",
        "\n",
        "name_list_path = r'/content/YOLOv6/Normal-Insulator,-Defect-Insulator,-Defects--1-2/labels/valid'\n",
        "\n",
        "classes_path = r'/content/YOLOv6/Normal-Insulator,-Defect-Insulator,-Defects--1-2'\n",
        "image_name=r'./runs/inference/exp/1292_jpg.rf.eff429f9e976a65bd9d17ce11cffc951.jpg'\n",
        "label=name_of_class='normal insulator'\n",
        "def plot_one_box(x, image, color=None, label=name_of_class, line_thickness=None):\n",
        "\n",
        "    tl = line_thickness or round(0.002 * (image.shape[0] + image.shape[1]) / 2) + 1  # line/font thickness\n",
        "    color = color or [random.randint(0, 255) for _ in range(3)]\n",
        "    c1, c2 = (int(x[0]), int(x[1])), (int(x[2]), int(x[3]))\n",
        "    cv2.rectangle(image, c1, c2, color, thickness=tl, lineType=cv2.LINE_AA)\n",
        "    if label:\n",
        "        tf = max(tl - 1, 1)  # font thickness\n",
        "        t_size = cv2.getTextSize(str(label), 0, fontScale=tl / 3, thickness=tf)[0]\n",
        "        c2 = c1[0] + t_size[0], c1[1] - t_size[1] - 3\n",
        "        cv2.rectangle(image, c1, c2, color, -1, cv2.LINE_AA)  # filled\n",
        "        cv2.putText(image,str(label), (c1[0], c1[1] - 2), 0, tl / 3, [225, 255, 255], thickness=tf, lineType=cv2.LINE_AA)\n",
        "\n",
        "\n",
        "def draw_box_on_image(image_name, classes_path, label_folder, raw_images_folder, save_images_folder ):\n",
        "\n",
        "    txt_path  = r\"/content/YOLOv6/Normal-Insulator,-Defect-Insulator,-Defects--1-2/labels/test/1292_jpg.rf.eff429f9e976a65bd9d17ce11cffc951.txt\"\n",
        "    print(image_name)\n",
        "    if image_name == '.DS_Store':\n",
        "        return 0\n",
        "\n",
        "    image_path = r\"./runs/inference/exp/1292_jpg.rf.eff429f9e976a65bd9d17ce11cffc951.jpg\"\n",
        "    save_file_path = r\"/content/YOLOv6/save_images_test/1292\"\n",
        "\n",
        "    source_file = open(txt_path) if os.path.exists(txt_path) else []\n",
        "    image = cv2.imread(image_path)\n",
        "    try:\n",
        "        height, width, channels = image.shape\n",
        "    except:\n",
        "        print('no shape info.')\n",
        "        return 0\n",
        "\n",
        "    box_number = 0\n",
        "    for line in source_file:\n",
        "        staff = line.split()\n",
        "        class_idx = int(staff[0])\n",
        "\n",
        "        x_center, y_center, w, h = float(staff[1])*width, float(staff[2])*height, float(staff[3])*width, float(staff[4])*height\n",
        "        x1 = round(x_center-w/2)\n",
        "        y1 = round(y_center-h/2)\n",
        "        x2 = round(x_center+w/2)\n",
        "        y2 = round(y_center+h/2)\n",
        "\n",
        "\n",
        "        plot_one_box([x1,y1,x2,y2], image,  label=name_of_class, line_thickness=None)\n",
        "        cv2.imwrite(r\"/content/YOLOv6/save_images_test/1292.jpg\",image)\n",
        "\n",
        "        box_number += 1\n",
        "        return box_number\n",
        "draw_box_on_image(image_name, classes_path,  label_folder, raw_images_folder, save_images_folder )\n",
        "\n",
        "\n",
        "\n"
      ]
    },
    {
      "cell_type": "code",
      "execution_count": null,
      "metadata": {
        "colab": {
          "base_uri": "https://localhost:8080/"
        },
        "outputId": "8ae417f2-4a0a-438a-fefc-93c5442694b0",
        "id": "8VPVZwClIk58"
      },
      "outputs": [
        {
          "output_type": "stream",
          "name": "stdout",
          "text": [
            "./runs/inference/exp/1347_jpg.rf.d241fc8520058072eb333baa99bf36de.jpg\n"
          ]
        },
        {
          "output_type": "execute_result",
          "data": {
            "text/plain": [
              "1"
            ]
          },
          "metadata": {},
          "execution_count": 108
        }
      ],
      "source": [
        "\n",
        "import cv2\n",
        "import os\n",
        "import random\n",
        "\n",
        "\n",
        "\n",
        "label_folder = r'/content/YOLOv6/Normal-Insulator,-Defect-Insulator,-Defects--1-2/labels'\n",
        "\n",
        "raw_images_folder = r'/content/YOLOv6/Normal-Insulator,-Defect-Insulator,-Defects--1-2/images'\n",
        "\n",
        "save_images_folder = r'/content/YOLOv6/save_images_valid'\n",
        "\n",
        "name_list_path = r'/content/YOLOv6/Normal-Insulator,-Defect-Insulator,-Defects--1-2/labels/valid'\n",
        "\n",
        "classes_path = r'/content/YOLOv6/Normal-Insulator,-Defect-Insulator,-Defects--1-2'\n",
        "image_name=r'./runs/inference/exp/1347_jpg.rf.d241fc8520058072eb333baa99bf36de.jpg'\n",
        "label=name_of_class='normal insulator'\n",
        "def plot_one_box(x, image, color=None, label=name_of_class, line_thickness=None):\n",
        "\n",
        "    tl = line_thickness or round(0.002 * (image.shape[0] + image.shape[1]) / 2) + 1  # line/font thickness\n",
        "    color = color or [random.randint(0, 255) for _ in range(3)]\n",
        "    c1, c2 = (int(x[0]), int(x[1])), (int(x[2]), int(x[3]))\n",
        "    cv2.rectangle(image, c1, c2, color, thickness=tl, lineType=cv2.LINE_AA)\n",
        "    if label:\n",
        "        tf = max(tl - 1, 1)  # font thickness\n",
        "        t_size = cv2.getTextSize(str(label), 0, fontScale=tl / 3, thickness=tf)[0]\n",
        "        c2 = c1[0] + t_size[0], c1[1] - t_size[1] - 3\n",
        "        cv2.rectangle(image, c1, c2, color, -1, cv2.LINE_AA)  # filled\n",
        "        cv2.putText(image,str(label), (c1[0], c1[1] - 2), 0, tl / 3, [225, 255, 255], thickness=tf, lineType=cv2.LINE_AA)\n",
        "\n",
        "\n",
        "def draw_box_on_image(image_name, classes_path, label_folder, raw_images_folder, save_images_folder ):\n",
        "\n",
        "    txt_path  = r\"/content/YOLOv6/Normal-Insulator,-Defect-Insulator,-Defects--1-2/labels/test/1347_jpg.rf.d241fc8520058072eb333baa99bf36de.txt\"\n",
        "    print(image_name)\n",
        "    if image_name == '.DS_Store':\n",
        "        return 0\n",
        "\n",
        "    image_path = r\"./runs/inference/exp/1347_jpg.rf.d241fc8520058072eb333baa99bf36de.jpg\"\n",
        "    save_file_path = r\"/content/YOLOv6/save_images_test/1347\"\n",
        "\n",
        "    source_file = open(txt_path) if os.path.exists(txt_path) else []\n",
        "    image = cv2.imread(image_path)\n",
        "    try:\n",
        "        height, width, channels = image.shape\n",
        "    except:\n",
        "        print('no shape info.')\n",
        "        return 0\n",
        "\n",
        "    box_number = 0\n",
        "    for line in source_file:\n",
        "        staff = line.split()\n",
        "        class_idx = int(staff[0])\n",
        "\n",
        "        x_center, y_center, w, h = float(staff[1])*width, float(staff[2])*height, float(staff[3])*width, float(staff[4])*height\n",
        "        x1 = round(x_center-w/2)\n",
        "        y1 = round(y_center-h/2)\n",
        "        x2 = round(x_center+w/2)\n",
        "        y2 = round(y_center+h/2)\n",
        "\n",
        "\n",
        "        plot_one_box([x1,y1,x2,y2], image,  label=name_of_class, line_thickness=None)\n",
        "        cv2.imwrite(r\"/content/YOLOv6/save_images_test/1347.jpg\",image)\n",
        "\n",
        "        box_number += 1\n",
        "        return box_number\n",
        "draw_box_on_image(image_name, classes_path,  label_folder, raw_images_folder, save_images_folder )\n",
        "\n",
        "\n",
        "\n"
      ]
    },
    {
      "cell_type": "code",
      "execution_count": null,
      "metadata": {
        "colab": {
          "base_uri": "https://localhost:8080/"
        },
        "outputId": "11b384d9-7c64-46d5-987e-6876c39c0e18",
        "id": "HGgF8rceIkAB"
      },
      "outputs": [
        {
          "output_type": "stream",
          "name": "stdout",
          "text": [
            "./runs/inference/exp/134_jpg.rf.e4497553c8ff91a6615fb83adf557d1c.jpg\n"
          ]
        },
        {
          "output_type": "execute_result",
          "data": {
            "text/plain": [
              "1"
            ]
          },
          "metadata": {},
          "execution_count": 110
        }
      ],
      "source": [
        "\n",
        "import cv2\n",
        "import os\n",
        "import random\n",
        "\n",
        "\n",
        "\n",
        "label_folder = r'/content/YOLOv6/Normal-Insulator,-Defect-Insulator,-Defects--1-2/labels'\n",
        "\n",
        "raw_images_folder = r'/content/YOLOv6/Normal-Insulator,-Defect-Insulator,-Defects--1-2/images'\n",
        "\n",
        "save_images_folder = r'/content/YOLOv6/save_images_valid'\n",
        "\n",
        "name_list_path = r'/content/YOLOv6/Normal-Insulator,-Defect-Insulator,-Defects--1-2/labels/valid'\n",
        "\n",
        "classes_path = r'/content/YOLOv6/Normal-Insulator,-Defect-Insulator,-Defects--1-2'\n",
        "image_name=r'./runs/inference/exp/134_jpg.rf.e4497553c8ff91a6615fb83adf557d1c.jpg'\n",
        "label=name_of_class='defect'\n",
        "def plot_one_box(x, image, color=None, label=name_of_class, line_thickness=None):\n",
        "\n",
        "    tl = line_thickness or round(0.002 * (image.shape[0] + image.shape[1]) / 2) + 1  # line/font thickness\n",
        "    color = color or [random.randint(0, 255) for _ in range(3)]\n",
        "    c1, c2 = (int(x[0]), int(x[1])), (int(x[2]), int(x[3]))\n",
        "    cv2.rectangle(image, c1, c2, color, thickness=tl, lineType=cv2.LINE_AA)\n",
        "    if label:\n",
        "        tf = max(tl - 1, 1)  # font thickness\n",
        "        t_size = cv2.getTextSize(str(label), 0, fontScale=tl / 3, thickness=tf)[0]\n",
        "        c2 = c1[0] + t_size[0], c1[1] - t_size[1] - 3\n",
        "        cv2.rectangle(image, c1, c2, color, -1, cv2.LINE_AA)  # filled\n",
        "        cv2.putText(image,str(label), (c1[0], c1[1] - 2), 0, tl / 3, [225, 255, 255], thickness=tf, lineType=cv2.LINE_AA)\n",
        "\n",
        "\n",
        "def draw_box_on_image(image_name, classes_path, label_folder, raw_images_folder, save_images_folder ):\n",
        "\n",
        "    txt_path  = r\"/content/YOLOv6/Normal-Insulator,-Defect-Insulator,-Defects--1-2/labels/test/134_jpg.rf.e4497553c8ff91a6615fb83adf557d1c.txt\"\n",
        "    print(image_name)\n",
        "    if image_name == '.DS_Store':\n",
        "        return 0\n",
        "\n",
        "    image_path = r\"./runs/inference/exp/134_jpg.rf.e4497553c8ff91a6615fb83adf557d1c.jpg\"\n",
        "    save_file_path = r\"/content/YOLOv6/save_images_test/134\"\n",
        "\n",
        "    source_file = open(txt_path) if os.path.exists(txt_path) else []\n",
        "    image = cv2.imread(image_path)\n",
        "    try:\n",
        "        height, width, channels = image.shape\n",
        "    except:\n",
        "        print('no shape info.')\n",
        "        return 0\n",
        "\n",
        "    box_number = 0\n",
        "    for line in source_file:\n",
        "        staff = line.split()\n",
        "        class_idx = int(staff[0])\n",
        "\n",
        "        x_center, y_center, w, h = float(staff[1])*width, float(staff[2])*height, float(staff[3])*width, float(staff[4])*height\n",
        "        x1 = round(x_center-w/2)\n",
        "        y1 = round(y_center-h/2)\n",
        "        x2 = round(x_center+w/2)\n",
        "        y2 = round(y_center+h/2)\n",
        "\n",
        "\n",
        "        plot_one_box([x1,y1,x2,y2], image,  label=name_of_class, line_thickness=None)\n",
        "        cv2.imwrite(r\"/content/YOLOv6/save_images_test/134.jpg\",image)\n",
        "\n",
        "        box_number += 1\n",
        "        return box_number\n",
        "draw_box_on_image(image_name, classes_path,  label_folder, raw_images_folder, save_images_folder )\n",
        "\n",
        "\n",
        "\n"
      ]
    },
    {
      "cell_type": "code",
      "execution_count": null,
      "metadata": {
        "colab": {
          "base_uri": "https://localhost:8080/"
        },
        "outputId": "ac293766-61bb-491c-bfa8-1d46d4b19fba",
        "id": "cO_MVBIWIi_j"
      },
      "outputs": [
        {
          "output_type": "stream",
          "name": "stdout",
          "text": [
            "./runs/inference/exp/1366_jpg.rf.e68cb93bdc0a5b0fbbcaa6ff5defe132.jpg\n"
          ]
        },
        {
          "output_type": "execute_result",
          "data": {
            "text/plain": [
              "1"
            ]
          },
          "metadata": {},
          "execution_count": 112
        }
      ],
      "source": [
        "\n",
        "import cv2\n",
        "import os\n",
        "import random\n",
        "\n",
        "\n",
        "\n",
        "label_folder = r'/content/YOLOv6/Normal-Insulator,-Defect-Insulator,-Defects--1-2/labels'\n",
        "\n",
        "raw_images_folder = r'/content/YOLOv6/Normal-Insulator,-Defect-Insulator,-Defects--1-2/images'\n",
        "\n",
        "save_images_folder = r'/content/YOLOv6/save_images_valid'\n",
        "\n",
        "name_list_path = r'/content/YOLOv6/Normal-Insulator,-Defect-Insulator,-Defects--1-2/labels/valid'\n",
        "\n",
        "classes_path = r'/content/YOLOv6/Normal-Insulator,-Defect-Insulator,-Defects--1-2'\n",
        "image_name=r'./runs/inference/exp/1366_jpg.rf.e68cb93bdc0a5b0fbbcaa6ff5defe132.jpg'\n",
        "label=name_of_class='normal insulator'\n",
        "def plot_one_box(x, image, color=None, label=name_of_class, line_thickness=None):\n",
        "\n",
        "    tl = line_thickness or round(0.002 * (image.shape[0] + image.shape[1]) / 2) + 1  # line/font thickness\n",
        "    color = color or [random.randint(0, 255) for _ in range(3)]\n",
        "    c1, c2 = (int(x[0]), int(x[1])), (int(x[2]), int(x[3]))\n",
        "    cv2.rectangle(image, c1, c2, color, thickness=tl, lineType=cv2.LINE_AA)\n",
        "    if label:\n",
        "        tf = max(tl - 1, 1)  # font thickness\n",
        "        t_size = cv2.getTextSize(str(label), 0, fontScale=tl / 3, thickness=tf)[0]\n",
        "        c2 = c1[0] + t_size[0], c1[1] - t_size[1] - 3\n",
        "        cv2.rectangle(image, c1, c2, color, -1, cv2.LINE_AA)  # filled\n",
        "        cv2.putText(image,str(label), (c1[0], c1[1] - 2), 0, tl / 3, [225, 255, 255], thickness=tf, lineType=cv2.LINE_AA)\n",
        "\n",
        "\n",
        "def draw_box_on_image(image_name, classes_path, label_folder, raw_images_folder, save_images_folder ):\n",
        "\n",
        "    txt_path  = r\"/content/YOLOv6/Normal-Insulator,-Defect-Insulator,-Defects--1-2/labels/test/1366_jpg.rf.e68cb93bdc0a5b0fbbcaa6ff5defe132.txt\"\n",
        "    print(image_name)\n",
        "    if image_name == '.DS_Store':\n",
        "        return 0\n",
        "\n",
        "    image_path = r\"./runs/inference/exp/1366_jpg.rf.e68cb93bdc0a5b0fbbcaa6ff5defe132.jpg\"\n",
        "    save_file_path = r\"/content/YOLOv6/save_images_test/1366\"\n",
        "\n",
        "    source_file = open(txt_path) if os.path.exists(txt_path) else []\n",
        "    image = cv2.imread(image_path)\n",
        "    try:\n",
        "        height, width, channels = image.shape\n",
        "    except:\n",
        "        print('no shape info.')\n",
        "        return 0\n",
        "\n",
        "    box_number = 0\n",
        "    for line in source_file:\n",
        "        staff = line.split()\n",
        "        class_idx = int(staff[0])\n",
        "\n",
        "        x_center, y_center, w, h = float(staff[1])*width, float(staff[2])*height, float(staff[3])*width, float(staff[4])*height\n",
        "        x1 = round(x_center-w/2)\n",
        "        y1 = round(y_center-h/2)\n",
        "        x2 = round(x_center+w/2)\n",
        "        y2 = round(y_center+h/2)\n",
        "\n",
        "\n",
        "        plot_one_box([x1,y1,x2,y2], image,  label=name_of_class, line_thickness=None)\n",
        "        cv2.imwrite(r\"/content/YOLOv6/save_images_test/1366.jpg\",image)\n",
        "\n",
        "        box_number += 1\n",
        "        return box_number\n",
        "draw_box_on_image(image_name, classes_path,  label_folder, raw_images_folder, save_images_folder )\n",
        "\n",
        "\n",
        "\n"
      ]
    },
    {
      "cell_type": "code",
      "execution_count": null,
      "metadata": {
        "colab": {
          "base_uri": "https://localhost:8080/"
        },
        "outputId": "a042f3e8-d7ca-4c12-9c4d-4ed59a810336",
        "id": "eN2-B-4KI6nG"
      },
      "outputs": [
        {
          "output_type": "stream",
          "name": "stdout",
          "text": [
            "./runs/inference/exp/1379_jpg.rf.30c31161c007d71b7c3a06e569aec333.jpg\n"
          ]
        },
        {
          "output_type": "execute_result",
          "data": {
            "text/plain": [
              "1"
            ]
          },
          "metadata": {},
          "execution_count": 114
        }
      ],
      "source": [
        "\n",
        "import cv2\n",
        "import os\n",
        "import random\n",
        "\n",
        "\n",
        "\n",
        "label_folder = r'/content/YOLOv6/Normal-Insulator,-Defect-Insulator,-Defects--1-2/labels'\n",
        "\n",
        "raw_images_folder = r'/content/YOLOv6/Normal-Insulator,-Defect-Insulator,-Defects--1-2/images'\n",
        "\n",
        "save_images_folder = r'/content/YOLOv6/save_images_valid'\n",
        "\n",
        "name_list_path = r'/content/YOLOv6/Normal-Insulator,-Defect-Insulator,-Defects--1-2/labels/valid'\n",
        "\n",
        "classes_path = r'/content/YOLOv6/Normal-Insulator,-Defect-Insulator,-Defects--1-2'\n",
        "image_name=r'./runs/inference/exp/1379_jpg.rf.30c31161c007d71b7c3a06e569aec333.jpg'\n",
        "label=name_of_class='normal insulator'\n",
        "def plot_one_box(x, image, color=None, label=name_of_class, line_thickness=None):\n",
        "\n",
        "    tl = line_thickness or round(0.002 * (image.shape[0] + image.shape[1]) / 2) + 1  # line/font thickness\n",
        "    color = color or [random.randint(0, 255) for _ in range(3)]\n",
        "    c1, c2 = (int(x[0]), int(x[1])), (int(x[2]), int(x[3]))\n",
        "    cv2.rectangle(image, c1, c2, color, thickness=tl, lineType=cv2.LINE_AA)\n",
        "    if label:\n",
        "        tf = max(tl - 1, 1)  # font thickness\n",
        "        t_size = cv2.getTextSize(str(label), 0, fontScale=tl / 3, thickness=tf)[0]\n",
        "        c2 = c1[0] + t_size[0], c1[1] - t_size[1] - 3\n",
        "        cv2.rectangle(image, c1, c2, color, -1, cv2.LINE_AA)  # filled\n",
        "        cv2.putText(image,str(label), (c1[0], c1[1] - 2), 0, tl / 3, [225, 255, 255], thickness=tf, lineType=cv2.LINE_AA)\n",
        "\n",
        "\n",
        "def draw_box_on_image(image_name, classes_path, label_folder, raw_images_folder, save_images_folder ):\n",
        "\n",
        "    txt_path  = r\"/content/YOLOv6/Normal-Insulator,-Defect-Insulator,-Defects--1-2/labels/test/1379_jpg.rf.30c31161c007d71b7c3a06e569aec333.txt\"\n",
        "    print(image_name)\n",
        "    if image_name == '.DS_Store':\n",
        "        return 0\n",
        "\n",
        "    image_path = r\"./runs/inference/exp/1379_jpg.rf.30c31161c007d71b7c3a06e569aec333.jpg\"\n",
        "    save_file_path = r\"/content/YOLOv6/save_images_test/1379\"\n",
        "\n",
        "    source_file = open(txt_path) if os.path.exists(txt_path) else []\n",
        "    image = cv2.imread(image_path)\n",
        "    try:\n",
        "        height, width, channels = image.shape\n",
        "    except:\n",
        "        print('no shape info.')\n",
        "        return 0\n",
        "\n",
        "    box_number = 0\n",
        "    for line in source_file:\n",
        "        staff = line.split()\n",
        "        class_idx = int(staff[0])\n",
        "\n",
        "        x_center, y_center, w, h = float(staff[1])*width, float(staff[2])*height, float(staff[3])*width, float(staff[4])*height\n",
        "        x1 = round(x_center-w/2)\n",
        "        y1 = round(y_center-h/2)\n",
        "        x2 = round(x_center+w/2)\n",
        "        y2 = round(y_center+h/2)\n",
        "\n",
        "\n",
        "        plot_one_box([x1,y1,x2,y2], image,  label=name_of_class, line_thickness=None)\n",
        "        cv2.imwrite(r\"/content/YOLOv6/save_images_test/1379.jpg\",image)\n",
        "\n",
        "        box_number += 1\n",
        "        return box_number\n",
        "draw_box_on_image(image_name, classes_path,  label_folder, raw_images_folder, save_images_folder )\n",
        "\n",
        "\n",
        "\n"
      ]
    },
    {
      "cell_type": "code",
      "source": [
        "!python tools/infer.py  --yaml {dataset.location}/data.yaml  --weights runs/train/exp/weights/best_ckpt.pt   --source {dataset.location}/images/test/137_jpg.rf.45bc9683b752dd80e34e5fdb62bcdce4.jpg   --device 0"
      ],
      "metadata": {
        "colab": {
          "base_uri": "https://localhost:8080/"
        },
        "id": "NUW1yWUpNGi5",
        "outputId": "a804a33f-27ee-4e97-8a9a-d4a4435842eb"
      },
      "execution_count": null,
      "outputs": [
        {
          "output_type": "stream",
          "name": "stdout",
          "text": [
            "Namespace(agnostic_nms=False, classes=None, conf_thres=0.4, device='0', half=False, hide_conf=False, hide_labels=False, img_size=[640, 640], iou_thres=0.45, max_det=1000, name='exp', not_save_img=False, project='runs/inference', save_dir=None, save_txt=False, source='/content/YOLOv6/Normal-Insulator,-Defect-Insulator,-Defects--1-2/images/test/137_jpg.rf.45bc9683b752dd80e34e5fdb62bcdce4.jpg', view_img=False, webcam=False, webcam_addr='0', weights='runs/train/exp/weights/best_ckpt.pt', yaml='/content/YOLOv6/Normal-Insulator,-Defect-Insulator,-Defects--1-2/data.yaml')\n",
            "Save directory already existed\n",
            "Loading checkpoint from runs/train/exp/weights/best_ckpt.pt\n",
            "\n",
            "Fusing model...\n",
            "Switch model to deploy modality.\n",
            "/usr/local/lib/python3.8/dist-packages/torch/functional.py:504: UserWarning: torch.meshgrid: in an upcoming release, it will be required to pass the indexing argument. (Triggered internally at ../aten/src/ATen/native/TensorShape.cpp:3190.)\n",
            "  return _VF.meshgrid(tensors, **kwargs)  # type: ignore[attr-defined]\n",
            "100% 1/1 [00:00<00:00, 24.44it/s]\n",
            "Results saved to runs/inference/exp\n"
          ]
        }
      ]
    },
    {
      "cell_type": "code",
      "source": [
        "!python tools/infer.py  --yaml {dataset.location}/data.yaml  --weights runs/train/exp/weights/best_ckpt.pt   --source {dataset.location}/images/test/1401_jpg.rf.2dc0e2cd5d7ee07822161a503ea76839.jpg   --device 0"
      ],
      "metadata": {
        "colab": {
          "base_uri": "https://localhost:8080/"
        },
        "id": "D60giu77NvwW",
        "outputId": "4824bb8e-e2fc-4b11-9b56-2f891e64d6dd"
      },
      "execution_count": null,
      "outputs": [
        {
          "output_type": "stream",
          "name": "stdout",
          "text": [
            "Namespace(agnostic_nms=False, classes=None, conf_thres=0.4, device='0', half=False, hide_conf=False, hide_labels=False, img_size=[640, 640], iou_thres=0.45, max_det=1000, name='exp', not_save_img=False, project='runs/inference', save_dir=None, save_txt=False, source='/content/YOLOv6/Normal-Insulator,-Defect-Insulator,-Defects--1-2/images/test/1401_jpg.rf.2dc0e2cd5d7ee07822161a503ea76839.jpg', view_img=False, webcam=False, webcam_addr='0', weights='runs/train/exp/weights/best_ckpt.pt', yaml='/content/YOLOv6/Normal-Insulator,-Defect-Insulator,-Defects--1-2/data.yaml')\n",
            "Save directory already existed\n",
            "Loading checkpoint from runs/train/exp/weights/best_ckpt.pt\n",
            "\n",
            "Fusing model...\n",
            "Switch model to deploy modality.\n",
            "/usr/local/lib/python3.8/dist-packages/torch/functional.py:504: UserWarning: torch.meshgrid: in an upcoming release, it will be required to pass the indexing argument. (Triggered internally at ../aten/src/ATen/native/TensorShape.cpp:3190.)\n",
            "  return _VF.meshgrid(tensors, **kwargs)  # type: ignore[attr-defined]\n",
            "100% 1/1 [00:00<00:00, 23.76it/s]\n",
            "Results saved to runs/inference/exp\n"
          ]
        }
      ]
    },
    {
      "cell_type": "code",
      "source": [
        "!python tools/infer.py  --yaml {dataset.location}/data.yaml  --weights runs/train/exp/weights/best_ckpt.pt   --source {dataset.location}/images/test/140_jpg.rf.e7ac8577eb47d56e224eab4f5ff4a864.jpg   --device 0"
      ],
      "metadata": {
        "colab": {
          "base_uri": "https://localhost:8080/"
        },
        "id": "K5XwkCfbNGqS",
        "outputId": "e1d38cc0-7d78-42ec-d437-cbc8ee13761c"
      },
      "execution_count": null,
      "outputs": [
        {
          "output_type": "stream",
          "name": "stdout",
          "text": [
            "Namespace(agnostic_nms=False, classes=None, conf_thres=0.4, device='0', half=False, hide_conf=False, hide_labels=False, img_size=[640, 640], iou_thres=0.45, max_det=1000, name='exp', not_save_img=False, project='runs/inference', save_dir=None, save_txt=False, source='/content/YOLOv6/Normal-Insulator,-Defect-Insulator,-Defects--1-2/images/test/140_jpg.rf.e7ac8577eb47d56e224eab4f5ff4a864.jpg', view_img=False, webcam=False, webcam_addr='0', weights='runs/train/exp/weights/best_ckpt.pt', yaml='/content/YOLOv6/Normal-Insulator,-Defect-Insulator,-Defects--1-2/data.yaml')\n",
            "Save directory already existed\n",
            "Loading checkpoint from runs/train/exp/weights/best_ckpt.pt\n",
            "\n",
            "Fusing model...\n",
            "Switch model to deploy modality.\n",
            "/usr/local/lib/python3.8/dist-packages/torch/functional.py:504: UserWarning: torch.meshgrid: in an upcoming release, it will be required to pass the indexing argument. (Triggered internally at ../aten/src/ATen/native/TensorShape.cpp:3190.)\n",
            "  return _VF.meshgrid(tensors, **kwargs)  # type: ignore[attr-defined]\n",
            "100% 1/1 [00:00<00:00, 21.37it/s]\n",
            "Results saved to runs/inference/exp\n"
          ]
        }
      ]
    },
    {
      "cell_type": "code",
      "source": [
        "!python tools/infer.py  --yaml {dataset.location}/data.yaml  --weights runs/train/exp/weights/best_ckpt.pt   --source {dataset.location}/images/test/1427_jpg.rf.6ce3a97efaf21e76fcd8af4ada913657.jpg   --device 0"
      ],
      "metadata": {
        "colab": {
          "base_uri": "https://localhost:8080/"
        },
        "id": "_h5KB3dyNGu5",
        "outputId": "c678b2fa-60c5-45ad-cd4f-0d003ecb6b7c"
      },
      "execution_count": null,
      "outputs": [
        {
          "output_type": "stream",
          "name": "stdout",
          "text": [
            "Namespace(agnostic_nms=False, classes=None, conf_thres=0.4, device='0', half=False, hide_conf=False, hide_labels=False, img_size=[640, 640], iou_thres=0.45, max_det=1000, name='exp', not_save_img=False, project='runs/inference', save_dir=None, save_txt=False, source='/content/YOLOv6/Normal-Insulator,-Defect-Insulator,-Defects--1-2/images/test/1427_jpg.rf.6ce3a97efaf21e76fcd8af4ada913657.jpg', view_img=False, webcam=False, webcam_addr='0', weights='runs/train/exp/weights/best_ckpt.pt', yaml='/content/YOLOv6/Normal-Insulator,-Defect-Insulator,-Defects--1-2/data.yaml')\n",
            "Save directory already existed\n",
            "Loading checkpoint from runs/train/exp/weights/best_ckpt.pt\n",
            "\n",
            "Fusing model...\n",
            "Switch model to deploy modality.\n",
            "/usr/local/lib/python3.8/dist-packages/torch/functional.py:504: UserWarning: torch.meshgrid: in an upcoming release, it will be required to pass the indexing argument. (Triggered internally at ../aten/src/ATen/native/TensorShape.cpp:3190.)\n",
            "  return _VF.meshgrid(tensors, **kwargs)  # type: ignore[attr-defined]\n",
            "100% 1/1 [00:00<00:00, 19.26it/s]\n",
            "Results saved to runs/inference/exp\n"
          ]
        }
      ]
    },
    {
      "cell_type": "code",
      "source": [
        "!python tools/infer.py  --yaml {dataset.location}/data.yaml  --weights runs/train/exp/weights/best_ckpt.pt   --source {dataset.location}/images/test/1434_jpg.rf.df67b0c1cbadcc578de927934aabfeea.jpg   --device 0"
      ],
      "metadata": {
        "colab": {
          "base_uri": "https://localhost:8080/"
        },
        "id": "yKbdgncBNGzs",
        "outputId": "e852d224-79fe-42c5-fd82-7e34349f9c0d"
      },
      "execution_count": null,
      "outputs": [
        {
          "output_type": "stream",
          "name": "stdout",
          "text": [
            "Namespace(agnostic_nms=False, classes=None, conf_thres=0.4, device='0', half=False, hide_conf=False, hide_labels=False, img_size=[640, 640], iou_thres=0.45, max_det=1000, name='exp', not_save_img=False, project='runs/inference', save_dir=None, save_txt=False, source='/content/YOLOv6/Normal-Insulator,-Defect-Insulator,-Defects--1-2/images/test/1434_jpg.rf.df67b0c1cbadcc578de927934aabfeea.jpg', view_img=False, webcam=False, webcam_addr='0', weights='runs/train/exp/weights/best_ckpt.pt', yaml='/content/YOLOv6/Normal-Insulator,-Defect-Insulator,-Defects--1-2/data.yaml')\n",
            "Save directory already existed\n",
            "Loading checkpoint from runs/train/exp/weights/best_ckpt.pt\n",
            "\n",
            "Fusing model...\n",
            "Switch model to deploy modality.\n",
            "/usr/local/lib/python3.8/dist-packages/torch/functional.py:504: UserWarning: torch.meshgrid: in an upcoming release, it will be required to pass the indexing argument. (Triggered internally at ../aten/src/ATen/native/TensorShape.cpp:3190.)\n",
            "  return _VF.meshgrid(tensors, **kwargs)  # type: ignore[attr-defined]\n",
            "100% 1/1 [00:00<00:00, 23.16it/s]\n",
            "Results saved to runs/inference/exp\n"
          ]
        }
      ]
    },
    {
      "cell_type": "code",
      "source": [
        "!python tools/infer.py  --yaml {dataset.location}/data.yaml  --weights runs/train/exp/weights/best_ckpt.pt   --source {dataset.location}/images/test/145_jpg.rf.d0e0e417cb9e97a4a4957a0a1d00b624.jpg   --device 0"
      ],
      "metadata": {
        "colab": {
          "base_uri": "https://localhost:8080/"
        },
        "id": "rbSiAMBYNG4A",
        "outputId": "04e48c11-bc27-4e20-ec12-d9bd65967852"
      },
      "execution_count": null,
      "outputs": [
        {
          "output_type": "stream",
          "name": "stdout",
          "text": [
            "Namespace(agnostic_nms=False, classes=None, conf_thres=0.4, device='0', half=False, hide_conf=False, hide_labels=False, img_size=[640, 640], iou_thres=0.45, max_det=1000, name='exp', not_save_img=False, project='runs/inference', save_dir=None, save_txt=False, source='/content/YOLOv6/Normal-Insulator,-Defect-Insulator,-Defects--1-2/images/test/145_jpg.rf.d0e0e417cb9e97a4a4957a0a1d00b624.jpg', view_img=False, webcam=False, webcam_addr='0', weights='runs/train/exp/weights/best_ckpt.pt', yaml='/content/YOLOv6/Normal-Insulator,-Defect-Insulator,-Defects--1-2/data.yaml')\n",
            "Save directory already existed\n",
            "Loading checkpoint from runs/train/exp/weights/best_ckpt.pt\n",
            "\n",
            "Fusing model...\n",
            "Switch model to deploy modality.\n",
            "/usr/local/lib/python3.8/dist-packages/torch/functional.py:504: UserWarning: torch.meshgrid: in an upcoming release, it will be required to pass the indexing argument. (Triggered internally at ../aten/src/ATen/native/TensorShape.cpp:3190.)\n",
            "  return _VF.meshgrid(tensors, **kwargs)  # type: ignore[attr-defined]\n",
            "100% 1/1 [00:00<00:00, 24.39it/s]\n",
            "Results saved to runs/inference/exp\n"
          ]
        }
      ]
    },
    {
      "cell_type": "code",
      "source": [
        "!python tools/infer.py  --yaml {dataset.location}/data.yaml  --weights runs/train/exp/weights/best_ckpt.pt   --source {dataset.location}/images/test/147_jpg.rf.618e3c1714ae91f6d0f7b53de291057e.jpg   --device 0"
      ],
      "metadata": {
        "colab": {
          "base_uri": "https://localhost:8080/"
        },
        "id": "8N03_xTFNG8A",
        "outputId": "a45aaebd-de32-4b58-e935-0c960c3d26dc"
      },
      "execution_count": null,
      "outputs": [
        {
          "output_type": "stream",
          "name": "stdout",
          "text": [
            "Namespace(agnostic_nms=False, classes=None, conf_thres=0.4, device='0', half=False, hide_conf=False, hide_labels=False, img_size=[640, 640], iou_thres=0.45, max_det=1000, name='exp', not_save_img=False, project='runs/inference', save_dir=None, save_txt=False, source='/content/YOLOv6/Normal-Insulator,-Defect-Insulator,-Defects--1-2/images/test/147_jpg.rf.618e3c1714ae91f6d0f7b53de291057e.jpg', view_img=False, webcam=False, webcam_addr='0', weights='runs/train/exp/weights/best_ckpt.pt', yaml='/content/YOLOv6/Normal-Insulator,-Defect-Insulator,-Defects--1-2/data.yaml')\n",
            "Save directory already existed\n",
            "Loading checkpoint from runs/train/exp/weights/best_ckpt.pt\n",
            "\n",
            "Fusing model...\n",
            "Switch model to deploy modality.\n",
            "/usr/local/lib/python3.8/dist-packages/torch/functional.py:504: UserWarning: torch.meshgrid: in an upcoming release, it will be required to pass the indexing argument. (Triggered internally at ../aten/src/ATen/native/TensorShape.cpp:3190.)\n",
            "  return _VF.meshgrid(tensors, **kwargs)  # type: ignore[attr-defined]\n",
            "100% 1/1 [00:00<00:00, 24.14it/s]\n",
            "Results saved to runs/inference/exp\n"
          ]
        }
      ]
    },
    {
      "cell_type": "code",
      "source": [
        "!python tools/infer.py  --yaml {dataset.location}/data.yaml  --weights runs/train/exp/weights/best_ckpt.pt   --source {dataset.location}/images/test/148_jpg.rf.a99ca4b0aee2e0cc44ecf1e1b26e9ea5.jpg  --device 0"
      ],
      "metadata": {
        "colab": {
          "base_uri": "https://localhost:8080/"
        },
        "id": "qMGZxowuNHBI",
        "outputId": "db234914-f647-4f2a-f9b8-e1aea638c123"
      },
      "execution_count": null,
      "outputs": [
        {
          "output_type": "stream",
          "name": "stdout",
          "text": [
            "Namespace(agnostic_nms=False, classes=None, conf_thres=0.4, device='0', half=False, hide_conf=False, hide_labels=False, img_size=[640, 640], iou_thres=0.45, max_det=1000, name='exp', not_save_img=False, project='runs/inference', save_dir=None, save_txt=False, source='/content/YOLOv6/Normal-Insulator,-Defect-Insulator,-Defects--1-2/images/test/148_jpg.rf.a99ca4b0aee2e0cc44ecf1e1b26e9ea5.jpg', view_img=False, webcam=False, webcam_addr='0', weights='runs/train/exp/weights/best_ckpt.pt', yaml='/content/YOLOv6/Normal-Insulator,-Defect-Insulator,-Defects--1-2/data.yaml')\n",
            "Save directory already existed\n",
            "Loading checkpoint from runs/train/exp/weights/best_ckpt.pt\n",
            "\n",
            "Fusing model...\n",
            "Switch model to deploy modality.\n",
            "/usr/local/lib/python3.8/dist-packages/torch/functional.py:504: UserWarning: torch.meshgrid: in an upcoming release, it will be required to pass the indexing argument. (Triggered internally at ../aten/src/ATen/native/TensorShape.cpp:3190.)\n",
            "  return _VF.meshgrid(tensors, **kwargs)  # type: ignore[attr-defined]\n",
            "100% 1/1 [00:00<00:00, 19.21it/s]\n",
            "Results saved to runs/inference/exp\n"
          ]
        }
      ]
    },
    {
      "cell_type": "code",
      "source": [
        "!python tools/infer.py  --yaml {dataset.location}/data.yaml  --weights runs/train/exp/weights/best_ckpt.pt   --source {dataset.location}/images/test/1496_jpg.rf.909e713f6730112dd870aaead5ee4df7.jpg   --device 0"
      ],
      "metadata": {
        "colab": {
          "base_uri": "https://localhost:8080/"
        },
        "id": "cDr0TGFMNKXI",
        "outputId": "e9d0a521-7056-41ff-aab1-aa675f033c49"
      },
      "execution_count": null,
      "outputs": [
        {
          "output_type": "stream",
          "name": "stdout",
          "text": [
            "Namespace(agnostic_nms=False, classes=None, conf_thres=0.4, device='0', half=False, hide_conf=False, hide_labels=False, img_size=[640, 640], iou_thres=0.45, max_det=1000, name='exp', not_save_img=False, project='runs/inference', save_dir=None, save_txt=False, source='/content/YOLOv6/Normal-Insulator,-Defect-Insulator,-Defects--1-2/images/test/1496_jpg.rf.909e713f6730112dd870aaead5ee4df7.jpg', view_img=False, webcam=False, webcam_addr='0', weights='runs/train/exp/weights/best_ckpt.pt', yaml='/content/YOLOv6/Normal-Insulator,-Defect-Insulator,-Defects--1-2/data.yaml')\n",
            "Save directory already existed\n",
            "Loading checkpoint from runs/train/exp/weights/best_ckpt.pt\n",
            "\n",
            "Fusing model...\n",
            "Switch model to deploy modality.\n",
            "/usr/local/lib/python3.8/dist-packages/torch/functional.py:504: UserWarning: torch.meshgrid: in an upcoming release, it will be required to pass the indexing argument. (Triggered internally at ../aten/src/ATen/native/TensorShape.cpp:3190.)\n",
            "  return _VF.meshgrid(tensors, **kwargs)  # type: ignore[attr-defined]\n",
            "100% 1/1 [00:00<00:00, 14.64it/s]\n",
            "Results saved to runs/inference/exp\n"
          ]
        }
      ]
    },
    {
      "cell_type": "code",
      "source": [
        "!python tools/infer.py  --yaml {dataset.location}/data.yaml  --weights runs/train/exp/weights/best_ckpt.pt   --source {dataset.location}/images/test/152_jpg.rf.0b356f1d2dc07dba65e7e931f678f435.jpg   --device 0"
      ],
      "metadata": {
        "colab": {
          "base_uri": "https://localhost:8080/"
        },
        "id": "Wams2fzZNKgG",
        "outputId": "9c15e6c3-1e87-46a9-9f32-319dd6139751"
      },
      "execution_count": null,
      "outputs": [
        {
          "output_type": "stream",
          "name": "stdout",
          "text": [
            "Namespace(agnostic_nms=False, classes=None, conf_thres=0.4, device='0', half=False, hide_conf=False, hide_labels=False, img_size=[640, 640], iou_thres=0.45, max_det=1000, name='exp', not_save_img=False, project='runs/inference', save_dir=None, save_txt=False, source='/content/YOLOv6/Normal-Insulator,-Defect-Insulator,-Defects--1-2/images/test/152_jpg.rf.0b356f1d2dc07dba65e7e931f678f435.jpg', view_img=False, webcam=False, webcam_addr='0', weights='runs/train/exp/weights/best_ckpt.pt', yaml='/content/YOLOv6/Normal-Insulator,-Defect-Insulator,-Defects--1-2/data.yaml')\n",
            "Save directory already existed\n",
            "Loading checkpoint from runs/train/exp/weights/best_ckpt.pt\n",
            "\n",
            "Fusing model...\n",
            "Switch model to deploy modality.\n",
            "/usr/local/lib/python3.8/dist-packages/torch/functional.py:504: UserWarning: torch.meshgrid: in an upcoming release, it will be required to pass the indexing argument. (Triggered internally at ../aten/src/ATen/native/TensorShape.cpp:3190.)\n",
            "  return _VF.meshgrid(tensors, **kwargs)  # type: ignore[attr-defined]\n",
            "100% 1/1 [00:00<00:00, 23.79it/s]\n",
            "Results saved to runs/inference/exp\n"
          ]
        }
      ]
    },
    {
      "cell_type": "code",
      "source": [
        "!python tools/infer.py  --yaml {dataset.location}/data.yaml  --weights runs/train/exp/weights/best_ckpt.pt   --source {dataset.location}/images/test/160_jpg.rf.8bf87da25c142d381fd71f6727e80c90.jpg   --device 0"
      ],
      "metadata": {
        "colab": {
          "base_uri": "https://localhost:8080/"
        },
        "id": "oJIrFmbrNKoR",
        "outputId": "f7888cb3-92c9-4662-cc19-a010b6f1ff80"
      },
      "execution_count": null,
      "outputs": [
        {
          "output_type": "stream",
          "name": "stdout",
          "text": [
            "Namespace(agnostic_nms=False, classes=None, conf_thres=0.4, device='0', half=False, hide_conf=False, hide_labels=False, img_size=[640, 640], iou_thres=0.45, max_det=1000, name='exp', not_save_img=False, project='runs/inference', save_dir=None, save_txt=False, source='/content/YOLOv6/Normal-Insulator,-Defect-Insulator,-Defects--1-2/images/test/160_jpg.rf.8bf87da25c142d381fd71f6727e80c90.jpg', view_img=False, webcam=False, webcam_addr='0', weights='runs/train/exp/weights/best_ckpt.pt', yaml='/content/YOLOv6/Normal-Insulator,-Defect-Insulator,-Defects--1-2/data.yaml')\n",
            "Save directory already existed\n",
            "Loading checkpoint from runs/train/exp/weights/best_ckpt.pt\n",
            "\n",
            "Fusing model...\n",
            "Switch model to deploy modality.\n",
            "/usr/local/lib/python3.8/dist-packages/torch/functional.py:504: UserWarning: torch.meshgrid: in an upcoming release, it will be required to pass the indexing argument. (Triggered internally at ../aten/src/ATen/native/TensorShape.cpp:3190.)\n",
            "  return _VF.meshgrid(tensors, **kwargs)  # type: ignore[attr-defined]\n",
            "100% 1/1 [00:00<00:00, 24.08it/s]\n",
            "Results saved to runs/inference/exp\n"
          ]
        }
      ]
    },
    {
      "cell_type": "code",
      "execution_count": null,
      "metadata": {
        "colab": {
          "base_uri": "https://localhost:8080/"
        },
        "outputId": "628acaaf-3001-4ba5-e777-acb79965b2ec",
        "id": "bjWLD7fpI63M"
      },
      "outputs": [
        {
          "output_type": "stream",
          "name": "stdout",
          "text": [
            "./runs/inference/exp/137_jpg.rf.45bc9683b752dd80e34e5fdb62bcdce4.jpg\n"
          ]
        },
        {
          "output_type": "execute_result",
          "data": {
            "text/plain": [
              "1"
            ]
          },
          "metadata": {},
          "execution_count": 126
        }
      ],
      "source": [
        "\n",
        "import cv2\n",
        "import os\n",
        "import random\n",
        "\n",
        "\n",
        "\n",
        "label_folder = r'/content/YOLOv6/Normal-Insulator,-Defect-Insulator,-Defects--1-2/labels'\n",
        "\n",
        "raw_images_folder = r'/content/YOLOv6/Normal-Insulator,-Defect-Insulator,-Defects--1-2/images'\n",
        "\n",
        "save_images_folder = r'/content/YOLOv6/save_images_valid'\n",
        "\n",
        "name_list_path = r'/content/YOLOv6/Normal-Insulator,-Defect-Insulator,-Defects--1-2/labels/valid'\n",
        "\n",
        "classes_path = r'/content/YOLOv6/Normal-Insulator,-Defect-Insulator,-Defects--1-2'\n",
        "image_name=r'./runs/inference/exp/137_jpg.rf.45bc9683b752dd80e34e5fdb62bcdce4.jpg'\n",
        "label=name_of_class='defective insulator'\n",
        "def plot_one_box(x, image, color=None, label=name_of_class, line_thickness=None):\n",
        "\n",
        "    tl = line_thickness or round(0.002 * (image.shape[0] + image.shape[1]) / 2) + 1  # line/font thickness\n",
        "    color = color or [random.randint(0, 255) for _ in range(3)]\n",
        "    c1, c2 = (int(x[0]), int(x[1])), (int(x[2]), int(x[3]))\n",
        "    cv2.rectangle(image, c1, c2, color, thickness=tl, lineType=cv2.LINE_AA)\n",
        "    if label:\n",
        "        tf = max(tl - 1, 1)  # font thickness\n",
        "        t_size = cv2.getTextSize(str(label), 0, fontScale=tl / 3, thickness=tf)[0]\n",
        "        c2 = c1[0] + t_size[0], c1[1] - t_size[1] - 3\n",
        "        cv2.rectangle(image, c1, c2, color, -1, cv2.LINE_AA)  # filled\n",
        "        cv2.putText(image,str(label), (c1[0], c1[1] - 2), 0, tl / 3, [225, 255, 255], thickness=tf, lineType=cv2.LINE_AA)\n",
        "\n",
        "\n",
        "def draw_box_on_image(image_name, classes_path, label_folder, raw_images_folder, save_images_folder ):\n",
        "\n",
        "    txt_path  = r\"/content/YOLOv6/Normal-Insulator,-Defect-Insulator,-Defects--1-2/labels/test/137_jpg.rf.45bc9683b752dd80e34e5fdb62bcdce4.txt\"\n",
        "    print(image_name)\n",
        "    if image_name == '.DS_Store':\n",
        "        return 0\n",
        "\n",
        "    image_path = r\"./runs/inference/exp/137_jpg.rf.45bc9683b752dd80e34e5fdb62bcdce4.jpg\"\n",
        "    save_file_path = r\"/content/YOLOv6/save_images_test/137\"\n",
        "\n",
        "    source_file = open(txt_path) if os.path.exists(txt_path) else []\n",
        "    image = cv2.imread(image_path)\n",
        "    try:\n",
        "        height, width, channels = image.shape\n",
        "    except:\n",
        "        print('no shape info.')\n",
        "        return 0\n",
        "\n",
        "    box_number = 0\n",
        "    for line in source_file:\n",
        "        staff = line.split()\n",
        "        class_idx = int(staff[0])\n",
        "\n",
        "        x_center, y_center, w, h = float(staff[1])*width, float(staff[2])*height, float(staff[3])*width, float(staff[4])*height\n",
        "        x1 = round(x_center-w/2)\n",
        "        y1 = round(y_center-h/2)\n",
        "        x2 = round(x_center+w/2)\n",
        "        y2 = round(y_center+h/2)\n",
        "\n",
        "\n",
        "        plot_one_box([x1,y1,x2,y2], image,  label=name_of_class, line_thickness=None)\n",
        "        cv2.imwrite(r\"/content/YOLOv6/save_images_test/137.jpg\",image)\n",
        "\n",
        "        box_number += 1\n",
        "        return box_number\n",
        "draw_box_on_image(image_name, classes_path,  label_folder, raw_images_folder, save_images_folder )\n",
        "\n",
        "\n",
        "\n"
      ]
    },
    {
      "cell_type": "code",
      "execution_count": null,
      "metadata": {
        "colab": {
          "base_uri": "https://localhost:8080/"
        },
        "outputId": "9d66848a-b091-4a80-f5bd-a35166dd1594",
        "id": "qDgW7bvBI7Dk"
      },
      "outputs": [
        {
          "output_type": "stream",
          "name": "stdout",
          "text": [
            "./runs/inference/exp/1401_jpg.rf.2dc0e2cd5d7ee07822161a503ea76839.jpg\n"
          ]
        },
        {
          "output_type": "execute_result",
          "data": {
            "text/plain": [
              "1"
            ]
          },
          "metadata": {},
          "execution_count": 128
        }
      ],
      "source": [
        "\n",
        "import cv2\n",
        "import os\n",
        "import random\n",
        "\n",
        "\n",
        "\n",
        "label_folder = r'/content/YOLOv6/Normal-Insulator,-Defect-Insulator,-Defects--1-2/labels'\n",
        "\n",
        "raw_images_folder = r'/content/YOLOv6/Normal-Insulator,-Defect-Insulator,-Defects--1-2/images'\n",
        "\n",
        "save_images_folder = r'/content/YOLOv6/save_images_valid'\n",
        "\n",
        "name_list_path = r'/content/YOLOv6/Normal-Insulator,-Defect-Insulator,-Defects--1-2/labels/valid'\n",
        "\n",
        "classes_path = r'/content/YOLOv6/Normal-Insulator,-Defect-Insulator,-Defects--1-2'\n",
        "image_name=r'./runs/inference/exp/1401_jpg.rf.2dc0e2cd5d7ee07822161a503ea76839.jpg'\n",
        "label=name_of_class='normal insulator'\n",
        "def plot_one_box(x, image, color=None, label=name_of_class, line_thickness=None):\n",
        "\n",
        "    tl = line_thickness or round(0.002 * (image.shape[0] + image.shape[1]) / 2) + 1  # line/font thickness\n",
        "    color = color or [random.randint(0, 255) for _ in range(3)]\n",
        "    c1, c2 = (int(x[0]), int(x[1])), (int(x[2]), int(x[3]))\n",
        "    cv2.rectangle(image, c1, c2, color, thickness=tl, lineType=cv2.LINE_AA)\n",
        "    if label:\n",
        "        tf = max(tl - 1, 1)  # font thickness\n",
        "        t_size = cv2.getTextSize(str(label), 0, fontScale=tl / 3, thickness=tf)[0]\n",
        "        c2 = c1[0] + t_size[0], c1[1] - t_size[1] - 3\n",
        "        cv2.rectangle(image, c1, c2, color, -1, cv2.LINE_AA)  # filled\n",
        "        cv2.putText(image,str(label), (c1[0], c1[1] - 2), 0, tl / 3, [225, 255, 255], thickness=tf, lineType=cv2.LINE_AA)\n",
        "\n",
        "\n",
        "def draw_box_on_image(image_name, classes_path, label_folder, raw_images_folder, save_images_folder ):\n",
        "\n",
        "    txt_path  = r\"/content/YOLOv6/Normal-Insulator,-Defect-Insulator,-Defects--1-2/labels/test/1401_jpg.rf.2dc0e2cd5d7ee07822161a503ea76839.txt\"\n",
        "    print(image_name)\n",
        "    if image_name == '.DS_Store':\n",
        "        return 0\n",
        "\n",
        "    image_path = r\"./runs/inference/exp/1401_jpg.rf.2dc0e2cd5d7ee07822161a503ea76839.jpg\"\n",
        "    save_file_path = r\"/content/YOLOv6/save_images_test/1401\"\n",
        "\n",
        "    source_file = open(txt_path) if os.path.exists(txt_path) else []\n",
        "    image = cv2.imread(image_path)\n",
        "    try:\n",
        "        height, width, channels = image.shape\n",
        "    except:\n",
        "        print('no shape info.')\n",
        "        return 0\n",
        "\n",
        "    box_number = 0\n",
        "    for line in source_file:\n",
        "        staff = line.split()\n",
        "        class_idx = int(staff[0])\n",
        "\n",
        "        x_center, y_center, w, h = float(staff[1])*width, float(staff[2])*height, float(staff[3])*width, float(staff[4])*height\n",
        "        x1 = round(x_center-w/2)\n",
        "        y1 = round(y_center-h/2)\n",
        "        x2 = round(x_center+w/2)\n",
        "        y2 = round(y_center+h/2)\n",
        "\n",
        "\n",
        "        plot_one_box([x1,y1,x2,y2], image,  label=name_of_class, line_thickness=None)\n",
        "        cv2.imwrite(r\"/content/YOLOv6/save_images_test/1401.jpg\",image)\n",
        "\n",
        "        box_number += 1\n",
        "        return box_number\n",
        "draw_box_on_image(image_name, classes_path,  label_folder, raw_images_folder, save_images_folder )\n",
        "\n",
        "\n",
        "\n"
      ]
    },
    {
      "cell_type": "code",
      "execution_count": null,
      "metadata": {
        "colab": {
          "base_uri": "https://localhost:8080/"
        },
        "outputId": "4fbbb7d9-168c-4f94-d180-d189782972a9",
        "id": "wnS72lugI7Pk"
      },
      "outputs": [
        {
          "output_type": "stream",
          "name": "stdout",
          "text": [
            "./runs/inference/exp/140_jpg.rf.e7ac8577eb47d56e224eab4f5ff4a864.jpg\n"
          ]
        },
        {
          "output_type": "execute_result",
          "data": {
            "text/plain": [
              "1"
            ]
          },
          "metadata": {},
          "execution_count": 129
        }
      ],
      "source": [
        "\n",
        "import cv2\n",
        "import os\n",
        "import random\n",
        "\n",
        "\n",
        "\n",
        "label_folder = r'/content/YOLOv6/Normal-Insulator,-Defect-Insulator,-Defects--1-2/labels'\n",
        "\n",
        "raw_images_folder = r'/content/YOLOv6/Normal-Insulator,-Defect-Insulator,-Defects--1-2/images'\n",
        "\n",
        "save_images_folder = r'/content/YOLOv6/save_images_valid'\n",
        "\n",
        "name_list_path = r'/content/YOLOv6/Normal-Insulator,-Defect-Insulator,-Defects--1-2/labels/valid'\n",
        "\n",
        "classes_path = r'/content/YOLOv6/Normal-Insulator,-Defect-Insulator,-Defects--1-2'\n",
        "image_name=r'./runs/inference/exp/140_jpg.rf.e7ac8577eb47d56e224eab4f5ff4a864.jpg'\n",
        "label=name_of_class='defective insulator'\n",
        "def plot_one_box(x, image, color=None, label=name_of_class, line_thickness=None):\n",
        "\n",
        "    tl = line_thickness or round(0.002 * (image.shape[0] + image.shape[1]) / 2) + 1  # line/font thickness\n",
        "    color = color or [random.randint(0, 255) for _ in range(3)]\n",
        "    c1, c2 = (int(x[0]), int(x[1])), (int(x[2]), int(x[3]))\n",
        "    cv2.rectangle(image, c1, c2, color, thickness=tl, lineType=cv2.LINE_AA)\n",
        "    if label:\n",
        "        tf = max(tl - 1, 1)  # font thickness\n",
        "        t_size = cv2.getTextSize(str(label), 0, fontScale=tl / 3, thickness=tf)[0]\n",
        "        c2 = c1[0] + t_size[0], c1[1] - t_size[1] - 3\n",
        "        cv2.rectangle(image, c1, c2, color, -1, cv2.LINE_AA)  # filled\n",
        "        cv2.putText(image,str(label), (c1[0], c1[1] - 2), 0, tl / 3, [225, 255, 255], thickness=tf, lineType=cv2.LINE_AA)\n",
        "\n",
        "\n",
        "def draw_box_on_image(image_name, classes_path, label_folder, raw_images_folder, save_images_folder ):\n",
        "\n",
        "    txt_path  = r\"/content/YOLOv6/Normal-Insulator,-Defect-Insulator,-Defects--1-2/labels/test/140_jpg.rf.e7ac8577eb47d56e224eab4f5ff4a864.txt\"\n",
        "    print(image_name)\n",
        "    if image_name == '.DS_Store':\n",
        "        return 0\n",
        "\n",
        "    image_path = r\"./runs/inference/exp/140_jpg.rf.e7ac8577eb47d56e224eab4f5ff4a864.jpg\"\n",
        "    save_file_path = r\"/content/YOLOv6/save_images_test/140\"\n",
        "\n",
        "    source_file = open(txt_path) if os.path.exists(txt_path) else []\n",
        "    image = cv2.imread(image_path)\n",
        "    try:\n",
        "        height, width, channels = image.shape\n",
        "    except:\n",
        "        print('no shape info.')\n",
        "        return 0\n",
        "\n",
        "    box_number = 0\n",
        "    for line in source_file:\n",
        "        staff = line.split()\n",
        "        class_idx = int(staff[0])\n",
        "\n",
        "        x_center, y_center, w, h = float(staff[1])*width, float(staff[2])*height, float(staff[3])*width, float(staff[4])*height\n",
        "        x1 = round(x_center-w/2)\n",
        "        y1 = round(y_center-h/2)\n",
        "        x2 = round(x_center+w/2)\n",
        "        y2 = round(y_center+h/2)\n",
        "\n",
        "\n",
        "        plot_one_box([x1,y1,x2,y2], image,  label=name_of_class, line_thickness=None)\n",
        "        cv2.imwrite(r\"/content/YOLOv6/save_images_test/140.jpg\",image)\n",
        "\n",
        "        box_number += 1\n",
        "        return box_number\n",
        "draw_box_on_image(image_name, classes_path,  label_folder, raw_images_folder, save_images_folder )\n",
        "\n",
        "\n",
        "\n"
      ]
    },
    {
      "cell_type": "code",
      "execution_count": null,
      "metadata": {
        "colab": {
          "base_uri": "https://localhost:8080/"
        },
        "outputId": "0a6acfd5-e7bc-4a30-9b63-e1ead0230a74",
        "id": "WDIiIS-vNPpd"
      },
      "outputs": [
        {
          "output_type": "stream",
          "name": "stdout",
          "text": [
            "./runs/inference/exp/1427_jpg.rf.6ce3a97efaf21e76fcd8af4ada913657.jpg\n"
          ]
        },
        {
          "output_type": "execute_result",
          "data": {
            "text/plain": [
              "1"
            ]
          },
          "metadata": {},
          "execution_count": 130
        }
      ],
      "source": [
        "\n",
        "import cv2\n",
        "import os\n",
        "import random\n",
        "\n",
        "\n",
        "\n",
        "label_folder = r'/content/YOLOv6/Normal-Insulator,-Defect-Insulator,-Defects--1-2/labels'\n",
        "\n",
        "raw_images_folder = r'/content/YOLOv6/Normal-Insulator,-Defect-Insulator,-Defects--1-2/images'\n",
        "\n",
        "save_images_folder = r'/content/YOLOv6/save_images_valid'\n",
        "\n",
        "name_list_path = r'/content/YOLOv6/Normal-Insulator,-Defect-Insulator,-Defects--1-2/labels/valid'\n",
        "\n",
        "classes_path = r'/content/YOLOv6/Normal-Insulator,-Defect-Insulator,-Defects--1-2'\n",
        "image_name=r'./runs/inference/exp/1427_jpg.rf.6ce3a97efaf21e76fcd8af4ada913657.jpg'\n",
        "label=name_of_class='normal insulator'\n",
        "def plot_one_box(x, image, color=None, label=name_of_class, line_thickness=None):\n",
        "\n",
        "    tl = line_thickness or round(0.002 * (image.shape[0] + image.shape[1]) / 2) + 1  # line/font thickness\n",
        "    color = color or [random.randint(0, 255) for _ in range(3)]\n",
        "    c1, c2 = (int(x[0]), int(x[1])), (int(x[2]), int(x[3]))\n",
        "    cv2.rectangle(image, c1, c2, color, thickness=tl, lineType=cv2.LINE_AA)\n",
        "    if label:\n",
        "        tf = max(tl - 1, 1)  # font thickness\n",
        "        t_size = cv2.getTextSize(str(label), 0, fontScale=tl / 3, thickness=tf)[0]\n",
        "        c2 = c1[0] + t_size[0], c1[1] - t_size[1] - 3\n",
        "        cv2.rectangle(image, c1, c2, color, -1, cv2.LINE_AA)  # filled\n",
        "        cv2.putText(image,str(label), (c1[0], c1[1] - 2), 0, tl / 3, [225, 255, 255], thickness=tf, lineType=cv2.LINE_AA)\n",
        "\n",
        "\n",
        "def draw_box_on_image(image_name, classes_path, label_folder, raw_images_folder, save_images_folder ):\n",
        "\n",
        "    txt_path  = r\"/content/YOLOv6/Normal-Insulator,-Defect-Insulator,-Defects--1-2/labels/test/1427_jpg.rf.6ce3a97efaf21e76fcd8af4ada913657.txt\"\n",
        "    print(image_name)\n",
        "    if image_name == '.DS_Store':\n",
        "        return 0\n",
        "\n",
        "    image_path = r\"./runs/inference/exp/1427_jpg.rf.6ce3a97efaf21e76fcd8af4ada913657.jpg\"\n",
        "    save_file_path = r\"/content/YOLOv6/save_images_test/1427\"\n",
        "\n",
        "    source_file = open(txt_path) if os.path.exists(txt_path) else []\n",
        "    image = cv2.imread(image_path)\n",
        "    try:\n",
        "        height, width, channels = image.shape\n",
        "    except:\n",
        "        print('no shape info.')\n",
        "        return 0\n",
        "\n",
        "    box_number = 0\n",
        "    for line in source_file:\n",
        "        staff = line.split()\n",
        "        class_idx = int(staff[0])\n",
        "\n",
        "        x_center, y_center, w, h = float(staff[1])*width, float(staff[2])*height, float(staff[3])*width, float(staff[4])*height\n",
        "        x1 = round(x_center-w/2)\n",
        "        y1 = round(y_center-h/2)\n",
        "        x2 = round(x_center+w/2)\n",
        "        y2 = round(y_center+h/2)\n",
        "\n",
        "\n",
        "        plot_one_box([x1,y1,x2,y2], image,  label=name_of_class, line_thickness=None)\n",
        "        cv2.imwrite(r\"/content/YOLOv6/save_images_test/1427.jpg\",image)\n",
        "\n",
        "        box_number += 1\n",
        "        return box_number\n",
        "draw_box_on_image(image_name, classes_path,  label_folder, raw_images_folder, save_images_folder )\n",
        "\n",
        "\n",
        "\n"
      ]
    },
    {
      "cell_type": "code",
      "execution_count": null,
      "metadata": {
        "colab": {
          "base_uri": "https://localhost:8080/"
        },
        "outputId": "2d333b5f-dee2-48c9-ca53-18b1fe1ba62f",
        "id": "nDHuSjGHNP1g"
      },
      "outputs": [
        {
          "output_type": "stream",
          "name": "stdout",
          "text": [
            "./runs/inference/exp/1434_jpg.rf.df67b0c1cbadcc578de927934aabfeea.jpg\n"
          ]
        },
        {
          "output_type": "execute_result",
          "data": {
            "text/plain": [
              "1"
            ]
          },
          "metadata": {},
          "execution_count": 131
        }
      ],
      "source": [
        "\n",
        "import cv2\n",
        "import os\n",
        "import random\n",
        "\n",
        "\n",
        "\n",
        "label_folder = r'/content/YOLOv6/Normal-Insulator,-Defect-Insulator,-Defects--1-2/labels'\n",
        "\n",
        "raw_images_folder = r'/content/YOLOv6/Normal-Insulator,-Defect-Insulator,-Defects--1-2/images'\n",
        "\n",
        "save_images_folder = r'/content/YOLOv6/save_images_valid'\n",
        "\n",
        "name_list_path = r'/content/YOLOv6/Normal-Insulator,-Defect-Insulator,-Defects--1-2/labels/valid'\n",
        "\n",
        "classes_path = r'/content/YOLOv6/Normal-Insulator,-Defect-Insulator,-Defects--1-2'\n",
        "image_name=r'./runs/inference/exp/1434_jpg.rf.df67b0c1cbadcc578de927934aabfeea.jpg'\n",
        "label=name_of_class='normal insulator'\n",
        "def plot_one_box(x, image, color=None, label=name_of_class, line_thickness=None):\n",
        "\n",
        "    tl = line_thickness or round(0.002 * (image.shape[0] + image.shape[1]) / 2) + 1  # line/font thickness\n",
        "    color = color or [random.randint(0, 255) for _ in range(3)]\n",
        "    c1, c2 = (int(x[0]), int(x[1])), (int(x[2]), int(x[3]))\n",
        "    cv2.rectangle(image, c1, c2, color, thickness=tl, lineType=cv2.LINE_AA)\n",
        "    if label:\n",
        "        tf = max(tl - 1, 1)  # font thickness\n",
        "        t_size = cv2.getTextSize(str(label), 0, fontScale=tl / 3, thickness=tf)[0]\n",
        "        c2 = c1[0] + t_size[0], c1[1] - t_size[1] - 3\n",
        "        cv2.rectangle(image, c1, c2, color, -1, cv2.LINE_AA)  # filled\n",
        "        cv2.putText(image,str(label), (c1[0], c1[1] - 2), 0, tl / 3, [225, 255, 255], thickness=tf, lineType=cv2.LINE_AA)\n",
        "\n",
        "\n",
        "def draw_box_on_image(image_name, classes_path, label_folder, raw_images_folder, save_images_folder ):\n",
        "\n",
        "    txt_path  = r\"/content/YOLOv6/Normal-Insulator,-Defect-Insulator,-Defects--1-2/labels/test/1434_jpg.rf.df67b0c1cbadcc578de927934aabfeea.txt\"\n",
        "    print(image_name)\n",
        "    if image_name == '.DS_Store':\n",
        "        return 0\n",
        "\n",
        "    image_path = r\"./runs/inference/exp/1434_jpg.rf.df67b0c1cbadcc578de927934aabfeea.jpg\"\n",
        "    save_file_path = r\"/content/YOLOv6/save_images_test/1434\"\n",
        "\n",
        "    source_file = open(txt_path) if os.path.exists(txt_path) else []\n",
        "    image = cv2.imread(image_path)\n",
        "    try:\n",
        "        height, width, channels = image.shape\n",
        "    except:\n",
        "        print('no shape info.')\n",
        "        return 0\n",
        "\n",
        "    box_number = 0\n",
        "    for line in source_file:\n",
        "        staff = line.split()\n",
        "        class_idx = int(staff[0])\n",
        "\n",
        "        x_center, y_center, w, h = float(staff[1])*width, float(staff[2])*height, float(staff[3])*width, float(staff[4])*height\n",
        "        x1 = round(x_center-w/2)\n",
        "        y1 = round(y_center-h/2)\n",
        "        x2 = round(x_center+w/2)\n",
        "        y2 = round(y_center+h/2)\n",
        "\n",
        "\n",
        "        plot_one_box([x1,y1,x2,y2], image,  label=name_of_class, line_thickness=None)\n",
        "        cv2.imwrite(r\"/content/YOLOv6/save_images_test/1434.jpg\",image)\n",
        "\n",
        "        box_number += 1\n",
        "        return box_number\n",
        "draw_box_on_image(image_name, classes_path,  label_folder, raw_images_folder, save_images_folder )\n",
        "\n",
        "\n",
        "\n"
      ]
    },
    {
      "cell_type": "code",
      "execution_count": null,
      "metadata": {
        "colab": {
          "base_uri": "https://localhost:8080/"
        },
        "outputId": "3db50848-c1c1-403f-856a-cb3fb946c0de",
        "id": "yGyIq_poNP_R"
      },
      "outputs": [
        {
          "output_type": "stream",
          "name": "stdout",
          "text": [
            "./runs/inference/exp/145_jpg.rf.d0e0e417cb9e97a4a4957a0a1d00b624.jpg\n"
          ]
        },
        {
          "output_type": "execute_result",
          "data": {
            "text/plain": [
              "1"
            ]
          },
          "metadata": {},
          "execution_count": 133
        }
      ],
      "source": [
        "\n",
        "import cv2\n",
        "import os\n",
        "import random\n",
        "\n",
        "\n",
        "\n",
        "label_folder = r'/content/YOLOv6/Normal-Insulator,-Defect-Insulator,-Defects--1-2/labels'\n",
        "\n",
        "raw_images_folder = r'/content/YOLOv6/Normal-Insulator,-Defect-Insulator,-Defects--1-2/images'\n",
        "\n",
        "save_images_folder = r'/content/YOLOv6/save_images_valid'\n",
        "\n",
        "name_list_path = r'/content/YOLOv6/Normal-Insulator,-Defect-Insulator,-Defects--1-2/labels/valid'\n",
        "\n",
        "classes_path = r'/content/YOLOv6/Normal-Insulator,-Defect-Insulator,-Defects--1-2'\n",
        "image_name=r'./runs/inference/exp/145_jpg.rf.d0e0e417cb9e97a4a4957a0a1d00b624.jpg'\n",
        "label=name_of_class='defect'\n",
        "def plot_one_box(x, image, color=None, label=name_of_class, line_thickness=None):\n",
        "\n",
        "    tl = line_thickness or round(0.002 * (image.shape[0] + image.shape[1]) / 2) + 1  # line/font thickness\n",
        "    color = color or [random.randint(0, 255) for _ in range(3)]\n",
        "    c1, c2 = (int(x[0]), int(x[1])), (int(x[2]), int(x[3]))\n",
        "    cv2.rectangle(image, c1, c2, color, thickness=tl, lineType=cv2.LINE_AA)\n",
        "    if label:\n",
        "        tf = max(tl - 1, 1)  # font thickness\n",
        "        t_size = cv2.getTextSize(str(label), 0, fontScale=tl / 3, thickness=tf)[0]\n",
        "        c2 = c1[0] + t_size[0], c1[1] - t_size[1] - 3\n",
        "        cv2.rectangle(image, c1, c2, color, -1, cv2.LINE_AA)  # filled\n",
        "        cv2.putText(image,str(label), (c1[0], c1[1] - 2), 0, tl / 3, [225, 255, 255], thickness=tf, lineType=cv2.LINE_AA)\n",
        "\n",
        "\n",
        "def draw_box_on_image(image_name, classes_path, label_folder, raw_images_folder, save_images_folder ):\n",
        "\n",
        "    txt_path  = r\"/content/YOLOv6/Normal-Insulator,-Defect-Insulator,-Defects--1-2/labels/test/145_jpg.rf.d0e0e417cb9e97a4a4957a0a1d00b624.txt\"\n",
        "    print(image_name)\n",
        "    if image_name == '.DS_Store':\n",
        "        return 0\n",
        "\n",
        "    image_path = r\"./runs/inference/exp/145_jpg.rf.d0e0e417cb9e97a4a4957a0a1d00b624.jpg\"\n",
        "    save_file_path = r\"/content/YOLOv6/save_images_test/145\"\n",
        "\n",
        "    source_file = open(txt_path) if os.path.exists(txt_path) else []\n",
        "    image = cv2.imread(image_path)\n",
        "    try:\n",
        "        height, width, channels = image.shape\n",
        "    except:\n",
        "        print('no shape info.')\n",
        "        return 0\n",
        "\n",
        "    box_number = 0\n",
        "    for line in source_file:\n",
        "        staff = line.split()\n",
        "        class_idx = int(staff[0])\n",
        "\n",
        "        x_center, y_center, w, h = float(staff[1])*width, float(staff[2])*height, float(staff[3])*width, float(staff[4])*height\n",
        "        x1 = round(x_center-w/2)\n",
        "        y1 = round(y_center-h/2)\n",
        "        x2 = round(x_center+w/2)\n",
        "        y2 = round(y_center+h/2)\n",
        "\n",
        "\n",
        "        plot_one_box([x1,y1,x2,y2], image,  label=name_of_class, line_thickness=None)\n",
        "        cv2.imwrite(r\"/content/YOLOv6/save_images_test/145.jpg\",image)\n",
        "\n",
        "        box_number += 1\n",
        "        return box_number\n",
        "draw_box_on_image(image_name, classes_path,  label_folder, raw_images_folder, save_images_folder )\n",
        "\n",
        "\n",
        "\n"
      ]
    },
    {
      "cell_type": "code",
      "execution_count": null,
      "metadata": {
        "colab": {
          "base_uri": "https://localhost:8080/"
        },
        "outputId": "8d9e6cea-46a6-45ba-9fb7-a0f7fdfaedf4",
        "id": "oR7gNS-RNQJW"
      },
      "outputs": [
        {
          "output_type": "stream",
          "name": "stdout",
          "text": [
            "./runs/inference/exp/147_jpg.rf.618e3c1714ae91f6d0f7b53de291057e.jpg\n"
          ]
        },
        {
          "output_type": "execute_result",
          "data": {
            "text/plain": [
              "1"
            ]
          },
          "metadata": {},
          "execution_count": 134
        }
      ],
      "source": [
        "\n",
        "import cv2\n",
        "import os\n",
        "import random\n",
        "\n",
        "\n",
        "\n",
        "label_folder = r'/content/YOLOv6/Normal-Insulator,-Defect-Insulator,-Defects--1-2/labels'\n",
        "\n",
        "raw_images_folder = r'/content/YOLOv6/Normal-Insulator,-Defect-Insulator,-Defects--1-2/images'\n",
        "\n",
        "save_images_folder = r'/content/YOLOv6/save_images_valid'\n",
        "\n",
        "name_list_path = r'/content/YOLOv6/Normal-Insulator,-Defect-Insulator,-Defects--1-2/labels/valid'\n",
        "\n",
        "classes_path = r'/content/YOLOv6/Normal-Insulator,-Defect-Insulator,-Defects--1-2'\n",
        "image_name=r'./runs/inference/exp/147_jpg.rf.618e3c1714ae91f6d0f7b53de291057e.jpg'\n",
        "label=name_of_class='defective insulator'\n",
        "def plot_one_box(x, image, color=None, label=name_of_class, line_thickness=None):\n",
        "\n",
        "    tl = line_thickness or round(0.002 * (image.shape[0] + image.shape[1]) / 2) + 1  # line/font thickness\n",
        "    color = color or [random.randint(0, 255) for _ in range(3)]\n",
        "    c1, c2 = (int(x[0]), int(x[1])), (int(x[2]), int(x[3]))\n",
        "    cv2.rectangle(image, c1, c2, color, thickness=tl, lineType=cv2.LINE_AA)\n",
        "    if label:\n",
        "        tf = max(tl - 1, 1)  # font thickness\n",
        "        t_size = cv2.getTextSize(str(label), 0, fontScale=tl / 3, thickness=tf)[0]\n",
        "        c2 = c1[0] + t_size[0], c1[1] - t_size[1] - 3\n",
        "        cv2.rectangle(image, c1, c2, color, -1, cv2.LINE_AA)  # filled\n",
        "        cv2.putText(image,str(label), (c1[0], c1[1] - 2), 0, tl / 3, [225, 255, 255], thickness=tf, lineType=cv2.LINE_AA)\n",
        "\n",
        "\n",
        "def draw_box_on_image(image_name, classes_path, label_folder, raw_images_folder, save_images_folder ):\n",
        "\n",
        "    txt_path  = r\"/content/YOLOv6/Normal-Insulator,-Defect-Insulator,-Defects--1-2/labels/test/147_jpg.rf.618e3c1714ae91f6d0f7b53de291057e.txt\"\n",
        "    print(image_name)\n",
        "    if image_name == '.DS_Store':\n",
        "        return 0\n",
        "\n",
        "    image_path = r\"./runs/inference/exp/147_jpg.rf.618e3c1714ae91f6d0f7b53de291057e.jpg\"\n",
        "    save_file_path = r\"/content/YOLOv6/save_images_test/147\"\n",
        "\n",
        "    source_file = open(txt_path) if os.path.exists(txt_path) else []\n",
        "    image = cv2.imread(image_path)\n",
        "    try:\n",
        "        height, width, channels = image.shape\n",
        "    except:\n",
        "        print('no shape info.')\n",
        "        return 0\n",
        "\n",
        "    box_number = 0\n",
        "    for line in source_file:\n",
        "        staff = line.split()\n",
        "        class_idx = int(staff[0])\n",
        "\n",
        "        x_center, y_center, w, h = float(staff[1])*width, float(staff[2])*height, float(staff[3])*width, float(staff[4])*height\n",
        "        x1 = round(x_center-w/2)\n",
        "        y1 = round(y_center-h/2)\n",
        "        x2 = round(x_center+w/2)\n",
        "        y2 = round(y_center+h/2)\n",
        "\n",
        "\n",
        "        plot_one_box([x1,y1,x2,y2], image,  label=name_of_class, line_thickness=None)\n",
        "        cv2.imwrite(r\"/content/YOLOv6/save_images_test/147.jpg\",image)\n",
        "\n",
        "        box_number += 1\n",
        "        return box_number\n",
        "draw_box_on_image(image_name, classes_path,  label_folder, raw_images_folder, save_images_folder )\n",
        "\n",
        "\n",
        "\n"
      ]
    },
    {
      "cell_type": "code",
      "execution_count": null,
      "metadata": {
        "colab": {
          "base_uri": "https://localhost:8080/"
        },
        "outputId": "400e7b8d-d008-4454-a3a8-38386492adf0",
        "id": "b6H7V9hBNQSt"
      },
      "outputs": [
        {
          "output_type": "stream",
          "name": "stdout",
          "text": [
            "./runs/inference/exp/148_jpg.rf.a99ca4b0aee2e0cc44ecf1e1b26e9ea5.jpg\n"
          ]
        },
        {
          "output_type": "execute_result",
          "data": {
            "text/plain": [
              "1"
            ]
          },
          "metadata": {},
          "execution_count": 135
        }
      ],
      "source": [
        "\n",
        "import cv2\n",
        "import os\n",
        "import random\n",
        "\n",
        "\n",
        "\n",
        "label_folder = r'/content/YOLOv6/Normal-Insulator,-Defect-Insulator,-Defects--1-2/labels'\n",
        "\n",
        "raw_images_folder = r'/content/YOLOv6/Normal-Insulator,-Defect-Insulator,-Defects--1-2/images'\n",
        "\n",
        "save_images_folder = r'/content/YOLOv6/save_images_valid'\n",
        "\n",
        "name_list_path = r'/content/YOLOv6/Normal-Insulator,-Defect-Insulator,-Defects--1-2/labels/valid'\n",
        "\n",
        "classes_path = r'/content/YOLOv6/Normal-Insulator,-Defect-Insulator,-Defects--1-2'\n",
        "image_name=r'./runs/inference/exp/148_jpg.rf.a99ca4b0aee2e0cc44ecf1e1b26e9ea5.jpg'\n",
        "label=name_of_class='defective insulator'\n",
        "def plot_one_box(x, image, color=None, label=name_of_class, line_thickness=None):\n",
        "\n",
        "    tl = line_thickness or round(0.002 * (image.shape[0] + image.shape[1]) / 2) + 1  # line/font thickness\n",
        "    color = color or [random.randint(0, 255) for _ in range(3)]\n",
        "    c1, c2 = (int(x[0]), int(x[1])), (int(x[2]), int(x[3]))\n",
        "    cv2.rectangle(image, c1, c2, color, thickness=tl, lineType=cv2.LINE_AA)\n",
        "    if label:\n",
        "        tf = max(tl - 1, 1)  # font thickness\n",
        "        t_size = cv2.getTextSize(str(label), 0, fontScale=tl / 3, thickness=tf)[0]\n",
        "        c2 = c1[0] + t_size[0], c1[1] - t_size[1] - 3\n",
        "        cv2.rectangle(image, c1, c2, color, -1, cv2.LINE_AA)  # filled\n",
        "        cv2.putText(image,str(label), (c1[0], c1[1] - 2), 0, tl / 3, [225, 255, 255], thickness=tf, lineType=cv2.LINE_AA)\n",
        "\n",
        "\n",
        "def draw_box_on_image(image_name, classes_path, label_folder, raw_images_folder, save_images_folder ):\n",
        "\n",
        "    txt_path  = r\"/content/YOLOv6/Normal-Insulator,-Defect-Insulator,-Defects--1-2/labels/test/148_jpg.rf.a99ca4b0aee2e0cc44ecf1e1b26e9ea5.txt\"\n",
        "    print(image_name)\n",
        "    if image_name == '.DS_Store':\n",
        "        return 0\n",
        "\n",
        "    image_path = r\"./runs/inference/exp/148_jpg.rf.a99ca4b0aee2e0cc44ecf1e1b26e9ea5.jpg\"\n",
        "    save_file_path = r\"/content/YOLOv6/save_images_test/148\"\n",
        "\n",
        "    source_file = open(txt_path) if os.path.exists(txt_path) else []\n",
        "    image = cv2.imread(image_path)\n",
        "    try:\n",
        "        height, width, channels = image.shape\n",
        "    except:\n",
        "        print('no shape info.')\n",
        "        return 0\n",
        "\n",
        "    box_number = 0\n",
        "    for line in source_file:\n",
        "        staff = line.split()\n",
        "        class_idx = int(staff[0])\n",
        "\n",
        "        x_center, y_center, w, h = float(staff[1])*width, float(staff[2])*height, float(staff[3])*width, float(staff[4])*height\n",
        "        x1 = round(x_center-w/2)\n",
        "        y1 = round(y_center-h/2)\n",
        "        x2 = round(x_center+w/2)\n",
        "        y2 = round(y_center+h/2)\n",
        "\n",
        "\n",
        "        plot_one_box([x1,y1,x2,y2], image,  label=name_of_class, line_thickness=None)\n",
        "        cv2.imwrite(r\"/content/YOLOv6/save_images_test/148.jpg\",image)\n",
        "\n",
        "        box_number += 1\n",
        "        return box_number\n",
        "draw_box_on_image(image_name, classes_path,  label_folder, raw_images_folder, save_images_folder )\n",
        "\n",
        "\n",
        "\n"
      ]
    },
    {
      "cell_type": "code",
      "execution_count": null,
      "metadata": {
        "colab": {
          "base_uri": "https://localhost:8080/"
        },
        "outputId": "b65f2695-fa45-4ef0-b281-00b3b1b76cef",
        "id": "dzppDG1VNQbh"
      },
      "outputs": [
        {
          "output_type": "stream",
          "name": "stdout",
          "text": [
            "./runs/inference/exp/1496_jpg.rf.909e713f6730112dd870aaead5ee4df7.jpg\n"
          ]
        },
        {
          "output_type": "execute_result",
          "data": {
            "text/plain": [
              "1"
            ]
          },
          "metadata": {},
          "execution_count": 136
        }
      ],
      "source": [
        "\n",
        "import cv2\n",
        "import os\n",
        "import random\n",
        "\n",
        "\n",
        "\n",
        "label_folder = r'/content/YOLOv6/Normal-Insulator,-Defect-Insulator,-Defects--1-2/labels'\n",
        "\n",
        "raw_images_folder = r'/content/YOLOv6/Normal-Insulator,-Defect-Insulator,-Defects--1-2/images'\n",
        "\n",
        "save_images_folder = r'/content/YOLOv6/save_images_valid'\n",
        "\n",
        "name_list_path = r'/content/YOLOv6/Normal-Insulator,-Defect-Insulator,-Defects--1-2/labels/valid'\n",
        "\n",
        "classes_path = r'/content/YOLOv6/Normal-Insulator,-Defect-Insulator,-Defects--1-2'\n",
        "image_name=r'./runs/inference/exp/1496_jpg.rf.909e713f6730112dd870aaead5ee4df7.jpg'\n",
        "label=name_of_class='normal insulator'\n",
        "def plot_one_box(x, image, color=None, label=name_of_class, line_thickness=None):\n",
        "\n",
        "    tl = line_thickness or round(0.002 * (image.shape[0] + image.shape[1]) / 2) + 1  # line/font thickness\n",
        "    color = color or [random.randint(0, 255) for _ in range(3)]\n",
        "    c1, c2 = (int(x[0]), int(x[1])), (int(x[2]), int(x[3]))\n",
        "    cv2.rectangle(image, c1, c2, color, thickness=tl, lineType=cv2.LINE_AA)\n",
        "    if label:\n",
        "        tf = max(tl - 1, 1)  # font thickness\n",
        "        t_size = cv2.getTextSize(str(label), 0, fontScale=tl / 3, thickness=tf)[0]\n",
        "        c2 = c1[0] + t_size[0], c1[1] - t_size[1] - 3\n",
        "        cv2.rectangle(image, c1, c2, color, -1, cv2.LINE_AA)  # filled\n",
        "        cv2.putText(image,str(label), (c1[0], c1[1] - 2), 0, tl / 3, [225, 255, 255], thickness=tf, lineType=cv2.LINE_AA)\n",
        "\n",
        "\n",
        "def draw_box_on_image(image_name, classes_path, label_folder, raw_images_folder, save_images_folder ):\n",
        "\n",
        "    txt_path  = r\"/content/YOLOv6/Normal-Insulator,-Defect-Insulator,-Defects--1-2/labels/test/1496_jpg.rf.909e713f6730112dd870aaead5ee4df7.txt\"\n",
        "    print(image_name)\n",
        "    if image_name == '.DS_Store':\n",
        "        return 0\n",
        "\n",
        "    image_path = r\"./runs/inference/exp/1496_jpg.rf.909e713f6730112dd870aaead5ee4df7.jpg\"\n",
        "    save_file_path = r\"/content/YOLOv6/save_images_test/1496\"\n",
        "\n",
        "    source_file = open(txt_path) if os.path.exists(txt_path) else []\n",
        "    image = cv2.imread(image_path)\n",
        "    try:\n",
        "        height, width, channels = image.shape\n",
        "    except:\n",
        "        print('no shape info.')\n",
        "        return 0\n",
        "\n",
        "    box_number = 0\n",
        "    for line in source_file:\n",
        "        staff = line.split()\n",
        "        class_idx = int(staff[0])\n",
        "\n",
        "        x_center, y_center, w, h = float(staff[1])*width, float(staff[2])*height, float(staff[3])*width, float(staff[4])*height\n",
        "        x1 = round(x_center-w/2)\n",
        "        y1 = round(y_center-h/2)\n",
        "        x2 = round(x_center+w/2)\n",
        "        y2 = round(y_center+h/2)\n",
        "\n",
        "\n",
        "        plot_one_box([x1,y1,x2,y2], image,  label=name_of_class, line_thickness=None)\n",
        "        cv2.imwrite(r\"/content/YOLOv6/save_images_test/1496.jpg\",image)\n",
        "\n",
        "        box_number += 1\n",
        "        return box_number\n",
        "draw_box_on_image(image_name, classes_path,  label_folder, raw_images_folder, save_images_folder )\n",
        "\n",
        "\n",
        "\n"
      ]
    },
    {
      "cell_type": "code",
      "execution_count": null,
      "metadata": {
        "colab": {
          "base_uri": "https://localhost:8080/"
        },
        "outputId": "2e4a5c6d-5355-4c19-d462-8e1018101cf2",
        "id": "FUxKZnXjNQmn"
      },
      "outputs": [
        {
          "output_type": "stream",
          "name": "stdout",
          "text": [
            "./runs/inference/exp/152_jpg.rf.0b356f1d2dc07dba65e7e931f678f435.jpg\n"
          ]
        },
        {
          "output_type": "execute_result",
          "data": {
            "text/plain": [
              "1"
            ]
          },
          "metadata": {},
          "execution_count": 137
        }
      ],
      "source": [
        "\n",
        "import cv2\n",
        "import os\n",
        "import random\n",
        "\n",
        "\n",
        "\n",
        "label_folder = r'/content/YOLOv6/Normal-Insulator,-Defect-Insulator,-Defects--1-2/labels'\n",
        "\n",
        "raw_images_folder = r'/content/YOLOv6/Normal-Insulator,-Defect-Insulator,-Defects--1-2/images'\n",
        "\n",
        "save_images_folder = r'/content/YOLOv6/save_images_valid'\n",
        "\n",
        "name_list_path = r'/content/YOLOv6/Normal-Insulator,-Defect-Insulator,-Defects--1-2/labels/valid'\n",
        "\n",
        "classes_path = r'/content/YOLOv6/Normal-Insulator,-Defect-Insulator,-Defects--1-2'\n",
        "image_name=r'./runs/inference/exp/152_jpg.rf.0b356f1d2dc07dba65e7e931f678f435.jpg'\n",
        "label=name_of_class='defective insulator'\n",
        "def plot_one_box(x, image, color=None, label=name_of_class, line_thickness=None):\n",
        "\n",
        "    tl = line_thickness or round(0.002 * (image.shape[0] + image.shape[1]) / 2) + 1  # line/font thickness\n",
        "    color = color or [random.randint(0, 255) for _ in range(3)]\n",
        "    c1, c2 = (int(x[0]), int(x[1])), (int(x[2]), int(x[3]))\n",
        "    cv2.rectangle(image, c1, c2, color, thickness=tl, lineType=cv2.LINE_AA)\n",
        "    if label:\n",
        "        tf = max(tl - 1, 1)  # font thickness\n",
        "        t_size = cv2.getTextSize(str(label), 0, fontScale=tl / 3, thickness=tf)[0]\n",
        "        c2 = c1[0] + t_size[0], c1[1] - t_size[1] - 3\n",
        "        cv2.rectangle(image, c1, c2, color, -1, cv2.LINE_AA)  # filled\n",
        "        cv2.putText(image,str(label), (c1[0], c1[1] - 2), 0, tl / 3, [225, 255, 255], thickness=tf, lineType=cv2.LINE_AA)\n",
        "\n",
        "\n",
        "def draw_box_on_image(image_name, classes_path, label_folder, raw_images_folder, save_images_folder ):\n",
        "\n",
        "    txt_path  = r\"/content/YOLOv6/Normal-Insulator,-Defect-Insulator,-Defects--1-2/labels/test/152_jpg.rf.0b356f1d2dc07dba65e7e931f678f435.txt\"\n",
        "    print(image_name)\n",
        "    if image_name == '.DS_Store':\n",
        "        return 0\n",
        "\n",
        "    image_path = r\"./runs/inference/exp/152_jpg.rf.0b356f1d2dc07dba65e7e931f678f435.jpg\"\n",
        "    save_file_path = r\"/content/YOLOv6/save_images_test/152\"\n",
        "\n",
        "    source_file = open(txt_path) if os.path.exists(txt_path) else []\n",
        "    image = cv2.imread(image_path)\n",
        "    try:\n",
        "        height, width, channels = image.shape\n",
        "    except:\n",
        "        print('no shape info.')\n",
        "        return 0\n",
        "\n",
        "    box_number = 0\n",
        "    for line in source_file:\n",
        "        staff = line.split()\n",
        "        class_idx = int(staff[0])\n",
        "\n",
        "        x_center, y_center, w, h = float(staff[1])*width, float(staff[2])*height, float(staff[3])*width, float(staff[4])*height\n",
        "        x1 = round(x_center-w/2)\n",
        "        y1 = round(y_center-h/2)\n",
        "        x2 = round(x_center+w/2)\n",
        "        y2 = round(y_center+h/2)\n",
        "\n",
        "\n",
        "        plot_one_box([x1,y1,x2,y2], image,  label=name_of_class, line_thickness=None)\n",
        "        cv2.imwrite(r\"/content/YOLOv6/save_images_test/152.jpg\",image)\n",
        "\n",
        "        box_number += 1\n",
        "        return box_number\n",
        "draw_box_on_image(image_name, classes_path,  label_folder, raw_images_folder, save_images_folder )\n",
        "\n",
        "\n",
        "\n"
      ]
    },
    {
      "cell_type": "code",
      "execution_count": null,
      "metadata": {
        "colab": {
          "base_uri": "https://localhost:8080/"
        },
        "outputId": "dfacfdc9-6b85-44e8-f7a5-b9dbafaa2af4",
        "id": "mY_hzBQbNQzO"
      },
      "outputs": [
        {
          "output_type": "stream",
          "name": "stdout",
          "text": [
            "./runs/inference/exp/160_jpg.rf.8bf87da25c142d381fd71f6727e80c90.jpg\n"
          ]
        },
        {
          "output_type": "execute_result",
          "data": {
            "text/plain": [
              "1"
            ]
          },
          "metadata": {},
          "execution_count": 139
        }
      ],
      "source": [
        "\n",
        "import cv2\n",
        "import os\n",
        "import random\n",
        "\n",
        "\n",
        "\n",
        "label_folder = r'/content/YOLOv6/Normal-Insulator,-Defect-Insulator,-Defects--1-2/labels'\n",
        "\n",
        "raw_images_folder = r'/content/YOLOv6/Normal-Insulator,-Defect-Insulator,-Defects--1-2/images'\n",
        "\n",
        "save_images_folder = r'/content/YOLOv6/save_images_valid'\n",
        "\n",
        "name_list_path = r'/content/YOLOv6/Normal-Insulator,-Defect-Insulator,-Defects--1-2/labels/valid'\n",
        "\n",
        "classes_path = r'/content/YOLOv6/Normal-Insulator,-Defect-Insulator,-Defects--1-2'\n",
        "image_name=r'./runs/inference/exp/160_jpg.rf.8bf87da25c142d381fd71f6727e80c90.jpg'\n",
        "label=name_of_class='defect'\n",
        "def plot_one_box(x, image, color=None, label=name_of_class, line_thickness=None):\n",
        "\n",
        "    tl = line_thickness or round(0.002 * (image.shape[0] + image.shape[1]) / 2) + 1  # line/font thickness\n",
        "    color = color or [random.randint(0, 255) for _ in range(3)]\n",
        "    c1, c2 = (int(x[0]), int(x[1])), (int(x[2]), int(x[3]))\n",
        "    cv2.rectangle(image, c1, c2, color, thickness=tl, lineType=cv2.LINE_AA)\n",
        "    if label:\n",
        "        tf = max(tl - 1, 1)  # font thickness\n",
        "        t_size = cv2.getTextSize(str(label), 0, fontScale=tl / 3, thickness=tf)[0]\n",
        "        c2 = c1[0] + t_size[0], c1[1] - t_size[1] - 3\n",
        "        cv2.rectangle(image, c1, c2, color, -1, cv2.LINE_AA)  # filled\n",
        "        cv2.putText(image,str(label), (c1[0], c1[1] - 2), 0, tl / 3, [225, 255, 255], thickness=tf, lineType=cv2.LINE_AA)\n",
        "\n",
        "\n",
        "def draw_box_on_image(image_name, classes_path, label_folder, raw_images_folder, save_images_folder ):\n",
        "\n",
        "    txt_path  = r\"/content/YOLOv6/Normal-Insulator,-Defect-Insulator,-Defects--1-2/labels/test/160_jpg.rf.8bf87da25c142d381fd71f6727e80c90.txt\"\n",
        "    print(image_name)\n",
        "    if image_name == '.DS_Store':\n",
        "        return 0\n",
        "\n",
        "    image_path = r\"./runs/inference/exp/160_jpg.rf.8bf87da25c142d381fd71f6727e80c90.jpg\"\n",
        "    save_file_path = r\"/content/YOLOv6/save_images_test/160\"\n",
        "\n",
        "    source_file = open(txt_path) if os.path.exists(txt_path) else []\n",
        "    image = cv2.imread(image_path)\n",
        "    try:\n",
        "        height, width, channels = image.shape\n",
        "    except:\n",
        "        print('no shape info.')\n",
        "        return 0\n",
        "\n",
        "    box_number = 0\n",
        "    for line in source_file:\n",
        "        staff = line.split()\n",
        "        class_idx = int(staff[0])\n",
        "\n",
        "        x_center, y_center, w, h = float(staff[1])*width, float(staff[2])*height, float(staff[3])*width, float(staff[4])*height\n",
        "        x1 = round(x_center-w/2)\n",
        "        y1 = round(y_center-h/2)\n",
        "        x2 = round(x_center+w/2)\n",
        "        y2 = round(y_center+h/2)\n",
        "\n",
        "\n",
        "        plot_one_box([x1,y1,x2,y2], image,  label=name_of_class, line_thickness=None)\n",
        "        cv2.imwrite(r\"/content/YOLOv6/save_images_test/160.jpg\",image)\n",
        "\n",
        "        box_number += 1\n",
        "        return box_number\n",
        "draw_box_on_image(image_name, classes_path,  label_folder, raw_images_folder, save_images_folder )\n",
        "\n",
        "\n",
        "\n"
      ]
    },
    {
      "cell_type": "code",
      "source": [
        "!python tools/infer.py  --yaml {dataset.location}/data.yaml  --weights runs/train/exp/weights/best_ckpt.pt   --source {dataset.location}/images/test/164_jpg.rf.d2cf1dcbdd4dc87152a5d24dcfc6aabc.jpg          --device 0"
      ],
      "metadata": {
        "colab": {
          "base_uri": "https://localhost:8080/"
        },
        "id": "nM9qupUylPZc",
        "outputId": "026e54db-5be9-4aaf-ea08-0cc97c65aa60"
      },
      "execution_count": null,
      "outputs": [
        {
          "output_type": "stream",
          "name": "stdout",
          "text": [
            "Namespace(agnostic_nms=False, classes=None, conf_thres=0.4, device='0', half=False, hide_conf=False, hide_labels=False, img_size=[640, 640], iou_thres=0.45, max_det=1000, name='exp', not_save_img=False, project='runs/inference', save_dir=None, save_txt=False, source='/content/YOLOv6/Normal-Insulator,-Defect-Insulator,-Defects--1-2/images/test/164_jpg.rf.d2cf1dcbdd4dc87152a5d24dcfc6aabc.jpg', view_img=False, webcam=False, webcam_addr='0', weights='runs/train/exp/weights/best_ckpt.pt', yaml='/content/YOLOv6/Normal-Insulator,-Defect-Insulator,-Defects--1-2/data.yaml')\n",
            "Loading checkpoint from runs/train/exp/weights/best_ckpt.pt\n",
            "\n",
            "Fusing model...\n",
            "Switch model to deploy modality.\n",
            "/usr/local/lib/python3.8/dist-packages/torch/functional.py:504: UserWarning: torch.meshgrid: in an upcoming release, it will be required to pass the indexing argument. (Triggered internally at ../aten/src/ATen/native/TensorShape.cpp:3190.)\n",
            "  return _VF.meshgrid(tensors, **kwargs)  # type: ignore[attr-defined]\n",
            "100% 1/1 [00:00<00:00,  8.36it/s]\n",
            "Results saved to runs/inference/exp\n"
          ]
        }
      ]
    },
    {
      "cell_type": "code",
      "source": [
        "!python tools/infer.py  --yaml {dataset.location}/data.yaml  --weights runs/train/exp/weights/best_ckpt.pt   --source {dataset.location}/images/test/168_jpg.rf.c47b856150db06fb286336682752e4a1.jpg          --device 0"
      ],
      "metadata": {
        "colab": {
          "base_uri": "https://localhost:8080/"
        },
        "id": "lgMO6M2slPf7",
        "outputId": "a90a9df9-9955-4e72-c199-76e2a549e71a"
      },
      "execution_count": null,
      "outputs": [
        {
          "output_type": "stream",
          "name": "stdout",
          "text": [
            "Namespace(agnostic_nms=False, classes=None, conf_thres=0.4, device='0', half=False, hide_conf=False, hide_labels=False, img_size=[640, 640], iou_thres=0.45, max_det=1000, name='exp', not_save_img=False, project='runs/inference', save_dir=None, save_txt=False, source='/content/YOLOv6/Normal-Insulator,-Defect-Insulator,-Defects--1-2/images/test/168_jpg.rf.c47b856150db06fb286336682752e4a1.jpg', view_img=False, webcam=False, webcam_addr='0', weights='runs/train/exp/weights/best_ckpt.pt', yaml='/content/YOLOv6/Normal-Insulator,-Defect-Insulator,-Defects--1-2/data.yaml')\n",
            "Save directory already existed\n",
            "Loading checkpoint from runs/train/exp/weights/best_ckpt.pt\n",
            "\n",
            "Fusing model...\n",
            "Switch model to deploy modality.\n",
            "/usr/local/lib/python3.8/dist-packages/torch/functional.py:504: UserWarning: torch.meshgrid: in an upcoming release, it will be required to pass the indexing argument. (Triggered internally at ../aten/src/ATen/native/TensorShape.cpp:3190.)\n",
            "  return _VF.meshgrid(tensors, **kwargs)  # type: ignore[attr-defined]\n",
            "100% 1/1 [00:00<00:00, 19.20it/s]\n",
            "Results saved to runs/inference/exp\n"
          ]
        }
      ]
    },
    {
      "cell_type": "code",
      "source": [
        "!python tools/infer.py  --yaml {dataset.location}/data.yaml  --weights runs/train/exp/weights/best_ckpt.pt   --source {dataset.location}/images/test/1709_jpg.rf.49d1e8f0fcab073669079c7270106c25.jpg          --device 0"
      ],
      "metadata": {
        "colab": {
          "base_uri": "https://localhost:8080/"
        },
        "id": "uF3iZhi8lPkN",
        "outputId": "5cb668d6-20dc-4054-ed49-4e347d3a60f7"
      },
      "execution_count": null,
      "outputs": [
        {
          "output_type": "stream",
          "name": "stdout",
          "text": [
            "Namespace(agnostic_nms=False, classes=None, conf_thres=0.4, device='0', half=False, hide_conf=False, hide_labels=False, img_size=[640, 640], iou_thres=0.45, max_det=1000, name='exp', not_save_img=False, project='runs/inference', save_dir=None, save_txt=False, source='/content/YOLOv6/Normal-Insulator,-Defect-Insulator,-Defects--1-2/images/test/1709_jpg.rf.49d1e8f0fcab073669079c7270106c25.jpg', view_img=False, webcam=False, webcam_addr='0', weights='runs/train/exp/weights/best_ckpt.pt', yaml='/content/YOLOv6/Normal-Insulator,-Defect-Insulator,-Defects--1-2/data.yaml')\n",
            "Save directory already existed\n",
            "Loading checkpoint from runs/train/exp/weights/best_ckpt.pt\n",
            "\n",
            "Fusing model...\n",
            "Switch model to deploy modality.\n",
            "/usr/local/lib/python3.8/dist-packages/torch/functional.py:504: UserWarning: torch.meshgrid: in an upcoming release, it will be required to pass the indexing argument. (Triggered internally at ../aten/src/ATen/native/TensorShape.cpp:3190.)\n",
            "  return _VF.meshgrid(tensors, **kwargs)  # type: ignore[attr-defined]\n",
            "100% 1/1 [00:00<00:00, 18.99it/s]\n",
            "Results saved to runs/inference/exp\n"
          ]
        }
      ]
    },
    {
      "cell_type": "code",
      "source": [
        "!python tools/infer.py  --yaml {dataset.location}/data.yaml  --weights runs/train/exp/weights/best_ckpt.pt   --source {dataset.location}/images/test/174_jpg.rf.0fb68f81b27c8384a901e0fc69ad7d68.jpg          --device 0"
      ],
      "metadata": {
        "colab": {
          "base_uri": "https://localhost:8080/"
        },
        "id": "CzMZcbKKlPoc",
        "outputId": "8dbe793c-792e-4ff5-f97c-1e3f4a70d48a"
      },
      "execution_count": null,
      "outputs": [
        {
          "output_type": "stream",
          "name": "stdout",
          "text": [
            "Namespace(agnostic_nms=False, classes=None, conf_thres=0.4, device='0', half=False, hide_conf=False, hide_labels=False, img_size=[640, 640], iou_thres=0.45, max_det=1000, name='exp', not_save_img=False, project='runs/inference', save_dir=None, save_txt=False, source='/content/YOLOv6/Normal-Insulator,-Defect-Insulator,-Defects--1-2/images/test/174_jpg.rf.0fb68f81b27c8384a901e0fc69ad7d68.jpg', view_img=False, webcam=False, webcam_addr='0', weights='runs/train/exp/weights/best_ckpt.pt', yaml='/content/YOLOv6/Normal-Insulator,-Defect-Insulator,-Defects--1-2/data.yaml')\n",
            "Save directory already existed\n",
            "Loading checkpoint from runs/train/exp/weights/best_ckpt.pt\n",
            "\n",
            "Fusing model...\n",
            "Switch model to deploy modality.\n",
            "/usr/local/lib/python3.8/dist-packages/torch/functional.py:504: UserWarning: torch.meshgrid: in an upcoming release, it will be required to pass the indexing argument. (Triggered internally at ../aten/src/ATen/native/TensorShape.cpp:3190.)\n",
            "  return _VF.meshgrid(tensors, **kwargs)  # type: ignore[attr-defined]\n",
            "100% 1/1 [00:00<00:00, 19.60it/s]\n",
            "Results saved to runs/inference/exp\n"
          ]
        }
      ]
    },
    {
      "cell_type": "code",
      "source": [
        "!python tools/infer.py  --yaml {dataset.location}/data.yaml  --weights runs/train/exp/weights/best_ckpt.pt   --source {dataset.location}/images/test/178_jpg.rf.baa04221008383edf6edf415da6c1f66.jpg          --device 0"
      ],
      "metadata": {
        "colab": {
          "base_uri": "https://localhost:8080/"
        },
        "id": "gDyugK8ElPsY",
        "outputId": "26cc05e6-c2e6-4d16-ea79-b666fff98cf7"
      },
      "execution_count": null,
      "outputs": [
        {
          "output_type": "stream",
          "name": "stdout",
          "text": [
            "Namespace(agnostic_nms=False, classes=None, conf_thres=0.4, device='0', half=False, hide_conf=False, hide_labels=False, img_size=[640, 640], iou_thres=0.45, max_det=1000, name='exp', not_save_img=False, project='runs/inference', save_dir=None, save_txt=False, source='/content/YOLOv6/Normal-Insulator,-Defect-Insulator,-Defects--1-2/images/test/178_jpg.rf.baa04221008383edf6edf415da6c1f66.jpg', view_img=False, webcam=False, webcam_addr='0', weights='runs/train/exp/weights/best_ckpt.pt', yaml='/content/YOLOv6/Normal-Insulator,-Defect-Insulator,-Defects--1-2/data.yaml')\n",
            "Save directory already existed\n",
            "Loading checkpoint from runs/train/exp/weights/best_ckpt.pt\n",
            "\n",
            "Fusing model...\n",
            "Switch model to deploy modality.\n",
            "/usr/local/lib/python3.8/dist-packages/torch/functional.py:504: UserWarning: torch.meshgrid: in an upcoming release, it will be required to pass the indexing argument. (Triggered internally at ../aten/src/ATen/native/TensorShape.cpp:3190.)\n",
            "  return _VF.meshgrid(tensors, **kwargs)  # type: ignore[attr-defined]\n",
            "100% 1/1 [00:00<00:00, 20.26it/s]\n",
            "Results saved to runs/inference/exp\n"
          ]
        }
      ]
    },
    {
      "cell_type": "code",
      "source": [
        "!python tools/infer.py  --yaml {dataset.location}/data.yaml  --weights runs/train/exp/weights/best_ckpt.pt   --source {dataset.location}/images/test/1797_jpg.rf.2b6f9754e1875e2d6eeedba005345280.jpg          --device 0"
      ],
      "metadata": {
        "colab": {
          "base_uri": "https://localhost:8080/"
        },
        "id": "lNSg3rlPlPv7",
        "outputId": "6202859c-ccb2-49f0-ebcc-22ec2ade537c"
      },
      "execution_count": null,
      "outputs": [
        {
          "output_type": "stream",
          "name": "stdout",
          "text": [
            "Namespace(agnostic_nms=False, classes=None, conf_thres=0.4, device='0', half=False, hide_conf=False, hide_labels=False, img_size=[640, 640], iou_thres=0.45, max_det=1000, name='exp', not_save_img=False, project='runs/inference', save_dir=None, save_txt=False, source='/content/YOLOv6/Normal-Insulator,-Defect-Insulator,-Defects--1-2/images/test/1797_jpg.rf.2b6f9754e1875e2d6eeedba005345280.jpg', view_img=False, webcam=False, webcam_addr='0', weights='runs/train/exp/weights/best_ckpt.pt', yaml='/content/YOLOv6/Normal-Insulator,-Defect-Insulator,-Defects--1-2/data.yaml')\n",
            "Save directory already existed\n",
            "Loading checkpoint from runs/train/exp/weights/best_ckpt.pt\n",
            "\n",
            "Fusing model...\n",
            "Switch model to deploy modality.\n",
            "/usr/local/lib/python3.8/dist-packages/torch/functional.py:504: UserWarning: torch.meshgrid: in an upcoming release, it will be required to pass the indexing argument. (Triggered internally at ../aten/src/ATen/native/TensorShape.cpp:3190.)\n",
            "  return _VF.meshgrid(tensors, **kwargs)  # type: ignore[attr-defined]\n",
            "100% 1/1 [00:00<00:00, 18.94it/s]\n",
            "Results saved to runs/inference/exp\n"
          ]
        }
      ]
    },
    {
      "cell_type": "code",
      "source": [
        "!python tools/infer.py  --yaml {dataset.location}/data.yaml  --weights runs/train/exp/weights/best_ckpt.pt   --source {dataset.location}/images/test/174_jpg.rf.0fb68f81b27c8384a901e0fc69ad7d68.jpg          --device 0"
      ],
      "metadata": {
        "colab": {
          "base_uri": "https://localhost:8080/"
        },
        "id": "PUyV0vU7lP0E",
        "outputId": "49e0c1e4-cc68-447c-a462-1876c20e4bc4"
      },
      "execution_count": null,
      "outputs": [
        {
          "output_type": "stream",
          "name": "stdout",
          "text": [
            "Namespace(agnostic_nms=False, classes=None, conf_thres=0.4, device='0', half=False, hide_conf=False, hide_labels=False, img_size=[640, 640], iou_thres=0.45, max_det=1000, name='exp', not_save_img=False, project='runs/inference', save_dir=None, save_txt=False, source='/content/YOLOv6/Normal-Insulator,-Defect-Insulator,-Defects--1-2/images/test/174_jpg.rf.0fb68f81b27c8384a901e0fc69ad7d68.jpg', view_img=False, webcam=False, webcam_addr='0', weights='runs/train/exp/weights/best_ckpt.pt', yaml='/content/YOLOv6/Normal-Insulator,-Defect-Insulator,-Defects--1-2/data.yaml')\n",
            "Save directory already existed\n",
            "Loading checkpoint from runs/train/exp/weights/best_ckpt.pt\n",
            "\n",
            "Fusing model...\n",
            "Switch model to deploy modality.\n",
            "/usr/local/lib/python3.8/dist-packages/torch/functional.py:504: UserWarning: torch.meshgrid: in an upcoming release, it will be required to pass the indexing argument. (Triggered internally at ../aten/src/ATen/native/TensorShape.cpp:3190.)\n",
            "  return _VF.meshgrid(tensors, **kwargs)  # type: ignore[attr-defined]\n",
            "100% 1/1 [00:00<00:00, 18.88it/s]\n",
            "Results saved to runs/inference/exp\n"
          ]
        }
      ]
    },
    {
      "cell_type": "code",
      "source": [
        "!python tools/infer.py  --yaml {dataset.location}/data.yaml  --weights runs/train/exp/weights/best_ckpt.pt   --source {dataset.location}/images/test/178_jpg.rf.baa04221008383edf6edf415da6c1f66.jpg          --device 0"
      ],
      "metadata": {
        "colab": {
          "base_uri": "https://localhost:8080/"
        },
        "id": "f9iKcOlFlP4P",
        "outputId": "51dbce7c-c305-4779-8722-1ae640650ad2"
      },
      "execution_count": null,
      "outputs": [
        {
          "output_type": "stream",
          "name": "stdout",
          "text": [
            "Namespace(agnostic_nms=False, classes=None, conf_thres=0.4, device='0', half=False, hide_conf=False, hide_labels=False, img_size=[640, 640], iou_thres=0.45, max_det=1000, name='exp', not_save_img=False, project='runs/inference', save_dir=None, save_txt=False, source='/content/YOLOv6/Normal-Insulator,-Defect-Insulator,-Defects--1-2/images/test/178_jpg.rf.baa04221008383edf6edf415da6c1f66.jpg', view_img=False, webcam=False, webcam_addr='0', weights='runs/train/exp/weights/best_ckpt.pt', yaml='/content/YOLOv6/Normal-Insulator,-Defect-Insulator,-Defects--1-2/data.yaml')\n",
            "Save directory already existed\n",
            "Loading checkpoint from runs/train/exp/weights/best_ckpt.pt\n",
            "\n",
            "Fusing model...\n",
            "Switch model to deploy modality.\n",
            "/usr/local/lib/python3.8/dist-packages/torch/functional.py:504: UserWarning: torch.meshgrid: in an upcoming release, it will be required to pass the indexing argument. (Triggered internally at ../aten/src/ATen/native/TensorShape.cpp:3190.)\n",
            "  return _VF.meshgrid(tensors, **kwargs)  # type: ignore[attr-defined]\n",
            "100% 1/1 [00:00<00:00, 25.60it/s]\n",
            "Results saved to runs/inference/exp\n"
          ]
        }
      ]
    },
    {
      "cell_type": "code",
      "source": [
        "!python tools/infer.py  --yaml {dataset.location}/data.yaml  --weights runs/train/exp/weights/best_ckpt.pt   --source {dataset.location}/images/test/1797_jpg.rf.2b6f9754e1875e2d6eeedba005345280.jpg          --device 0"
      ],
      "metadata": {
        "colab": {
          "base_uri": "https://localhost:8080/"
        },
        "id": "wLx5r1x-lP75",
        "outputId": "80d0cebf-705b-4e3a-b7b4-b47fee474311"
      },
      "execution_count": null,
      "outputs": [
        {
          "output_type": "stream",
          "name": "stdout",
          "text": [
            "Namespace(agnostic_nms=False, classes=None, conf_thres=0.4, device='0', half=False, hide_conf=False, hide_labels=False, img_size=[640, 640], iou_thres=0.45, max_det=1000, name='exp', not_save_img=False, project='runs/inference', save_dir=None, save_txt=False, source='/content/YOLOv6/Normal-Insulator,-Defect-Insulator,-Defects--1-2/images/test/1797_jpg.rf.2b6f9754e1875e2d6eeedba005345280.jpg', view_img=False, webcam=False, webcam_addr='0', weights='runs/train/exp/weights/best_ckpt.pt', yaml='/content/YOLOv6/Normal-Insulator,-Defect-Insulator,-Defects--1-2/data.yaml')\n",
            "Save directory already existed\n",
            "Loading checkpoint from runs/train/exp/weights/best_ckpt.pt\n",
            "\n",
            "Fusing model...\n",
            "Switch model to deploy modality.\n",
            "/usr/local/lib/python3.8/dist-packages/torch/functional.py:504: UserWarning: torch.meshgrid: in an upcoming release, it will be required to pass the indexing argument. (Triggered internally at ../aten/src/ATen/native/TensorShape.cpp:3190.)\n",
            "  return _VF.meshgrid(tensors, **kwargs)  # type: ignore[attr-defined]\n",
            "100% 1/1 [00:00<00:00, 19.15it/s]\n",
            "Results saved to runs/inference/exp\n"
          ]
        }
      ]
    },
    {
      "cell_type": "code",
      "source": [
        "!python tools/infer.py  --yaml {dataset.location}/data.yaml  --weights runs/train/exp/weights/best_ckpt.pt   --source {dataset.location}/images/test/179_jpg.rf.f29f24923a864fbf71d4bb14698def96.jpg          --device 0"
      ],
      "metadata": {
        "colab": {
          "base_uri": "https://localhost:8080/"
        },
        "id": "mllyPD72lQAD",
        "outputId": "1f1c2716-a4c1-4962-9446-d9ca2d18cc7a"
      },
      "execution_count": null,
      "outputs": [
        {
          "output_type": "stream",
          "name": "stdout",
          "text": [
            "Namespace(agnostic_nms=False, classes=None, conf_thres=0.4, device='0', half=False, hide_conf=False, hide_labels=False, img_size=[640, 640], iou_thres=0.45, max_det=1000, name='exp', not_save_img=False, project='runs/inference', save_dir=None, save_txt=False, source='/content/YOLOv6/Normal-Insulator,-Defect-Insulator,-Defects--1-2/images/test/179_jpg.rf.f29f24923a864fbf71d4bb14698def96.jpg', view_img=False, webcam=False, webcam_addr='0', weights='runs/train/exp/weights/best_ckpt.pt', yaml='/content/YOLOv6/Normal-Insulator,-Defect-Insulator,-Defects--1-2/data.yaml')\n",
            "Save directory already existed\n",
            "Loading checkpoint from runs/train/exp/weights/best_ckpt.pt\n",
            "\n",
            "Fusing model...\n",
            "Switch model to deploy modality.\n",
            "/usr/local/lib/python3.8/dist-packages/torch/functional.py:504: UserWarning: torch.meshgrid: in an upcoming release, it will be required to pass the indexing argument. (Triggered internally at ../aten/src/ATen/native/TensorShape.cpp:3190.)\n",
            "  return _VF.meshgrid(tensors, **kwargs)  # type: ignore[attr-defined]\n",
            "100% 1/1 [00:00<00:00, 19.26it/s]\n",
            "Results saved to runs/inference/exp\n"
          ]
        }
      ]
    },
    {
      "cell_type": "code",
      "source": [
        "!python tools/infer.py  --yaml {dataset.location}/data.yaml  --weights runs/train/exp/weights/best_ckpt.pt   --source {dataset. location}/images/test/188_jpg.rf.5da906adbbad8eeeae3945f3839a2d40.jpg          --device 0"
      ],
      "metadata": {
        "colab": {
          "base_uri": "https://localhost:8080/"
        },
        "id": "eJxDeIqLlQD9",
        "outputId": "19db5c2a-94e9-4874-93b7-342f44475516"
      },
      "execution_count": null,
      "outputs": [
        {
          "output_type": "stream",
          "name": "stdout",
          "text": [
            "Namespace(agnostic_nms=False, classes=None, conf_thres=0.4, device='0', half=False, hide_conf=False, hide_labels=False, img_size=[640, 640], iou_thres=0.45, max_det=1000, name='exp', not_save_img=False, project='runs/inference', save_dir=None, save_txt=False, source='/content/YOLOv6/Normal-Insulator,-Defect-Insulator,-Defects--1-2/images/test/188_jpg.rf.5da906adbbad8eeeae3945f3839a2d40.jpg', view_img=False, webcam=False, webcam_addr='0', weights='runs/train/exp/weights/best_ckpt.pt', yaml='/content/YOLOv6/Normal-Insulator,-Defect-Insulator,-Defects--1-2/data.yaml')\n",
            "Save directory already existed\n",
            "Loading checkpoint from runs/train/exp/weights/best_ckpt.pt\n",
            "\n",
            "Fusing model...\n",
            "Switch model to deploy modality.\n",
            "/usr/local/lib/python3.8/dist-packages/torch/functional.py:504: UserWarning: torch.meshgrid: in an upcoming release, it will be required to pass the indexing argument. (Triggered internally at ../aten/src/ATen/native/TensorShape.cpp:3190.)\n",
            "  return _VF.meshgrid(tensors, **kwargs)  # type: ignore[attr-defined]\n",
            "100% 1/1 [00:00<00:00, 15.14it/s]\n",
            "Results saved to runs/inference/exp\n"
          ]
        }
      ]
    },
    {
      "cell_type": "markdown",
      "source": [],
      "metadata": {
        "id": "tWU_-XNcpWJj"
      }
    },
    {
      "cell_type": "code",
      "source": [
        "!python tools/infer.py  --yaml {dataset.location}/data.yaml  --weights runs/train/exp/weights/best_ckpt.pt   --source {dataset.location}/images/test/197_jpg.rf.f6405a25862d4488878f78dae203a9d3.jpg          --device 0"
      ],
      "metadata": {
        "colab": {
          "base_uri": "https://localhost:8080/"
        },
        "id": "_N9vXZX2lQMi",
        "outputId": "f8fb8227-0204-423a-ffc8-e57bdac03fcd"
      },
      "execution_count": null,
      "outputs": [
        {
          "output_type": "stream",
          "name": "stdout",
          "text": [
            "Namespace(agnostic_nms=False, classes=None, conf_thres=0.4, device='0', half=False, hide_conf=False, hide_labels=False, img_size=[640, 640], iou_thres=0.45, max_det=1000, name='exp', not_save_img=False, project='runs/inference', save_dir=None, save_txt=False, source='/content/YOLOv6/Normal-Insulator,-Defect-Insulator,-Defects--1-2/images/test/197_jpg.rf.f6405a25862d4488878f78dae203a9d3.jpg', view_img=False, webcam=False, webcam_addr='0', weights='runs/train/exp/weights/best_ckpt.pt', yaml='/content/YOLOv6/Normal-Insulator,-Defect-Insulator,-Defects--1-2/data.yaml')\n",
            "Save directory already existed\n",
            "Loading checkpoint from runs/train/exp/weights/best_ckpt.pt\n",
            "\n",
            "Fusing model...\n",
            "Switch model to deploy modality.\n",
            "/usr/local/lib/python3.8/dist-packages/torch/functional.py:504: UserWarning: torch.meshgrid: in an upcoming release, it will be required to pass the indexing argument. (Triggered internally at ../aten/src/ATen/native/TensorShape.cpp:3190.)\n",
            "  return _VF.meshgrid(tensors, **kwargs)  # type: ignore[attr-defined]\n",
            "100% 1/1 [00:00<00:00, 23.39it/s]\n",
            "Results saved to runs/inference/exp\n"
          ]
        }
      ]
    },
    {
      "cell_type": "code",
      "source": [
        "!python tools/infer.py  --yaml {dataset.location}/data.yaml  --weights runs/train/exp/weights/best_ckpt.pt   --source {dataset.location}/images/test/201_jpg.rf.59623e5dcc7160d0fabd81cdd14d94d0.jpg          --device 0"
      ],
      "metadata": {
        "colab": {
          "base_uri": "https://localhost:8080/"
        },
        "id": "zhDHDD0llQQk",
        "outputId": "f4bde3a0-4a21-49a7-dac4-925070e21aa8"
      },
      "execution_count": null,
      "outputs": [
        {
          "output_type": "stream",
          "name": "stdout",
          "text": [
            "Namespace(agnostic_nms=False, classes=None, conf_thres=0.4, device='0', half=False, hide_conf=False, hide_labels=False, img_size=[640, 640], iou_thres=0.45, max_det=1000, name='exp', not_save_img=False, project='runs/inference', save_dir=None, save_txt=False, source='/content/YOLOv6/Normal-Insulator,-Defect-Insulator,-Defects--1-2/images/test/201_jpg.rf.59623e5dcc7160d0fabd81cdd14d94d0.jpg', view_img=False, webcam=False, webcam_addr='0', weights='runs/train/exp/weights/best_ckpt.pt', yaml='/content/YOLOv6/Normal-Insulator,-Defect-Insulator,-Defects--1-2/data.yaml')\n",
            "Save directory already existed\n",
            "Loading checkpoint from runs/train/exp/weights/best_ckpt.pt\n",
            "\n",
            "Fusing model...\n",
            "Switch model to deploy modality.\n",
            "/usr/local/lib/python3.8/dist-packages/torch/functional.py:504: UserWarning: torch.meshgrid: in an upcoming release, it will be required to pass the indexing argument. (Triggered internally at ../aten/src/ATen/native/TensorShape.cpp:3190.)\n",
            "  return _VF.meshgrid(tensors, **kwargs)  # type: ignore[attr-defined]\n",
            "100% 1/1 [00:00<00:00, 13.22it/s]\n",
            "Results saved to runs/inference/exp\n"
          ]
        }
      ]
    },
    {
      "cell_type": "code",
      "source": [
        "!python tools/infer.py  --yaml {dataset.location}/data.yaml  --weights runs/train/exp/weights/best_ckpt.pt   --source {dataset.location}/images/test/201_jpg.rf.aea47a365a5333d545c4b3176517669a.jpg          --device 0"
      ],
      "metadata": {
        "colab": {
          "base_uri": "https://localhost:8080/"
        },
        "id": "0T9MrII-lQVV",
        "outputId": "22e511ad-dc37-47c4-8c9b-9d5e2348719a"
      },
      "execution_count": null,
      "outputs": [
        {
          "output_type": "stream",
          "name": "stdout",
          "text": [
            "Namespace(agnostic_nms=False, classes=None, conf_thres=0.4, device='0', half=False, hide_conf=False, hide_labels=False, img_size=[640, 640], iou_thres=0.45, max_det=1000, name='exp', not_save_img=False, project='runs/inference', save_dir=None, save_txt=False, source='/content/YOLOv6/Normal-Insulator,-Defect-Insulator,-Defects--1-2/images/test/201_jpg.rf.aea47a365a5333d545c4b3176517669a.jpg', view_img=False, webcam=False, webcam_addr='0', weights='runs/train/exp/weights/best_ckpt.pt', yaml='/content/YOLOv6/Normal-Insulator,-Defect-Insulator,-Defects--1-2/data.yaml')\n",
            "Save directory already existed\n",
            "Loading checkpoint from runs/train/exp/weights/best_ckpt.pt\n",
            "\n",
            "Fusing model...\n",
            "Switch model to deploy modality.\n",
            "/usr/local/lib/python3.8/dist-packages/torch/functional.py:504: UserWarning: torch.meshgrid: in an upcoming release, it will be required to pass the indexing argument. (Triggered internally at ../aten/src/ATen/native/TensorShape.cpp:3190.)\n",
            "  return _VF.meshgrid(tensors, **kwargs)  # type: ignore[attr-defined]\n",
            "100% 1/1 [00:00<00:00, 18.94it/s]\n",
            "Results saved to runs/inference/exp\n"
          ]
        }
      ]
    },
    {
      "cell_type": "code",
      "source": [
        "!python tools/infer.py  --yaml {dataset.location}/data.yaml  --weights runs/train/exp/weights/best_ckpt.pt   --source {dataset.location}/images/test/2027_jpg.rf.75007030edd6c019effde5c4ed069520.jpg          --device 0"
      ],
      "metadata": {
        "colab": {
          "base_uri": "https://localhost:8080/"
        },
        "id": "L3qeC77NlQZ0",
        "outputId": "0af0720f-0982-42b7-add9-3652c686b95b"
      },
      "execution_count": null,
      "outputs": [
        {
          "output_type": "stream",
          "name": "stdout",
          "text": [
            "Namespace(agnostic_nms=False, classes=None, conf_thres=0.4, device='0', half=False, hide_conf=False, hide_labels=False, img_size=[640, 640], iou_thres=0.45, max_det=1000, name='exp', not_save_img=False, project='runs/inference', save_dir=None, save_txt=False, source='/content/YOLOv6/Normal-Insulator,-Defect-Insulator,-Defects--1-2/images/test/2027_jpg.rf.75007030edd6c019effde5c4ed069520.jpg', view_img=False, webcam=False, webcam_addr='0', weights='runs/train/exp/weights/best_ckpt.pt', yaml='/content/YOLOv6/Normal-Insulator,-Defect-Insulator,-Defects--1-2/data.yaml')\n",
            "Save directory already existed\n",
            "Loading checkpoint from runs/train/exp/weights/best_ckpt.pt\n",
            "\n",
            "Fusing model...\n",
            "Switch model to deploy modality.\n",
            "/usr/local/lib/python3.8/dist-packages/torch/functional.py:504: UserWarning: torch.meshgrid: in an upcoming release, it will be required to pass the indexing argument. (Triggered internally at ../aten/src/ATen/native/TensorShape.cpp:3190.)\n",
            "  return _VF.meshgrid(tensors, **kwargs)  # type: ignore[attr-defined]\n",
            "100% 1/1 [00:00<00:00, 19.24it/s]\n",
            "Results saved to runs/inference/exp\n"
          ]
        }
      ]
    },
    {
      "cell_type": "code",
      "source": [
        "!python tools/infer.py  --yaml {dataset.location}/data.yaml  --weights runs/train/exp/weights/best_ckpt.pt   --source {dataset.location}/images/test/206_jpg.rf.d6b2127e95ae0d91c303c17423baf602.jpg          --device 0"
      ],
      "metadata": {
        "colab": {
          "base_uri": "https://localhost:8080/"
        },
        "id": "sOnMxkOSlQek",
        "outputId": "788bca2e-ee34-4588-90aa-859844e95900"
      },
      "execution_count": null,
      "outputs": [
        {
          "output_type": "stream",
          "name": "stdout",
          "text": [
            "Namespace(agnostic_nms=False, classes=None, conf_thres=0.4, device='0', half=False, hide_conf=False, hide_labels=False, img_size=[640, 640], iou_thres=0.45, max_det=1000, name='exp', not_save_img=False, project='runs/inference', save_dir=None, save_txt=False, source='/content/YOLOv6/Normal-Insulator,-Defect-Insulator,-Defects--1-2/images/test/206_jpg.rf.d6b2127e95ae0d91c303c17423baf602.jpg', view_img=False, webcam=False, webcam_addr='0', weights='runs/train/exp/weights/best_ckpt.pt', yaml='/content/YOLOv6/Normal-Insulator,-Defect-Insulator,-Defects--1-2/data.yaml')\n",
            "Save directory already existed\n",
            "Loading checkpoint from runs/train/exp/weights/best_ckpt.pt\n",
            "\n",
            "Fusing model...\n",
            "Switch model to deploy modality.\n",
            "/usr/local/lib/python3.8/dist-packages/torch/functional.py:504: UserWarning: torch.meshgrid: in an upcoming release, it will be required to pass the indexing argument. (Triggered internally at ../aten/src/ATen/native/TensorShape.cpp:3190.)\n",
            "  return _VF.meshgrid(tensors, **kwargs)  # type: ignore[attr-defined]\n",
            "100% 1/1 [00:00<00:00, 14.60it/s]\n",
            "Results saved to runs/inference/exp\n"
          ]
        }
      ]
    },
    {
      "cell_type": "code",
      "source": [
        "!python tools/infer.py  --yaml {dataset.location}/data.yaml  --weights runs/train/exp/weights/best_ckpt.pt   --source {dataset.location}/images/test/208_jpg.rf.8852389d47535cd5238ec69c01e2f2bd.jpg          --device 0"
      ],
      "metadata": {
        "colab": {
          "base_uri": "https://localhost:8080/"
        },
        "id": "myRWMZSxlQjE",
        "outputId": "287336de-75d5-4a5e-bf6c-8387549b941e"
      },
      "execution_count": null,
      "outputs": [
        {
          "output_type": "stream",
          "name": "stdout",
          "text": [
            "Namespace(agnostic_nms=False, classes=None, conf_thres=0.4, device='0', half=False, hide_conf=False, hide_labels=False, img_size=[640, 640], iou_thres=0.45, max_det=1000, name='exp', not_save_img=False, project='runs/inference', save_dir=None, save_txt=False, source='/content/YOLOv6/Normal-Insulator,-Defect-Insulator,-Defects--1-2/images/test/208_jpg.rf.8852389d47535cd5238ec69c01e2f2bd.jpg', view_img=False, webcam=False, webcam_addr='0', weights='runs/train/exp/weights/best_ckpt.pt', yaml='/content/YOLOv6/Normal-Insulator,-Defect-Insulator,-Defects--1-2/data.yaml')\n",
            "Save directory already existed\n",
            "Loading checkpoint from runs/train/exp/weights/best_ckpt.pt\n",
            "\n",
            "Fusing model...\n",
            "Switch model to deploy modality.\n",
            "/usr/local/lib/python3.8/dist-packages/torch/functional.py:504: UserWarning: torch.meshgrid: in an upcoming release, it will be required to pass the indexing argument. (Triggered internally at ../aten/src/ATen/native/TensorShape.cpp:3190.)\n",
            "  return _VF.meshgrid(tensors, **kwargs)  # type: ignore[attr-defined]\n",
            "100% 1/1 [00:00<00:00, 19.72it/s]\n",
            "Results saved to runs/inference/exp\n"
          ]
        }
      ]
    },
    {
      "cell_type": "code",
      "source": [
        "!python tools/infer.py  --yaml {dataset.location}/data.yaml  --weights runs/train/exp/weights/best_ckpt.pt   --source {dataset.location}/images/test/2104_jpg.rf.11cb6eae25d658b9577c0d61f2a913e5.jpg          --device 0"
      ],
      "metadata": {
        "colab": {
          "base_uri": "https://localhost:8080/"
        },
        "id": "0ZQBTYFylQnn",
        "outputId": "adff04d0-eab6-4270-f462-3f795d5a604a"
      },
      "execution_count": null,
      "outputs": [
        {
          "output_type": "stream",
          "name": "stdout",
          "text": [
            "Namespace(agnostic_nms=False, classes=None, conf_thres=0.4, device='0', half=False, hide_conf=False, hide_labels=False, img_size=[640, 640], iou_thres=0.45, max_det=1000, name='exp', not_save_img=False, project='runs/inference', save_dir=None, save_txt=False, source='/content/YOLOv6/Normal-Insulator,-Defect-Insulator,-Defects--1-2/images/test/2104_jpg.rf.11cb6eae25d658b9577c0d61f2a913e5.jpg', view_img=False, webcam=False, webcam_addr='0', weights='runs/train/exp/weights/best_ckpt.pt', yaml='/content/YOLOv6/Normal-Insulator,-Defect-Insulator,-Defects--1-2/data.yaml')\n",
            "Save directory already existed\n",
            "Loading checkpoint from runs/train/exp/weights/best_ckpt.pt\n",
            "\n",
            "Fusing model...\n",
            "Switch model to deploy modality.\n",
            "/usr/local/lib/python3.8/dist-packages/torch/functional.py:504: UserWarning: torch.meshgrid: in an upcoming release, it will be required to pass the indexing argument. (Triggered internally at ../aten/src/ATen/native/TensorShape.cpp:3190.)\n",
            "  return _VF.meshgrid(tensors, **kwargs)  # type: ignore[attr-defined]\n",
            "100% 1/1 [00:00<00:00, 19.10it/s]\n",
            "Results saved to runs/inference/exp\n"
          ]
        }
      ]
    },
    {
      "cell_type": "code",
      "source": [
        "!python tools/infer.py  --yaml {dataset.location}/data.yaml  --weights runs/train/exp/weights/best_ckpt.pt   --source {dataset.location}/images/test/210_jpg.rf.ec3f7fbac08c2ee3a19ed469c159e350.jpg          --device 0"
      ],
      "metadata": {
        "colab": {
          "base_uri": "https://localhost:8080/"
        },
        "id": "4eKV3aBSlQs1",
        "outputId": "f55780d7-9cbb-43db-e0d5-43ffa7ad0f07"
      },
      "execution_count": null,
      "outputs": [
        {
          "output_type": "stream",
          "name": "stdout",
          "text": [
            "Namespace(agnostic_nms=False, classes=None, conf_thres=0.4, device='0', half=False, hide_conf=False, hide_labels=False, img_size=[640, 640], iou_thres=0.45, max_det=1000, name='exp', not_save_img=False, project='runs/inference', save_dir=None, save_txt=False, source='/content/YOLOv6/Normal-Insulator,-Defect-Insulator,-Defects--1-2/images/test/210_jpg.rf.ec3f7fbac08c2ee3a19ed469c159e350.jpg', view_img=False, webcam=False, webcam_addr='0', weights='runs/train/exp/weights/best_ckpt.pt', yaml='/content/YOLOv6/Normal-Insulator,-Defect-Insulator,-Defects--1-2/data.yaml')\n",
            "Save directory already existed\n",
            "Loading checkpoint from runs/train/exp/weights/best_ckpt.pt\n",
            "\n",
            "Fusing model...\n",
            "Switch model to deploy modality.\n",
            "/usr/local/lib/python3.8/dist-packages/torch/functional.py:504: UserWarning: torch.meshgrid: in an upcoming release, it will be required to pass the indexing argument. (Triggered internally at ../aten/src/ATen/native/TensorShape.cpp:3190.)\n",
            "  return _VF.meshgrid(tensors, **kwargs)  # type: ignore[attr-defined]\n",
            "100% 1/1 [00:00<00:00, 19.98it/s]\n",
            "Results saved to runs/inference/exp\n"
          ]
        }
      ]
    },
    {
      "cell_type": "code",
      "source": [
        "!python tools/infer.py  --yaml {dataset.location}/data.yaml  --weights runs/train/exp/weights/best_ckpt.pt   --source {dataset.location}/images/test/212_jpg.rf.706756ab5b72627dd4853c72673889ef.jpg          --device 0"
      ],
      "metadata": {
        "colab": {
          "base_uri": "https://localhost:8080/"
        },
        "id": "_WqSdJXMlQxz",
        "outputId": "59a686f5-3f8a-487a-c51f-7d028742cece"
      },
      "execution_count": null,
      "outputs": [
        {
          "output_type": "stream",
          "name": "stdout",
          "text": [
            "Namespace(agnostic_nms=False, classes=None, conf_thres=0.4, device='0', half=False, hide_conf=False, hide_labels=False, img_size=[640, 640], iou_thres=0.45, max_det=1000, name='exp', not_save_img=False, project='runs/inference', save_dir=None, save_txt=False, source='/content/YOLOv6/Normal-Insulator,-Defect-Insulator,-Defects--1-2/images/test/212_jpg.rf.706756ab5b72627dd4853c72673889ef.jpg', view_img=False, webcam=False, webcam_addr='0', weights='runs/train/exp/weights/best_ckpt.pt', yaml='/content/YOLOv6/Normal-Insulator,-Defect-Insulator,-Defects--1-2/data.yaml')\n",
            "Save directory already existed\n",
            "Loading checkpoint from runs/train/exp/weights/best_ckpt.pt\n",
            "\n",
            "Fusing model...\n",
            "Switch model to deploy modality.\n",
            "/usr/local/lib/python3.8/dist-packages/torch/functional.py:504: UserWarning: torch.meshgrid: in an upcoming release, it will be required to pass the indexing argument. (Triggered internally at ../aten/src/ATen/native/TensorShape.cpp:3190.)\n",
            "  return _VF.meshgrid(tensors, **kwargs)  # type: ignore[attr-defined]\n",
            "100% 1/1 [00:00<00:00, 18.02it/s]\n",
            "Results saved to runs/inference/exp\n"
          ]
        }
      ]
    },
    {
      "cell_type": "code",
      "source": [
        "!python tools/infer.py  --yaml {dataset.location}/data.yaml  --weights runs/train/exp/weights/best_ckpt.pt   --source {dataset.location}/images/test/213_jpg.rf.3d2f0683e348494e9e10c4335eb87d97.jpg          --device 0"
      ],
      "metadata": {
        "colab": {
          "base_uri": "https://localhost:8080/"
        },
        "id": "r9fdH39NlQ3i",
        "outputId": "48e6238f-c220-42eb-a992-1157b7fffe89"
      },
      "execution_count": null,
      "outputs": [
        {
          "output_type": "stream",
          "name": "stdout",
          "text": [
            "Namespace(agnostic_nms=False, classes=None, conf_thres=0.4, device='0', half=False, hide_conf=False, hide_labels=False, img_size=[640, 640], iou_thres=0.45, max_det=1000, name='exp', not_save_img=False, project='runs/inference', save_dir=None, save_txt=False, source='/content/YOLOv6/Normal-Insulator,-Defect-Insulator,-Defects--1-2/images/test/213_jpg.rf.3d2f0683e348494e9e10c4335eb87d97.jpg', view_img=False, webcam=False, webcam_addr='0', weights='runs/train/exp/weights/best_ckpt.pt', yaml='/content/YOLOv6/Normal-Insulator,-Defect-Insulator,-Defects--1-2/data.yaml')\n",
            "Save directory already existed\n",
            "Loading checkpoint from runs/train/exp/weights/best_ckpt.pt\n",
            "\n",
            "Fusing model...\n",
            "Switch model to deploy modality.\n",
            "/usr/local/lib/python3.8/dist-packages/torch/functional.py:504: UserWarning: torch.meshgrid: in an upcoming release, it will be required to pass the indexing argument. (Triggered internally at ../aten/src/ATen/native/TensorShape.cpp:3190.)\n",
            "  return _VF.meshgrid(tensors, **kwargs)  # type: ignore[attr-defined]\n",
            "100% 1/1 [00:00<00:00, 24.68it/s]\n",
            "Results saved to runs/inference/exp\n"
          ]
        }
      ]
    },
    {
      "cell_type": "code",
      "source": [
        "!python tools/infer.py  --yaml {dataset.location}/data.yaml  --weights runs/train/exp/weights/best_ckpt.pt   --source {dataset.location}/images/test/214_jpg.rf.4063256d415ff8b50dbdbe598f88df17.jpg          --device 0"
      ],
      "metadata": {
        "colab": {
          "base_uri": "https://localhost:8080/"
        },
        "id": "1JwJNRtglQ_C",
        "outputId": "49bf331b-cd16-42fe-d59a-99337d954378"
      },
      "execution_count": null,
      "outputs": [
        {
          "output_type": "stream",
          "name": "stdout",
          "text": [
            "Namespace(agnostic_nms=False, classes=None, conf_thres=0.4, device='0', half=False, hide_conf=False, hide_labels=False, img_size=[640, 640], iou_thres=0.45, max_det=1000, name='exp', not_save_img=False, project='runs/inference', save_dir=None, save_txt=False, source='/content/YOLOv6/Normal-Insulator,-Defect-Insulator,-Defects--1-2/images/test/214_jpg.rf.4063256d415ff8b50dbdbe598f88df17.jpg', view_img=False, webcam=False, webcam_addr='0', weights='runs/train/exp/weights/best_ckpt.pt', yaml='/content/YOLOv6/Normal-Insulator,-Defect-Insulator,-Defects--1-2/data.yaml')\n",
            "Save directory already existed\n",
            "Loading checkpoint from runs/train/exp/weights/best_ckpt.pt\n",
            "\n",
            "Fusing model...\n",
            "Switch model to deploy modality.\n",
            "/usr/local/lib/python3.8/dist-packages/torch/functional.py:504: UserWarning: torch.meshgrid: in an upcoming release, it will be required to pass the indexing argument. (Triggered internally at ../aten/src/ATen/native/TensorShape.cpp:3190.)\n",
            "  return _VF.meshgrid(tensors, **kwargs)  # type: ignore[attr-defined]\n",
            "100% 1/1 [00:00<00:00, 19.40it/s]\n",
            "Results saved to runs/inference/exp\n"
          ]
        }
      ]
    },
    {
      "cell_type": "code",
      "source": [
        "!python tools/infer.py  --yaml {dataset.location}/data.yaml  --weights runs/train/exp/weights/best_ckpt.pt   --source {dataset.location}/images/test/2170_jpg.rf.04360598cbd41d17474ee0c532811852.jpg          --device 0"
      ],
      "metadata": {
        "colab": {
          "base_uri": "https://localhost:8080/"
        },
        "id": "7qiyGiVNlTc1",
        "outputId": "1148da28-cc6c-4140-ef92-f52f2271f8b4"
      },
      "execution_count": null,
      "outputs": [
        {
          "output_type": "stream",
          "name": "stdout",
          "text": [
            "Namespace(agnostic_nms=False, classes=None, conf_thres=0.4, device='0', half=False, hide_conf=False, hide_labels=False, img_size=[640, 640], iou_thres=0.45, max_det=1000, name='exp', not_save_img=False, project='runs/inference', save_dir=None, save_txt=False, source='/content/YOLOv6/Normal-Insulator,-Defect-Insulator,-Defects--1-2/images/test/2170_jpg.rf.04360598cbd41d17474ee0c532811852.jpg', view_img=False, webcam=False, webcam_addr='0', weights='runs/train/exp/weights/best_ckpt.pt', yaml='/content/YOLOv6/Normal-Insulator,-Defect-Insulator,-Defects--1-2/data.yaml')\n",
            "Save directory already existed\n",
            "Loading checkpoint from runs/train/exp/weights/best_ckpt.pt\n",
            "\n",
            "Fusing model...\n",
            "Switch model to deploy modality.\n",
            "/usr/local/lib/python3.8/dist-packages/torch/functional.py:504: UserWarning: torch.meshgrid: in an upcoming release, it will be required to pass the indexing argument. (Triggered internally at ../aten/src/ATen/native/TensorShape.cpp:3190.)\n",
            "  return _VF.meshgrid(tensors, **kwargs)  # type: ignore[attr-defined]\n",
            "100% 1/1 [00:00<00:00, 18.34it/s]\n",
            "Results saved to runs/inference/exp\n"
          ]
        }
      ]
    },
    {
      "cell_type": "code",
      "source": [
        "!python tools/infer.py  --yaml {dataset.location}/data.yaml  --weights runs/train/exp/weights/best_ckpt.pt   --source {dataset.location}/images/test/218_jpg.rf.acb6045517efeedf39be150607cc96a0.jpg          --device 0"
      ],
      "metadata": {
        "colab": {
          "base_uri": "https://localhost:8080/"
        },
        "id": "BvweqT2plTn8",
        "outputId": "39a59cc3-a8bb-4e0b-ae7d-0b96bb01c26f"
      },
      "execution_count": null,
      "outputs": [
        {
          "output_type": "stream",
          "name": "stdout",
          "text": [
            "Namespace(agnostic_nms=False, classes=None, conf_thres=0.4, device='0', half=False, hide_conf=False, hide_labels=False, img_size=[640, 640], iou_thres=0.45, max_det=1000, name='exp', not_save_img=False, project='runs/inference', save_dir=None, save_txt=False, source='/content/YOLOv6/Normal-Insulator,-Defect-Insulator,-Defects--1-2/images/test/218_jpg.rf.acb6045517efeedf39be150607cc96a0.jpg', view_img=False, webcam=False, webcam_addr='0', weights='runs/train/exp/weights/best_ckpt.pt', yaml='/content/YOLOv6/Normal-Insulator,-Defect-Insulator,-Defects--1-2/data.yaml')\n",
            "Save directory already existed\n",
            "Loading checkpoint from runs/train/exp/weights/best_ckpt.pt\n",
            "\n",
            "Fusing model...\n",
            "Switch model to deploy modality.\n",
            "/usr/local/lib/python3.8/dist-packages/torch/functional.py:504: UserWarning: torch.meshgrid: in an upcoming release, it will be required to pass the indexing argument. (Triggered internally at ../aten/src/ATen/native/TensorShape.cpp:3190.)\n",
            "  return _VF.meshgrid(tensors, **kwargs)  # type: ignore[attr-defined]\n",
            "100% 1/1 [00:00<00:00, 11.37it/s]\n",
            "Results saved to runs/inference/exp\n"
          ]
        }
      ]
    },
    {
      "cell_type": "code",
      "source": [
        "!python tools/infer.py  --yaml {dataset.location}/data.yaml  --weights runs/train/exp/weights/best_ckpt.pt   --source {dataset.location}/images/test/2244_jpg.rf.f9abf10249bd5e82f6e0bfe7b2b4bb77.jpg          --device 0"
      ],
      "metadata": {
        "colab": {
          "base_uri": "https://localhost:8080/"
        },
        "id": "qW1GigPVlTwb",
        "outputId": "1ea26e58-e80c-454d-9e90-9469cfd95e24"
      },
      "execution_count": null,
      "outputs": [
        {
          "output_type": "stream",
          "name": "stdout",
          "text": [
            "Namespace(agnostic_nms=False, classes=None, conf_thres=0.4, device='0', half=False, hide_conf=False, hide_labels=False, img_size=[640, 640], iou_thres=0.45, max_det=1000, name='exp', not_save_img=False, project='runs/inference', save_dir=None, save_txt=False, source='/content/YOLOv6/Normal-Insulator,-Defect-Insulator,-Defects--1-2/images/test/2244_jpg.rf.f9abf10249bd5e82f6e0bfe7b2b4bb77.jpg', view_img=False, webcam=False, webcam_addr='0', weights='runs/train/exp/weights/best_ckpt.pt', yaml='/content/YOLOv6/Normal-Insulator,-Defect-Insulator,-Defects--1-2/data.yaml')\n",
            "Save directory already existed\n",
            "Loading checkpoint from runs/train/exp/weights/best_ckpt.pt\n",
            "\n",
            "Fusing model...\n",
            "Switch model to deploy modality.\n",
            "/usr/local/lib/python3.8/dist-packages/torch/functional.py:504: UserWarning: torch.meshgrid: in an upcoming release, it will be required to pass the indexing argument. (Triggered internally at ../aten/src/ATen/native/TensorShape.cpp:3190.)\n",
            "  return _VF.meshgrid(tensors, **kwargs)  # type: ignore[attr-defined]\n",
            "100% 1/1 [00:00<00:00, 23.77it/s]\n",
            "Results saved to runs/inference/exp\n"
          ]
        }
      ]
    },
    {
      "cell_type": "code",
      "execution_count": null,
      "metadata": {
        "colab": {
          "base_uri": "https://localhost:8080/"
        },
        "outputId": "2010bd35-8257-496e-bd88-a72e4cd0bca9",
        "id": "6OyukxxdNQ_u"
      },
      "outputs": [
        {
          "output_type": "stream",
          "name": "stdout",
          "text": [
            "./runs/inference/exp/164_jpg.rf.d2cf1dcbdd4dc87152a5d24dcfc6aabc.jpg\n"
          ]
        },
        {
          "output_type": "execute_result",
          "data": {
            "text/plain": [
              "1"
            ]
          },
          "metadata": {},
          "execution_count": 37
        }
      ],
      "source": [
        "\n",
        "import cv2\n",
        "import os\n",
        "import random\n",
        "\n",
        "\n",
        "\n",
        "label_folder = r'/content/YOLOv6/Normal-Insulator,-Defect-Insulator,-Defects--1-2/labels'\n",
        "\n",
        "raw_images_folder = r'/content/YOLOv6/Normal-Insulator,-Defect-Insulator,-Defects--1-2/images'\n",
        "\n",
        "save_images_folder = r'/content/YOLOv6/save_images_valid'\n",
        "\n",
        "name_list_path = r'/content/YOLOv6/Normal-Insulator,-Defect-Insulator,-Defects--1-2/labels/valid'\n",
        "\n",
        "classes_path = r'/content/YOLOv6/Normal-Insulator,-Defect-Insulator,-Defects--1-2'\n",
        "image_name=r'./runs/inference/exp/164_jpg.rf.d2cf1dcbdd4dc87152a5d24dcfc6aabc.jpg'\n",
        "label=name_of_class='defective insulator'\n",
        "def plot_one_box(x, image, color=None, label=name_of_class, line_thickness=None):\n",
        "\n",
        "    tl = line_thickness or round(0.002 * (image.shape[0] + image.shape[1]) / 2) + 1  # line/font thickness\n",
        "    color = color or [random.randint(0, 255) for _ in range(3)]\n",
        "    c1, c2 = (int(x[0]), int(x[1])), (int(x[2]), int(x[3]))\n",
        "    cv2.rectangle(image, c1, c2, color, thickness=tl, lineType=cv2.LINE_AA)\n",
        "    if label:\n",
        "        tf = max(tl - 1, 1)  # font thickness\n",
        "        t_size = cv2.getTextSize(str(label), 0, fontScale=tl / 3, thickness=tf)[0]\n",
        "        c2 = c1[0] + t_size[0], c1[1] - t_size[1] - 3\n",
        "        cv2.rectangle(image, c1, c2, color, -1, cv2.LINE_AA)  # filled\n",
        "        cv2.putText(image,str(label), (c1[0], c1[1] - 2), 0, tl / 3, [225, 255, 255], thickness=tf, lineType=cv2.LINE_AA)\n",
        "\n",
        "\n",
        "def draw_box_on_image(image_name, classes_path, label_folder, raw_images_folder, save_images_folder ):\n",
        "\n",
        "    txt_path  = r\"/content/YOLOv6/Normal-Insulator,-Defect-Insulator,-Defects--1-2/labels/test/164_jpg.rf.d2cf1dcbdd4dc87152a5d24dcfc6aabc.txt\"\n",
        "    print(image_name)\n",
        "    if image_name == '.DS_Store':\n",
        "        return 0\n",
        "\n",
        "    image_path = r\"./runs/inference/exp/164_jpg.rf.d2cf1dcbdd4dc87152a5d24dcfc6aabc.jpg\"\n",
        "    save_file_path = r\"/content/YOLOv6/save_images_test/164\"\n",
        "\n",
        "    source_file = open(txt_path) if os.path.exists(txt_path) else []\n",
        "    image = cv2.imread(image_path)\n",
        "    try:\n",
        "        height, width, channels = image.shape\n",
        "    except:\n",
        "        print('no shape info.')\n",
        "        return 0\n",
        "\n",
        "    box_number = 0\n",
        "    for line in source_file:\n",
        "        staff = line.split()\n",
        "        class_idx = int(staff[0])\n",
        "\n",
        "        x_center, y_center, w, h = float(staff[1])*width, float(staff[2])*height, float(staff[3])*width, float(staff[4])*height\n",
        "        x1 = round(x_center-w/2)\n",
        "        y1 = round(y_center-h/2)\n",
        "        x2 = round(x_center+w/2)\n",
        "        y2 = round(y_center+h/2)\n",
        "\n",
        "\n",
        "        plot_one_box([x1,y1,x2,y2], image,  label=name_of_class, line_thickness=None)\n",
        "        cv2.imwrite(r\"/content/YOLOv6/save_images_test/164.jpg\",image)\n",
        "\n",
        "        box_number += 1\n",
        "        return box_number\n",
        "draw_box_on_image(image_name, classes_path,  label_folder, raw_images_folder, save_images_folder )\n",
        "\n",
        "\n",
        "\n"
      ]
    },
    {
      "cell_type": "code",
      "execution_count": null,
      "metadata": {
        "colab": {
          "base_uri": "https://localhost:8080/"
        },
        "outputId": "51e0f193-6ae9-4e51-81a8-b955049e5fd5",
        "id": "uMT-cKu6juL-"
      },
      "outputs": [
        {
          "output_type": "stream",
          "name": "stdout",
          "text": [
            "./runs/inference/exp/168_jpg.rf.c47b856150db06fb286336682752e4a1.jpg\n"
          ]
        },
        {
          "output_type": "execute_result",
          "data": {
            "text/plain": [
              "1"
            ]
          },
          "metadata": {},
          "execution_count": 39
        }
      ],
      "source": [
        "\n",
        "import cv2\n",
        "import os\n",
        "import random\n",
        "\n",
        "\n",
        "\n",
        "label_folder = r'/content/YOLOv6/Normal-Insulator,-Defect-Insulator,-Defects--1-2/labels'\n",
        "\n",
        "raw_images_folder = r'/content/YOLOv6/Normal-Insulator,-Defect-Insulator,-Defects--1-2/images'\n",
        "\n",
        "save_images_folder = r'/content/YOLOv6/save_images_valid'\n",
        "\n",
        "name_list_path = r'/content/YOLOv6/Normal-Insulator,-Defect-Insulator,-Defects--1-2/labels/valid'\n",
        "\n",
        "classes_path = r'/content/YOLOv6/Normal-Insulator,-Defect-Insulator,-Defects--1-2'\n",
        "image_name=r'./runs/inference/exp/168_jpg.rf.c47b856150db06fb286336682752e4a1.jpg'\n",
        "label=name_of_class='defect'\n",
        "def plot_one_box(x, image, color=None, label=name_of_class, line_thickness=None):\n",
        "\n",
        "    tl = line_thickness or round(0.002 * (image.shape[0] + image.shape[1]) / 2) + 1  # line/font thickness\n",
        "    color = color or [random.randint(0, 255) for _ in range(3)]\n",
        "    c1, c2 = (int(x[0]), int(x[1])), (int(x[2]), int(x[3]))\n",
        "    cv2.rectangle(image, c1, c2, color, thickness=tl, lineType=cv2.LINE_AA)\n",
        "    if label:\n",
        "        tf = max(tl - 1, 1)  # font thickness\n",
        "        t_size = cv2.getTextSize(str(label), 0, fontScale=tl / 3, thickness=tf)[0]\n",
        "        c2 = c1[0] + t_size[0], c1[1] - t_size[1] - 3\n",
        "        cv2.rectangle(image, c1, c2, color, -1, cv2.LINE_AA)  # filled\n",
        "        cv2.putText(image,str(label), (c1[0], c1[1] - 2), 0, tl / 3, [225, 255, 255], thickness=tf, lineType=cv2.LINE_AA)\n",
        "\n",
        "\n",
        "def draw_box_on_image(image_name, classes_path, label_folder, raw_images_folder, save_images_folder ):\n",
        "\n",
        "    txt_path  = r\"/content/YOLOv6/Normal-Insulator,-Defect-Insulator,-Defects--1-2/labels/test/168_jpg.rf.c47b856150db06fb286336682752e4a1.txt\"\n",
        "    print(image_name)\n",
        "    if image_name == '.DS_Store':\n",
        "        return 0\n",
        "\n",
        "    image_path = r\"./runs/inference/exp/168_jpg.rf.c47b856150db06fb286336682752e4a1.jpg\"\n",
        "    save_file_path = r\"/content/YOLOv6/save_images_test/168\"\n",
        "\n",
        "    source_file = open(txt_path) if os.path.exists(txt_path) else []\n",
        "    image = cv2.imread(image_path)\n",
        "    try:\n",
        "        height, width, channels = image.shape\n",
        "    except:\n",
        "        print('no shape info.')\n",
        "        return 0\n",
        "\n",
        "    box_number = 0\n",
        "    for line in source_file:\n",
        "        staff = line.split()\n",
        "        class_idx = int(staff[0])\n",
        "\n",
        "        x_center, y_center, w, h = float(staff[1])*width, float(staff[2])*height, float(staff[3])*width, float(staff[4])*height\n",
        "        x1 = round(x_center-w/2)\n",
        "        y1 = round(y_center-h/2)\n",
        "        x2 = round(x_center+w/2)\n",
        "        y2 = round(y_center+h/2)\n",
        "\n",
        "\n",
        "        plot_one_box([x1,y1,x2,y2], image,  label=name_of_class, line_thickness=None)\n",
        "        cv2.imwrite(r\"/content/YOLOv6/save_images_test/168.jpg\",image)\n",
        "\n",
        "        box_number += 1\n",
        "        return box_number\n",
        "draw_box_on_image(image_name, classes_path,  label_folder, raw_images_folder, save_images_folder )\n",
        "\n",
        "\n",
        "\n"
      ]
    },
    {
      "cell_type": "code",
      "execution_count": null,
      "metadata": {
        "colab": {
          "base_uri": "https://localhost:8080/"
        },
        "outputId": "ee37c25f-f0bd-498a-a7f4-60e999ae943d",
        "id": "sifoSwAsjtMt"
      },
      "outputs": [
        {
          "output_type": "stream",
          "name": "stdout",
          "text": [
            "./runs/inference/exp/1709_jpg.rf.49d1e8f0fcab073669079c7270106c25.jpg\n"
          ]
        },
        {
          "output_type": "execute_result",
          "data": {
            "text/plain": [
              "1"
            ]
          },
          "metadata": {},
          "execution_count": 40
        }
      ],
      "source": [
        "\n",
        "import cv2\n",
        "import os\n",
        "import random\n",
        "\n",
        "\n",
        "\n",
        "label_folder = r'/content/YOLOv6/Normal-Insulator,-Defect-Insulator,-Defects--1-2/labels'\n",
        "\n",
        "raw_images_folder = r'/content/YOLOv6/Normal-Insulator,-Defect-Insulator,-Defects--1-2/images'\n",
        "\n",
        "save_images_folder = r'/content/YOLOv6/save_images_valid'\n",
        "\n",
        "name_list_path = r'/content/YOLOv6/Normal-Insulator,-Defect-Insulator,-Defects--1-2/labels/valid'\n",
        "\n",
        "classes_path = r'/content/YOLOv6/Normal-Insulator,-Defect-Insulator,-Defects--1-2'\n",
        "image_name=r'./runs/inference/exp/1709_jpg.rf.49d1e8f0fcab073669079c7270106c25.jpg'\n",
        "label=name_of_class='normal insulator'\n",
        "def plot_one_box(x, image, color=None, label=name_of_class, line_thickness=None):\n",
        "\n",
        "    tl = line_thickness or round(0.002 * (image.shape[0] + image.shape[1]) / 2) + 1  # line/font thickness\n",
        "    color = color or [random.randint(0, 255) for _ in range(3)]\n",
        "    c1, c2 = (int(x[0]), int(x[1])), (int(x[2]), int(x[3]))\n",
        "    cv2.rectangle(image, c1, c2, color, thickness=tl, lineType=cv2.LINE_AA)\n",
        "    if label:\n",
        "        tf = max(tl - 1, 1)  # font thickness\n",
        "        t_size = cv2.getTextSize(str(label), 0, fontScale=tl / 3, thickness=tf)[0]\n",
        "        c2 = c1[0] + t_size[0], c1[1] - t_size[1] - 3\n",
        "        cv2.rectangle(image, c1, c2, color, -1, cv2.LINE_AA)  # filled\n",
        "        cv2.putText(image,str(label), (c1[0], c1[1] - 2), 0, tl / 3, [225, 255, 255], thickness=tf, lineType=cv2.LINE_AA)\n",
        "\n",
        "\n",
        "def draw_box_on_image(image_name, classes_path, label_folder, raw_images_folder, save_images_folder ):\n",
        "\n",
        "    txt_path  = r\"/content/YOLOv6/Normal-Insulator,-Defect-Insulator,-Defects--1-2/labels/test/1709_jpg.rf.49d1e8f0fcab073669079c7270106c25.txt\"\n",
        "    print(image_name)\n",
        "    if image_name == '.DS_Store':\n",
        "        return 0\n",
        "\n",
        "    image_path = r\"./runs/inference/exp/1709_jpg.rf.49d1e8f0fcab073669079c7270106c25.jpg\"\n",
        "    save_file_path = r\"/content/YOLOv6/save_images_test/1709\"\n",
        "\n",
        "    source_file = open(txt_path) if os.path.exists(txt_path) else []\n",
        "    image = cv2.imread(image_path)\n",
        "    try:\n",
        "        height, width, channels = image.shape\n",
        "    except:\n",
        "        print('no shape info.')\n",
        "        return 0\n",
        "\n",
        "    box_number = 0\n",
        "    for line in source_file:\n",
        "        staff = line.split()\n",
        "        class_idx = int(staff[0])\n",
        "\n",
        "        x_center, y_center, w, h = float(staff[1])*width, float(staff[2])*height, float(staff[3])*width, float(staff[4])*height\n",
        "        x1 = round(x_center-w/2)\n",
        "        y1 = round(y_center-h/2)\n",
        "        x2 = round(x_center+w/2)\n",
        "        y2 = round(y_center+h/2)\n",
        "\n",
        "\n",
        "        plot_one_box([x1,y1,x2,y2], image,  label=name_of_class, line_thickness=None)\n",
        "        cv2.imwrite(r\"/content/YOLOv6/save_images_test/1709.jpg\",image)\n",
        "\n",
        "        box_number += 1\n",
        "        return box_number\n",
        "draw_box_on_image(image_name, classes_path,  label_folder, raw_images_folder, save_images_folder )\n",
        "\n",
        "\n",
        "\n"
      ]
    },
    {
      "cell_type": "code",
      "execution_count": null,
      "metadata": {
        "colab": {
          "base_uri": "https://localhost:8080/"
        },
        "outputId": "dfd3432b-1c2a-4596-d88b-6117cd682598",
        "id": "exaG1bN3jwnx"
      },
      "outputs": [
        {
          "output_type": "stream",
          "name": "stdout",
          "text": [
            "./runs/inference/exp/174_jpg.rf.0fb68f81b27c8384a901e0fc69ad7d68.jpg\n"
          ]
        },
        {
          "output_type": "execute_result",
          "data": {
            "text/plain": [
              "1"
            ]
          },
          "metadata": {},
          "execution_count": 42
        }
      ],
      "source": [
        "\n",
        "import cv2\n",
        "import os\n",
        "import random\n",
        "\n",
        "\n",
        "\n",
        "label_folder = r'/content/YOLOv6/Normal-Insulator,-Defect-Insulator,-Defects--1-2/labels'\n",
        "\n",
        "raw_images_folder = r'/content/YOLOv6/Normal-Insulator,-Defect-Insulator,-Defects--1-2/images'\n",
        "\n",
        "save_images_folder = r'/content/YOLOv6/save_images_valid'\n",
        "\n",
        "name_list_path = r'/content/YOLOv6/Normal-Insulator,-Defect-Insulator,-Defects--1-2/labels/valid'\n",
        "\n",
        "classes_path = r'/content/YOLOv6/Normal-Insulator,-Defect-Insulator,-Defects--1-2'\n",
        "image_name=r'./runs/inference/exp/174_jpg.rf.0fb68f81b27c8384a901e0fc69ad7d68.jpg'\n",
        "label=name_of_class='defect'\n",
        "def plot_one_box(x, image, color=None, label=name_of_class, line_thickness=None):\n",
        "\n",
        "    tl = line_thickness or round(0.002 * (image.shape[0] + image.shape[1]) / 2) + 1  # line/font thickness\n",
        "    color = color or [random.randint(0, 255) for _ in range(3)]\n",
        "    c1, c2 = (int(x[0]), int(x[1])), (int(x[2]), int(x[3]))\n",
        "    cv2.rectangle(image, c1, c2, color, thickness=tl, lineType=cv2.LINE_AA)\n",
        "    if label:\n",
        "        tf = max(tl - 1, 1)  # font thickness\n",
        "        t_size = cv2.getTextSize(str(label), 0, fontScale=tl / 3, thickness=tf)[0]\n",
        "        c2 = c1[0] + t_size[0], c1[1] - t_size[1] - 3\n",
        "        cv2.rectangle(image, c1, c2, color, -1, cv2.LINE_AA)  # filled\n",
        "        cv2.putText(image,str(label), (c1[0], c1[1] - 2), 0, tl / 3, [225, 255, 255], thickness=tf, lineType=cv2.LINE_AA)\n",
        "\n",
        "\n",
        "def draw_box_on_image(image_name, classes_path, label_folder, raw_images_folder, save_images_folder ):\n",
        "\n",
        "    txt_path  = r\"/content/YOLOv6/Normal-Insulator,-Defect-Insulator,-Defects--1-2/labels/test/174_jpg.rf.0fb68f81b27c8384a901e0fc69ad7d68.txt\"\n",
        "    print(image_name)\n",
        "    if image_name == '.DS_Store':\n",
        "        return 0\n",
        "\n",
        "    image_path = r\"./runs/inference/exp/174_jpg.rf.0fb68f81b27c8384a901e0fc69ad7d68.jpg\"\n",
        "    save_file_path = r\"/content/YOLOv6/save_images_test/174\"\n",
        "\n",
        "    source_file = open(txt_path) if os.path.exists(txt_path) else []\n",
        "    image = cv2.imread(image_path)\n",
        "    try:\n",
        "        height, width, channels = image.shape\n",
        "    except:\n",
        "        print('no shape info.')\n",
        "        return 0\n",
        "\n",
        "    box_number = 0\n",
        "    for line in source_file:\n",
        "        staff = line.split()\n",
        "        class_idx = int(staff[0])\n",
        "\n",
        "        x_center, y_center, w, h = float(staff[1])*width, float(staff[2])*height, float(staff[3])*width, float(staff[4])*height\n",
        "        x1 = round(x_center-w/2)\n",
        "        y1 = round(y_center-h/2)\n",
        "        x2 = round(x_center+w/2)\n",
        "        y2 = round(y_center+h/2)\n",
        "\n",
        "\n",
        "        plot_one_box([x1,y1,x2,y2], image,  label=name_of_class, line_thickness=None)\n",
        "        cv2.imwrite(r\"/content/YOLOv6/save_images_test/174.jpg\",image)\n",
        "\n",
        "        box_number += 1\n",
        "        return box_number\n",
        "draw_box_on_image(image_name, classes_path,  label_folder, raw_images_folder, save_images_folder )\n",
        "\n",
        "\n",
        "\n"
      ]
    },
    {
      "cell_type": "code",
      "execution_count": null,
      "metadata": {
        "colab": {
          "base_uri": "https://localhost:8080/"
        },
        "outputId": "087db04a-f58f-4294-ff37-0111870b3a73",
        "id": "0c_onW58jx4x"
      },
      "outputs": [
        {
          "output_type": "stream",
          "name": "stdout",
          "text": [
            "./runs/inference/exp/178_jpg.rf.baa04221008383edf6edf415da6c1f66.jpg\n"
          ]
        },
        {
          "output_type": "execute_result",
          "data": {
            "text/plain": [
              "1"
            ]
          },
          "metadata": {},
          "execution_count": 43
        }
      ],
      "source": [
        "\n",
        "import cv2\n",
        "import os\n",
        "import random\n",
        "\n",
        "\n",
        "\n",
        "label_folder = r'/content/YOLOv6/Normal-Insulator,-Defect-Insulator,-Defects--1-2/labels'\n",
        "\n",
        "raw_images_folder = r'/content/YOLOv6/Normal-Insulator,-Defect-Insulator,-Defects--1-2/images'\n",
        "\n",
        "save_images_folder = r'/content/YOLOv6/save_images_valid'\n",
        "\n",
        "name_list_path = r'/content/YOLOv6/Normal-Insulator,-Defect-Insulator,-Defects--1-2/labels/valid'\n",
        "\n",
        "classes_path = r'/content/YOLOv6/Normal-Insulator,-Defect-Insulator,-Defects--1-2'\n",
        "image_name=r'./runs/inference/exp/178_jpg.rf.baa04221008383edf6edf415da6c1f66.jpg'\n",
        "label=name_of_class='defective insulator'\n",
        "def plot_one_box(x, image, color=None, label=name_of_class, line_thickness=None):\n",
        "\n",
        "    tl = line_thickness or round(0.002 * (image.shape[0] + image.shape[1]) / 2) + 1  # line/font thickness\n",
        "    color = color or [random.randint(0, 255) for _ in range(3)]\n",
        "    c1, c2 = (int(x[0]), int(x[1])), (int(x[2]), int(x[3]))\n",
        "    cv2.rectangle(image, c1, c2, color, thickness=tl, lineType=cv2.LINE_AA)\n",
        "    if label:\n",
        "        tf = max(tl - 1, 1)  # font thickness\n",
        "        t_size = cv2.getTextSize(str(label), 0, fontScale=tl / 3, thickness=tf)[0]\n",
        "        c2 = c1[0] + t_size[0], c1[1] - t_size[1] - 3\n",
        "        cv2.rectangle(image, c1, c2, color, -1, cv2.LINE_AA)  # filled\n",
        "        cv2.putText(image,str(label), (c1[0], c1[1] - 2), 0, tl / 3, [225, 255, 255], thickness=tf, lineType=cv2.LINE_AA)\n",
        "\n",
        "\n",
        "def draw_box_on_image(image_name, classes_path, label_folder, raw_images_folder, save_images_folder ):\n",
        "\n",
        "    txt_path  = r\"/content/YOLOv6/Normal-Insulator,-Defect-Insulator,-Defects--1-2/labels/test/178_jpg.rf.baa04221008383edf6edf415da6c1f66.txt\"\n",
        "    print(image_name)\n",
        "    if image_name == '.DS_Store':\n",
        "        return 0\n",
        "\n",
        "    image_path = r\"./runs/inference/exp/178_jpg.rf.baa04221008383edf6edf415da6c1f66.jpg\"\n",
        "    save_file_path = r\"/content/YOLOv6/save_images_test/178\"\n",
        "\n",
        "    source_file = open(txt_path) if os.path.exists(txt_path) else []\n",
        "    image = cv2.imread(image_path)\n",
        "    try:\n",
        "        height, width, channels = image.shape\n",
        "    except:\n",
        "        print('no shape info.')\n",
        "        return 0\n",
        "\n",
        "    box_number = 0\n",
        "    for line in source_file:\n",
        "        staff = line.split()\n",
        "        class_idx = int(staff[0])\n",
        "\n",
        "        x_center, y_center, w, h = float(staff[1])*width, float(staff[2])*height, float(staff[3])*width, float(staff[4])*height\n",
        "        x1 = round(x_center-w/2)\n",
        "        y1 = round(y_center-h/2)\n",
        "        x2 = round(x_center+w/2)\n",
        "        y2 = round(y_center+h/2)\n",
        "\n",
        "\n",
        "        plot_one_box([x1,y1,x2,y2], image,  label=name_of_class, line_thickness=None)\n",
        "        cv2.imwrite(r\"/content/YOLOv6/save_images_test/178.jpg\",image)\n",
        "\n",
        "        box_number += 1\n",
        "        return box_number\n",
        "draw_box_on_image(image_name, classes_path,  label_folder, raw_images_folder, save_images_folder )\n",
        "\n",
        "\n",
        "\n"
      ]
    },
    {
      "cell_type": "code",
      "execution_count": null,
      "metadata": {
        "colab": {
          "base_uri": "https://localhost:8080/"
        },
        "outputId": "162d683f-e0ab-4467-b13d-32af393aa2f2",
        "id": "d1eTNgvWjzUV"
      },
      "outputs": [
        {
          "output_type": "stream",
          "name": "stdout",
          "text": [
            "./runs/inference/exp/1797_jpg.rf.2b6f9754e1875e2d6eeedba005345280.jpg\n"
          ]
        },
        {
          "output_type": "execute_result",
          "data": {
            "text/plain": [
              "1"
            ]
          },
          "metadata": {},
          "execution_count": 45
        }
      ],
      "source": [
        "\n",
        "import cv2\n",
        "import os\n",
        "import random\n",
        "\n",
        "\n",
        "\n",
        "label_folder = r'/content/YOLOv6/Normal-Insulator,-Defect-Insulator,-Defects--1-2/labels'\n",
        "\n",
        "raw_images_folder = r'/content/YOLOv6/Normal-Insulator,-Defect-Insulator,-Defects--1-2/images'\n",
        "\n",
        "save_images_folder = r'/content/YOLOv6/save_images_valid'\n",
        "\n",
        "name_list_path = r'/content/YOLOv6/Normal-Insulator,-Defect-Insulator,-Defects--1-2/labels/valid'\n",
        "\n",
        "classes_path = r'/content/YOLOv6/Normal-Insulator,-Defect-Insulator,-Defects--1-2'\n",
        "image_name=r'./runs/inference/exp/1797_jpg.rf.2b6f9754e1875e2d6eeedba005345280.jpg'\n",
        "label=name_of_class='normal insulator'\n",
        "def plot_one_box(x, image, color=None, label=name_of_class, line_thickness=None):\n",
        "\n",
        "    tl = line_thickness or round(0.002 * (image.shape[0] + image.shape[1]) / 2) + 1  # line/font thickness\n",
        "    color = color or [random.randint(0, 255) for _ in range(3)]\n",
        "    c1, c2 = (int(x[0]), int(x[1])), (int(x[2]), int(x[3]))\n",
        "    cv2.rectangle(image, c1, c2, color, thickness=tl, lineType=cv2.LINE_AA)\n",
        "    if label:\n",
        "        tf = max(tl - 1, 1)  # font thickness\n",
        "        t_size = cv2.getTextSize(str(label), 0, fontScale=tl / 3, thickness=tf)[0]\n",
        "        c2 = c1[0] + t_size[0], c1[1] - t_size[1] - 3\n",
        "        cv2.rectangle(image, c1, c2, color, -1, cv2.LINE_AA)  # filled\n",
        "        cv2.putText(image,str(label), (c1[0], c1[1] - 2), 0, tl / 3, [225, 255, 255], thickness=tf, lineType=cv2.LINE_AA)\n",
        "\n",
        "\n",
        "def draw_box_on_image(image_name, classes_path, label_folder, raw_images_folder, save_images_folder ):\n",
        "\n",
        "    txt_path  = r\"/content/YOLOv6/Normal-Insulator,-Defect-Insulator,-Defects--1-2/labels/test/1797_jpg.rf.2b6f9754e1875e2d6eeedba005345280.txt\"\n",
        "    print(image_name)\n",
        "    if image_name == '.DS_Store':\n",
        "        return 0\n",
        "\n",
        "    image_path = r\"./runs/inference/exp/1797_jpg.rf.2b6f9754e1875e2d6eeedba005345280.jpg\"\n",
        "    save_file_path = r\"/content/YOLOv6/save_images_test/1797\"\n",
        "\n",
        "    source_file = open(txt_path) if os.path.exists(txt_path) else []\n",
        "    image = cv2.imread(image_path)\n",
        "    try:\n",
        "        height, width, channels = image.shape\n",
        "    except:\n",
        "        print('no shape info.')\n",
        "        return 0\n",
        "\n",
        "    box_number = 0\n",
        "    for line in source_file:\n",
        "        staff = line.split()\n",
        "        class_idx = int(staff[0])\n",
        "\n",
        "        x_center, y_center, w, h = float(staff[1])*width, float(staff[2])*height, float(staff[3])*width, float(staff[4])*height\n",
        "        x1 = round(x_center-w/2)\n",
        "        y1 = round(y_center-h/2)\n",
        "        x2 = round(x_center+w/2)\n",
        "        y2 = round(y_center+h/2)\n",
        "\n",
        "\n",
        "        plot_one_box([x1,y1,x2,y2], image,  label=name_of_class, line_thickness=None)\n",
        "        cv2.imwrite(r\"/content/YOLOv6/save_images_test/1797.jpg\",image)\n",
        "\n",
        "        box_number += 1\n",
        "        return box_number\n",
        "draw_box_on_image(image_name, classes_path,  label_folder, raw_images_folder, save_images_folder )\n",
        "\n",
        "\n",
        "\n"
      ]
    },
    {
      "cell_type": "code",
      "execution_count": null,
      "metadata": {
        "colab": {
          "base_uri": "https://localhost:8080/"
        },
        "outputId": "89587b87-e2c5-49b0-f1f4-dfe47897dbf8",
        "id": "0QmqQMfUj0k2"
      },
      "outputs": [
        {
          "output_type": "stream",
          "name": "stdout",
          "text": [
            "./runs/inference/exp/179_jpg.rf.f29f24923a864fbf71d4bb14698def96.jpg\n"
          ]
        },
        {
          "output_type": "execute_result",
          "data": {
            "text/plain": [
              "1"
            ]
          },
          "metadata": {},
          "execution_count": 46
        }
      ],
      "source": [
        "\n",
        "import cv2\n",
        "import os\n",
        "import random\n",
        "\n",
        "\n",
        "\n",
        "label_folder = r'/content/YOLOv6/Normal-Insulator,-Defect-Insulator,-Defects--1-2/labels'\n",
        "\n",
        "raw_images_folder = r'/content/YOLOv6/Normal-Insulator,-Defect-Insulator,-Defects--1-2/images'\n",
        "\n",
        "save_images_folder = r'/content/YOLOv6/save_images_valid'\n",
        "\n",
        "name_list_path = r'/content/YOLOv6/Normal-Insulator,-Defect-Insulator,-Defects--1-2/labels/valid'\n",
        "\n",
        "classes_path = r'/content/YOLOv6/Normal-Insulator,-Defect-Insulator,-Defects--1-2'\n",
        "image_name=r'./runs/inference/exp/179_jpg.rf.f29f24923a864fbf71d4bb14698def96.jpg'\n",
        "label=name_of_class='defective insulator'\n",
        "def plot_one_box(x, image, color=None, label=name_of_class, line_thickness=None):\n",
        "\n",
        "    tl = line_thickness or round(0.002 * (image.shape[0] + image.shape[1]) / 2) + 1  # line/font thickness\n",
        "    color = color or [random.randint(0, 255) for _ in range(3)]\n",
        "    c1, c2 = (int(x[0]), int(x[1])), (int(x[2]), int(x[3]))\n",
        "    cv2.rectangle(image, c1, c2, color, thickness=tl, lineType=cv2.LINE_AA)\n",
        "    if label:\n",
        "        tf = max(tl - 1, 1)  # font thickness\n",
        "        t_size = cv2.getTextSize(str(label), 0, fontScale=tl / 3, thickness=tf)[0]\n",
        "        c2 = c1[0] + t_size[0], c1[1] - t_size[1] - 3\n",
        "        cv2.rectangle(image, c1, c2, color, -1, cv2.LINE_AA)  # filled\n",
        "        cv2.putText(image,str(label), (c1[0], c1[1] - 2), 0, tl / 3, [225, 255, 255], thickness=tf, lineType=cv2.LINE_AA)\n",
        "\n",
        "\n",
        "def draw_box_on_image(image_name, classes_path, label_folder, raw_images_folder, save_images_folder ):\n",
        "\n",
        "    txt_path  = r\"/content/YOLOv6/Normal-Insulator,-Defect-Insulator,-Defects--1-2/labels/test/179_jpg.rf.f29f24923a864fbf71d4bb14698def96.txt\"\n",
        "    print(image_name)\n",
        "    if image_name == '.DS_Store':\n",
        "        return 0\n",
        "\n",
        "    image_path = r\"./runs/inference/exp/179_jpg.rf.f29f24923a864fbf71d4bb14698def96.jpg\"\n",
        "    save_file_path = r\"/content/YOLOv6/save_images_test/179\"\n",
        "\n",
        "    source_file = open(txt_path) if os.path.exists(txt_path) else []\n",
        "    image = cv2.imread(image_path)\n",
        "    try:\n",
        "        height, width, channels = image.shape\n",
        "    except:\n",
        "        print('no shape info.')\n",
        "        return 0\n",
        "\n",
        "    box_number = 0\n",
        "    for line in source_file:\n",
        "        staff = line.split()\n",
        "        class_idx = int(staff[0])\n",
        "\n",
        "        x_center, y_center, w, h = float(staff[1])*width, float(staff[2])*height, float(staff[3])*width, float(staff[4])*height\n",
        "        x1 = round(x_center-w/2)\n",
        "        y1 = round(y_center-h/2)\n",
        "        x2 = round(x_center+w/2)\n",
        "        y2 = round(y_center+h/2)\n",
        "\n",
        "\n",
        "        plot_one_box([x1,y1,x2,y2], image,  label=name_of_class, line_thickness=None)\n",
        "        cv2.imwrite(r\"/content/YOLOv6/save_images_test/179.jpg\",image)\n",
        "\n",
        "        box_number += 1\n",
        "        return box_number\n",
        "draw_box_on_image(image_name, classes_path,  label_folder, raw_images_folder, save_images_folder )\n",
        "\n",
        "\n",
        "\n"
      ]
    },
    {
      "cell_type": "code",
      "execution_count": null,
      "metadata": {
        "colab": {
          "base_uri": "https://localhost:8080/"
        },
        "outputId": "019de2ee-4933-4784-c294-511b513b190d",
        "id": "sHzlKHrnj11g"
      },
      "outputs": [
        {
          "output_type": "stream",
          "name": "stdout",
          "text": [
            "./runs/inference/exp/188_jpg.rf.5da906adbbad8eeeae3945f3839a2d40.jpg\n"
          ]
        },
        {
          "output_type": "execute_result",
          "data": {
            "text/plain": [
              "1"
            ]
          },
          "metadata": {},
          "execution_count": 48
        }
      ],
      "source": [
        "\n",
        "import cv2\n",
        "import os\n",
        "import random\n",
        "\n",
        "\n",
        "\n",
        "label_folder = r'/content/YOLOv6/Normal-Insulator,-Defect-Insulator,-Defects--1-2/labels'\n",
        "\n",
        "raw_images_folder = r'/content/YOLOv6/Normal-Insulator,-Defect-Insulator,-Defects--1-2/images'\n",
        "\n",
        "save_images_folder = r'/content/YOLOv6/save_images_valid'\n",
        "\n",
        "name_list_path = r'/content/YOLOv6/Normal-Insulator,-Defect-Insulator,-Defects--1-2/labels/valid'\n",
        "\n",
        "classes_path = r'/content/YOLOv6/Normal-Insulator,-Defect-Insulator,-Defects--1-2'\n",
        "image_name=r'./runs/inference/exp/188_jpg.rf.5da906adbbad8eeeae3945f3839a2d40.jpg'\n",
        "label=name_of_class='defect'\n",
        "def plot_one_box(x, image, color=None, label=name_of_class, line_thickness=None):\n",
        "\n",
        "    tl = line_thickness or round(0.002 * (image.shape[0] + image.shape[1]) / 2) + 1  # line/font thickness\n",
        "    color = color or [random.randint(0, 255) for _ in range(3)]\n",
        "    c1, c2 = (int(x[0]), int(x[1])), (int(x[2]), int(x[3]))\n",
        "    cv2.rectangle(image, c1, c2, color, thickness=tl, lineType=cv2.LINE_AA)\n",
        "    if label:\n",
        "        tf = max(tl - 1, 1)  # font thickness\n",
        "        t_size = cv2.getTextSize(str(label), 0, fontScale=tl / 3, thickness=tf)[0]\n",
        "        c2 = c1[0] + t_size[0], c1[1] - t_size[1] - 3\n",
        "        cv2.rectangle(image, c1, c2, color, -1, cv2.LINE_AA)  # filled\n",
        "        cv2.putText(image,str(label), (c1[0], c1[1] - 2), 0, tl / 3, [225, 255, 255], thickness=tf, lineType=cv2.LINE_AA)\n",
        "\n",
        "\n",
        "def draw_box_on_image(image_name, classes_path, label_folder, raw_images_folder, save_images_folder ):\n",
        "\n",
        "    txt_path  = r\"/content/YOLOv6/Normal-Insulator,-Defect-Insulator,-Defects--1-2/labels/test/188_jpg.rf.5da906adbbad8eeeae3945f3839a2d40.txt\"\n",
        "    print(image_name)\n",
        "    if image_name == '.DS_Store':\n",
        "        return 0\n",
        "\n",
        "    image_path = r\"./runs/inference/exp/188_jpg.rf.5da906adbbad8eeeae3945f3839a2d40.jpg\"\n",
        "    save_file_path = r\"/content/YOLOv6/save_images_test/188\"\n",
        "\n",
        "    source_file = open(txt_path) if os.path.exists(txt_path) else []\n",
        "    image = cv2.imread(image_path)\n",
        "    try:\n",
        "        height, width, channels = image.shape\n",
        "    except:\n",
        "        print('no shape info.')\n",
        "        return 0\n",
        "\n",
        "    box_number = 0\n",
        "    for line in source_file:\n",
        "        staff = line.split()\n",
        "        class_idx = int(staff[0])\n",
        "\n",
        "        x_center, y_center, w, h = float(staff[1])*width, float(staff[2])*height, float(staff[3])*width, float(staff[4])*height\n",
        "        x1 = round(x_center-w/2)\n",
        "        y1 = round(y_center-h/2)\n",
        "        x2 = round(x_center+w/2)\n",
        "        y2 = round(y_center+h/2)\n",
        "\n",
        "\n",
        "        plot_one_box([x1,y1,x2,y2], image,  label=name_of_class, line_thickness=None)\n",
        "        cv2.imwrite(r\"/content/YOLOv6/save_images_test/188.jpg\",image)\n",
        "\n",
        "        box_number += 1\n",
        "        return box_number\n",
        "draw_box_on_image(image_name, classes_path,  label_folder, raw_images_folder, save_images_folder )\n",
        "\n",
        "\n",
        "\n"
      ]
    },
    {
      "cell_type": "code",
      "execution_count": null,
      "metadata": {
        "colab": {
          "base_uri": "https://localhost:8080/"
        },
        "outputId": "7fd45c4b-0698-460c-d8e5-59e8b0beb6ed",
        "id": "vJJBq9UWj3Aw"
      },
      "outputs": [
        {
          "output_type": "stream",
          "name": "stdout",
          "text": [
            "./runs/inference/exp/197_jpg.rf.f6405a25862d4488878f78dae203a9d3.jpg\n"
          ]
        },
        {
          "output_type": "execute_result",
          "data": {
            "text/plain": [
              "1"
            ]
          },
          "metadata": {},
          "execution_count": 49
        }
      ],
      "source": [
        "\n",
        "import cv2\n",
        "import os\n",
        "import random\n",
        "\n",
        "\n",
        "\n",
        "label_folder = r'/content/YOLOv6/Normal-Insulator,-Defect-Insulator,-Defects--1-2/labels'\n",
        "\n",
        "raw_images_folder = r'/content/YOLOv6/Normal-Insulator,-Defect-Insulator,-Defects--1-2/images'\n",
        "\n",
        "save_images_folder = r'/content/YOLOv6/save_images_valid'\n",
        "\n",
        "name_list_path = r'/content/YOLOv6/Normal-Insulator,-Defect-Insulator,-Defects--1-2/labels/valid'\n",
        "\n",
        "classes_path = r'/content/YOLOv6/Normal-Insulator,-Defect-Insulator,-Defects--1-2'\n",
        "image_name=r'./runs/inference/exp/197_jpg.rf.f6405a25862d4488878f78dae203a9d3.jpg'\n",
        "label=name_of_class='defective insulator'\n",
        "def plot_one_box(x, image, color=None, label=name_of_class, line_thickness=None):\n",
        "\n",
        "    tl = line_thickness or round(0.002 * (image.shape[0] + image.shape[1]) / 2) + 1  # line/font thickness\n",
        "    color = color or [random.randint(0, 255) for _ in range(3)]\n",
        "    c1, c2 = (int(x[0]), int(x[1])), (int(x[2]), int(x[3]))\n",
        "    cv2.rectangle(image, c1, c2, color, thickness=tl, lineType=cv2.LINE_AA)\n",
        "    if label:\n",
        "        tf = max(tl - 1, 1)  # font thickness\n",
        "        t_size = cv2.getTextSize(str(label), 0, fontScale=tl / 3, thickness=tf)[0]\n",
        "        c2 = c1[0] + t_size[0], c1[1] - t_size[1] - 3\n",
        "        cv2.rectangle(image, c1, c2, color, -1, cv2.LINE_AA)  # filled\n",
        "        cv2.putText(image,str(label), (c1[0], c1[1] - 2), 0, tl / 3, [225, 255, 255], thickness=tf, lineType=cv2.LINE_AA)\n",
        "\n",
        "\n",
        "def draw_box_on_image(image_name, classes_path, label_folder, raw_images_folder, save_images_folder ):\n",
        "\n",
        "    txt_path  = r\"/content/YOLOv6/Normal-Insulator,-Defect-Insulator,-Defects--1-2/labels/test/197_jpg.rf.f6405a25862d4488878f78dae203a9d3.txt\"\n",
        "    print(image_name)\n",
        "    if image_name == '.DS_Store':\n",
        "        return 0\n",
        "\n",
        "    image_path = r\"./runs/inference/exp/197_jpg.rf.f6405a25862d4488878f78dae203a9d3.jpg\"\n",
        "    save_file_path = r\"/content/YOLOv6/save_images_test/197\"\n",
        "\n",
        "    source_file = open(txt_path) if os.path.exists(txt_path) else []\n",
        "    image = cv2.imread(image_path)\n",
        "    try:\n",
        "        height, width, channels = image.shape\n",
        "    except:\n",
        "        print('no shape info.')\n",
        "        return 0\n",
        "\n",
        "    box_number = 0\n",
        "    for line in source_file:\n",
        "        staff = line.split()\n",
        "        class_idx = int(staff[0])\n",
        "\n",
        "        x_center, y_center, w, h = float(staff[1])*width, float(staff[2])*height, float(staff[3])*width, float(staff[4])*height\n",
        "        x1 = round(x_center-w/2)\n",
        "        y1 = round(y_center-h/2)\n",
        "        x2 = round(x_center+w/2)\n",
        "        y2 = round(y_center+h/2)\n",
        "\n",
        "\n",
        "        plot_one_box([x1,y1,x2,y2], image,  label=name_of_class, line_thickness=None)\n",
        "        cv2.imwrite(r\"/content/YOLOv6/save_images_test/197.jpg\",image)\n",
        "\n",
        "        box_number += 1\n",
        "        return box_number\n",
        "draw_box_on_image(image_name, classes_path,  label_folder, raw_images_folder, save_images_folder )\n",
        "\n",
        "\n",
        "\n"
      ]
    },
    {
      "cell_type": "code",
      "execution_count": null,
      "metadata": {
        "colab": {
          "base_uri": "https://localhost:8080/"
        },
        "outputId": "b5203376-3cd8-4946-a396-1a55fce063d2",
        "id": "8GKzQ9khj4Fc"
      },
      "outputs": [
        {
          "output_type": "stream",
          "name": "stdout",
          "text": [
            "./runs/inference/exp/201_jpg.rf.59623e5dcc7160d0fabd81cdd14d94d0.jpg\n"
          ]
        },
        {
          "output_type": "execute_result",
          "data": {
            "text/plain": [
              "1"
            ]
          },
          "metadata": {},
          "execution_count": 51
        }
      ],
      "source": [
        "\n",
        "import cv2\n",
        "import os\n",
        "import random\n",
        "\n",
        "\n",
        "\n",
        "label_folder = r'/content/YOLOv6/Normal-Insulator,-Defect-Insulator,-Defects--1-2/labels'\n",
        "\n",
        "raw_images_folder = r'/content/YOLOv6/Normal-Insulator,-Defect-Insulator,-Defects--1-2/images'\n",
        "\n",
        "save_images_folder = r'/content/YOLOv6/save_images_valid'\n",
        "\n",
        "name_list_path = r'/content/YOLOv6/Normal-Insulator,-Defect-Insulator,-Defects--1-2/labels/valid'\n",
        "\n",
        "classes_path = r'/content/YOLOv6/Normal-Insulator,-Defect-Insulator,-Defects--1-2'\n",
        "image_name=r'./runs/inference/exp/201_jpg.rf.59623e5dcc7160d0fabd81cdd14d94d0.jpg'\n",
        "label=name_of_class='defect'\n",
        "def plot_one_box(x, image, color=None, label=name_of_class, line_thickness=None):\n",
        "\n",
        "    tl = line_thickness or round(0.002 * (image.shape[0] + image.shape[1]) / 2) + 1  # line/font thickness\n",
        "    color = color or [random.randint(0, 255) for _ in range(3)]\n",
        "    c1, c2 = (int(x[0]), int(x[1])), (int(x[2]), int(x[3]))\n",
        "    cv2.rectangle(image, c1, c2, color, thickness=tl, lineType=cv2.LINE_AA)\n",
        "    if label:\n",
        "        tf = max(tl - 1, 1)  # font thickness\n",
        "        t_size = cv2.getTextSize(str(label), 0, fontScale=tl / 3, thickness=tf)[0]\n",
        "        c2 = c1[0] + t_size[0], c1[1] - t_size[1] - 3\n",
        "        cv2.rectangle(image, c1, c2, color, -1, cv2.LINE_AA)  # filled\n",
        "        cv2.putText(image,str(label), (c1[0], c1[1] - 2), 0, tl / 3, [225, 255, 255], thickness=tf, lineType=cv2.LINE_AA)\n",
        "\n",
        "\n",
        "def draw_box_on_image(image_name, classes_path, label_folder, raw_images_folder, save_images_folder ):\n",
        "\n",
        "    txt_path  = r\"/content/YOLOv6/Normal-Insulator,-Defect-Insulator,-Defects--1-2/labels/test/201_jpg.rf.59623e5dcc7160d0fabd81cdd14d94d0.txt\"\n",
        "    print(image_name)\n",
        "    if image_name == '.DS_Store':\n",
        "        return 0\n",
        "\n",
        "    image_path = r\"./runs/inference/exp/201_jpg.rf.59623e5dcc7160d0fabd81cdd14d94d0.jpg\"\n",
        "    save_file_path = r\"/content/YOLOv6/save_images_test/201\"\n",
        "\n",
        "    source_file = open(txt_path) if os.path.exists(txt_path) else []\n",
        "    image = cv2.imread(image_path)\n",
        "    try:\n",
        "        height, width, channels = image.shape\n",
        "    except:\n",
        "        print('no shape info.')\n",
        "        return 0\n",
        "\n",
        "    box_number = 0\n",
        "    for line in source_file:\n",
        "        staff = line.split()\n",
        "        class_idx = int(staff[0])\n",
        "\n",
        "        x_center, y_center, w, h = float(staff[1])*width, float(staff[2])*height, float(staff[3])*width, float(staff[4])*height\n",
        "        x1 = round(x_center-w/2)\n",
        "        y1 = round(y_center-h/2)\n",
        "        x2 = round(x_center+w/2)\n",
        "        y2 = round(y_center+h/2)\n",
        "\n",
        "\n",
        "        plot_one_box([x1,y1,x2,y2], image,  label=name_of_class, line_thickness=None)\n",
        "        cv2.imwrite(r\"/content/YOLOv6/save_images_test/201.jpg\",image)\n",
        "\n",
        "        box_number += 1\n",
        "        return box_number\n",
        "draw_box_on_image(image_name, classes_path,  label_folder, raw_images_folder, save_images_folder )\n",
        "\n",
        "\n",
        "\n"
      ]
    },
    {
      "cell_type": "code",
      "execution_count": null,
      "metadata": {
        "colab": {
          "base_uri": "https://localhost:8080/"
        },
        "outputId": "af6b8b7d-e064-4cf1-ca5f-1d212ca2b2fb",
        "id": "ea9Ad8fij5Jr"
      },
      "outputs": [
        {
          "output_type": "stream",
          "name": "stdout",
          "text": [
            "./runs/inference/exp/201_jpg.rf.aea47a365a5333d545c4b3176517669a.jpg\n"
          ]
        },
        {
          "output_type": "execute_result",
          "data": {
            "text/plain": [
              "1"
            ]
          },
          "metadata": {},
          "execution_count": 53
        }
      ],
      "source": [
        "\n",
        "import cv2\n",
        "import os\n",
        "import random\n",
        "\n",
        "\n",
        "\n",
        "label_folder = r'/content/YOLOv6/Normal-Insulator,-Defect-Insulator,-Defects--1-2/labels'\n",
        "\n",
        "raw_images_folder = r'/content/YOLOv6/Normal-Insulator,-Defect-Insulator,-Defects--1-2/images'\n",
        "\n",
        "save_images_folder = r'/content/YOLOv6/save_images_valid'\n",
        "\n",
        "name_list_path = r'/content/YOLOv6/Normal-Insulator,-Defect-Insulator,-Defects--1-2/labels/valid'\n",
        "\n",
        "classes_path = r'/content/YOLOv6/Normal-Insulator,-Defect-Insulator,-Defects--1-2'\n",
        "image_name=r'./runs/inference/exp/201_jpg.rf.aea47a365a5333d545c4b3176517669a.jpg'\n",
        "label=name_of_class='defective insulator'\n",
        "def plot_one_box(x, image, color=None, label=name_of_class, line_thickness=None):\n",
        "\n",
        "    tl = line_thickness or round(0.002 * (image.shape[0] + image.shape[1]) / 2) + 1  # line/font thickness\n",
        "    color = color or [random.randint(0, 255) for _ in range(3)]\n",
        "    c1, c2 = (int(x[0]), int(x[1])), (int(x[2]), int(x[3]))\n",
        "    cv2.rectangle(image, c1, c2, color, thickness=tl, lineType=cv2.LINE_AA)\n",
        "    if label:\n",
        "        tf = max(tl - 1, 1)  # font thickness\n",
        "        t_size = cv2.getTextSize(str(label), 0, fontScale=tl / 3, thickness=tf)[0]\n",
        "        c2 = c1[0] + t_size[0], c1[1] - t_size[1] - 3\n",
        "        cv2.rectangle(image, c1, c2, color, -1, cv2.LINE_AA)  # filled\n",
        "        cv2.putText(image,str(label), (c1[0], c1[1] - 2), 0, tl / 3, [225, 255, 255], thickness=tf, lineType=cv2.LINE_AA)\n",
        "\n",
        "\n",
        "def draw_box_on_image(image_name, classes_path, label_folder, raw_images_folder, save_images_folder ):\n",
        "\n",
        "    txt_path  = r\"/content/YOLOv6/Normal-Insulator,-Defect-Insulator,-Defects--1-2/labels/test/201_jpg.rf.aea47a365a5333d545c4b3176517669a.txt\"\n",
        "    print(image_name)\n",
        "    if image_name == '.DS_Store':\n",
        "        return 0\n",
        "\n",
        "    image_path = r\"./runs/inference/exp/201_jpg.rf.aea47a365a5333d545c4b3176517669a.jpg\"\n",
        "    save_file_path = r\"/content/YOLOv6/save_images_test/201-1\"\n",
        "\n",
        "    source_file = open(txt_path) if os.path.exists(txt_path) else []\n",
        "    image = cv2.imread(image_path)\n",
        "    try:\n",
        "        height, width, channels = image.shape\n",
        "    except:\n",
        "        print('no shape info.')\n",
        "        return 0\n",
        "\n",
        "    box_number = 0\n",
        "    for line in source_file:\n",
        "        staff = line.split()\n",
        "        class_idx = int(staff[0])\n",
        "\n",
        "        x_center, y_center, w, h = float(staff[1])*width, float(staff[2])*height, float(staff[3])*width, float(staff[4])*height\n",
        "        x1 = round(x_center-w/2)\n",
        "        y1 = round(y_center-h/2)\n",
        "        x2 = round(x_center+w/2)\n",
        "        y2 = round(y_center+h/2)\n",
        "\n",
        "\n",
        "        plot_one_box([x1,y1,x2,y2], image,  label=name_of_class, line_thickness=None)\n",
        "        cv2.imwrite(r\"/content/YOLOv6/save_images_test/201-1.jpg\",image)\n",
        "\n",
        "        box_number += 1\n",
        "        return box_number\n",
        "draw_box_on_image(image_name, classes_path,  label_folder, raw_images_folder, save_images_folder )\n",
        "\n",
        "\n",
        "\n"
      ]
    },
    {
      "cell_type": "code",
      "execution_count": null,
      "metadata": {
        "colab": {
          "base_uri": "https://localhost:8080/"
        },
        "outputId": "a88fbd61-7288-4f07-8ca4-51d35ba57238",
        "id": "yH9aCnZMj6eE"
      },
      "outputs": [
        {
          "output_type": "stream",
          "name": "stdout",
          "text": [
            "./runs/inference/exp/2027_jpg.rf.75007030edd6c019effde5c4ed069520.jpg\n"
          ]
        },
        {
          "output_type": "execute_result",
          "data": {
            "text/plain": [
              "1"
            ]
          },
          "metadata": {},
          "execution_count": 54
        }
      ],
      "source": [
        "\n",
        "import cv2\n",
        "import os\n",
        "import random\n",
        "\n",
        "\n",
        "\n",
        "label_folder = r'/content/YOLOv6/Normal-Insulator,-Defect-Insulator,-Defects--1-2/labels'\n",
        "\n",
        "raw_images_folder = r'/content/YOLOv6/Normal-Insulator,-Defect-Insulator,-Defects--1-2/images'\n",
        "\n",
        "save_images_folder = r'/content/YOLOv6/save_images_valid'\n",
        "\n",
        "name_list_path = r'/content/YOLOv6/Normal-Insulator,-Defect-Insulator,-Defects--1-2/labels/valid'\n",
        "\n",
        "classes_path = r'/content/YOLOv6/Normal-Insulator,-Defect-Insulator,-Defects--1-2'\n",
        "image_name=r'./runs/inference/exp/2027_jpg.rf.75007030edd6c019effde5c4ed069520.jpg'\n",
        "label=name_of_class='normal insulator'\n",
        "def plot_one_box(x, image, color=None, label=name_of_class, line_thickness=None):\n",
        "\n",
        "    tl = line_thickness or round(0.002 * (image.shape[0] + image.shape[1]) / 2) + 1  # line/font thickness\n",
        "    color = color or [random.randint(0, 255) for _ in range(3)]\n",
        "    c1, c2 = (int(x[0]), int(x[1])), (int(x[2]), int(x[3]))\n",
        "    cv2.rectangle(image, c1, c2, color, thickness=tl, lineType=cv2.LINE_AA)\n",
        "    if label:\n",
        "        tf = max(tl - 1, 1)  # font thickness\n",
        "        t_size = cv2.getTextSize(str(label), 0, fontScale=tl / 3, thickness=tf)[0]\n",
        "        c2 = c1[0] + t_size[0], c1[1] - t_size[1] - 3\n",
        "        cv2.rectangle(image, c1, c2, color, -1, cv2.LINE_AA)  # filled\n",
        "        cv2.putText(image,str(label), (c1[0], c1[1] - 2), 0, tl / 3, [225, 255, 255], thickness=tf, lineType=cv2.LINE_AA)\n",
        "\n",
        "\n",
        "def draw_box_on_image(image_name, classes_path, label_folder, raw_images_folder, save_images_folder ):\n",
        "\n",
        "    txt_path  = r\"/content/YOLOv6/Normal-Insulator,-Defect-Insulator,-Defects--1-2/labels/test/2027_jpg.rf.75007030edd6c019effde5c4ed069520.txt\"\n",
        "    print(image_name)\n",
        "    if image_name == '.DS_Store':\n",
        "        return 0\n",
        "\n",
        "    image_path = r\"./runs/inference/exp/2027_jpg.rf.75007030edd6c019effde5c4ed069520.jpg\"\n",
        "    save_file_path = r\"/content/YOLOv6/save_images_test/2027\"\n",
        "\n",
        "    source_file = open(txt_path) if os.path.exists(txt_path) else []\n",
        "    image = cv2.imread(image_path)\n",
        "    try:\n",
        "        height, width, channels = image.shape\n",
        "    except:\n",
        "        print('no shape info.')\n",
        "        return 0\n",
        "\n",
        "    box_number = 0\n",
        "    for line in source_file:\n",
        "        staff = line.split()\n",
        "        class_idx = int(staff[0])\n",
        "\n",
        "        x_center, y_center, w, h = float(staff[1])*width, float(staff[2])*height, float(staff[3])*width, float(staff[4])*height\n",
        "        x1 = round(x_center-w/2)\n",
        "        y1 = round(y_center-h/2)\n",
        "        x2 = round(x_center+w/2)\n",
        "        y2 = round(y_center+h/2)\n",
        "\n",
        "\n",
        "        plot_one_box([x1,y1,x2,y2], image,  label=name_of_class, line_thickness=None)\n",
        "        cv2.imwrite(r\"/content/YOLOv6/save_images_test/2027.jpg\",image)\n",
        "\n",
        "        box_number += 1\n",
        "        return box_number\n",
        "draw_box_on_image(image_name, classes_path,  label_folder, raw_images_folder, save_images_folder )\n",
        "\n",
        "\n",
        "\n"
      ]
    },
    {
      "cell_type": "code",
      "execution_count": null,
      "metadata": {
        "colab": {
          "base_uri": "https://localhost:8080/"
        },
        "outputId": "c6b05eea-5fe0-487f-c598-1fa2bbd29f2d",
        "id": "qzGq9ZLakFtG"
      },
      "outputs": [
        {
          "output_type": "stream",
          "name": "stdout",
          "text": [
            "./runs/inference/exp/206_jpg.rf.d6b2127e95ae0d91c303c17423baf602.jpg\n"
          ]
        },
        {
          "output_type": "execute_result",
          "data": {
            "text/plain": [
              "1"
            ]
          },
          "metadata": {},
          "execution_count": 55
        }
      ],
      "source": [
        "\n",
        "import cv2\n",
        "import os\n",
        "import random\n",
        "\n",
        "\n",
        "\n",
        "label_folder = r'/content/YOLOv6/Normal-Insulator,-Defect-Insulator,-Defects--1-2/labels'\n",
        "\n",
        "raw_images_folder = r'/content/YOLOv6/Normal-Insulator,-Defect-Insulator,-Defects--1-2/images'\n",
        "\n",
        "save_images_folder = r'/content/YOLOv6/save_images_valid'\n",
        "\n",
        "name_list_path = r'/content/YOLOv6/Normal-Insulator,-Defect-Insulator,-Defects--1-2/labels/valid'\n",
        "\n",
        "classes_path = r'/content/YOLOv6/Normal-Insulator,-Defect-Insulator,-Defects--1-2'\n",
        "image_name=r'./runs/inference/exp/206_jpg.rf.d6b2127e95ae0d91c303c17423baf602.jpg'\n",
        "label=name_of_class='defective insulator'\n",
        "def plot_one_box(x, image, color=None, label=name_of_class, line_thickness=None):\n",
        "\n",
        "    tl = line_thickness or round(0.002 * (image.shape[0] + image.shape[1]) / 2) + 1  # line/font thickness\n",
        "    color = color or [random.randint(0, 255) for _ in range(3)]\n",
        "    c1, c2 = (int(x[0]), int(x[1])), (int(x[2]), int(x[3]))\n",
        "    cv2.rectangle(image, c1, c2, color, thickness=tl, lineType=cv2.LINE_AA)\n",
        "    if label:\n",
        "        tf = max(tl - 1, 1)  # font thickness\n",
        "        t_size = cv2.getTextSize(str(label), 0, fontScale=tl / 3, thickness=tf)[0]\n",
        "        c2 = c1[0] + t_size[0], c1[1] - t_size[1] - 3\n",
        "        cv2.rectangle(image, c1, c2, color, -1, cv2.LINE_AA)  # filled\n",
        "        cv2.putText(image,str(label), (c1[0], c1[1] - 2), 0, tl / 3, [225, 255, 255], thickness=tf, lineType=cv2.LINE_AA)\n",
        "\n",
        "\n",
        "def draw_box_on_image(image_name, classes_path, label_folder, raw_images_folder, save_images_folder ):\n",
        "\n",
        "    txt_path  = r\"/content/YOLOv6/Normal-Insulator,-Defect-Insulator,-Defects--1-2/labels/test/206_jpg.rf.d6b2127e95ae0d91c303c17423baf602.txt\"\n",
        "    print(image_name)\n",
        "    if image_name == '.DS_Store':\n",
        "        return 0\n",
        "\n",
        "    image_path = r\"./runs/inference/exp/206_jpg.rf.d6b2127e95ae0d91c303c17423baf602.jpg\"\n",
        "    save_file_path = r\"/content/YOLOv6/save_images_test/206\"\n",
        "\n",
        "    source_file = open(txt_path) if os.path.exists(txt_path) else []\n",
        "    image = cv2.imread(image_path)\n",
        "    try:\n",
        "        height, width, channels = image.shape\n",
        "    except:\n",
        "        print('no shape info.')\n",
        "        return 0\n",
        "\n",
        "    box_number = 0\n",
        "    for line in source_file:\n",
        "        staff = line.split()\n",
        "        class_idx = int(staff[0])\n",
        "\n",
        "        x_center, y_center, w, h = float(staff[1])*width, float(staff[2])*height, float(staff[3])*width, float(staff[4])*height\n",
        "        x1 = round(x_center-w/2)\n",
        "        y1 = round(y_center-h/2)\n",
        "        x2 = round(x_center+w/2)\n",
        "        y2 = round(y_center+h/2)\n",
        "\n",
        "\n",
        "        plot_one_box([x1,y1,x2,y2], image,  label=name_of_class, line_thickness=None)\n",
        "        cv2.imwrite(r\"/content/YOLOv6/save_images_test/206.jpg\",image)\n",
        "\n",
        "        box_number += 1\n",
        "        return box_number\n",
        "draw_box_on_image(image_name, classes_path,  label_folder, raw_images_folder, save_images_folder )\n",
        "\n",
        "\n",
        "\n"
      ]
    },
    {
      "cell_type": "code",
      "execution_count": null,
      "metadata": {
        "colab": {
          "base_uri": "https://localhost:8080/"
        },
        "outputId": "147032e7-5f90-47e8-f21d-edb968f68290",
        "id": "u6ev3oXrkKHX"
      },
      "outputs": [
        {
          "output_type": "stream",
          "name": "stdout",
          "text": [
            "./runs/inference/exp/208_jpg.rf.8852389d47535cd5238ec69c01e2f2bd.jpg\n"
          ]
        },
        {
          "output_type": "execute_result",
          "data": {
            "text/plain": [
              "1"
            ]
          },
          "metadata": {},
          "execution_count": 57
        }
      ],
      "source": [
        "\n",
        "import cv2\n",
        "import os\n",
        "import random\n",
        "\n",
        "\n",
        "\n",
        "label_folder = r'/content/YOLOv6/Normal-Insulator,-Defect-Insulator,-Defects--1-2/labels'\n",
        "\n",
        "raw_images_folder = r'/content/YOLOv6/Normal-Insulator,-Defect-Insulator,-Defects--1-2/images'\n",
        "\n",
        "save_images_folder = r'/content/YOLOv6/save_images_valid'\n",
        "\n",
        "name_list_path = r'/content/YOLOv6/Normal-Insulator,-Defect-Insulator,-Defects--1-2/labels/valid'\n",
        "\n",
        "classes_path = r'/content/YOLOv6/Normal-Insulator,-Defect-Insulator,-Defects--1-2'\n",
        "image_name=r'./runs/inference/exp/208_jpg.rf.8852389d47535cd5238ec69c01e2f2bd.jpg'\n",
        "label=name_of_class='defect'\n",
        "def plot_one_box(x, image, color=None, label=name_of_class, line_thickness=None):\n",
        "\n",
        "    tl = line_thickness or round(0.002 * (image.shape[0] + image.shape[1]) / 2) + 1  # line/font thickness\n",
        "    color = color or [random.randint(0, 255) for _ in range(3)]\n",
        "    c1, c2 = (int(x[0]), int(x[1])), (int(x[2]), int(x[3]))\n",
        "    cv2.rectangle(image, c1, c2, color, thickness=tl, lineType=cv2.LINE_AA)\n",
        "    if label:\n",
        "        tf = max(tl - 1, 1)  # font thickness\n",
        "        t_size = cv2.getTextSize(str(label), 0, fontScale=tl / 3, thickness=tf)[0]\n",
        "        c2 = c1[0] + t_size[0], c1[1] - t_size[1] - 3\n",
        "        cv2.rectangle(image, c1, c2, color, -1, cv2.LINE_AA)  # filled\n",
        "        cv2.putText(image,str(label), (c1[0], c1[1] - 2), 0, tl / 3, [225, 255, 255], thickness=tf, lineType=cv2.LINE_AA)\n",
        "\n",
        "\n",
        "def draw_box_on_image(image_name, classes_path, label_folder, raw_images_folder, save_images_folder ):\n",
        "\n",
        "    txt_path  = r\"/content/YOLOv6/Normal-Insulator,-Defect-Insulator,-Defects--1-2/labels/test/208_jpg.rf.8852389d47535cd5238ec69c01e2f2bd.txt\"\n",
        "    print(image_name)\n",
        "    if image_name == '.DS_Store':\n",
        "        return 0\n",
        "\n",
        "    image_path = r\"./runs/inference/exp/208_jpg.rf.8852389d47535cd5238ec69c01e2f2bd.jpg\"\n",
        "    save_file_path = r\"/content/YOLOv6/save_images_test/208\"\n",
        "\n",
        "    source_file = open(txt_path) if os.path.exists(txt_path) else []\n",
        "    image = cv2.imread(image_path)\n",
        "    try:\n",
        "        height, width, channels = image.shape\n",
        "    except:\n",
        "        print('no shape info.')\n",
        "        return 0\n",
        "\n",
        "    box_number = 0\n",
        "    for line in source_file:\n",
        "        staff = line.split()\n",
        "        class_idx = int(staff[0])\n",
        "\n",
        "        x_center, y_center, w, h = float(staff[1])*width, float(staff[2])*height, float(staff[3])*width, float(staff[4])*height\n",
        "        x1 = round(x_center-w/2)\n",
        "        y1 = round(y_center-h/2)\n",
        "        x2 = round(x_center+w/2)\n",
        "        y2 = round(y_center+h/2)\n",
        "\n",
        "\n",
        "        plot_one_box([x1,y1,x2,y2], image,  label=name_of_class, line_thickness=None)\n",
        "        cv2.imwrite(r\"/content/YOLOv6/save_images_test/208.jpg\",image)\n",
        "\n",
        "        box_number += 1\n",
        "        return box_number\n",
        "draw_box_on_image(image_name, classes_path,  label_folder, raw_images_folder, save_images_folder )\n",
        "\n",
        "\n",
        "\n"
      ]
    },
    {
      "cell_type": "code",
      "execution_count": null,
      "metadata": {
        "colab": {
          "base_uri": "https://localhost:8080/"
        },
        "outputId": "3628327d-88d1-49ff-9dac-3a9ee8dcf46d",
        "id": "VryGVJaqkKUE"
      },
      "outputs": [
        {
          "output_type": "stream",
          "name": "stdout",
          "text": [
            "./runs/inference/exp/2104_jpg.rf.11cb6eae25d658b9577c0d61f2a913e5.jpg\n"
          ]
        },
        {
          "output_type": "execute_result",
          "data": {
            "text/plain": [
              "1"
            ]
          },
          "metadata": {},
          "execution_count": 59
        }
      ],
      "source": [
        "\n",
        "import cv2\n",
        "import os\n",
        "import random\n",
        "\n",
        "\n",
        "\n",
        "label_folder = r'/content/YOLOv6/Normal-Insulator,-Defect-Insulator,-Defects--1-2/labels'\n",
        "\n",
        "raw_images_folder = r'/content/YOLOv6/Normal-Insulator,-Defect-Insulator,-Defects--1-2/images'\n",
        "\n",
        "save_images_folder = r'/content/YOLOv6/save_images_valid'\n",
        "\n",
        "name_list_path = r'/content/YOLOv6/Normal-Insulator,-Defect-Insulator,-Defects--1-2/labels/valid'\n",
        "\n",
        "classes_path = r'/content/YOLOv6/Normal-Insulator,-Defect-Insulator,-Defects--1-2'\n",
        "image_name=r'./runs/inference/exp/2104_jpg.rf.11cb6eae25d658b9577c0d61f2a913e5.jpg'\n",
        "label=name_of_class='normal insulator'\n",
        "def plot_one_box(x, image, color=None, label=name_of_class, line_thickness=None):\n",
        "\n",
        "    tl = line_thickness or round(0.002 * (image.shape[0] + image.shape[1]) / 2) + 1  # line/font thickness\n",
        "    color = color or [random.randint(0, 255) for _ in range(3)]\n",
        "    c1, c2 = (int(x[0]), int(x[1])), (int(x[2]), int(x[3]))\n",
        "    cv2.rectangle(image, c1, c2, color, thickness=tl, lineType=cv2.LINE_AA)\n",
        "    if label:\n",
        "        tf = max(tl - 1, 1)  # font thickness\n",
        "        t_size = cv2.getTextSize(str(label), 0, fontScale=tl / 3, thickness=tf)[0]\n",
        "        c2 = c1[0] + t_size[0], c1[1] - t_size[1] - 3\n",
        "        cv2.rectangle(image, c1, c2, color, -1, cv2.LINE_AA)  # filled\n",
        "        cv2.putText(image,str(label), (c1[0], c1[1] - 2), 0, tl / 3, [225, 255, 255], thickness=tf, lineType=cv2.LINE_AA)\n",
        "\n",
        "\n",
        "def draw_box_on_image(image_name, classes_path, label_folder, raw_images_folder, save_images_folder ):\n",
        "\n",
        "    txt_path  = r\"/content/YOLOv6/Normal-Insulator,-Defect-Insulator,-Defects--1-2/labels/test/2104_jpg.rf.11cb6eae25d658b9577c0d61f2a913e5.txt\"\n",
        "    print(image_name)\n",
        "    if image_name == '.DS_Store':\n",
        "        return 0\n",
        "\n",
        "    image_path = r\"./runs/inference/exp/2104_jpg.rf.11cb6eae25d658b9577c0d61f2a913e5.jpg\"\n",
        "    save_file_path = r\"/content/YOLOv6/save_images_test/2104\"\n",
        "\n",
        "    source_file = open(txt_path) if os.path.exists(txt_path) else []\n",
        "    image = cv2.imread(image_path)\n",
        "    try:\n",
        "        height, width, channels = image.shape\n",
        "    except:\n",
        "        print('no shape info.')\n",
        "        return 0\n",
        "\n",
        "    box_number = 0\n",
        "    for line in source_file:\n",
        "        staff = line.split()\n",
        "        class_idx = int(staff[0])\n",
        "\n",
        "        x_center, y_center, w, h = float(staff[1])*width, float(staff[2])*height, float(staff[3])*width, float(staff[4])*height\n",
        "        x1 = round(x_center-w/2)\n",
        "        y1 = round(y_center-h/2)\n",
        "        x2 = round(x_center+w/2)\n",
        "        y2 = round(y_center+h/2)\n",
        "\n",
        "\n",
        "        plot_one_box([x1,y1,x2,y2], image,  label=name_of_class, line_thickness=None)\n",
        "        cv2.imwrite(r\"/content/YOLOv6/save_images_test/2104.jpg\",image)\n",
        "\n",
        "        box_number += 1\n",
        "        return box_number\n",
        "draw_box_on_image(image_name, classes_path,  label_folder, raw_images_folder, save_images_folder )\n",
        "\n",
        "\n",
        "\n"
      ]
    },
    {
      "cell_type": "code",
      "execution_count": null,
      "metadata": {
        "colab": {
          "base_uri": "https://localhost:8080/"
        },
        "outputId": "b5614d1f-7ec5-410a-8ce3-e5936ca56156",
        "id": "eTCFKBnvkKgq"
      },
      "outputs": [
        {
          "output_type": "stream",
          "name": "stdout",
          "text": [
            "./runs/inference/exp/210_jpg.rf.ec3f7fbac08c2ee3a19ed469c159e350.jpg\n"
          ]
        },
        {
          "output_type": "execute_result",
          "data": {
            "text/plain": [
              "1"
            ]
          },
          "metadata": {},
          "execution_count": 61
        }
      ],
      "source": [
        "\n",
        "import cv2\n",
        "import os\n",
        "import random\n",
        "\n",
        "\n",
        "\n",
        "label_folder = r'/content/YOLOv6/Normal-Insulator,-Defect-Insulator,-Defects--1-2/labels'\n",
        "\n",
        "raw_images_folder = r'/content/YOLOv6/Normal-Insulator,-Defect-Insulator,-Defects--1-2/images'\n",
        "\n",
        "save_images_folder = r'/content/YOLOv6/save_images_valid'\n",
        "\n",
        "name_list_path = r'/content/YOLOv6/Normal-Insulator,-Defect-Insulator,-Defects--1-2/labels/valid'\n",
        "\n",
        "classes_path = r'/content/YOLOv6/Normal-Insulator,-Defect-Insulator,-Defects--1-2'\n",
        "image_name=r'./runs/inference/exp/210_jpg.rf.ec3f7fbac08c2ee3a19ed469c159e350.jpg'\n",
        "label=name_of_class='defect'\n",
        "def plot_one_box(x, image, color=None, label=name_of_class, line_thickness=None):\n",
        "\n",
        "    tl = line_thickness or round(0.002 * (image.shape[0] + image.shape[1]) / 2) + 1  # line/font thickness\n",
        "    color = color or [random.randint(0, 255) for _ in range(3)]\n",
        "    c1, c2 = (int(x[0]), int(x[1])), (int(x[2]), int(x[3]))\n",
        "    cv2.rectangle(image, c1, c2, color, thickness=tl, lineType=cv2.LINE_AA)\n",
        "    if label:\n",
        "        tf = max(tl - 1, 1)  # font thickness\n",
        "        t_size = cv2.getTextSize(str(label), 0, fontScale=tl / 3, thickness=tf)[0]\n",
        "        c2 = c1[0] + t_size[0], c1[1] - t_size[1] - 3\n",
        "        cv2.rectangle(image, c1, c2, color, -1, cv2.LINE_AA)  # filled\n",
        "        cv2.putText(image,str(label), (c1[0], c1[1] - 2), 0, tl / 3, [225, 255, 255], thickness=tf, lineType=cv2.LINE_AA)\n",
        "\n",
        "\n",
        "def draw_box_on_image(image_name, classes_path, label_folder, raw_images_folder, save_images_folder ):\n",
        "\n",
        "    txt_path  = r\"/content/YOLOv6/Normal-Insulator,-Defect-Insulator,-Defects--1-2/labels/test/210_jpg.rf.ec3f7fbac08c2ee3a19ed469c159e350.txt\"\n",
        "    print(image_name)\n",
        "    if image_name == '.DS_Store':\n",
        "        return 0\n",
        "\n",
        "    image_path = r\"./runs/inference/exp/210_jpg.rf.ec3f7fbac08c2ee3a19ed469c159e350.jpg\"\n",
        "    save_file_path = r\"/content/YOLOv6/save_images_test/210\"\n",
        "\n",
        "    source_file = open(txt_path) if os.path.exists(txt_path) else []\n",
        "    image = cv2.imread(image_path)\n",
        "    try:\n",
        "        height, width, channels = image.shape\n",
        "    except:\n",
        "        print('no shape info.')\n",
        "        return 0\n",
        "\n",
        "    box_number = 0\n",
        "    for line in source_file:\n",
        "        staff = line.split()\n",
        "        class_idx = int(staff[0])\n",
        "\n",
        "        x_center, y_center, w, h = float(staff[1])*width, float(staff[2])*height, float(staff[3])*width, float(staff[4])*height\n",
        "        x1 = round(x_center-w/2)\n",
        "        y1 = round(y_center-h/2)\n",
        "        x2 = round(x_center+w/2)\n",
        "        y2 = round(y_center+h/2)\n",
        "\n",
        "\n",
        "        plot_one_box([x1,y1,x2,y2], image,  label=name_of_class, line_thickness=None)\n",
        "        cv2.imwrite(r\"/content/YOLOv6/save_images_test/210.jpg\",image)\n",
        "\n",
        "        box_number += 1\n",
        "        return box_number\n",
        "draw_box_on_image(image_name, classes_path,  label_folder, raw_images_folder, save_images_folder )\n",
        "\n",
        "\n",
        "\n"
      ]
    },
    {
      "cell_type": "code",
      "execution_count": null,
      "metadata": {
        "colab": {
          "base_uri": "https://localhost:8080/"
        },
        "outputId": "2bf2c70b-79e8-4a02-96ff-770faeb8201c",
        "id": "iv38pQaHkKtK"
      },
      "outputs": [
        {
          "output_type": "stream",
          "name": "stdout",
          "text": [
            "./runs/inference/exp/118_jpg.rf.e79f452f7924940ebc03e87ac2865ae8.jpg\n"
          ]
        },
        {
          "output_type": "execute_result",
          "data": {
            "text/plain": [
              "1"
            ]
          },
          "metadata": {},
          "execution_count": 91
        }
      ],
      "source": [
        "\n",
        "import cv2\n",
        "import os\n",
        "import random\n",
        "\n",
        "\n",
        "\n",
        "label_folder = r'/content/YOLOv6/Normal-Insulator,-Defect-Insulator,-Defects--1-2/labels'\n",
        "\n",
        "raw_images_folder = r'/content/YOLOv6/Normal-Insulator,-Defect-Insulator,-Defects--1-2/images'\n",
        "\n",
        "save_images_folder = r'/content/YOLOv6/save_images_valid'\n",
        "\n",
        "name_list_path = r'/content/YOLOv6/Normal-Insulator,-Defect-Insulator,-Defects--1-2/labels/valid'\n",
        "\n",
        "classes_path = r'/content/YOLOv6/Normal-Insulator,-Defect-Insulator,-Defects--1-2'\n",
        "image_name=r'.'\n",
        "label=name_of_class='defective insulator'\n",
        "def plot_one_box(x, image, color=None, label=name_of_class, line_thickness=None):\n",
        "\n",
        "    tl = line_thickness or round(0.002 * (image.shape[0] + image.shape[1]) / 2) + 1  # line/font thickness\n",
        "    color = color or [random.randint(0, 255) for _ in range(3)]\n",
        "    c1, c2 = (int(x[0]), int(x[1])), (int(x[2]), int(x[3]))\n",
        "    cv2.rectangle(image, c1, c2, color, thickness=tl, lineType=cv2.LINE_AA)\n",
        "    if label:\n",
        "        tf = max(tl - 1, 1)  # font thickness\n",
        "        t_size = cv2.getTextSize(str(label), 0, fontScale=tl / 3, thickness=tf)[0]\n",
        "        c2 = c1[0] + t_size[0], c1[1] - t_size[1] - 3\n",
        "        cv2.rectangle(image, c1, c2, color, -1, cv2.LINE_AA)  # filled\n",
        "        cv2.putText(image,str(label), (c1[0], c1[1] - 2), 0, tl / 3, [225, 255, 255], thickness=tf, lineType=cv2.LINE_AA)\n",
        "\n",
        "\n",
        "def draw_box_on_image(image_name, classes_path, label_folder, raw_images_folder, save_images_folder ):\n",
        "\n",
        "    txt_path  = r\"\"\n",
        "    print(image_name)\n",
        "    if image_name == '.DS_Store':\n",
        "        return 0\n",
        "\n",
        "    image_path = r\".\"\n",
        "    save_file_path = r\"/content/YOLOv6/save_images_test/\"\n",
        "\n",
        "    source_file = open(txt_path) if os.path.exists(txt_path) else []\n",
        "    image = cv2.imread(image_path)\n",
        "    try:\n",
        "        height, width, channels = image.shape\n",
        "    except:\n",
        "        print('no shape info.')\n",
        "        return 0\n",
        "\n",
        "    box_number = 0\n",
        "    for line in source_file:\n",
        "        staff = line.split()\n",
        "        class_idx = int(staff[0])\n",
        "\n",
        "        x_center, y_center, w, h = float(staff[1])*width, float(staff[2])*height, float(staff[3])*width, float(staff[4])*height\n",
        "        x1 = round(x_center-w/2)\n",
        "        y1 = round(y_center-h/2)\n",
        "        x2 = round(x_center+w/2)\n",
        "        y2 = round(y_center+h/2)\n",
        "\n",
        "\n",
        "        plot_one_box([x1,y1,x2,y2], image,  label=name_of_class, line_thickness=None)\n",
        "        cv2.imwrite(r\"/content/YOLOv6/save_images_test/.jpg\",image)\n",
        "\n",
        "        box_number += 1\n",
        "        return box_number\n",
        "draw_box_on_image(image_name, classes_path,  label_folder, raw_images_folder, save_images_folder )\n",
        "\n",
        "\n",
        "\n"
      ]
    },
    {
      "cell_type": "code",
      "execution_count": null,
      "metadata": {
        "colab": {
          "base_uri": "https://localhost:8080/"
        },
        "outputId": "2bf2c70b-79e8-4a02-96ff-770faeb8201c",
        "id": "d2pTLjuokK6D"
      },
      "outputs": [
        {
          "output_type": "stream",
          "name": "stdout",
          "text": [
            "./runs/inference/exp/118_jpg.rf.e79f452f7924940ebc03e87ac2865ae8.jpg\n"
          ]
        },
        {
          "output_type": "execute_result",
          "data": {
            "text/plain": [
              "1"
            ]
          },
          "metadata": {},
          "execution_count": 91
        }
      ],
      "source": [
        "\n",
        "import cv2\n",
        "import os\n",
        "import random\n",
        "\n",
        "\n",
        "\n",
        "label_folder = r'/content/YOLOv6/Normal-Insulator,-Defect-Insulator,-Defects--1-2/labels'\n",
        "\n",
        "raw_images_folder = r'/content/YOLOv6/Normal-Insulator,-Defect-Insulator,-Defects--1-2/images'\n",
        "\n",
        "save_images_folder = r'/content/YOLOv6/save_images_valid'\n",
        "\n",
        "name_list_path = r'/content/YOLOv6/Normal-Insulator,-Defect-Insulator,-Defects--1-2/labels/valid'\n",
        "\n",
        "classes_path = r'/content/YOLOv6/Normal-Insulator,-Defect-Insulator,-Defects--1-2'\n",
        "image_name=r'.'\n",
        "label=name_of_class='defective insulator'\n",
        "def plot_one_box(x, image, color=None, label=name_of_class, line_thickness=None):\n",
        "\n",
        "    tl = line_thickness or round(0.002 * (image.shape[0] + image.shape[1]) / 2) + 1  # line/font thickness\n",
        "    color = color or [random.randint(0, 255) for _ in range(3)]\n",
        "    c1, c2 = (int(x[0]), int(x[1])), (int(x[2]), int(x[3]))\n",
        "    cv2.rectangle(image, c1, c2, color, thickness=tl, lineType=cv2.LINE_AA)\n",
        "    if label:\n",
        "        tf = max(tl - 1, 1)  # font thickness\n",
        "        t_size = cv2.getTextSize(str(label), 0, fontScale=tl / 3, thickness=tf)[0]\n",
        "        c2 = c1[0] + t_size[0], c1[1] - t_size[1] - 3\n",
        "        cv2.rectangle(image, c1, c2, color, -1, cv2.LINE_AA)  # filled\n",
        "        cv2.putText(image,str(label), (c1[0], c1[1] - 2), 0, tl / 3, [225, 255, 255], thickness=tf, lineType=cv2.LINE_AA)\n",
        "\n",
        "\n",
        "def draw_box_on_image(image_name, classes_path, label_folder, raw_images_folder, save_images_folder ):\n",
        "\n",
        "    txt_path  = r\"\"\n",
        "    print(image_name)\n",
        "    if image_name == '.DS_Store':\n",
        "        return 0\n",
        "\n",
        "    image_path = r\".\"\n",
        "    save_file_path = r\"/content/YOLOv6/save_images_test/\"\n",
        "\n",
        "    source_file = open(txt_path) if os.path.exists(txt_path) else []\n",
        "    image = cv2.imread(image_path)\n",
        "    try:\n",
        "        height, width, channels = image.shape\n",
        "    except:\n",
        "        print('no shape info.')\n",
        "        return 0\n",
        "\n",
        "    box_number = 0\n",
        "    for line in source_file:\n",
        "        staff = line.split()\n",
        "        class_idx = int(staff[0])\n",
        "\n",
        "        x_center, y_center, w, h = float(staff[1])*width, float(staff[2])*height, float(staff[3])*width, float(staff[4])*height\n",
        "        x1 = round(x_center-w/2)\n",
        "        y1 = round(y_center-h/2)\n",
        "        x2 = round(x_center+w/2)\n",
        "        y2 = round(y_center+h/2)\n",
        "\n",
        "\n",
        "        plot_one_box([x1,y1,x2,y2], image,  label=name_of_class, line_thickness=None)\n",
        "        cv2.imwrite(r\"/content/YOLOv6/save_images_test/.jpg\",image)\n",
        "\n",
        "        box_number += 1\n",
        "        return box_number\n",
        "draw_box_on_image(image_name, classes_path,  label_folder, raw_images_folder, save_images_folder )\n",
        "\n",
        "\n",
        "\n"
      ]
    },
    {
      "cell_type": "code",
      "execution_count": null,
      "metadata": {
        "colab": {
          "base_uri": "https://localhost:8080/"
        },
        "outputId": "2bf2c70b-79e8-4a02-96ff-770faeb8201c",
        "id": "b-psKoxAkLFI"
      },
      "outputs": [
        {
          "output_type": "stream",
          "name": "stdout",
          "text": [
            "./runs/inference/exp/118_jpg.rf.e79f452f7924940ebc03e87ac2865ae8.jpg\n"
          ]
        },
        {
          "output_type": "execute_result",
          "data": {
            "text/plain": [
              "1"
            ]
          },
          "metadata": {},
          "execution_count": 91
        }
      ],
      "source": [
        "\n",
        "import cv2\n",
        "import os\n",
        "import random\n",
        "\n",
        "\n",
        "\n",
        "label_folder = r'/content/YOLOv6/Normal-Insulator,-Defect-Insulator,-Defects--1-2/labels'\n",
        "\n",
        "raw_images_folder = r'/content/YOLOv6/Normal-Insulator,-Defect-Insulator,-Defects--1-2/images'\n",
        "\n",
        "save_images_folder = r'/content/YOLOv6/save_images_valid'\n",
        "\n",
        "name_list_path = r'/content/YOLOv6/Normal-Insulator,-Defect-Insulator,-Defects--1-2/labels/valid'\n",
        "\n",
        "classes_path = r'/content/YOLOv6/Normal-Insulator,-Defect-Insulator,-Defects--1-2'\n",
        "image_name=r'.'\n",
        "label=name_of_class='defective insulator'\n",
        "def plot_one_box(x, image, color=None, label=name_of_class, line_thickness=None):\n",
        "\n",
        "    tl = line_thickness or round(0.002 * (image.shape[0] + image.shape[1]) / 2) + 1  # line/font thickness\n",
        "    color = color or [random.randint(0, 255) for _ in range(3)]\n",
        "    c1, c2 = (int(x[0]), int(x[1])), (int(x[2]), int(x[3]))\n",
        "    cv2.rectangle(image, c1, c2, color, thickness=tl, lineType=cv2.LINE_AA)\n",
        "    if label:\n",
        "        tf = max(tl - 1, 1)  # font thickness\n",
        "        t_size = cv2.getTextSize(str(label), 0, fontScale=tl / 3, thickness=tf)[0]\n",
        "        c2 = c1[0] + t_size[0], c1[1] - t_size[1] - 3\n",
        "        cv2.rectangle(image, c1, c2, color, -1, cv2.LINE_AA)  # filled\n",
        "        cv2.putText(image,str(label), (c1[0], c1[1] - 2), 0, tl / 3, [225, 255, 255], thickness=tf, lineType=cv2.LINE_AA)\n",
        "\n",
        "\n",
        "def draw_box_on_image(image_name, classes_path, label_folder, raw_images_folder, save_images_folder ):\n",
        "\n",
        "    txt_path  = r\"\"\n",
        "    print(image_name)\n",
        "    if image_name == '.DS_Store':\n",
        "        return 0\n",
        "\n",
        "    image_path = r\".\"\n",
        "    save_file_path = r\"/content/YOLOv6/save_images_test/\"\n",
        "\n",
        "    source_file = open(txt_path) if os.path.exists(txt_path) else []\n",
        "    image = cv2.imread(image_path)\n",
        "    try:\n",
        "        height, width, channels = image.shape\n",
        "    except:\n",
        "        print('no shape info.')\n",
        "        return 0\n",
        "\n",
        "    box_number = 0\n",
        "    for line in source_file:\n",
        "        staff = line.split()\n",
        "        class_idx = int(staff[0])\n",
        "\n",
        "        x_center, y_center, w, h = float(staff[1])*width, float(staff[2])*height, float(staff[3])*width, float(staff[4])*height\n",
        "        x1 = round(x_center-w/2)\n",
        "        y1 = round(y_center-h/2)\n",
        "        x2 = round(x_center+w/2)\n",
        "        y2 = round(y_center+h/2)\n",
        "\n",
        "\n",
        "        plot_one_box([x1,y1,x2,y2], image,  label=name_of_class, line_thickness=None)\n",
        "        cv2.imwrite(r\"/content/YOLOv6/save_images_test/.jpg\",image)\n",
        "\n",
        "        box_number += 1\n",
        "        return box_number\n",
        "draw_box_on_image(image_name, classes_path,  label_folder, raw_images_folder, save_images_folder )\n",
        "\n",
        "\n",
        "\n"
      ]
    },
    {
      "cell_type": "code",
      "execution_count": null,
      "metadata": {
        "colab": {
          "base_uri": "https://localhost:8080/"
        },
        "outputId": "2bf2c70b-79e8-4a02-96ff-770faeb8201c",
        "id": "72ikI-eokLRb"
      },
      "outputs": [
        {
          "output_type": "stream",
          "name": "stdout",
          "text": [
            "./runs/inference/exp/118_jpg.rf.e79f452f7924940ebc03e87ac2865ae8.jpg\n"
          ]
        },
        {
          "output_type": "execute_result",
          "data": {
            "text/plain": [
              "1"
            ]
          },
          "metadata": {},
          "execution_count": 91
        }
      ],
      "source": [
        "\n",
        "import cv2\n",
        "import os\n",
        "import random\n",
        "\n",
        "\n",
        "\n",
        "label_folder = r'/content/YOLOv6/Normal-Insulator,-Defect-Insulator,-Defects--1-2/labels'\n",
        "\n",
        "raw_images_folder = r'/content/YOLOv6/Normal-Insulator,-Defect-Insulator,-Defects--1-2/images'\n",
        "\n",
        "save_images_folder = r'/content/YOLOv6/save_images_valid'\n",
        "\n",
        "name_list_path = r'/content/YOLOv6/Normal-Insulator,-Defect-Insulator,-Defects--1-2/labels/valid'\n",
        "\n",
        "classes_path = r'/content/YOLOv6/Normal-Insulator,-Defect-Insulator,-Defects--1-2'\n",
        "image_name=r'.'\n",
        "label=name_of_class='defective insulator'\n",
        "def plot_one_box(x, image, color=None, label=name_of_class, line_thickness=None):\n",
        "\n",
        "    tl = line_thickness or round(0.002 * (image.shape[0] + image.shape[1]) / 2) + 1  # line/font thickness\n",
        "    color = color or [random.randint(0, 255) for _ in range(3)]\n",
        "    c1, c2 = (int(x[0]), int(x[1])), (int(x[2]), int(x[3]))\n",
        "    cv2.rectangle(image, c1, c2, color, thickness=tl, lineType=cv2.LINE_AA)\n",
        "    if label:\n",
        "        tf = max(tl - 1, 1)  # font thickness\n",
        "        t_size = cv2.getTextSize(str(label), 0, fontScale=tl / 3, thickness=tf)[0]\n",
        "        c2 = c1[0] + t_size[0], c1[1] - t_size[1] - 3\n",
        "        cv2.rectangle(image, c1, c2, color, -1, cv2.LINE_AA)  # filled\n",
        "        cv2.putText(image,str(label), (c1[0], c1[1] - 2), 0, tl / 3, [225, 255, 255], thickness=tf, lineType=cv2.LINE_AA)\n",
        "\n",
        "\n",
        "def draw_box_on_image(image_name, classes_path, label_folder, raw_images_folder, save_images_folder ):\n",
        "\n",
        "    txt_path  = r\"\"\n",
        "    print(image_name)\n",
        "    if image_name == '.DS_Store':\n",
        "        return 0\n",
        "\n",
        "    image_path = r\".\"\n",
        "    save_file_path = r\"/content/YOLOv6/save_images_test/\"\n",
        "\n",
        "    source_file = open(txt_path) if os.path.exists(txt_path) else []\n",
        "    image = cv2.imread(image_path)\n",
        "    try:\n",
        "        height, width, channels = image.shape\n",
        "    except:\n",
        "        print('no shape info.')\n",
        "        return 0\n",
        "\n",
        "    box_number = 0\n",
        "    for line in source_file:\n",
        "        staff = line.split()\n",
        "        class_idx = int(staff[0])\n",
        "\n",
        "        x_center, y_center, w, h = float(staff[1])*width, float(staff[2])*height, float(staff[3])*width, float(staff[4])*height\n",
        "        x1 = round(x_center-w/2)\n",
        "        y1 = round(y_center-h/2)\n",
        "        x2 = round(x_center+w/2)\n",
        "        y2 = round(y_center+h/2)\n",
        "\n",
        "\n",
        "        plot_one_box([x1,y1,x2,y2], image,  label=name_of_class, line_thickness=None)\n",
        "        cv2.imwrite(r\"/content/YOLOv6/save_images_test/.jpg\",image)\n",
        "\n",
        "        box_number += 1\n",
        "        return box_number\n",
        "draw_box_on_image(image_name, classes_path,  label_folder, raw_images_folder, save_images_folder )\n",
        "\n",
        "\n",
        "\n"
      ]
    },
    {
      "cell_type": "code",
      "execution_count": null,
      "metadata": {
        "colab": {
          "base_uri": "https://localhost:8080/"
        },
        "outputId": "2bf2c70b-79e8-4a02-96ff-770faeb8201c",
        "id": "lo0WaSkPkLlV"
      },
      "outputs": [
        {
          "output_type": "stream",
          "name": "stdout",
          "text": [
            "./runs/inference/exp/118_jpg.rf.e79f452f7924940ebc03e87ac2865ae8.jpg\n"
          ]
        },
        {
          "output_type": "execute_result",
          "data": {
            "text/plain": [
              "1"
            ]
          },
          "metadata": {},
          "execution_count": 91
        }
      ],
      "source": [
        "\n",
        "import cv2\n",
        "import os\n",
        "import random\n",
        "\n",
        "\n",
        "\n",
        "label_folder = r'/content/YOLOv6/Normal-Insulator,-Defect-Insulator,-Defects--1-2/labels'\n",
        "\n",
        "raw_images_folder = r'/content/YOLOv6/Normal-Insulator,-Defect-Insulator,-Defects--1-2/images'\n",
        "\n",
        "save_images_folder = r'/content/YOLOv6/save_images_valid'\n",
        "\n",
        "name_list_path = r'/content/YOLOv6/Normal-Insulator,-Defect-Insulator,-Defects--1-2/labels/valid'\n",
        "\n",
        "classes_path = r'/content/YOLOv6/Normal-Insulator,-Defect-Insulator,-Defects--1-2'\n",
        "image_name=r'.'\n",
        "label=name_of_class='defective insulator'\n",
        "def plot_one_box(x, image, color=None, label=name_of_class, line_thickness=None):\n",
        "\n",
        "    tl = line_thickness or round(0.002 * (image.shape[0] + image.shape[1]) / 2) + 1  # line/font thickness\n",
        "    color = color or [random.randint(0, 255) for _ in range(3)]\n",
        "    c1, c2 = (int(x[0]), int(x[1])), (int(x[2]), int(x[3]))\n",
        "    cv2.rectangle(image, c1, c2, color, thickness=tl, lineType=cv2.LINE_AA)\n",
        "    if label:\n",
        "        tf = max(tl - 1, 1)  # font thickness\n",
        "        t_size = cv2.getTextSize(str(label), 0, fontScale=tl / 3, thickness=tf)[0]\n",
        "        c2 = c1[0] + t_size[0], c1[1] - t_size[1] - 3\n",
        "        cv2.rectangle(image, c1, c2, color, -1, cv2.LINE_AA)  # filled\n",
        "        cv2.putText(image,str(label), (c1[0], c1[1] - 2), 0, tl / 3, [225, 255, 255], thickness=tf, lineType=cv2.LINE_AA)\n",
        "\n",
        "\n",
        "def draw_box_on_image(image_name, classes_path, label_folder, raw_images_folder, save_images_folder ):\n",
        "\n",
        "    txt_path  = r\"\"\n",
        "    print(image_name)\n",
        "    if image_name == '.DS_Store':\n",
        "        return 0\n",
        "\n",
        "    image_path = r\".\"\n",
        "    save_file_path = r\"/content/YOLOv6/save_images_test/\"\n",
        "\n",
        "    source_file = open(txt_path) if os.path.exists(txt_path) else []\n",
        "    image = cv2.imread(image_path)\n",
        "    try:\n",
        "        height, width, channels = image.shape\n",
        "    except:\n",
        "        print('no shape info.')\n",
        "        return 0\n",
        "\n",
        "    box_number = 0\n",
        "    for line in source_file:\n",
        "        staff = line.split()\n",
        "        class_idx = int(staff[0])\n",
        "\n",
        "        x_center, y_center, w, h = float(staff[1])*width, float(staff[2])*height, float(staff[3])*width, float(staff[4])*height\n",
        "        x1 = round(x_center-w/2)\n",
        "        y1 = round(y_center-h/2)\n",
        "        x2 = round(x_center+w/2)\n",
        "        y2 = round(y_center+h/2)\n",
        "\n",
        "\n",
        "        plot_one_box([x1,y1,x2,y2], image,  label=name_of_class, line_thickness=None)\n",
        "        cv2.imwrite(r\"/content/YOLOv6/save_images_test/.jpg\",image)\n",
        "\n",
        "        box_number += 1\n",
        "        return box_number\n",
        "draw_box_on_image(image_name, classes_path,  label_folder, raw_images_folder, save_images_folder )\n",
        "\n",
        "\n",
        "\n"
      ]
    },
    {
      "cell_type": "code",
      "execution_count": null,
      "metadata": {
        "colab": {
          "base_uri": "https://localhost:8080/"
        },
        "outputId": "2bf2c70b-79e8-4a02-96ff-770faeb8201c",
        "id": "BaF7z8JAkPcK"
      },
      "outputs": [
        {
          "output_type": "stream",
          "name": "stdout",
          "text": [
            "./runs/inference/exp/118_jpg.rf.e79f452f7924940ebc03e87ac2865ae8.jpg\n"
          ]
        },
        {
          "output_type": "execute_result",
          "data": {
            "text/plain": [
              "1"
            ]
          },
          "metadata": {},
          "execution_count": 91
        }
      ],
      "source": [
        "v\n",
        "import cv2\n",
        "import os\n",
        "import random\n",
        "\n",
        "\n",
        "\n",
        "label_folder = r'/content/YOLOv6/Normal-Insulator,-Defect-Insulator,-Defects--1-2/labels'\n",
        "\n",
        "raw_images_folder = r'/content/YOLOv6/Normal-Insulator,-Defect-Insulator,-Defects--1-2/images'\n",
        "\n",
        "save_images_folder = r'/content/YOLOv6/save_images_valid'\n",
        "\n",
        "name_list_path = r'/content/YOLOv6/Normal-Insulator,-Defect-Insulator,-Defects--1-2/labels/valid'\n",
        "\n",
        "classes_path = r'/content/YOLOv6/Normal-Insulator,-Defect-Insulator,-Defects--1-2'\n",
        "image_name=r'.'\n",
        "label=name_of_class='defective insulator'\n",
        "def plot_one_box(x, image, color=None, label=name_of_class, line_thickness=None):\n",
        "\n",
        "    tl = line_thickness or round(0.002 * (image.shape[0] + image.shape[1]) / 2) + 1  # line/font thickness\n",
        "    color = color or [random.randint(0, 255) for _ in range(3)]\n",
        "    c1, c2 = (int(x[0]), int(x[1])), (int(x[2]), int(x[3]))\n",
        "    cv2.rectangle(image, c1, c2, color, thickness=tl, lineType=cv2.LINE_AA)\n",
        "    if label:\n",
        "        tf = max(tl - 1, 1)  # font thickness\n",
        "        t_size = cv2.getTextSize(str(label), 0, fontScale=tl / 3, thickness=tf)[0]\n",
        "        c2 = c1[0] + t_size[0], c1[1] - t_size[1] - 3\n",
        "        cv2.rectangle(image, c1, c2, color, -1, cv2.LINE_AA)  # filled\n",
        "        cv2.putText(image,str(label), (c1[0], c1[1] - 2), 0, tl / 3, [225, 255, 255], thickness=tf, lineType=cv2.LINE_AA)\n",
        "\n",
        "\n",
        "def draw_box_on_image(image_name, classes_path, label_folder, raw_images_folder, save_images_folder ):\n",
        "\n",
        "    txt_path  = r\"\"\n",
        "    print(image_name)\n",
        "    if image_name == '.DS_Store':\n",
        "        return 0\n",
        "\n",
        "    image_path = r\".\"\n",
        "    save_file_path = r\"/content/YOLOv6/save_images_test/\"\n",
        "\n",
        "    source_file = open(txt_path) if os.path.exists(txt_path) else []\n",
        "    image = cv2.imread(image_path)\n",
        "    try:\n",
        "        height, width, channels = image.shape\n",
        "    except:\n",
        "        print('no shape info.')\n",
        "        return 0\n",
        "\n",
        "    box_number = 0\n",
        "    for line in source_file:\n",
        "        staff = line.split()\n",
        "        class_idx = int(staff[0])\n",
        "\n",
        "        x_center, y_center, w, h = float(staff[1])*width, float(staff[2])*height, float(staff[3])*width, float(staff[4])*height\n",
        "        x1 = round(x_center-w/2)\n",
        "        y1 = round(y_center-h/2)\n",
        "        x2 = round(x_center+w/2)\n",
        "        y2 = round(y_center+h/2)\n",
        "\n",
        "\n",
        "        plot_one_box([x1,y1,x2,y2], image,  label=name_of_class, line_thickness=None)\n",
        "        cv2.imwrite(r\"/content/YOLOv6/save_images_test/.jpg\",image)\n",
        "\n",
        "        box_number += 1\n",
        "        return box_number\n",
        "draw_box_on_image(image_name, classes_path,  label_folder, raw_images_folder, save_images_folder )\n",
        "\n",
        "\n",
        "\n"
      ]
    },
    {
      "cell_type": "code",
      "execution_count": null,
      "metadata": {
        "colab": {
          "base_uri": "https://localhost:8080/"
        },
        "outputId": "2bf2c70b-79e8-4a02-96ff-770faeb8201c",
        "id": "Znj2FozwkRQV"
      },
      "outputs": [
        {
          "output_type": "stream",
          "name": "stdout",
          "text": [
            "./runs/inference/exp/118_jpg.rf.e79f452f7924940ebc03e87ac2865ae8.jpg\n"
          ]
        },
        {
          "output_type": "execute_result",
          "data": {
            "text/plain": [
              "1"
            ]
          },
          "metadata": {},
          "execution_count": 91
        }
      ],
      "source": [
        "\n",
        "import cv2\n",
        "import os\n",
        "import random\n",
        "\n",
        "\n",
        "\n",
        "label_folder = r'/content/YOLOv6/Normal-Insulator,-Defect-Insulator,-Defects--1-2/labels'\n",
        "\n",
        "raw_images_folder = r'/content/YOLOv6/Normal-Insulator,-Defect-Insulator,-Defects--1-2/images'\n",
        "\n",
        "save_images_folder = r'/content/YOLOv6/save_images_valid'\n",
        "\n",
        "name_list_path = r'/content/YOLOv6/Normal-Insulator,-Defect-Insulator,-Defects--1-2/labels/valid'\n",
        "\n",
        "classes_path = r'/content/YOLOv6/Normal-Insulator,-Defect-Insulator,-Defects--1-2'\n",
        "image_name=r'.'\n",
        "label=name_of_class='defective insulator'\n",
        "def plot_one_box(x, image, color=None, label=name_of_class, line_thickness=None):\n",
        "\n",
        "    tl = line_thickness or round(0.002 * (image.shape[0] + image.shape[1]) / 2) + 1  # line/font thickness\n",
        "    color = color or [random.randint(0, 255) for _ in range(3)]\n",
        "    c1, c2 = (int(x[0]), int(x[1])), (int(x[2]), int(x[3]))\n",
        "    cv2.rectangle(image, c1, c2, color, thickness=tl, lineType=cv2.LINE_AA)\n",
        "    if label:\n",
        "        tf = max(tl - 1, 1)  # font thickness\n",
        "        t_size = cv2.getTextSize(str(label), 0, fontScale=tl / 3, thickness=tf)[0]\n",
        "        c2 = c1[0] + t_size[0], c1[1] - t_size[1] - 3\n",
        "        cv2.rectangle(image, c1, c2, color, -1, cv2.LINE_AA)  # filled\n",
        "        cv2.putText(image,str(label), (c1[0], c1[1] - 2), 0, tl / 3, [225, 255, 255], thickness=tf, lineType=cv2.LINE_AA)\n",
        "\n",
        "\n",
        "def draw_box_on_image(image_name, classes_path, label_folder, raw_images_folder, save_images_folder ):\n",
        "\n",
        "    txt_path  = r\"\"\n",
        "    print(image_name)\n",
        "    if image_name == '.DS_Store':\n",
        "        return 0\n",
        "\n",
        "    image_path = r\".\"\n",
        "    save_file_path = r\"/content/YOLOv6/save_images_test/\"\n",
        "\n",
        "    source_file = open(txt_path) if os.path.exists(txt_path) else []\n",
        "    image = cv2.imread(image_path)\n",
        "    try:\n",
        "        height, width, channels = image.shape\n",
        "    except:\n",
        "        print('no shape info.')\n",
        "        return 0\n",
        "\n",
        "    box_number = 0\n",
        "    for line in source_file:\n",
        "        staff = line.split()\n",
        "        class_idx = int(staff[0])\n",
        "\n",
        "        x_center, y_center, w, h = float(staff[1])*width, float(staff[2])*height, float(staff[3])*width, float(staff[4])*height\n",
        "        x1 = round(x_center-w/2)\n",
        "        y1 = round(y_center-h/2)\n",
        "        x2 = round(x_center+w/2)\n",
        "        y2 = round(y_center+h/2)\n",
        "\n",
        "\n",
        "        plot_one_box([x1,y1,x2,y2], image,  label=name_of_class, line_thickness=None)\n",
        "        cv2.imwrite(r\"/content/YOLOv6/save_images_test/.jpg\",image)\n",
        "\n",
        "        box_number += 1\n",
        "        return box_number\n",
        "draw_box_on_image(image_name, classes_path,  label_folder, raw_images_folder, save_images_folder )\n",
        "\n",
        "\n",
        "\n"
      ]
    },
    {
      "cell_type": "code",
      "execution_count": null,
      "metadata": {
        "colab": {
          "base_uri": "https://localhost:8080/"
        },
        "outputId": "2bf2c70b-79e8-4a02-96ff-770faeb8201c",
        "id": "d1E-yMe-kCyl"
      },
      "outputs": [
        {
          "output_type": "stream",
          "name": "stdout",
          "text": [
            "./runs/inference/exp/118_jpg.rf.e79f452f7924940ebc03e87ac2865ae8.jpg\n"
          ]
        },
        {
          "output_type": "execute_result",
          "data": {
            "text/plain": [
              "1"
            ]
          },
          "metadata": {},
          "execution_count": 91
        }
      ],
      "source": [
        "\n",
        "import cv2\n",
        "import os\n",
        "import random\n",
        "\n",
        "\n",
        "\n",
        "label_folder = r'/content/YOLOv6/Normal-Insulator,-Defect-Insulator,-Defects--1-2/labels'\n",
        "\n",
        "raw_images_folder = r'/content/YOLOv6/Normal-Insulator,-Defect-Insulator,-Defects--1-2/images'\n",
        "\n",
        "save_images_folder = r'/content/YOLOv6/save_images_valid'\n",
        "\n",
        "name_list_path = r'/content/YOLOv6/Normal-Insulator,-Defect-Insulator,-Defects--1-2/labels/valid'\n",
        "\n",
        "classes_path = r'/content/YOLOv6/Normal-Insulator,-Defect-Insulator,-Defects--1-2'\n",
        "image_name=r'.'\n",
        "label=name_of_class='defective insulator'\n",
        "def plot_one_box(x, image, color=None, label=name_of_class, line_thickness=None):\n",
        "\n",
        "    tl = line_thickness or round(0.002 * (image.shape[0] + image.shape[1]) / 2) + 1  # line/font thickness\n",
        "    color = color or [random.randint(0, 255) for _ in range(3)]\n",
        "    c1, c2 = (int(x[0]), int(x[1])), (int(x[2]), int(x[3]))\n",
        "    cv2.rectangle(image, c1, c2, color, thickness=tl, lineType=cv2.LINE_AA)\n",
        "    if label:\n",
        "        tf = max(tl - 1, 1)  # font thickness\n",
        "        t_size = cv2.getTextSize(str(label), 0, fontScale=tl / 3, thickness=tf)[0]\n",
        "        c2 = c1[0] + t_size[0], c1[1] - t_size[1] - 3\n",
        "        cv2.rectangle(image, c1, c2, color, -1, cv2.LINE_AA)  # filled\n",
        "        cv2.putText(image,str(label), (c1[0], c1[1] - 2), 0, tl / 3, [225, 255, 255], thickness=tf, lineType=cv2.LINE_AA)\n",
        "\n",
        "\n",
        "def draw_box_on_image(image_name, classes_path, label_folder, raw_images_folder, save_images_folder ):\n",
        "\n",
        "    txt_path  = r\"\"\n",
        "    print(image_name)\n",
        "    if image_name == '.DS_Store':\n",
        "        return 0\n",
        "\n",
        "    image_path = r\".\"\n",
        "    save_file_path = r\"/content/YOLOv6/save_images_test/\"\n",
        "\n",
        "    source_file = open(txt_path) if os.path.exists(txt_path) else []\n",
        "    image = cv2.imread(image_path)\n",
        "    try:\n",
        "        height, width, channels = image.shape\n",
        "    except:\n",
        "        print('no shape info.')\n",
        "        return 0\n",
        "\n",
        "    box_number = 0\n",
        "    for line in source_file:\n",
        "        staff = line.split()\n",
        "        class_idx = int(staff[0])\n",
        "\n",
        "        x_center, y_center, w, h = float(staff[1])*width, float(staff[2])*height, float(staff[3])*width, float(staff[4])*height\n",
        "        x1 = round(x_center-w/2)\n",
        "        y1 = round(y_center-h/2)\n",
        "        x2 = round(x_center+w/2)\n",
        "        y2 = round(y_center+h/2)\n",
        "\n",
        "\n",
        "        plot_one_box([x1,y1,x2,y2], image,  label=name_of_class, line_thickness=None)\n",
        "        cv2.imwrite(r\"/content/YOLOv6/save_images_test/.jpg\",image)\n",
        "\n",
        "        box_number += 1\n",
        "        return box_number\n",
        "draw_box_on_image(image_name, classes_path,  label_folder, raw_images_folder, save_images_folder )\n",
        "\n",
        "\n",
        "\n"
      ]
    },
    {
      "cell_type": "code",
      "execution_count": null,
      "metadata": {
        "colab": {
          "base_uri": "https://localhost:8080/"
        },
        "outputId": "2bf2c70b-79e8-4a02-96ff-770faeb8201c",
        "id": "3tOX3UNikBLe"
      },
      "outputs": [
        {
          "output_type": "stream",
          "name": "stdout",
          "text": [
            "./runs/inference/exp/118_jpg.rf.e79f452f7924940ebc03e87ac2865ae8.jpg\n"
          ]
        },
        {
          "output_type": "execute_result",
          "data": {
            "text/plain": [
              "1"
            ]
          },
          "metadata": {},
          "execution_count": 91
        }
      ],
      "source": [
        "\n",
        "import cv2\n",
        "import os\n",
        "import random\n",
        "\n",
        "\n",
        "\n",
        "label_folder = r'/content/YOLOv6/Normal-Insulator,-Defect-Insulator,-Defects--1-2/labels'\n",
        "\n",
        "raw_images_folder = r'/content/YOLOv6/Normal-Insulator,-Defect-Insulator,-Defects--1-2/images'\n",
        "\n",
        "save_images_folder = r'/content/YOLOv6/save_images_valid'\n",
        "\n",
        "name_list_path = r'/content/YOLOv6/Normal-Insulator,-Defect-Insulator,-Defects--1-2/labels/valid'\n",
        "\n",
        "classes_path = r'/content/YOLOv6/Normal-Insulator,-Defect-Insulator,-Defects--1-2'\n",
        "image_name=r'.'\n",
        "label=name_of_class='defective insulator'\n",
        "def plot_one_box(x, image, color=None, label=name_of_class, line_thickness=None):\n",
        "\n",
        "    tl = line_thickness or round(0.002 * (image.shape[0] + image.shape[1]) / 2) + 1  # line/font thickness\n",
        "    color = color or [random.randint(0, 255) for _ in range(3)]\n",
        "    c1, c2 = (int(x[0]), int(x[1])), (int(x[2]), int(x[3]))\n",
        "    cv2.rectangle(image, c1, c2, color, thickness=tl, lineType=cv2.LINE_AA)\n",
        "    if label:\n",
        "        tf = max(tl - 1, 1)  # font thickness\n",
        "        t_size = cv2.getTextSize(str(label), 0, fontScale=tl / 3, thickness=tf)[0]\n",
        "        c2 = c1[0] + t_size[0], c1[1] - t_size[1] - 3\n",
        "        cv2.rectangle(image, c1, c2, color, -1, cv2.LINE_AA)  # filled\n",
        "        cv2.putText(image,str(label), (c1[0], c1[1] - 2), 0, tl / 3, [225, 255, 255], thickness=tf, lineType=cv2.LINE_AA)\n",
        "\n",
        "\n",
        "def draw_box_on_image(image_name, classes_path, label_folder, raw_images_folder, save_images_folder ):\n",
        "\n",
        "    txt_path  = r\"\"\n",
        "    print(image_name)\n",
        "    if image_name == '.DS_Store':\n",
        "        return 0\n",
        "\n",
        "    image_path = r\".\"\n",
        "    save_file_path = r\"/content/YOLOv6/save_images_test/\"\n",
        "\n",
        "    source_file = open(txt_path) if os.path.exists(txt_path) else []\n",
        "    image = cv2.imread(image_path)\n",
        "    try:\n",
        "        height, width, channels = image.shape\n",
        "    except:\n",
        "        print('no shape info.')\n",
        "        return 0\n",
        "\n",
        "    box_number = 0\n",
        "    for line in source_file:\n",
        "        staff = line.split()\n",
        "        class_idx = int(staff[0])\n",
        "\n",
        "        x_center, y_center, w, h = float(staff[1])*width, float(staff[2])*height, float(staff[3])*width, float(staff[4])*height\n",
        "        x1 = round(x_center-w/2)\n",
        "        y1 = round(y_center-h/2)\n",
        "        x2 = round(x_center+w/2)\n",
        "        y2 = round(y_center+h/2)\n",
        "\n",
        "\n",
        "        plot_one_box([x1,y1,x2,y2], image,  label=name_of_class, line_thickness=None)\n",
        "        cv2.imwrite(r\"/content/YOLOv6/save_images_test/.jpg\",image)\n",
        "\n",
        "        box_number += 1\n",
        "        return box_number\n",
        "draw_box_on_image(image_name, classes_path,  label_folder, raw_images_folder, save_images_folder )\n",
        "\n",
        "\n",
        "\n"
      ]
    },
    {
      "cell_type": "code",
      "execution_count": null,
      "metadata": {
        "colab": {
          "base_uri": "https://localhost:8080/"
        },
        "outputId": "2bf2c70b-79e8-4a02-96ff-770faeb8201c",
        "id": "pHrK6y0fj-Pc"
      },
      "outputs": [
        {
          "output_type": "stream",
          "name": "stdout",
          "text": [
            "./runs/inference/exp/118_jpg.rf.e79f452f7924940ebc03e87ac2865ae8.jpg\n"
          ]
        },
        {
          "output_type": "execute_result",
          "data": {
            "text/plain": [
              "1"
            ]
          },
          "metadata": {},
          "execution_count": 91
        }
      ],
      "source": [
        "\n",
        "import cv2\n",
        "import os\n",
        "import random\n",
        "\n",
        "\n",
        "\n",
        "label_folder = r'/content/YOLOv6/Normal-Insulator,-Defect-Insulator,-Defects--1-2/labels'\n",
        "\n",
        "raw_images_folder = r'/content/YOLOv6/Normal-Insulator,-Defect-Insulator,-Defects--1-2/images'\n",
        "\n",
        "save_images_folder = r'/content/YOLOv6/save_images_valid'\n",
        "\n",
        "name_list_path = r'/content/YOLOv6/Normal-Insulator,-Defect-Insulator,-Defects--1-2/labels/valid'\n",
        "\n",
        "classes_path = r'/content/YOLOv6/Normal-Insulator,-Defect-Insulator,-Defects--1-2'\n",
        "image_name=r'.'\n",
        "label=name_of_class='defective insulator'\n",
        "def plot_one_box(x, image, color=None, label=name_of_class, line_thickness=None):\n",
        "\n",
        "    tl = line_thickness or round(0.002 * (image.shape[0] + image.shape[1]) / 2) + 1  # line/font thickness\n",
        "    color = color or [random.randint(0, 255) for _ in range(3)]\n",
        "    c1, c2 = (int(x[0]), int(x[1])), (int(x[2]), int(x[3]))\n",
        "    cv2.rectangle(image, c1, c2, color, thickness=tl, lineType=cv2.LINE_AA)\n",
        "    if label:\n",
        "        tf = max(tl - 1, 1)  # font thickness\n",
        "        t_size = cv2.getTextSize(str(label), 0, fontScale=tl / 3, thickness=tf)[0]\n",
        "        c2 = c1[0] + t_size[0], c1[1] - t_size[1] - 3\n",
        "        cv2.rectangle(image, c1, c2, color, -1, cv2.LINE_AA)  # filled\n",
        "        cv2.putText(image,str(label), (c1[0], c1[1] - 2), 0, tl / 3, [225, 255, 255], thickness=tf, lineType=cv2.LINE_AA)\n",
        "\n",
        "\n",
        "def draw_box_on_image(image_name, classes_path, label_folder, raw_images_folder, save_images_folder ):\n",
        "\n",
        "    txt_path  = r\"\"\n",
        "    print(image_name)\n",
        "    if image_name == '.DS_Store':\n",
        "        return 0\n",
        "\n",
        "    image_path = r\".\"\n",
        "    save_file_path = r\"/content/YOLOv6/save_images_test/\"\n",
        "\n",
        "    source_file = open(txt_path) if os.path.exists(txt_path) else []\n",
        "    image = cv2.imread(image_path)\n",
        "    try:\n",
        "        height, width, channels = image.shape\n",
        "    except:\n",
        "        print('no shape info.')\n",
        "        return 0\n",
        "\n",
        "    box_number = 0\n",
        "    for line in source_file:\n",
        "        staff = line.split()\n",
        "        class_idx = int(staff[0])\n",
        "\n",
        "        x_center, y_center, w, h = float(staff[1])*width, float(staff[2])*height, float(staff[3])*width, float(staff[4])*height\n",
        "        x1 = round(x_center-w/2)\n",
        "        y1 = round(y_center-h/2)\n",
        "        x2 = round(x_center+w/2)\n",
        "        y2 = round(y_center+h/2)\n",
        "\n",
        "\n",
        "        plot_one_box([x1,y1,x2,y2], image,  label=name_of_class, line_thickness=None)\n",
        "        cv2.imwrite(r\"/content/YOLOv6/save_images_test/.jpg\",image)\n",
        "\n",
        "        box_number += 1\n",
        "        return box_number\n",
        "draw_box_on_image(image_name, classes_path,  label_folder, raw_images_folder, save_images_folder )\n",
        "\n",
        "\n",
        "\n"
      ]
    },
    {
      "cell_type": "code",
      "execution_count": null,
      "metadata": {
        "colab": {
          "base_uri": "https://localhost:8080/"
        },
        "outputId": "2bf2c70b-79e8-4a02-96ff-770faeb8201c",
        "id": "7QQfSJC4j9Cu"
      },
      "outputs": [
        {
          "output_type": "stream",
          "name": "stdout",
          "text": [
            "./runs/inference/exp/118_jpg.rf.e79f452f7924940ebc03e87ac2865ae8.jpg\n"
          ]
        },
        {
          "output_type": "execute_result",
          "data": {
            "text/plain": [
              "1"
            ]
          },
          "metadata": {},
          "execution_count": 91
        }
      ],
      "source": [
        "\n",
        "import cv2\n",
        "import os\n",
        "import random\n",
        "\n",
        "\n",
        "\n",
        "label_folder = r'/content/YOLOv6/Normal-Insulator,-Defect-Insulator,-Defects--1-2/labels'\n",
        "\n",
        "raw_images_folder = r'/content/YOLOv6/Normal-Insulator,-Defect-Insulator,-Defects--1-2/images'\n",
        "\n",
        "save_images_folder = r'/content/YOLOv6/save_images_valid'\n",
        "\n",
        "name_list_path = r'/content/YOLOv6/Normal-Insulator,-Defect-Insulator,-Defects--1-2/labels/valid'\n",
        "\n",
        "classes_path = r'/content/YOLOv6/Normal-Insulator,-Defect-Insulator,-Defects--1-2'\n",
        "image_name=r'.'\n",
        "label=name_of_class='defective insulator'\n",
        "def plot_one_box(x, image, color=None, label=name_of_class, line_thickness=None):\n",
        "\n",
        "    tl = line_thickness or round(0.002 * (image.shape[0] + image.shape[1]) / 2) + 1  # line/font thickness\n",
        "    color = color or [random.randint(0, 255) for _ in range(3)]\n",
        "    c1, c2 = (int(x[0]), int(x[1])), (int(x[2]), int(x[3]))\n",
        "    cv2.rectangle(image, c1, c2, color, thickness=tl, lineType=cv2.LINE_AA)\n",
        "    if label:\n",
        "        tf = max(tl - 1, 1)  # font thickness\n",
        "        t_size = cv2.getTextSize(str(label), 0, fontScale=tl / 3, thickness=tf)[0]\n",
        "        c2 = c1[0] + t_size[0], c1[1] - t_size[1] - 3\n",
        "        cv2.rectangle(image, c1, c2, color, -1, cv2.LINE_AA)  # filled\n",
        "        cv2.putText(image,str(label), (c1[0], c1[1] - 2), 0, tl / 3, [225, 255, 255], thickness=tf, lineType=cv2.LINE_AA)\n",
        "\n",
        "\n",
        "def draw_box_on_image(image_name, classes_path, label_folder, raw_images_folder, save_images_folder ):\n",
        "\n",
        "    txt_path  = r\"\"\n",
        "    print(image_name)\n",
        "    if image_name == '.DS_Store':\n",
        "        return 0\n",
        "\n",
        "    image_path = r\".\"\n",
        "    save_file_path = r\"/content/YOLOv6/save_images_test/\"\n",
        "\n",
        "    source_file = open(txt_path) if os.path.exists(txt_path) else []\n",
        "    image = cv2.imread(image_path)\n",
        "    try:\n",
        "        height, width, channels = image.shape\n",
        "    except:\n",
        "        print('no shape info.')\n",
        "        return 0\n",
        "\n",
        "    box_number = 0\n",
        "    for line in source_file:\n",
        "        staff = line.split()\n",
        "        class_idx = int(staff[0])\n",
        "\n",
        "        x_center, y_center, w, h = float(staff[1])*width, float(staff[2])*height, float(staff[3])*width, float(staff[4])*height\n",
        "        x1 = round(x_center-w/2)\n",
        "        y1 = round(y_center-h/2)\n",
        "        x2 = round(x_center+w/2)\n",
        "        y2 = round(y_center+h/2)\n",
        "\n",
        "\n",
        "        plot_one_box([x1,y1,x2,y2], image,  label=name_of_class, line_thickness=None)\n",
        "        cv2.imwrite(r\"/content/YOLOv6/save_images_test/.jpg\",image)\n",
        "\n",
        "        box_number += 1\n",
        "        return box_number\n",
        "draw_box_on_image(image_name, classes_path,  label_folder, raw_images_folder, save_images_folder )\n",
        "\n",
        "\n",
        "\n"
      ]
    }
  ]
}